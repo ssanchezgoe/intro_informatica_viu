{
  "nbformat": 4,
  "nbformat_minor": 0,
  "metadata": {
    "colab": {
      "provenance": [],
      "toc_visible": true,
      "authorship_tag": "ABX9TyMd2bRsiLzilhLqQJi8qhUE",
      "include_colab_link": true
    },
    "kernelspec": {
      "name": "python3",
      "display_name": "Python 3"
    },
    "language_info": {
      "name": "python"
    }
  },
  "cells": [
    {
      "cell_type": "markdown",
      "metadata": {
        "id": "view-in-github",
        "colab_type": "text"
      },
      "source": [
        "<a href=\"https://colab.research.google.com/github/ssanchezgoe/intro_informatica_viu/blob/main/notebooks/c3_introduccion_google_colab_viu.ipynb\" target=\"_parent\"><img src=\"https://colab.research.google.com/assets/colab-badge.svg\" alt=\"Open In Colab\"/></a>"
      ]
    },
    {
      "cell_type": "markdown",
      "source": [
        "## Introducción a google colab"
      ],
      "metadata": {
        "id": "sSleGceH8lIr"
      }
    },
    {
      "cell_type": "markdown",
      "source": [
        "En el presente notebook, veremos una breve introducción a google colab y los tipos de celdas que contiene."
      ],
      "metadata": {
        "id": "MpS12i-7LY2A"
      }
    },
    {
      "cell_type": "markdown",
      "source": [
        "## Tipos de celdas"
      ],
      "metadata": {
        "id": "sK9mrl1XA8NA"
      }
    },
    {
      "cell_type": "markdown",
      "source": [
        "En esta sección explicaremos los dos típos de celdas básicos que se encuentran en google colab:\n",
        "\n",
        "- Comando/código\n",
        "- Texto"
      ],
      "metadata": {
        "id": "nFV45dZLBNtt"
      }
    },
    {
      "cell_type": "markdown",
      "source": [
        "### Celdas de código"
      ],
      "metadata": {
        "id": "b6ZPStDwDm2_"
      }
    },
    {
      "cell_type": "markdown",
      "source": [
        "A continuación, se ilustra brevemente dos celdas de código:\n",
        "\n",
        "- Una, correspondiente a python.\n",
        "- Otra, correspondiente a bash."
      ],
      "metadata": {
        "id": "09594IssDsYV"
      }
    },
    {
      "cell_type": "code",
      "execution_count": null,
      "metadata": {
        "colab": {
          "base_uri": "https://localhost:8080/"
        },
        "id": "lk0ZK0Yi6cFr",
        "outputId": "c697ab6a-b375-4625-a3a5-8b9cb3c4f782"
      },
      "outputs": [
        {
          "output_type": "stream",
          "name": "stdout",
          "text": [
            "Python version\n",
            "3.10.12 (main, Sep 11 2024, 15:47:36) [GCC 11.4.0]\n",
            "Version info.\n",
            "sys.version_info(major=3, minor=10, micro=12, releaselevel='final', serial=0)\n"
          ]
        }
      ],
      "source": [
        "#Celda de código\n",
        "#imprimir version de python que se está ejecutando\n",
        "import sys\n",
        "print(\"Python version\")\n",
        "print (sys.version)\n",
        "print(\"Version info.\")\n",
        "print (sys.version_info)"
      ]
    },
    {
      "cell_type": "code",
      "source": [
        "#Comando de bash\n",
        "!ls"
      ],
      "metadata": {
        "colab": {
          "base_uri": "https://localhost:8080/"
        },
        "id": "iO_l5sC9-Ji7",
        "outputId": "b18a9a26-0a44-484f-bfb8-be04658ecb0e"
      },
      "execution_count": null,
      "outputs": [
        {
          "output_type": "stream",
          "name": "stdout",
          "text": [
            "sample_data\n"
          ]
        }
      ]
    },
    {
      "cell_type": "markdown",
      "source": [
        "### Celdas de texto"
      ],
      "metadata": {
        "id": "2XbkBBJxBgTZ"
      }
    },
    {
      "cell_type": "markdown",
      "source": [
        "En las celdas de texto se pueden usar, básicamente, las siguientes herramientas:\n",
        "\n",
        "- Texto\n",
        "- Markdown: Tipo de lenguaje para escritura.\n",
        "- $LaTeX$\n",
        "- HTML"
      ],
      "metadata": {
        "id": "RUMDh6TQEZT2"
      }
    },
    {
      "cell_type": "markdown",
      "source": [
        "#### Texto"
      ],
      "metadata": {
        "id": "EheZaxxmF2c1"
      }
    },
    {
      "cell_type": "markdown",
      "source": [
        "Tan sencillo como ponerse a escribir en la celda de texto lo que se desee transmitir."
      ],
      "metadata": {
        "id": "Uzqfd6FYF56R"
      }
    },
    {
      "cell_type": "markdown",
      "source": [
        "#### Markdown"
      ],
      "metadata": {
        "id": "v5jhfv2IGIhu"
      }
    },
    {
      "cell_type": "markdown",
      "source": [
        "Markdown corresponde a un lenguaje de escritura, con cierta forma, para organizar el texto.\n",
        "\n",
        "Ya hemos visto, por ejemplo, las jerarquías del índice con el símbolo #.\n",
        "\n",
        "**Tablas**\n",
        "\n",
        "También se pueden hacer tablas como la siguiente:\n",
        "\n",
        "| col 1 | col 2 |\n",
        "|-------|-------|\n",
        "|   3   |   7   |\n",
        "|   5   |   2   |\n",
        "|   9   |   4   |\n",
        "|   1   |   8   |\n",
        "\n",
        "**Imágenes**\n",
        "\n",
        "También, se pueden insertar imágenes mediante el lenguaje de markdown, como la siguiente:\n",
        "\n",
        "![imagen](https://upload.wikimedia.org/wikipedia/commons/4/48/Markdown-mark.svg)"
      ],
      "metadata": {
        "id": "QT7lflyXGNPe"
      }
    },
    {
      "cell_type": "markdown",
      "source": [
        "#### LaTex"
      ],
      "metadata": {
        "id": "XK05kiKrIl2r"
      }
    },
    {
      "cell_type": "markdown",
      "source": [
        "Podemos escribir ecuaciones como las siguientes:\n",
        "\n",
        "$$\\vec{F}=m\\vec{a}$$\n",
        "\n",
        "$$\\frac{x}{y}$$\n",
        "\n",
        "$$\\int_0^x dx = x + C$$\n",
        "\n",
        "Para mayor información consultar el siguiente [link](https://www.overleaf.com/learn/latex/Mathematical_expressions)."
      ],
      "metadata": {
        "id": "UmIWLeUOIpCu"
      }
    },
    {
      "cell_type": "markdown",
      "source": [
        "#### HTML"
      ],
      "metadata": {
        "id": "HyZG86qSK_mm"
      }
    },
    {
      "cell_type": "markdown",
      "source": [
        "Se puede ejecutar comandos de html. Por ejemplo, podemos mostrar una imagen:\n",
        "\n",
        "<center>\n",
        "  <div style=\"text-align: center;\">\n",
        "    <img src=\"https://upload.wikimedia.org/wikipedia/commons/7/78/Pascaline-CnAM_823-1-IMG_1506-black.jpg\" alt=\"Pascal's Calculator\" width=\"400\"/>\n",
        "  </div>\n",
        "</center>"
      ],
      "metadata": {
        "id": "Mvh8216rLDtS"
      }
    },
    {
      "cell_type": "code",
      "source": [],
      "metadata": {
        "id": "J1EIQ3fwAbLW"
      },
      "execution_count": null,
      "outputs": []
    }
  ]
}