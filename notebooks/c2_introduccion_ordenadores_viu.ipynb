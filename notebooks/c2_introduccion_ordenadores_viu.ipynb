{
  "nbformat": 4,
  "nbformat_minor": 0,
  "metadata": {
    "colab": {
      "provenance": [],
      "authorship_tag": "ABX9TyM1muuhy8sFvcKlw6DA5lEb",
      "include_colab_link": true
    },
    "kernelspec": {
      "name": "python3",
      "display_name": "Python 3"
    },
    "language_info": {
      "name": "python"
    }
  },
  "cells": [
    {
      "cell_type": "markdown",
      "metadata": {
        "id": "view-in-github",
        "colab_type": "text"
      },
      "source": [
        "<a href=\"https://colab.research.google.com/github/ssanchezgoe/intro_informatica_viu/blob/main/notebooks/c2_introduccion_ordenadores_viu.ipynb\" target=\"_parent\"><img src=\"https://colab.research.google.com/assets/colab-badge.svg\" alt=\"Open In Colab\"/></a>"
      ]
    },
    {
      "cell_type": "markdown",
      "source": [
        "# 1. Introducción a las Computadoras"
      ],
      "metadata": {
        "id": "OF5IpeOK8Xaa"
      }
    },
    {
      "cell_type": "markdown",
      "source": [
        "## Historia básica de las computadoras\n",
        "Principales hitos y evolución de la tecnología."
      ],
      "metadata": {
        "id": "inlvXV2s8ekU"
      }
    },
    {
      "cell_type": "markdown",
      "source": [
        "\n",
        "- **Ábaco:** Posicionas que representan valores almacenados, por lo que se asocia a una amemoria. Para hacer una tarea, o algoritmo, se requiere de un operador humano. El ábaco por sí mismo, representa un sistema de almacenamiento de datos, que, en combinación con un humano, se crea una computadora.\n",
        "\n",
        "- **En la edad media y la era moderna**: Se empieza a experimentar con invensiones de máquinas con engranajes, cuyas posiciones representaban datos.\n",
        "\n",
        "Dentro los primeros inventores tenemos los siguientes.\n",
        "\n",
        "\n",
        "\n",
        "\n",
        "  \n",
        "\n",
        "  \n"
      ],
      "metadata": {
        "id": "imddoKZAFrow"
      }
    },
    {
      "cell_type": "markdown",
      "source": [
        "**Basados en posiciones de engranajes:**\n",
        "\n",
        "- Blaise Pascal (1623-1662)\n",
        "  - Desarrolló una máquina que realizaba solo sumas.\n",
        "  - Los datos se ingresaban mediante la posición de engranajes.\n",
        "  - El resultado se obtenía observando la posición final de los engranajes.\n",
        "\n",
        "<center>\n",
        "  <div style=\"text-align: center;\">\n",
        "    <img src=\"https://upload.wikimedia.org/wikipedia/commons/7/78/Pascaline-CnAM_823-1-IMG_1506-black.jpg\" alt=\"Pascal's Calculator\" width=\"400\"/>\n",
        "  </div>\n",
        "</center>\n",
        "\n",
        "- Gottfried Wilhelm Leibniz (1646–1716):\n",
        "  - Su máquina también usaba engranajes, pero permitía realizar varias operaciones aritméticas.\n",
        "  - Los algoritmos estaban integrados en la estructura de la máquina, con opciones seleccionables para diferentes operaciones.\n",
        "\n",
        "<center>\n",
        "  <div style=\"text-align: center;\">\n",
        "    <img src=\"https://upload.wikimedia.org/wikipedia/commons/9/92/Leibnitzrechenmaschine.jpg\" alt=\"Leibniz's Calculator\" width=\"400\"/>\n",
        "  </div>\n",
        "</center>"
      ],
      "metadata": {
        "id": "oZBB1pG-dk2t"
      }
    },
    {
      "cell_type": "markdown",
      "source": [
        "**Basados en impresiones:**\n",
        "\n",
        "- Charles Babbage (1792–1871)\n",
        "  - Máquina Diferencial: Construyó un modelo demostrativo que podía realizar varios cálculos.\n",
        "  - Máquina Analítica: Fue diseñada pero nunca construida. Esta máquina iba a ser programable mediante tarjetas perforadas de papel.\n",
        "  - Ada Lovelace: Considerada la primera programadora, demostró cómo la Máquina Analítica de Babbage podía ser programada para diversas operaciones.\n",
        "\n",
        "<center>\n",
        "  <div style=\"text-align: center;\">\n",
        "    <img src=\"https://upload.wikimedia.org/wikipedia/commons/8/8b/Babbage_Difference_Engine.jpg\" alt=\"Leibniz's Calculator\" width=\"400\"/>\n",
        "  </div>\n",
        "</center>\n",
        "\n",
        "- Joseph Jacquard (1752–1834):\n",
        "\n",
        "  - Inventó un telar en 1801 que usaba patrones de agujeros en tarjetas de madera o cartón para determinar los pasos en el proceso de tejido.\n",
        "  - Inspiró a Babbage en el uso de tarjetas perforadas.\n",
        "\n",
        "<center>\n",
        "  <div style=\"text-align: center;\">\n",
        "    <img src=\"https://upload.wikimedia.org/wikipedia/commons/5/5f/Jacquard.loom.full.view.jpg\" alt=\"Leibniz's Calculator\" width=\"300\"/>\n",
        "  </div>\n",
        "</center>\n",
        "\n",
        "- Herman Hollerith (1860–1929):\n",
        "  - Aplicó el concepto de tarjetas perforadas al censo de EE. UU. de 1890 para agilizar el proceso de tabulación.\n",
        "  - Este trabajo condujo a la creación de IBM.\n",
        "  - Las tarjetas perforadas se usaron como medio de comunicación con computadoras hasta los años 70.\n",
        "\n",
        "<center>\n",
        "  <div style=\"text-align: center;\">\n",
        "    <img src=\"https://upload.wikimedia.org/wikipedia/commons/4/4e/HollerithMachine.CHM.jpg\" alt=\"Leibniz's Calculator\" width=\"400\"/>\n",
        "  </div>\n",
        "</center>\n"
      ],
      "metadata": {
        "id": "0p-xbOUadsjA"
      }
    },
    {
      "cell_type": "markdown",
      "source": [
        "**Basados en componentes electrónicos:**\n",
        "\n",
        "- George Stibitz (1940):\n",
        "  - Desarrolló una máquina electromecánica en Bell Laboratories.\n",
        "\n",
        "  \n",
        "<center>\n",
        "  <div style=\"text-align: center;\">\n",
        "    <img src=\"https://blog.hnf.de/wp-content/uploads/2016/12/Mark2.jpg\" alt=\"Leibniz's Calculator\" width=\"400\"/>\n",
        "  </div>\n",
        "</center>\n",
        "\n",
        "- Howard Aiken y IBM (1944):\n",
        "    - Construyeron la Mark I en la Universidad de Harvard, usando relés mecánicos controlados electrónicamente.\n",
        "\n",
        "<center>\n",
        "  <div style=\"text-align: center;\">\n",
        "    <img src=\"https://upload.wikimedia.org/wikipedia/commons/0/07/Harvard_Mark_I_Computer_-_Input-Output_Details.jpg\" alt=\"Leibniz's Calculator\" width=\"400\"/>\n",
        "  </div>\n",
        "</center>\n",
        "\n",
        "    \n",
        "\n",
        "- John Atanasoff y Clifford Berry (1937-1941):\n",
        "    - Desarrollaron la Atanasoff-Berry Machine en Iowa State College, utilizando tubos de vacío.\n",
        "\n",
        "- Tommy Flowers (década de 1940):\n",
        "\n",
        "    - Construyó la Colossus en Inglaterra para descifrar mensajes alemanes durante la Segunda Guerra Mundial.\n",
        "\n",
        "- John Mauchly y J. Presper Eckert (década de 1940):\n",
        "\n",
        "    - Desarrollaron el ENIAC, una de las primeras computadoras electrónicas más flexibles, en la Universidad de Pensilvania.\n",
        "\n",
        "- Transistores (1940s-1950s):\n",
        "\n",
        "    - William Shockley, John Bardeen y Walter Brattain recibieron el Premio Nobel por la invención de los transistores, que reemplazaron los tubos de vacío.\n",
        "\n",
        "- Circuitos integrados (1950s-1960s):\n",
        "\n",
        "    - Jack Kilby ganó el Premio Nobel por desarrollar los circuitos integrados, reduciendo el tamaño de las computadoras."
      ],
      "metadata": {
        "id": "HH6gQOfDdu3Z"
      }
    },
    {
      "cell_type": "markdown",
      "source": [
        "## Unidades de información\n",
        "\n",
        "Bits, bytes, y su representación."
      ],
      "metadata": {
        "id": "fObAGxwn8yuA"
      }
    },
    {
      "cell_type": "markdown",
      "source": [
        "### ¿Qué es un **bit**?\n",
        "- Un **bit** es la unidad de información más pequeña en una computadora.\n",
        "- El término \"bit\" proviene de la contracción de **binary digit** (dígito binario).\n",
        "- Un bit solo puede tener uno de dos valores: **0** o **1**, lo que representa los dos estados básicos en sistemas binarios (apagado/encendido, falso/verdadero, etc.).\n",
        "- Los **bits** son los bloques de construcción fundamentales de todos los datos en un sistema informático."
      ],
      "metadata": {
        "id": "p85se7JmsbPQ"
      }
    },
    {
      "cell_type": "markdown",
      "source": [
        "### ¿Qué es un **byte**?\n",
        "- Un **byte** es una secuencia de **8 bits**.\n",
        "- El byte es una unidad estándar de almacenamiento y procesamiento de información en las computadoras.\n",
        "- Un byte puede representar **256 combinaciones** diferentes (2⁸), lo que significa que puede almacenar un número entre 0 y 255 o representar un carácter en muchos sistemas de codificación, como ASCII.\n",
        "- En términos de capacidad de almacenamiento, cuando se habla de **kilobytes (KB), megabytes (MB), gigabytes (GB)**, etc., estos términos están basados en el concepto de byte, donde:\n",
        "  - **1 kilobyte (KB)** = 1024 bytes\n",
        "  - **1 megabyte (MB)** = 1024 KB\n",
        "  - **1 gigabyte (GB)** = 1024 MB"
      ],
      "metadata": {
        "id": "xYVJyBUELBqQ"
      }
    },
    {
      "cell_type": "markdown",
      "source": [
        "### Resumen bit y byte:"
      ],
      "metadata": {
        "id": "9DyX_xz-Luud"
      }
    },
    {
      "cell_type": "markdown",
      "source": [
        "- **Bit** = Unidad más pequeña, 0 o 1.\n",
        "- **Byte** = Conjunto de 8 bits, utilizado para representar datos como caracteres o números en una computadora."
      ],
      "metadata": {
        "id": "2VI5m-UyL42v"
      }
    },
    {
      "cell_type": "markdown",
      "source": [
        "### Operadores lógicos\n",
        "\n",
        "Para entender cómo se almacenan y manipulan los bits en una computadora, se puede imaginar:\n",
        "\n",
        "- que el bit 0 representa \"falso\"\n",
        "- el bit 1 representa \"verdadero\".\n",
        "\n",
        "Las operaciones que manipulan estos valores se llaman operaciones booleanas, en honor al matemático **George Boole** (1815-1864), pionero en el campo de la lógica. Las operaciones booleanas básicas incluyen:\n",
        "\n",
        "- AND\n",
        "- OR\n",
        "- XOR (o exclusivo).\n",
        "\n",
        "Estas operaciones son similares a las operaciones aritméticas como multiplicación y suma, ya que combinan un par de valores para producir un tercero, pero en lugar de números, combinan valores de verdadero/falso."
      ],
      "metadata": {
        "id": "GRPXqIFWsz-M"
      }
    },
    {
      "cell_type": "markdown",
      "source": [
        "#### AND\n",
        "\n",
        "La operación AND refleja la verdad o falsedad de una afirmación formada por la conjunción \"AND\". Para dos statements P y Q, la tabla de la verdad es la siguiente:\n",
        "\n",
        "| P   | Q   | P AND Q |\n",
        "| --- | --- | --------|\n",
        "| 0   | 0   |    0    |\n",
        "| 0   | 1   |    0    |\n",
        "| 1   | 0   |    0    |\n",
        "| 1   | 1   |    1    |\n",
        "\n",
        "En donde se deduce que solo se tienen un resultado verdadero si ambos statements son verdaderas."
      ],
      "metadata": {
        "id": "WzMHB-yzuCiG"
      }
    },
    {
      "cell_type": "markdown",
      "source": [
        "#### OR\n",
        "\n",
        "De forma similar, la operación OR está basada en los stataments de la forma P OR Q, con las siguiente tabla de verdad:\n",
        "\n",
        "| P   | Q   | P OR Q |\n",
        "| --- | --- | -------|\n",
        "| 0   | 0   |   0    |\n",
        "| 0   | 1   |   1    |\n",
        "| 1   | 0   |   1    |\n",
        "| 1   | 1   |   1    |\n",
        "\n",
        "En donde se deduce que solo se tiene un resultado falso si ambos statements son falsas."
      ],
      "metadata": {
        "id": "0j0BNgvHuyYC"
      }
    },
    {
      "cell_type": "markdown",
      "source": [
        "#### NOT\n",
        "\n",
        "Existe un operador booleano no nombrado, usualmente, como tal, conocido como el operador de negación. Opera sobre un statement, y tiene la siguiente forma:\n",
        "\n",
        "| P   | NOT P |\n",
        "| --- | ------|\n",
        "| 0   |   1   |\n",
        "| 1   |   0   |\n"
      ],
      "metadata": {
        "id": "b09EH3jHurDD"
      }
    },
    {
      "cell_type": "markdown",
      "source": [
        "### Compuertas lógicas"
      ],
      "metadata": {
        "id": "Zg1SNni7ydV4"
      }
    },
    {
      "cell_type": "markdown",
      "source": [
        "Un dispositivo que produce el resultado de una operación booleana al recibir los valores de entrada se llama una compuerta lógica.\n",
        "\n",
        "Las compuertas lógicas pueden construirse con diferentes tecnologías, como engranajes, relés y dispositivos ópticos.\n",
        "\n",
        "En las computadoras modernas, las puertas lógicas suelen implementarse como pequeños circuitos electrónicos, donde los dígitos 0 y 1 se representan mediante niveles de voltaje.\n",
        "\n",
        "Para fines prácticos, las puertas lógicas se representan simbólicamente con figuras distintas:\n",
        "\n",
        "- Las puertas AND, OR, XOR y NOT tienen símbolos específicos.\n",
        "- Los valores de entrada ingresan por un lado y el resultado sale por el otro.\n",
        "\n",
        "| Compuerta Lógica | Símbolo Gráfico                                                                                                                                         |\n",
        "|------------------|---------------------------------------------------------------------------------------------------------------------------------------------------------|\n",
        "| AND              | ![AND Gate](https://upload.wikimedia.org/wikipedia/commons/6/64/AND_ANSI.svg)                                                                  |\n",
        "| OR               | ![OR Gate](https://upload.wikimedia.org/wikipedia/commons/1/16/OR_ANSI_Labelled.svg)                                                                    |\n",
        "| XOR              | ![XOR Gate](https://upload.wikimedia.org/wikipedia/commons/0/01/XOR_ANSI.svg)                                                                  |\n",
        "| NOR              | <img src=\"https://upload.wikimedia.org/wikipedia/commons/9/9f/Not-gate-en.svg\" alt=\"NOR Gate\" width=\"150\"/>\n",
        "                                                                  |\n"
      ],
      "metadata": {
        "id": "Zt_xQZyezWI_"
      }
    },
    {
      "cell_type": "markdown",
      "source": [
        "### Memoria: Circuito flip-flop\n",
        "\n",
        "Las compuertas lógicas proporcionan los"
      ],
      "metadata": {
        "id": "WvHmPltv7i61"
      }
    },
    {
      "cell_type": "markdown",
      "source": [],
      "metadata": {
        "id": "D5RFklIpOc6u"
      }
    },
    {
      "cell_type": "markdown",
      "source": [
        "## Arquitectura básica de un sistema informático\n",
        "\n",
        "- Arquitectura moderna de los ordenadores\n",
        "- Software y sistemas operativos.\n",
        "- Hardware. Componentes esenciales."
      ],
      "metadata": {
        "id": "yKfHQFv5aV7a"
      }
    },
    {
      "cell_type": "markdown",
      "source": [
        "### Arquitectura de von Neumann."
      ],
      "metadata": {
        "id": "wtxvvNhsJnHk"
      }
    },
    {
      "cell_type": "markdown",
      "source": [
        "Es un diseño fundamental para las computadoras modernas, propuesto por el matemático **John von Neumann** en **1945**. Su idea central es que tanto los **datos** como las **instrucciones** de un programa se almacenen en la misma memoria, permitiendo que la computadora sea más flexible y eficiente.\n",
        "\n",
        "**Partes principales de la arquitectura de von Neumann:**\n",
        "\n",
        "1. **Unidad de Memoria**:\n",
        "   - Almacena tanto los **datos** como las **instrucciones** del programa.\n",
        "   - La memoria es una sola entidad compartida, lo que permite acceder de manera unificada a las instrucciones y datos que necesita la CPU.\n",
        "\n",
        "2. **Unidad de Control**:\n",
        "   - Se encarga de **interpretar** y ejecutar las instrucciones almacenadas en la memoria.\n",
        "   - Coordina todas las operaciones de la computadora, asegurándose de que las instrucciones se ejecuten en el orden correcto.\n",
        "\n",
        "3. **Unidad Aritmético-Lógica (ALU)**:\n",
        "   - Realiza las **operaciones aritméticas** (como suma, resta) y **lógicas** (como AND, OR) que son necesarias para el procesamiento de datos.\n",
        "\n",
        "4. **Unidad de Entrada/Salida (I/O)**:\n",
        "   - Permite la **comunicación** entre la computadora y el mundo exterior, manejando la entrada de datos (por teclado, ratón, etc.) y la salida de resultados (pantalla, impresora, etc.).\n",
        "\n",
        "5. **Bus**:\n",
        "   - Es el **canal de comunicación** entre las diferentes partes (memoria, ALU, unidad de control, etc.). Los datos y las instrucciones se transfieren a través del bus.\n",
        "\n",
        "\n",
        "<center>\n",
        "  <div style=\"text-align: center;\">\n",
        "    <img src=\"https://upload.wikimedia.org/wikipedia/commons/e/e5/Von_Neumann_Architecture.svg\" alt=\"von neumann\" width=\"500\"/>\n",
        "  </div>\n",
        "</center>\n"
      ],
      "metadata": {
        "id": "hFSR35YrJ46r"
      }
    },
    {
      "cell_type": "markdown",
      "source": [
        "**Relación con la computadora:**\n",
        "\n",
        "- Esta arquitectura define el funcionamiento básico de las computadoras actuales: un sistema donde las instrucciones se almacenan junto con los datos en la memoria y son ejecutadas secuencialmente por la CPU, facilitando la programación y el diseño de software.\n",
        "  \n",
        "- Las computadoras que siguen la arquitectura de von Neumann procesan las instrucciones de manera secuencial, lo que las hace eficientes para tareas generales.\n",
        "\n",
        "En resumen, la **arquitectura de von Neumann**, presentada en **1945**, revolucionó el diseño de las computadoras al proponer un sistema unificado de memoria para almacenar instrucciones y datos, y una organización interna clara que todavía es la base de la mayoría de las computadoras actuales."
      ],
      "metadata": {
        "id": "o_ii-V2gPfVS"
      }
    },
    {
      "cell_type": "markdown",
      "source": [
        "### Sistemas operativos"
      ],
      "metadata": {
        "id": "3ftww2w09UU-"
      }
    },
    {
      "cell_type": "markdown",
      "source": [
        "¿Qué es un **sistema operativo**?\n",
        "\n",
        "Un **sistema operativo (SO)** es un software esencial que gestiona el **hardware** y los **recursos de software** de una computadora, permitiendo que los programas y los usuarios interactúen con ella. El sistema operativo realiza tareas fundamentales como:\n",
        "- **Gestión de la memoria** (RAM).\n",
        "- **Control de los dispositivos de hardware** (teclado, pantalla, impresora, etc.).\n",
        "- **Ejecución y gestión de programas y procesos**.\n",
        "- **Gestión del sistema de archivos** (guardar, leer, organizar datos).\n",
        "  \n",
        "En resumen, es el puente entre el **usuario** y el **hardware** del sistema.\n",
        "\n"
      ],
      "metadata": {
        "id": "C3olYC_vNigy"
      }
    },
    {
      "cell_type": "markdown",
      "source": [
        "Principales sistemas operativos y sus diferencias\n",
        "\n",
        "1. **Windows**\n",
        "   - **Desarrollador**: Microsoft.\n",
        "   - **Características**:\n",
        "     - Sistema operativo gráfico ampliamente utilizado en PC.\n",
        "     - Muy popular en el entorno empresarial y para uso personal.\n",
        "     - Gran compatibilidad con software comercial y videojuegos.\n",
        "   - **Ventajas**:\n",
        "     - Facilidad de uso, interfaz gráfica intuitiva.\n",
        "     - Amplia gama de aplicaciones y soporte de hardware.\n",
        "   - **Desventajas**:\n",
        "     - Mayor vulnerabilidad a virus y malware.\n",
        "     - Licencias pagadas.\n",
        "   \n",
        "2. **macOS**\n",
        "   - **Desarrollador**: Apple.\n",
        "   - **Características**:\n",
        "     - Sistema operativo basado en Unix, exclusivo para las computadoras **Mac**.\n",
        "     - Fuerte integración con otros productos de Apple como iPhone y iPad.\n",
        "     - Enfoque en la estabilidad y el diseño.\n",
        "   - **Ventajas**:\n",
        "     - Gran estabilidad y rendimiento.\n",
        "     - Excelente para trabajos de diseño gráfico, edición de video y música.\n",
        "   - **Desventajas**:\n",
        "     - Limitado a hardware de Apple.\n",
        "     - Menor compatibilidad con algunos programas y juegos.\n",
        "\n",
        "3. **Linux**\n",
        "   - **Desarrollador**: Comunidad de código abierto.\n",
        "   - **Características**:\n",
        "     - Basado en **Unix** y disponible en múltiples distribuciones, como **Ubuntu**, **Fedora**, y **Debian**.\n",
        "     - Altamente configurable y usado en servidores y supercomputadoras.\n",
        "   - **Ventajas**:\n",
        "     - **Código abierto** y gratuito.\n",
        "     - Alta seguridad y menor riesgo de malware.\n",
        "     - Excelente rendimiento en servidores y sistemas embebidos.\n",
        "   - **Desventajas**:\n",
        "     - Curva de aprendizaje más pronunciada para usuarios nuevos.\n",
        "     - Menor compatibilidad con software comercial (aunque ha mejorado con el tiempo).\n",
        "\n",
        "4. **Android (para dispositivos móviles)**\n",
        "   - **Desarrollador**: Google.\n",
        "   - **Características**:\n",
        "     - Sistema operativo basado en Linux, diseñado principalmente para **dispositivos móviles** (teléfonos y tabletas).\n",
        "     - Soporta una amplia gama de dispositivos y aplicaciones.\n",
        "   - **Ventajas**:\n",
        "     - Altamente personalizable.\n",
        "     - Gran cantidad de aplicaciones disponibles.\n",
        "   - **Desventajas**:\n",
        "     - Fragmentación: diferentes versiones en distintos dispositivos.\n",
        "     - Menor seguridad en comparación con otros sistemas móviles.\n",
        "\n",
        "5. **iOS (para dispositivos móviles)**\n",
        "   - **Desarrollador**: Apple.\n",
        "   - **Características**:\n",
        "     - Sistema operativo de Apple para **iPhone** y **iPad**.\n",
        "     - Alta optimización para el hardware de Apple y una experiencia muy fluida.\n",
        "   - **Ventajas**:\n",
        "     - Muy seguro y estable.\n",
        "     - Amplia gama de aplicaciones de alta calidad.\n",
        "   - **Desventajas**:\n",
        "     - Sistema cerrado, poca personalización.\n",
        "     - Solo disponible en dispositivos Apple.\n",
        "\n"
      ],
      "metadata": {
        "id": "I6allg9fNpjn"
      }
    },
    {
      "cell_type": "markdown",
      "source": [
        "Diferencias clave entre los principales sistemas operativos:\n",
        "\n",
        "- **Windows vs macOS**:\n",
        "  - **Windows** es más común en PCs y tiene más compatibilidad con programas, mientras que **macOS** es exclusivo de Apple, enfocado en diseño y multimedia.\n",
        "  \n",
        "- **Linux vs Windows/macOS**:\n",
        "  - **Linux** es gratuito y de código abierto, con mayor seguridad, pero requiere más conocimiento técnico. **Windows** y **macOS** son más fáciles de usar pero requieren licencias pagadas.\n",
        "\n",
        "- **Android vs iOS** (para móviles):\n",
        "  - **Android** es más abierto y personalizable, con soporte para una gran variedad de dispositivos. **iOS** es más cerrado pero optimizado para funcionar de manera fluida en el ecosistema de Apple, con mayor seguridad.\n",
        "\n",
        "En resumen, un **sistema operativo** gestiona los recursos de hardware y software de una computadora. Los principales sistemas operativos son **Windows**, **macOS**, **Linux**, **Android** e **iOS**, y cada uno tiene características específicas que los hacen más adecuados para diferentes tipos de usuarios y dispositivos."
      ],
      "metadata": {
        "id": "x94I-EsRNukj"
      }
    },
    {
      "cell_type": "markdown",
      "source": [
        "### Hardware. Componentes esenciales"
      ],
      "metadata": {
        "id": "P347myKWQ4Ii"
      }
    },
    {
      "cell_type": "markdown",
      "source": [
        "**CPU (Unidad Central de Procesamiento)**\n",
        "\n",
        "- **Función**: Es el \"cerebro\" del ordenador. Realiza las operaciones aritméticas y lógicas, y ejecuta las instrucciones de los programas.\n",
        "- **Partes principales**:\n",
        "  - **Unidad de Control**: Dirige y coordina todas las actividades del sistema.\n",
        "  - **Unidad Aritmético-Lógica (ALU)**: Realiza operaciones matemáticas y lógicas.\n",
        "  - **Registros**: Pequeñas áreas de almacenamiento dentro de la CPU que guardan datos temporales y instrucciones.\n",
        "\n",
        "\n",
        "<center>\n",
        "  <div style=\"text-align: center;\">\n",
        "    <img src=\"  https://upload.wikimedia.org/wikipedia/commons/0/0a/Intel_i9-14900KF_CPU.jpg\" alt=\"Leibniz's Calculator\" width=\"300\"/>\n",
        "  </div>\n",
        "</center>\n",
        "\n"
      ],
      "metadata": {
        "id": "tvT8o7uEREvf"
      }
    },
    {
      "cell_type": "markdown",
      "source": [
        "**Memoria RAM**\n",
        "\n",
        "- **Función**: Almacena temporalmente los datos y programas que está utilizando el ordenador en ese momento, permitiendo un acceso rápido.\n",
        "- **Características**: Es volátil, lo que significa que los datos se pierden cuando el ordenador se apaga.\n",
        "\n",
        "\n",
        "<center>\n",
        "  <div style=\"text-align: center;\">\n",
        "    <img src=\"https://upload.wikimedia.org/wikipedia/commons/d/db/Swissbit_2GB_PC2-5300U-555.jpg\" alt=\"Leibniz's Calculator\" width=\"400\"/>\n",
        "  </div>\n",
        "</center>\n"
      ],
      "metadata": {
        "id": "npNpLvHsRV42"
      }
    },
    {
      "cell_type": "markdown",
      "source": [
        "**Placa base**\n",
        "\n",
        "- **Función**: Es el **circuito principal** que conecta y permite la comunicación entre todos los componentes de un ordenador, incluyendo la CPU, RAM, dispositivos de almacenamiento y tarjetas de expansión.\n",
        "- **Conexiones principales**: Incluye ranuras para la **CPU**, **RAM**, **tarjetas gráficas**, **tarjetas de red** y otros dispositivos de expansión.\n",
        "\n",
        "\n",
        "<center>\n",
        "  <div style=\"text-align: center;\">\n",
        "    <img src=\"https://upload.wikimedia.org/wikipedia/commons/d/dd/MicroATX_Motherboard_with_AMD_Athlon_Processor_2_Digon3.jpg\" alt=\"Leibniz's Calculator\" width=\"400\"/>\n",
        "  </div>\n",
        "</center>\n",
        "\n",
        "\n"
      ],
      "metadata": {
        "id": "IShh1VloRmjY"
      }
    },
    {
      "cell_type": "markdown",
      "source": [
        "**Almacenamiento (Disco Duro o SSD)**\n",
        "\n",
        "- **Función**: Almacena de forma **permanente** los datos y programas.\n",
        "- **Tipos**:\n",
        "  - **HDD (Disco duro)**: Usa discos magnéticos para almacenar datos. Tiene mayor capacidad y es más económico, pero es más lento.\n",
        "  - **SSD (Unidad de estado sólido)**: Usa memoria flash, es mucho más rápido que los discos duros, pero es más caro y tiene menos capacidad.\n",
        "\n",
        "\n",
        "\n",
        "<center>\n",
        "  <div style=\"text-align: center;\">\n",
        "    <img src=\"https://upload.wikimedia.org/wikipedia/commons/1/1a/2023_Dysk_SSD_Patriot_P210_2TB.jpg\" alt=\"Leibniz's Calculator\" width=\"400\"/>\n",
        "  </div>\n",
        "</center>"
      ],
      "metadata": {
        "id": "TKsh1Q7vRwKM"
      }
    },
    {
      "cell_type": "markdown",
      "source": [
        "**GPU**\n",
        "\n",
        "- **Función**: Maneja los cálculos gráficos y visuales. Es crucial para juegos, edición de video y procesamiento de gráficos.\n",
        "- **Tipos**:\n",
        "  - **Integrada**: Parte del CPU, suficiente para tareas básicas.\n",
        "  - **Dedicada**: Tarjeta gráfica independiente con más potencia para aplicaciones gráficas intensivas.\n",
        "\n",
        "\n",
        "\n",
        "<center>\n",
        "  <div style=\"text-align: center;\">\n",
        "    <img src=\"https://upload.wikimedia.org/wikipedia/commons/2/22/Dstealth32.jpg\" width=\"400\"/>\n",
        "  </div>\n",
        "</center>\n",
        "\n"
      ],
      "metadata": {
        "id": "jQJ76BJzR_ci"
      }
    },
    {
      "cell_type": "markdown",
      "source": [
        "**Dispositivos de entrada**\n",
        "\n",
        "- **Función**: Permiten al usuario interactuar con el ordenador proporcionando datos y comandos.\n",
        "- **Ejemplos**: **Teclado**, **ratón**, **micrófono**, **escáner**, **cámara**."
      ],
      "metadata": {
        "id": "T_pErC-hSHPV"
      }
    },
    {
      "cell_type": "markdown",
      "source": [
        "**Dispositivos de Salida**\n",
        "\n",
        "- **Función**: Muestran los resultados del procesamiento del ordenador.\n",
        "- **Ejemplos**: **Monitor**, **impresora**, **altavoces**."
      ],
      "metadata": {
        "id": "i5hK2XA-SP2k"
      }
    },
    {
      "cell_type": "markdown",
      "source": [
        "# Modelos de computación\n",
        "\n",
        "- Computadoras Personales.\n",
        "- Dispositivos Móviles."
      ],
      "metadata": {
        "id": "6lIn2YP-9YED"
      }
    },
    {
      "cell_type": "markdown",
      "source": [
        "- Steve Jobs y Stephen Wozniak (1976):\n",
        "\n",
        "  - Fundaron Apple Computer, Inc. y comercializaron el primer ordenador doméstico viable comercialmente.\n",
        "\n",
        "- IBM (1981):\n",
        "\n",
        "  - Lanzó el primer PC (Personal Computer), con software de Microsoft, consolidando el concepto de computadora de escritorio en el mercado empresarial.\n",
        "\n",
        "- Tim Berners-Lee (década de 1990):\n",
        "\n",
        "    - Creó el concepto de la World Wide Web, un sistema que enlaza documentos en Internet.\n",
        "\n",
        "- Motores de búsqueda (década de 1990):\n",
        "\n",
        "- Empresas como Google, Yahoo, y Microsoft desarrollaron motores de búsqueda para facilitar el acceso a la información en la Web.\n",
        "Miniaturización de computadoras:\n",
        "\n",
        "- Se desarrollaron pequeños ordenadores embebidos en dispositivos como automóviles y electrodomésticos.\n",
        "\n",
        "- Smartphones:\n",
        "\n",
        "- Los smartphones modernos, más potentes que las supercomputadoras de décadas anteriores, incluyen una variedad de sensores y tecnologías inalámbricas. Son considerados más revolucionarios que las computadoras personales (PC)."
      ],
      "metadata": {
        "id": "ZS9EkHuAMpPh"
      }
    },
    {
      "cell_type": "code",
      "source": [],
      "metadata": {
        "id": "5fR4tGS7VgNd"
      },
      "execution_count": null,
      "outputs": []
    },
    {
      "cell_type": "code",
      "source": [],
      "metadata": {
        "id": "ms2pcNUtVgfO"
      },
      "execution_count": null,
      "outputs": []
    }
  ]
}