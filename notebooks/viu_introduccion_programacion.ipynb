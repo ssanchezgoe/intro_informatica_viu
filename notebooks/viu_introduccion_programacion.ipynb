{
  "nbformat": 4,
  "nbformat_minor": 0,
  "metadata": {
    "colab": {
      "provenance": [],
      "include_colab_link": true
    },
    "kernelspec": {
      "name": "python3",
      "display_name": "Python 3"
    }
  },
  "cells": [
    {
      "cell_type": "markdown",
      "metadata": {
        "id": "view-in-github",
        "colab_type": "text"
      },
      "source": [
        "<a href=\"https://colab.research.google.com/github/ssanchezgoe/intro_informatica_viu/blob/main/notebooks/viu_introduccion_programacion.ipynb\" target=\"_parent\"><img src=\"https://colab.research.google.com/assets/colab-badge.svg\" alt=\"Open In Colab\"/></a>"
      ]
    },
    {
      "cell_type": "markdown",
      "metadata": {
        "id": "vpyD39qpD_eh"
      },
      "source": [
        "## **Introducción a la programación en python**\n",
        "\n"
      ]
    },
    {
      "cell_type": "markdown",
      "metadata": {
        "id": "AJjdxGWeEIR_"
      },
      "source": [
        "## **Algoritmia**"
      ]
    },
    {
      "cell_type": "markdown",
      "source": [
        "Un **algoritmo** es un conjunto de instrucciones o reglas definidas y no ambiguas, ordenadas y finitas que permite, típicamente, solucionar un problema, realizar un cómputo, procesar datos y llevar a cabo otras tareas o actividades.\n",
        "\n",
        "Un ejemplo clásico de esto es un manual de instrucciones para el uso o la instalación de un aparato. En algunas circunstancias, las instrucciones impartidas a un trabajador también pueden considerarse un algoritmo.\n",
        "\n",
        "En general, no existe un consenso definitivo en cuanto a la definición formal de algoritmo. Muchos autores los señalan como listas de instrucciones para resolver un cálculo o un problema abstracto.\n",
        "____________\n",
        "\n",
        "> **📘 Definición: Algoritmo**\n",
        ">\n",
        "> **Número finito de pasos** para convertir unos datos de un problema **(entrada)** en una solución **(salida)**\n",
        "_____________\n",
        "\n",
        "Sin embargo, no siempre es precisa una solución última. Es posible pensar, por ejemplo, en un algoritmo para calcular números primos; no obstante, al ser estos infinitos, sería imposible calcularlos todos.\n",
        "\n",
        "La parte común en todas las definiciones se puede resumir en las siguientes tres propiedades, siempre y cuando no consideremos:\n",
        "\n",
        "1. **Tiempo secuencial**: Un algoritmo funciona en tiempo discretizado –paso a paso–, definiendo así una secuencia de estados computacionales para cada entrada válida (la entrada son los datos que se suministran al algoritmo antes de comenzar).\n",
        "\n",
        "2. **Exploración acotada**: La transición de un estado al siguiente queda completamente determinada por una descripción fija y finita; es decir, entre cada estado y el siguiente solo se puede tomar en cuenta una cantidad fija y limitada de términos del estado actual.\n",
        "\n",
        "En resumen, un algoritmo es cualquier procedimiento que funciona paso a paso, donde cada paso se puede describir sin ambigüedad y sin hacer referencia a una computadora en particular. Además, tiene un límite fijo en cuanto a la cantidad de datos que se pueden leer/escribir en un solo paso."
      ],
      "metadata": {
        "id": "VGBj4_gHndoe"
      }
    },
    {
      "cell_type": "markdown",
      "source": [
        "## **Medios de Expresión de un Algoritmo**"
      ],
      "metadata": {
        "id": "aff7CcuNnTMX"
      }
    },
    {
      "cell_type": "markdown",
      "source": [
        "Es fundamental entender los pasos para la descripción de un algoritmo. Estos están dados por:\n",
        "\n",
        "1. **Descripción de alto nivel**: Se establece el problema, se selecciona un modelo matemático y se explica el algoritmo de manera verbal, posiblemente con ilustraciones y omitiendo detalles.\n",
        "\n",
        "2. **Descripción formal**: Se usa pseudocódigo, o diagrama de flujo, para describir la secuencia de pasos que encuentran la solución.\n",
        "\n",
        "3. **Implementación**: Se muestra el algoritmo expresado en un lenguaje de programación específico o en algún objeto capaz de llevar a cabo instrucciones.\n",
        "\n",
        "Pensemos, por ejemplo, en cuál sería el proceso para, durante el receso de un diplomado (o en un rato libre en una institución educativa), comprar un café.\n",
        "\n",
        "Para alguien con años de práctica comprando siempre el mismo café en el mismo lugar, puede ser fácil expresar de forma clara y sin ambigüedades el algoritmo para hacerlo."
      ],
      "metadata": {
        "id": "-kfhozt1znGL"
      }
    },
    {
      "cell_type": "markdown",
      "source": [
        "## **Pseudocódigo y diagrama de flujo**"
      ],
      "metadata": {
        "id": "A8cHDzmG1rwU"
      }
    },
    {
      "cell_type": "markdown",
      "source": [
        "### **Pseudocódigo**\n",
        "\n",
        "Antes de **implementar** un algoritmo en un lenguaje de programación, conviene expresarlo en forma de pseudodocódigo para aclarar los diferentes paso que lo componen.\n",
        "\n",
        "El pseudocódigo es una descripción textual de los pasos que realiza un algoritmo, utilizando un lenguaje semiformal que combina elementos del lenguaje natural con estructuras de programación.\n"
      ],
      "metadata": {
        "id": "ZhWQrllq46Gp"
      }
    },
    {
      "cell_type": "markdown",
      "source": [
        "### **Diagramas de flujo**\n",
        "\n",
        "Es una representación gráfica de un algoritmo, donde se usan símbolos específicos para describir los pasos del proceso y la relación entre ellos.\n",
        "\n",
        "En la siguiente figura se resumen los principales símbolos usados en los diagramas de flujo:\n",
        "\n",
        "<center>\n",
        "  <div style=\"text-align: center;\">\n",
        "    <img src=\"https://media.licdn.com/dms/image/v2/C4D12AQGVMnxkQADuGg/article-inline_image-shrink_1000_1488/article-inline_image-shrink_1000_1488/0/1599125180931?e=1737590400&v=beta&t=dA2fO0B_jsMPTlb139-mZdd1vIMRhWoGK2t5DWXQP9s\"/>\n",
        "  </div>\n",
        "</center>\n",
        "\n",
        "Para el desarrollo de un diagrama de flujo, se tienen herramientaas open source como [Draw.io](https://www.draw.io)."
      ],
      "metadata": {
        "id": "eKrYZAhH5DTS"
      }
    },
    {
      "cell_type": "markdown",
      "source": [
        "### **Ejemplos de diagramas de flujo, pseudocódigos e implementaciones en python**\n",
        "\n",
        "En las siguientes celdas, se analizan varios ejemplos, con el fin de ilustrar el uso de diagramas de flujos y pseudocódigos, como herramienta de programación."
      ],
      "metadata": {
        "id": "Ie0dbZvFUzcB"
      }
    },
    {
      "cell_type": "markdown",
      "metadata": {
        "id": "Ly6fdW-gNbZ1"
      },
      "source": [
        "#### **Ejemplo Diagrama de Flujo: Comprar de Café**\n",
        "\n",
        "1. Dirigirse al espacio donde suelo tomar café.\n",
        "2. Al llegar al lugar donde lo venden, saludar.\n",
        "3. Preguntar si hay café.\n",
        "4. Si sí hay, pedirlo, pagar por él, tomarlo y dar las gracias.\n",
        "5. Si no hay, preguntar cuál hay disponible.\n",
        "6. Si no hay ningún café disponible, buscar otro lugar donde vendan café y repetir el proceso desde el paso 2.\n",
        "\n",
        "Parece algo trivial, pero si quisiera explicarle, por ejemplo, a alguien que no sabe qué es un café o la importancia de las convenciones sociales (como un computador), realizar el proceso paso por paso es importante.\n",
        "\n",
        "En la siguiente figura se ilustra el *diagrama de flujo* del proceso *comprar café*:\n",
        "\n",
        "<center>\n",
        "\n",
        "![Imagen modificada de Drawio](https://raw.githubusercontent.com/diplomado-bigdata-machinelearning-udea/curso0/master/S03/img/ComprarCafé.png)\n",
        "\n",
        "</center>"
      ]
    },
    {
      "cell_type": "markdown",
      "source": [
        "#### **Ejemplo Pseudocógico: Comprar café**\n",
        "\n",
        "En el siguiente ejemplo, se muestran en forma de pseudocódigo los pasos necesarios para comprar con éxito un café:\n",
        "\n",
        "```plaintext\n",
        "Inicio\n",
        "Dirigirse al lugar donde venden café\n",
        "Si hay café entonces\n",
        "    Pedir café\n",
        "    Pagar por él\n",
        "    Tomarlo\n",
        "Si no hay café entonces\n",
        "    Buscar otro lugar\n",
        "    Repetir el proceso hasta conseguir café\n",
        "Fin\n"
      ],
      "metadata": {
        "id": "hTR_Z5M55hih"
      }
    },
    {
      "cell_type": "markdown",
      "source": [
        "#### **Ejemplo Diagrama de Flujo: Promedio**\n",
        "A continuación, se realiza un diagrama de flujo de la media o valor promedio de un conjunto de números en una lista.\n",
        "\n",
        "<center>\n",
        "\n",
        "![Imagen modificada de Drawio](https://raw.githubusercontent.com/diplomado-bigdata-machinelearning-udea/curso0/master/S03/img/Promedio.png)\n",
        "</center>\n"
      ],
      "metadata": {
        "id": "6vT4bhpPSjr6"
      }
    },
    {
      "cell_type": "markdown",
      "metadata": {
        "id": "l5zJ9JfeCOfj"
      },
      "source": [
        "#### **Ejemplo Pseudocódigo: Promedio**\n",
        "\n",
        "Veamos ahora como determinar el promedio en una lista de números:\n",
        "\n",
        "\n",
        "\n",
        "```\n",
        "Inicio\n",
        "Leer (lista = [x1,x2,...,xn])\n",
        "n = dimension(lista)\n",
        "suma = 0\n",
        "Para j entre (1,n):\n",
        "  suma = suma + lista[j]\n",
        "prom =suma/n\n",
        "Escriba prom\n",
        "Fin\n",
        "```\n",
        "\n"
      ]
    },
    {
      "cell_type": "markdown",
      "source": [
        "#### **Implementación en python: Cálculo del promedio**\n",
        "\n",
        "En la siguiente celda, se establece un código en python para determinar el valor promedio en una lista de números."
      ],
      "metadata": {
        "id": "2LO9BSZ_X89U"
      }
    },
    {
      "cell_type": "code",
      "metadata": {
        "id": "NMfKutIu7SxX",
        "outputId": "ab4e70af-2ad4-45f3-b9ae-9745296fe4b9",
        "colab": {
          "base_uri": "https://localhost:8080/"
        }
      },
      "source": [
        "import numpy as np\n",
        "import math as mt\n",
        "lista = [10,5,20,43,13,26]\n",
        "suma = 0\n",
        "n =len(lista)\n",
        "for i in range(n):\n",
        "  suma = suma +lista[i]\n",
        "prom = suma/n\n",
        "print(prom, np.mean(lista))"
      ],
      "execution_count": null,
      "outputs": [
        {
          "output_type": "stream",
          "text": [
            "19.5 19.5\n"
          ],
          "name": "stdout"
        }
      ]
    },
    {
      "cell_type": "markdown",
      "source": [
        "#### **Ejemplo Pseudocódigo número primo**\n",
        "\n",
        "A continuación, se ejemplifica en forma de *pseudocódigo*, cómo determinar si un número es primo o no:\n",
        "\n",
        "```\n",
        "Inicio\n",
        "\n",
        "primo = 0\n",
        "Leer(n)\n",
        "Si n<2 :\n",
        "  Escriba(\"Número no válido\")\n",
        "\n",
        "Si n = 2:\n",
        "  Escriba \"n es primo\")\n",
        "\n",
        "Sino:\n",
        "  Para x entre (2,n/2):\n",
        "    prueba = n mod x\n",
        "    Si prueba = 0:\n",
        "      primo = primo +1\n",
        "Si primo == 0:\n",
        "  Escriba \"n es primo\"\n",
        "Sino :\n",
        "  Escriba \"n no es primo\"\n",
        "\n",
        "Fin\n",
        "```"
      ],
      "metadata": {
        "id": "zp9uJnJyQtXL"
      }
    },
    {
      "cell_type": "markdown",
      "metadata": {
        "id": "qaA5yB5RH2Qt"
      },
      "source": [
        "\n",
        "#### **Ejercicio: Diagrama de Flujo número primo**\n",
        "\n",
        "Revisar si el siguiente diagrama de flujo es correcto para determinar si un número es primo o no.\n",
        "\n",
        "> **💡 Ayuda**\n",
        ">\n",
        "> Un **número primo** es un número natural mayor que 1 que solo es divisible por 1 y por sí mismo.\n",
        "> Esto significa que no puede ser dividido exactamente por ningún otro número excepto 1 y él mismo.\n",
        "> Ejemplos de números primos son: 2, 3, 5, 7, 11, 13, etc.\n",
        "\n",
        "\n",
        "<center>\n",
        "\n",
        "![Imagen modificada de Drawio](https://raw.githubusercontent.com/diplomado-bigdata-machinelearning-udea/curso0/master/S03/img/Primo1.png)\n",
        "</center>\n",
        "\n",
        "Introduzca su respuesta en una celda de texto nuevo, con un título en negrilla indicando la palabra *Respuesta*.\n",
        "\n",
        "\n"
      ]
    },
    {
      "cell_type": "markdown",
      "source": [
        "####**Implementación en python: Determinación de números primos**\n",
        "\n",
        "En la siguiente línea de código se ilustra una de las formas para determinar si un número es primo o no."
      ],
      "metadata": {
        "id": "WJec-NfOTOLC"
      }
    },
    {
      "cell_type": "code",
      "source": [
        "from math import floor, ceil\n",
        "\n",
        "x = 7\n",
        "primo= 0\n",
        "prueba = 0\n",
        "\n",
        "print(f\"El iterador variará entre 2 y {floor(x/2)}\")\n",
        "for i in range(2,floor(x/2)+1):\n",
        "  prueba = x % i\n",
        "  print(f\"iterador {i}, prueba {prueba}\")\n",
        "  if prueba == 0:\n",
        "    primo = primo +1\n",
        "  print(f\"Valor de primo {primo}\")\n",
        "\n",
        "if primo == 0:\n",
        "  print(str(x)+ \" es primo\")\n",
        "else:\n",
        "  print(str(x)+\" no es primo\")"
      ],
      "metadata": {
        "colab": {
          "base_uri": "https://localhost:8080/"
        },
        "id": "RxVkAS_jTdcS",
        "outputId": "07e8f7de-d731-43bb-9048-934beb3fe79d"
      },
      "execution_count": null,
      "outputs": [
        {
          "output_type": "stream",
          "name": "stdout",
          "text": [
            "El iterador variará entre 2 y 3\n",
            "iterador 2, prueba 1\n",
            "Valor de primo 0\n",
            "iterador 3, prueba 1\n",
            "Valor de primo 0\n",
            "7 es primo\n"
          ]
        }
      ]
    },
    {
      "cell_type": "markdown",
      "source": [
        "### **¿Qué es una prueba de escritorio?**\n",
        "\n",
        "Una **prueba de escritorio** es una técnica utilizada para verificar la lógica y el correcto funcionamiento de un algoritmo o programa antes de implementarlo. Consiste en simular manualmente la ejecución paso a paso del código, utilizando valores de entrada específicos y registrando los resultados intermedios y finales en una tabla."
      ],
      "metadata": {
        "id": "Aiy3OS5vaASV"
      }
    },
    {
      "cell_type": "markdown",
      "source": [
        "#### **Objetivos de una prueba de escritorio:**\n",
        "- Identificar errores lógicos o de cálculo en el algoritmo.\n",
        "- Verificar que las salidas del programa son las esperadas.\n",
        "- Validar el flujo de control del programa (condiciones, ciclos, etc.)."
      ],
      "metadata": {
        "id": "8PpVxZ1IaaT-"
      }
    },
    {
      "cell_type": "markdown",
      "source": [
        "#### **Elementos de una prueba de escritorio:**\n",
        "1. **Valores de entrada**: Los datos iniciales que se utilizarán en la ejecución.\n",
        "2. **Variables**: Todas las variables relevantes para el programa, con sus valores intermedios.\n",
        "3. **Pasos del programa**: El seguimiento detallado de las instrucciones.\n",
        "4. **Salidas esperadas**: Los resultados obtenidos al finalizar la ejecución."
      ],
      "metadata": {
        "id": "MrkVLoHiagIq"
      }
    },
    {
      "cell_type": "markdown",
      "source": [
        "#### **Ejemplo de tabla para una prueba de escritorio:**\n",
        "| Paso | Instrucción | Variables (valores actuales) | Salida |\n",
        "|------|-------------|-----------------------------|--------|\n",
        "| 1    | Leer(n)     | n = 5                      |        |\n",
        "| 2    | primo = 0   | primo = 0                  |        |\n",
        "| ...  | ...         | ...                        | ...    |\n",
        "\n",
        "Este proceso ayuda a los desarrolladores a comprender y depurar el código en las etapas iniciales del desarrollo."
      ],
      "metadata": {
        "id": "OL4qHPZnardC"
      }
    },
    {
      "cell_type": "markdown",
      "metadata": {
        "id": "0CcpAxZ9O1e8"
      },
      "source": [
        "###**Ejercicio: Prueba de escritorio del algoritmo del valor promedio**\n",
        "\n",
        "Desarrolle una prueba de escritorio para el Pseudo-código de el promedio de una lista de números y compruebe el cálculo con la ayuda de el código de arriba.\n",
        "\n",
        "> **💡 Ayuda**\n",
        ">\n",
        "> Realice una lista con no más de 3 números, para comprobar el algoritmo."
      ]
    },
    {
      "cell_type": "markdown",
      "metadata": {
        "id": "NvZXllsDHg2G"
      },
      "source": [
        "## **Python: Variables y tipos**\n",
        "\n",
        "Python es un lenguaje orientado a objetos. Los objetos son entidades que tienen un determinado **estado**, **comportamiento** (método) e **identidad**. Los métodos (comportamiento) y atributos (estado) están estrechamente relacionados por la propiedad de conjunto. Esta propiedad destaca que una clase requiere de métodos para poder tratar los atributos con los que cuenta.\n"
      ]
    },
    {
      "cell_type": "markdown",
      "source": [
        "### **Variables en Python**\n",
        "Las variables son un tipo de objeto en Python. Los nombres de las variables en Python pueden contener caracteres alfanuméricos como *a-z*, *A-Z*, *0-9*, y algunos caracteres especiales como el guion bajo `_`. Sin embargo, **los nombres de las variables deben comenzar con una letra**.\n",
        "\n",
        "Por convención:\n",
        "- Los nombres de las variables comienzan con letras **minúsculas**.\n",
        "- Los nombres de las **Clases** comienzan con letras **mayúsculas**."
      ],
      "metadata": {
        "id": "qaGOvkS7drDe"
      }
    },
    {
      "cell_type": "markdown",
      "source": [
        "### **Palabras clave en Python**\n",
        "Existen ciertas palabras clave en Python que no pueden ser usadas como nombres de variables, ya que tienen un significado especial en el lenguaje. Estas palabras clave son:\n",
        "\n",
        "> `and, as, assert, break, class, continue, def, del, elif, else, except, exec, finally, for, from, global, if, import, in, is, lambda, not, or, pass, print, raise, return, try, while, with, yield`\n",
        "\n",
        "Es importante evitar el uso de estas palabras clave para no generar errores en el código."
      ],
      "metadata": {
        "id": "88FITXQOduLu"
      }
    },
    {
      "cell_type": "markdown",
      "metadata": {
        "id": "qjubmYQyUxeB"
      },
      "source": [
        "## **Asignación de una Variable**\n",
        "\n",
        "Python es un lenguaje que no requiere especificar el tipo de una variable al declararla; este tipo se interpreta automáticamente. A esto se le conoce como un **lenguaje de tipado dinámico**.\n",
        "\n",
        "Las variables se asignan utilizando el operador `=`, que **no debe ser confundido con** `==`. El primero asigna un valor a una variable, mientras que el segundo se utiliza para comparar dos valores y verificar si son iguales.\n",
        "\n",
        "> ⚠️ **Nota Importante**:\n",
        "> - **`=`**: Operador de asignación. Asigna un valor a una variable.\n",
        ">   - Ejemplo: `x = 10` (asigna el valor `10` a la variable `x`).\n",
        "> - **`==`**: Operador de comparación. Verifica si dos valores son iguales.\n",
        ">   - Ejemplo: `x == 10` (comprueba si el valor de `x` es igual a `10`).\n",
        "\n",
        "Veamos un ejemplo en código:\n",
        "\n",
        "```python\n",
        "# Operador de asignación\n",
        "x = 10  # Asigna el valor 10 a la variable x\n",
        "\n",
        "# Operador de comparación\n",
        "print(x == 10)  # Devuelve True porque x es igual a 10\n",
        "\n",
        "\n"
      ]
    },
    {
      "cell_type": "code",
      "metadata": {
        "id": "wT5LxDvAVpXg",
        "outputId": "f7d3cef2-97e8-4ae3-d196-8d2c84cf60d4",
        "colab": {
          "base_uri": "https://localhost:8080/"
        }
      },
      "source": [
        "# Asignaciones y comparación\n",
        "x= 2.2\n",
        "y = \"Buenos días planeta\"\n",
        "print(x)\n",
        "x == y"
      ],
      "execution_count": null,
      "outputs": [
        {
          "output_type": "stream",
          "name": "stdout",
          "text": [
            "2.2\n"
          ]
        },
        {
          "output_type": "execute_result",
          "data": {
            "text/plain": [
              "False"
            ]
          },
          "metadata": {},
          "execution_count": 23
        }
      ]
    },
    {
      "cell_type": "markdown",
      "metadata": {
        "id": "J0zNqbbvWCeo"
      },
      "source": [
        "Es posible consultar el tipo de variable con el comando `type`"
      ]
    },
    {
      "cell_type": "code",
      "metadata": {
        "id": "ZC7VNHXAWazz",
        "outputId": "040e2455-cbe5-4b12-a08c-8bbf2548c565",
        "colab": {
          "base_uri": "https://localhost:8080/",
          "height": 34
        }
      },
      "source": [
        "type(x)"
      ],
      "execution_count": null,
      "outputs": [
        {
          "output_type": "execute_result",
          "data": {
            "text/plain": [
              "float"
            ]
          },
          "metadata": {
            "tags": []
          },
          "execution_count": 5
        }
      ]
    },
    {
      "cell_type": "markdown",
      "metadata": {
        "id": "FPKV1_l_Wz3E"
      },
      "source": [
        "Dedicaremos una sección completa al concepto de *tipo* de una variable, debido a que es uno des los conceptos fundacionales en programación."
      ]
    },
    {
      "cell_type": "markdown",
      "metadata": {
        "id": "BsiM8sk-X3yX"
      },
      "source": [
        "## **Tipos de Variables en Python**\n",
        "\n",
        "Existen múltiples tipos de variables en Python. A medida que avances en el curso y el diplomado, probablemente encuentres otros tipos adicionales. Aquí tienes una lista ampliada de los tipos de datos más comunes:\n",
        "\n",
        "- **Entero** (`int`): Representa números enteros, como `1`, `42`, o `-7`.\n",
        "- **Punto flotante** (`float`): Representa números decimales, como `3.14`, `-0.5`, o `2.0`.\n",
        "- **Cadena de caracteres** o **String** (`str`): Representa texto, como `\"Hola\"` o `'Python'`.\n",
        "- **Complejo** (`complex`): Representa números complejos, como `3+4j`.\n",
        "- **Lista** (`list`): Representa colecciones ordenadas y modificables, como `[1, 2, 3]` o `['a', 'b', 'c']`.\n",
        "- **Tupla** (`tuple`): Representa colecciones ordenadas pero **inmutables**, como `(1, 2, 3)`.\n",
        "- **Conjunto** (`set`): Representa colecciones **no ordenadas** de elementos únicos, como `{1, 2, 3}`.\n",
        "- **Diccionario** (`dict`): Representa colecciones no ordenadas de pares clave-valor, como `{'clave': 'valor', 'edad': 25}`.\n",
        "- **Booleano** (`bool`): Representa valores lógicos, `True` o `False`.\n",
        "- **Rango** (`range`): Representa una secuencia inmutable de números, útil en bucles, como `range(0, 10)`.\n",
        "- **Bytes** (`bytes`): Representa datos binarios inmutables, como `b\"datos\"`.\n",
        "- **Bytearray** (`bytearray`): Similar a `bytes`, pero modificable.\n",
        "- **NoneType** (`None`): Representa la ausencia de valor o un valor nulo, como en `None`.\n"
      ]
    },
    {
      "cell_type": "markdown",
      "metadata": {
        "id": "DDEFPwQXUq9Q"
      },
      "source": [
        "### **Enteros**\n",
        "\n",
        "Un **entero** es cualquier número no complejo que no contenga un punto decimal (`.`). En Python, los números enteros se reconocen como tipo `int`.\n",
        "\n",
        "A partir de Python 3, los enteros pueden tener cualquier cantidad de dígitos, siempre y cuando puedan ser almacenados en la memoria disponible.\n"
      ]
    },
    {
      "cell_type": "code",
      "metadata": {
        "id": "b1ja6wsIaPSH",
        "outputId": "9dc00b95-b8f1-4540-ecd5-19a9c9709228",
        "colab": {
          "base_uri": "https://localhost:8080/",
          "height": 34
        }
      },
      "source": [
        "x = 2*10**50\n",
        "type(x)"
      ],
      "execution_count": null,
      "outputs": [
        {
          "output_type": "execute_result",
          "data": {
            "text/plain": [
              "int"
            ]
          },
          "metadata": {
            "tags": []
          },
          "execution_count": 6
        }
      ]
    },
    {
      "cell_type": "markdown",
      "source": [
        "#### **Tamaño en memoria de un entero**\n",
        "- El tamaño en bytes que ocupa un entero en Python depende de su valor:\n",
        "  - En general, Python utiliza un modelo dinámico, asignando más memoria según la magnitud del número.\n",
        "  - Un número entero pequeño (por ejemplo, 0 a 255) puede ocupar **28 bytes** en un sistema de 64 bits.\n",
        "  - Para cada incremento significativo de magnitud, Python agrega aproximadamente **4 bytes por bloque adicional**."
      ],
      "metadata": {
        "id": "-_r7QABelBMK"
      }
    },
    {
      "cell_type": "markdown",
      "source": [
        "\n",
        "#### **Cálculo de enteros posibles con un número de bytes**\n",
        "Para un número de bytes fijo, el rango de enteros posibles es:\n",
        "\n",
        "$$\n",
        "\\text{Rango} = -2^{(8 \\cdot \\text{bytes} - 1)} \\text{ a } 2^{(8 \\cdot \\text{bytes} - 1)} - 1\n",
        "$$\n",
        "\n",
        "Ejemplo con 4 bytes (32 bits):\n",
        "- Rango: $-2^{31} \\text{ a } 2^{31} - 1$.\n",
        "- Valor máximo: $2,147,483,647$.\n",
        "- Valor mínimo: $-2,147,483,648$.\n"
      ],
      "metadata": {
        "id": "24cMV4b7l6gR"
      }
    },
    {
      "cell_type": "code",
      "source": [
        "import sys\n",
        "\n",
        "# Tamaño en bytes de un entero pequeño\n",
        "entero = 42\n",
        "print(f\"El tamaño en memoria del entero {entero} es {sys.getsizeof(entero)} bytes.\")"
      ],
      "metadata": {
        "colab": {
          "base_uri": "https://localhost:8080/"
        },
        "id": "vBVpo7RamZCm",
        "outputId": "a5d3ab5a-6135-43fe-a99b-89df6f4e3e72"
      },
      "execution_count": null,
      "outputs": [
        {
          "output_type": "stream",
          "name": "stdout",
          "text": [
            "El tamaño en memoria del entero 42 es 28 bytes.\n"
          ]
        }
      ]
    },
    {
      "cell_type": "markdown",
      "metadata": {
        "id": "l3ArRJ_7c_MW"
      },
      "source": [
        "### **Punto Flotante**\n",
        "\n",
        "Los números de **punto flotante** son una forma de representar números reales muy grandes o muy pequeños, a menudo utilizando notación científica. Por ejemplo, $3.14 $, $ 1.2e-5 $ (equivalente a $ 1.2 \\times 10^{-5} $) o $ 6.02e23 $ (constante de Avogadro).\n",
        "\n",
        "En otros lenguajes de programación, como C, existen tipos como `float` (32 bits) y `double` (64 bits). La diferencia radica en la precisión y el rango de valores que pueden representar. Python, sin embargo, no tiene esta restricción. Cualquier número decimal o expresado en notación científica es clasificado como un `float`, y el límite está determinado por la memoria disponible en el sistema.\n",
        "\n",
        "\n"
      ]
    },
    {
      "cell_type": "code",
      "metadata": {
        "id": "seYLcJihfPn1",
        "outputId": "94145568-a248-4bb8-eb4d-423cbabd2b7a",
        "colab": {
          "base_uri": "https://localhost:8080/",
          "height": 34
        }
      },
      "source": [
        "ffloat =2.43\n",
        "sfloat = 2e50\n",
        "print(type(ffloat),type(sfloat))"
      ],
      "execution_count": null,
      "outputs": [
        {
          "output_type": "stream",
          "text": [
            "<class 'float'> <class 'float'>\n"
          ],
          "name": "stdout"
        }
      ]
    },
    {
      "cell_type": "markdown",
      "source": [
        "#### **Tamaño en memoria de un número flotante**\n",
        "En Python, el tamaño de un número de punto flotante está basado en el estándar IEEE 754 de 64 bits, por lo que un `float` ocupa **8 bytes** en memoria. Esto le da:\n",
        "- **Precisión**: 15 a 17 dígitos decimales significativos.\n",
        "- **Rango**: Aproximadamente de $-1.8 \\times 10^{308} $ a $ 1.8 \\times 10^{308}$."
      ],
      "metadata": {
        "id": "-gXjEWdGorOX"
      }
    },
    {
      "cell_type": "markdown",
      "source": [
        "#### **Cálculo de rango posible:**\n",
        "Un número flotante sigue la fórmula:\n",
        "\n",
        "$$\n",
        "\\text{Valor} = (-1)^s \\cdot 2^{e - 1023} \\cdot (1.m)\n",
        "$$\n",
        "\n",
        "Donde:\n",
        "- $s$: Es el bit de signo (positivo o negativo).\n",
        "- $e$: Es el exponente, representado en 11 bits (rango de $-1022$ a $1023$).\n",
        "- $m$: Es la mantisa, representada en 52 bits.\n",
        "\n",
        "Esto significa que los `float` pueden representar números con gran precisión dentro de este rango.\n",
        "\n",
        "> **📘 Definición:**\n",
        ">\n",
        "> La **mantisa** es la parte de un número en notación científica que contiene los dígitos significativos. En notación científica, un número se expresa como:\n",
        ">\n",
        "> $$\n",
        "> N = M \\times 10^E\n",
        "> $$\n",
        ">\n",
        "> Donde:\n",
        "> - $M$ es la **mantisa**, un número real que contiene los dígitos significativos.\n",
        "> - $E$ es el **exponente**, que indica la potencia a la que debe elevarse la base (10 en este caso).\n",
        ">\n",
        "> En computación, para números de **punto flotante** (según el estándar IEEE 754), la mantisa es la parte que guarda los bits significativos de la representación del número en binario. Esto determina la **precisión** del número en las operaciones de punto flotante.\n",
        ">\n",
        "> Ejemplo:\n",
        "> - En $6.02 \\times 10^{23}$, la mantisa es $6.02$.\n",
        "> - En $1.1001 \\times 2^1$ (binario), la mantisa es $1.1001$ pero solo se almacena $1001$ (sin el \"1\" implícito).\n"
      ],
      "metadata": {
        "id": "sM_6e6Axou3n"
      }
    },
    {
      "cell_type": "code",
      "source": [
        "# Tamaño en bytes de un número flotante\n",
        "flotante = 3.14159\n",
        "print(f\"El tamaño en memoria del número flotante {flotante} es {sys.getsizeof(flotante)} bytes.\")"
      ],
      "metadata": {
        "colab": {
          "base_uri": "https://localhost:8080/"
        },
        "id": "FMAlGWUeo0aR",
        "outputId": "24eefa11-49fa-49b5-edb0-0da2cdd52b55"
      },
      "execution_count": null,
      "outputs": [
        {
          "output_type": "stream",
          "name": "stdout",
          "text": [
            "El tamaño en memoria del número flotante 3.14159 es 24 bytes.\n"
          ]
        }
      ]
    },
    {
      "cell_type": "code",
      "source": [
        "# Precisión de un número flotante\n",
        "grande = 1.8e308\n",
        "pequeño = 1.8e-308\n",
        "print(f\"Un número flotante grande: {grande}\")\n",
        "print(f\"Un número flotante pequeño: {pequeño}\")"
      ],
      "metadata": {
        "colab": {
          "base_uri": "https://localhost:8080/"
        },
        "id": "IZuBlAmco2mR",
        "outputId": "d7143d88-9e99-4aac-f66b-878060b35b00"
      },
      "execution_count": null,
      "outputs": [
        {
          "output_type": "stream",
          "name": "stdout",
          "text": [
            "Un número flotante grande: inf\n",
            "Un número flotante pequeño: 1.8e-308\n"
          ]
        }
      ]
    },
    {
      "cell_type": "markdown",
      "metadata": {
        "id": "KZv0R81uoKfK"
      },
      "source": [
        "### **Números Complejos**\n",
        "\n",
        "Los números complejos son números de la forma:\n",
        "\n",
        "$$\n",
        "z = a + bi\n",
        "$$\n",
        "\n",
        "Donde:\n",
        "- $a$ es la **parte real** del número complejo.\n",
        "- $b$ es la **parte imaginaria** del número complejo.\n",
        "- $i$ es la unidad imaginaria, definida como $i^2 = -1$.\n",
        "\n",
        "En Python, los números complejos son soportados de forma nativa. En lugar de $i$, se utiliza la letra **`j`** para representar la unidad imaginaria.\n"
      ]
    },
    {
      "cell_type": "markdown",
      "source": [
        "#### **Características importantes de los números complejos en Python**\n",
        "1. **Representación**:\n",
        "   - Un número complejo se define como `a + bj`, donde:\n",
        "     - `a` y `b` son números reales (pueden ser enteros o flotantes).\n",
        "     - `j` representa la parte imaginaria.\n",
        "\n",
        "2. **Creación de números complejos**:\n",
        "   - Puedes crearlos directamente usando la sintaxis `a + bj`.\n",
        "   - También puedes usar la función `complex(real, imag)` para construirlos.\n",
        "\n",
        "3. **Operaciones soportadas**:\n",
        "   - **Suma**: $a + bi + (c + di) = (a + c) + (b + d)i$\n",
        "   - **Multiplicación**: $(a + bi) \\times (c + di) = (ac - bd) + (ad + bc)i$\n",
        "   - **Conjugado**: El conjugado de $a + bi$ es $a - bi$.\n",
        "\n",
        "> **⚠️ Nota importante:**\n",
        "> Aunque Python usa `j` para la unidad imaginaria, también permite que `j` sea el nombre de una variable. Evita sobrescribir el significado de `j` para prevenir confusiones en los cálculos."
      ],
      "metadata": {
        "id": "vkYuqe7rl87v"
      }
    },
    {
      "cell_type": "markdown",
      "source": [
        "#### **Propiedades de los números complejos en Python**\n",
        "- Cada número complejo tiene las propiedades:\n",
        "  - `.real`: Devuelve la parte real.\n",
        "  - `.imag`: Devuelve la parte imaginaria.\n",
        "  - `.conjugate()`: Devuelve el conjugado del número complejo."
      ],
      "metadata": {
        "id": "bOrzr0dpmGxJ"
      }
    },
    {
      "cell_type": "code",
      "source": [
        "# Crear números complejos\n",
        "z1 = 3 + 4j\n",
        "z2 = complex(2, -1)"
      ],
      "metadata": {
        "id": "ESys2KZpmar1"
      },
      "execution_count": null,
      "outputs": []
    },
    {
      "cell_type": "code",
      "source": [
        "# Operaciones básicas\n",
        "suma = z1 + z2  # (3+4j) + (2-1j) = 5+3j\n",
        "producto = z1 * z2  # (3+4j) * (2-1j) = 10+5j\n",
        "conjugado = z1.conjugate()  # Conjugado de 3+4j = 3-4j"
      ],
      "metadata": {
        "id": "0CyrH3Elmddz"
      },
      "execution_count": null,
      "outputs": []
    },
    {
      "cell_type": "code",
      "source": [
        "# Propiedades\n",
        "print(f\"Parte real de z1: {z1.real}\")\n",
        "print(f\"Parte imaginaria de z1: {z1.imag}\")"
      ],
      "metadata": {
        "id": "Qu9kr8oGmiyk"
      },
      "execution_count": null,
      "outputs": []
    },
    {
      "cell_type": "markdown",
      "metadata": {
        "id": "e5n7VDdniOw2"
      },
      "source": [
        "### **Strings**\n",
        "\n",
        "Las **cadenas** o **strings** en Python son secuencias de caracteres que se utilizan para representar texto. Pueden definirse usando **comillas dobles** (`\" \"`) o **comillas simples** (`' '`)."
      ]
    },
    {
      "cell_type": "markdown",
      "source": [
        "#### **Diferencia entre comillas dobles y simples**\n",
        "Ambas opciones funcionan de manera similar, pero hay un detalle práctico a tener en cuenta:\n",
        "\n",
        "> **⚠️ Nota importante:**\n",
        "> Si usas **comillas dobles** (`\" \"`), es más fácil incluir apóstrofes (`'`) dentro de la cadena sin necesidad de escapar los caracteres.\n",
        "> - Ejemplo:\n",
        ">   - `\"I'm learning Python\"` es válido.\n",
        ">   - `'I'm learning Python'` generará un error debido al apóstrofe no escapado.\n",
        "\n"
      ],
      "metadata": {
        "id": "BT_gNWvFnFUB"
      }
    },
    {
      "cell_type": "markdown",
      "source": [
        "#### **Concatenación y repetición**\n",
        "Los strings permiten varias operaciones como:\n",
        "- **Concatenación**: Combinar dos o más cadenas utilizando el operador `+`.\n",
        "- **Repetición**: Repetir una cadena utilizando el operador `*`."
      ],
      "metadata": {
        "id": "SJT56yC3nOUE"
      }
    },
    {
      "cell_type": "markdown",
      "source": [
        "#### **Propiedades de los strings**\n",
        "- Inmutables: Una vez creados, no pueden modificarse.\n",
        "- Indexables: Puedes acceder a caracteres individuales usando índices.\n",
        "- Iterables: Puedes recorrer cada carácter con un bucle."
      ],
      "metadata": {
        "id": "KW9llEvxnRlK"
      }
    },
    {
      "cell_type": "code",
      "metadata": {
        "id": "MiU64iSmjs2_",
        "outputId": "774199c5-542d-497c-c793-4ff8e839b8d1",
        "colab": {
          "base_uri": "https://localhost:8080/",
          "height": 34
        }
      },
      "source": [
        "# Uso de comillas dobles y simples\n",
        "cadena1 = \"Hola, soy un string.\"\n",
        "cadena2 = 'Python es increíble.'\n",
        "\n",
        "print(cadena1)\n",
        "print(cadena2)"
      ],
      "execution_count": null,
      "outputs": [
        {
          "output_type": "execute_result",
          "data": {
            "text/plain": [
              "\" You should's care about apostrofes\""
            ]
          },
          "metadata": {
            "tags": []
          },
          "execution_count": 9
        }
      ]
    },
    {
      "cell_type": "code",
      "source": [
        "# Uso de apóstrofes con comillas dobles\n",
        "cadena3 = \"I'm learning Python.\""
      ],
      "metadata": {
        "id": "uEFYO87FnqY-"
      },
      "execution_count": null,
      "outputs": []
    },
    {
      "cell_type": "code",
      "source": [
        "# Concatenación\n",
        "cadena4 = cadena1 + \" \" + cadena2  # \"Hola, soy un string. Python es increíble.\""
      ],
      "metadata": {
        "id": "EukKa20Dn9JP"
      },
      "execution_count": null,
      "outputs": []
    },
    {
      "cell_type": "code",
      "source": [
        "# Repetición\n",
        "cadena5 = \"Python! \" * 3  # \"Python! Python! Python!\""
      ],
      "metadata": {
        "id": "d0ZMH4pnn-c4"
      },
      "execution_count": null,
      "outputs": []
    },
    {
      "cell_type": "code",
      "source": [
        "# Indexación\n",
        "letra = cadena1[0]  # 'H' (el primer carácter de cadena1)"
      ],
      "metadata": {
        "id": "Ikb5pvq1oBsF"
      },
      "execution_count": null,
      "outputs": []
    },
    {
      "cell_type": "code",
      "source": [
        "# Iteración\n",
        "for c in cadena2:\n",
        "    print(c)"
      ],
      "metadata": {
        "id": "7JNpI4uhoDsg"
      },
      "execution_count": null,
      "outputs": []
    },
    {
      "cell_type": "markdown",
      "metadata": {
        "id": "def_lz-gKPiw"
      },
      "source": [
        "### **Lista**\n",
        "\n",
        "Una **lista** en Python puede entenderse como una colección de elementos ordenados, donde cada elemento puede ser de cualquier tipo: enteros, flotantes, cadenas de texto, otras listas, e incluso una combinación de tipos diferentes. Python las reconoce con el tipo `list`.\n",
        "\n",
        "Las listas son:\n",
        "- **Heterogéneas**: Pueden contener elementos de tipos diferentes.\n",
        "- **Mutables**: Pueden modificarse después de ser creadas (agregar, eliminar o cambiar elementos).\n",
        "- **Indexadas**: Cada elemento tiene un índice basado en su posición en la lista, comenzando desde `0`.\n"
      ]
    },
    {
      "cell_type": "markdown",
      "source": [
        "#### **Métodos comunes de listas**\n",
        "- `append(x)`: Agrega un elemento al final de la lista.\n",
        "- `extend(iterable)`: Extiende la lista con los elementos de un iterable.\n",
        "- `insert(i, x)`: Inserta un elemento en una posición específica.\n",
        "- `remove(x)`: Elimina la primera aparición de un valor.\n",
        "- `pop([i])`: Elimina y devuelve un elemento en una posición dada (por defecto, el último).\n",
        "- `sort():` Ordena los elementos de la lista (en su lugar).\n",
        "- `reverse()`: Invierte el orden de los elementos.\n"
      ],
      "metadata": {
        "id": "NVGAx0JarTMK"
      }
    },
    {
      "cell_type": "code",
      "source": [
        "# Crear una lista de strings\n",
        "l = [\"Esta\", \"es\", \"una\", \"lista\", \"de\", \"strings\"]\n",
        "spc = \" \"\n",
        "print(l[0] + spc + l[1] + spc + l[2] + spc + l[3] + spc + l[4] + spc + l[5])\n",
        "\n",
        "# Modificar la lista\n",
        "l.append(\"nueva\")\n",
        "print(l)  # [\"Esta\", \"es\", \"una\", \"lista\", \"de\", \"strings\", \"nueva\"]\n",
        "\n",
        "# Ordenar una lista de enteros\n",
        "numeros = [3, 1, 4, 1, 5]\n",
        "numeros.sort()\n",
        "print(numeros)  # [1, 1, 3, 4, 5]"
      ],
      "metadata": {
        "id": "mcZIQk7jr8Cm"
      },
      "execution_count": null,
      "outputs": []
    },
    {
      "cell_type": "markdown",
      "source": [
        "#### **Creación de listas**\n",
        "Puedes crear listas usando corchetes `[]` o la función `list()`. Los elementos se separan con comas."
      ],
      "metadata": {
        "id": "7fg41_nRpSaZ"
      }
    },
    {
      "cell_type": "code",
      "source": [
        "# Ejemplos de listas\n",
        "lista_vacia = []  # Lista vacía\n",
        "lista_enteros = [1, 2, 3, 4]\n",
        "lista_mixta = [1, \"dos\", 3.0, [4, 5]]"
      ],
      "metadata": {
        "id": "Bm8RzXUTpR4R"
      },
      "execution_count": null,
      "outputs": []
    },
    {
      "cell_type": "code",
      "metadata": {
        "id": "4AS2s5vCKgl8",
        "outputId": "9fa20495-740c-4639-c6f8-8fc9a700828c",
        "colab": {
          "base_uri": "https://localhost:8080/",
          "height": 34
        }
      },
      "source": [
        "l = [\"Esta\", \"es\",\"una\", \"lista\" , \"de\" , \"strings\"]\n",
        "spc= \" \"\n",
        "print(l[0]+spc+l[1]+spc+l[2]+spc+l[3]+spc+l[4]+spc+l[5])"
      ],
      "execution_count": null,
      "outputs": [
        {
          "output_type": "stream",
          "text": [
            "Esta es una lista de strings\n"
          ],
          "name": "stdout"
        }
      ]
    },
    {
      "cell_type": "markdown",
      "metadata": {
        "id": "oCyjuo-HgE15"
      },
      "source": [
        "No quiere decir que no existan otros tipos de variables y que estas no sean recurrentes, siempre al escribir un código es bueno, de no tener claro qué tipo de variable es una u otra dependiendo de las librerías usadas, ver qué es lo que se está llamando"
      ]
    },
    {
      "cell_type": "markdown",
      "source": [
        "#### **Acceso a elementos**\n",
        "\n",
        "Los elementos de una lista pueden accederse mediante sus índices, y también puedes usar índices negativos para acceder desde el final."
      ],
      "metadata": {
        "id": "w5OdNTBgpb_J"
      }
    },
    {
      "cell_type": "code",
      "source": [
        "mi_lista = [\"Python\", \"es\", \"genial\"]\n",
        "\n",
        "print(mi_lista[0])  # \"Python\" (primer elemento)\n",
        "print(mi_lista[-1])  # \"genial\" (último elemento)"
      ],
      "metadata": {
        "id": "Y8l9RPTapnNF"
      },
      "execution_count": null,
      "outputs": []
    },
    {
      "cell_type": "markdown",
      "source": [
        "#### Modificación de listas\n",
        "\n",
        "Las listas son mutables, lo que significa que puedes cambiar sus elementos, agregar nuevos o eliminarlos."
      ],
      "metadata": {
        "id": "lyfFaG5tpqjO"
      }
    },
    {
      "cell_type": "code",
      "source": [
        "#Declaración de la lista\n",
        "mi_lista = [1, 2, 3]"
      ],
      "metadata": {
        "id": "87EeTK6fqi6k"
      },
      "execution_count": null,
      "outputs": []
    },
    {
      "cell_type": "code",
      "source": [
        "# Cambiar un elemento\n",
        "mi_lista[1] = 20  # Ahora es [1, 20, 3]"
      ],
      "metadata": {
        "id": "fUj8iEX8qqII"
      },
      "execution_count": null,
      "outputs": []
    },
    {
      "cell_type": "code",
      "source": [
        "# Agregar elementos\n",
        "mi_lista.append(4)  # [1, 20, 3, 4]"
      ],
      "metadata": {
        "id": "yrx0cDsYqr3C"
      },
      "execution_count": null,
      "outputs": []
    },
    {
      "cell_type": "code",
      "source": [
        "# Eliminar un elemento\n",
        "del mi_lista[0]  # [20, 3, 4]"
      ],
      "metadata": {
        "id": "bUdNy97JqtsI"
      },
      "execution_count": null,
      "outputs": []
    },
    {
      "cell_type": "markdown",
      "source": [
        "#### **Operaciones comunes con listas**\n",
        "Python ofrece muchas funciones útiles para trabajar con listas:\n",
        "\n",
        "- Concatenación: Combinar listas usando `+`.\n",
        "- Repetición: Repetir elementos de una lista con `*`.\n",
        "- Longitud: Obtener el número de elementos usando `len()`."
      ],
      "metadata": {
        "id": "xSV28tliq2LL"
      }
    },
    {
      "cell_type": "code",
      "source": [
        "l1 = [1, 2]\n",
        "l2 = [3, 4]\n",
        "print(l1 + l2)  # [1, 2, 3, 4]\n",
        "print(l1 * 2)  # [1, 2, 1, 2]\n",
        "print(len(l1))  # 2"
      ],
      "metadata": {
        "id": "ILXFL7KerNXa"
      },
      "execution_count": null,
      "outputs": []
    },
    {
      "cell_type": "markdown",
      "metadata": {
        "id": "e63SXvZqRAmR"
      },
      "source": [
        "### **Boleanos**\n",
        "\n",
        "Una variable de tipo Booleano puede ser bien o `True` ó `False`.\n",
        "El ágebra booleana basa en las operaciones `and` `or` y `not` aunque también existen operadores compartidos de el álgebra entre números como los enteros y floats tales como `==` identicamente igual  y `!=`diferente. Es mejor pensar en estas variables"
      ]
    },
    {
      "cell_type": "code",
      "metadata": {
        "id": "QrUe0vXYRmRw",
        "outputId": "9104d069-46ce-40dc-dd8e-a8ff407e0a9a",
        "colab": {
          "base_uri": "https://localhost:8080/",
          "height": 34
        }
      },
      "source": [
        "t = True\n",
        "f = False\n",
        "nf = not f\n",
        "nt = not t\n",
        "t == nf\n",
        "t != f"
      ],
      "execution_count": null,
      "outputs": [
        {
          "output_type": "execute_result",
          "data": {
            "text/plain": [
              "True"
            ]
          },
          "metadata": {
            "tags": []
          },
          "execution_count": 11
        }
      ]
    },
    {
      "cell_type": "markdown",
      "metadata": {
        "id": "boGDTSYXE6Vq"
      },
      "source": [
        "### **Ejercicios de Variables y tipos**"
      ]
    },
    {
      "cell_type": "code",
      "metadata": {
        "id": "E2oyzptlHLTa"
      },
      "source": [],
      "execution_count": null,
      "outputs": []
    },
    {
      "cell_type": "markdown",
      "metadata": {
        "id": "UWqRF8SkHLml"
      },
      "source": [
        "2. En la ventana de código de abajo hallará un programa pequeño que permite saber si una variable es entero o no. Debajo de el comentario que dice \"Su código va acá abajo\" declare una variable llamada entero y verifique si es un `int` con ayuda del programa. Como reto intente copiar este programa en la entrada de abajo pero modifíquelo para que seaun `float`."
      ]
    },
    {
      "cell_type": "code",
      "metadata": {
        "id": "l30zNEG1Rs1j",
        "outputId": "a158ab0d-65a1-4d0a-a96a-2d6816a54cf1",
        "colab": {
          "base_uri": "https://localhost:8080/",
          "height": 54
        }
      },
      "source": [
        "#Su código va acá abajo\n",
        "\n",
        "\n",
        "#La parte de abajo (quite las comillas)\n",
        "\"\"\"\n",
        "if type(entero) == int:\n",
        "  print(\"el valor de el entero es \"+ str(entero))\n",
        "else :\n",
        "  print(\"su entero no es un entero\")\n",
        "\"\"\""
      ],
      "execution_count": null,
      "outputs": [
        {
          "output_type": "execute_result",
          "data": {
            "text/plain": [
              "'\\nif type(entero) == int:\\n  print(\"el valor de el entero es \"+ str(entero))\\nelse :\\n  print(\"su entero no es un entero\")\\n'"
            ]
          },
          "metadata": {
            "tags": []
          },
          "execution_count": 13
        }
      ]
    },
    {
      "cell_type": "code",
      "metadata": {
        "id": "6LyTgcTrIEVJ"
      },
      "source": [],
      "execution_count": null,
      "outputs": []
    },
    {
      "cell_type": "markdown",
      "metadata": {
        "id": "4J77fb_bnrst"
      },
      "source": [
        "\n",
        "# Python: Operadores\n",
        "\n",
        "Los operadores hacen referencia a las expresiones que pueden manipular el valor de datos o indicar como se deben manipular a los que se conocen como operandos. En el lenguaje Python podemos encontrar siguientes tipos de operadores:\n",
        "\n",
        "* Operadores aritméticos\n",
        "* Operadores de asignación\n",
        "* Operadores de comparación (relacionales)\n",
        "* Operadores lógicos\n",
        "* Operadores de identidad y pertenencia\n",
        "* Operadores de Bitwise\n"
      ]
    },
    {
      "cell_type": "markdown",
      "metadata": {
        "id": "TER9-3dAvXyx"
      },
      "source": [
        "## Operadores aritméticos\n",
        "\n",
        "Este tipo de operadores permite ejecutar operaciones aritméticas entre operandos.\n",
        "\n",
        "<font face=\"Verdana\">\n",
        "\n",
        "|Operador|Descripción|Ejemplo|\n",
        "|-|-|-|\n",
        "|+|Suma los operandos| var1 + var2|\n",
        "|-|Resta los operandos| var1 - var2|\n",
        "|*|Multiplica los operandos| var1*var2|\n",
        "|/|Divide los operandos| var1/var2|\n",
        "|%|Halla el módulo entre los operandos| var1%var2|\n",
        "|**|Realiza cálculos de potencia entre los operandosrecho| var1**var2|\n",
        "|//|Divide de forma entera  los operandos| var1//var2|\n"
      ]
    },
    {
      "cell_type": "code",
      "metadata": {
        "id": "WJTfxkSvwk9R",
        "outputId": "59676e8c-aa1f-4712-91fe-2f8c84e640a5",
        "colab": {
          "base_uri": "https://localhost:8080/",
          "height": 175
        }
      },
      "source": [
        "var1 = 5\n",
        "var2 = 2\n",
        "print(\"El valor de var1 es \",var1)\n",
        "print(\"El valor de var2 es \",var2)\n",
        "print(\"var1 + var2 = \",var1 + var2)\n",
        "print(\"var1 - var2 =\",var1 - var2)\n",
        "print(\"var1 * var2 =\",var1 * var2)\n",
        "print(\"var1 / var2 =\",var1 / var2)\n",
        "print(\"var1 % var2 =\",var1 % var2)\n",
        "print(\"var1 ** var2 =\",var1 ** var2)\n",
        "print(\"var1 // var2 =\",var1 // var2)"
      ],
      "execution_count": null,
      "outputs": [
        {
          "output_type": "stream",
          "text": [
            "El valor de var1 es  5\n",
            "El valor de var2 es  2\n",
            "var1 + var2 =  7\n",
            "var1 - var2 = 3\n",
            "var1 * var2 = 10\n",
            "var1 / var2 = 2.5\n",
            "var1 % var2 = 1\n",
            "var1 ** var2 = 25\n",
            "var1 // var2 = 2\n"
          ],
          "name": "stdout"
        }
      ]
    },
    {
      "cell_type": "markdown",
      "metadata": {
        "id": "0gCj_1bdx74A"
      },
      "source": [
        "El orden normal de operaciones es el mismo usado en matemáticas:\n",
        "\n",
        "1. Paréntesis\n",
        "2. Exponente\n",
        "3. Multiplicación, División\n",
        "4. Suma, Resta"
      ]
    },
    {
      "cell_type": "code",
      "metadata": {
        "id": "6NKDMM6BySyd",
        "outputId": "eb690cbe-aea3-4458-a7c5-d6248b68baf9",
        "colab": {
          "base_uri": "https://localhost:8080/",
          "height": 52
        }
      },
      "source": [
        "print(12**1/12)\n",
        "print(12**(1/12))"
      ],
      "execution_count": null,
      "outputs": [
        {
          "output_type": "stream",
          "text": [
            "1.0\n",
            "1.2300755055779713\n"
          ],
          "name": "stdout"
        }
      ]
    },
    {
      "cell_type": "markdown",
      "metadata": {
        "id": "NlWayVYpnyZy"
      },
      "source": [
        "## Operadores de asignación\n",
        "\n",
        "Este tipo de operadores permite la asignación entre operandos y son básicamente variaciones del operador \"=\"\n",
        "\n",
        "<font face=\"Verdana\">\n",
        "\n",
        "|Operador|Descripción|Ejemplo|\n",
        "|-|-|-|\n",
        "|=|Asigna al operando izquierdo el valor del operando derecho| var = 5 + 4|\n",
        "|+=|Suma al operando izquierdo el valor del operando derecho| var += 5|\n",
        "|-=|Resta al operando izquierdo el valor del operando derecho| var -= 5|\n",
        "|*=|Multiplica el operando izquierdo con el valor del operando derecho| var *= 5|\n",
        "|/=|Divide el operando izquierdo con el valor del operando derecho| var /= 5|\n",
        "|**=|Eleva al operando izquierdo al valor del operando derecho| var **= 5|\n",
        "|//=|Divide en forma entera al operando izquierdo con el valor del operando derecho| c //= 5|\n",
        "|%=|Calcula el módulo entre el operando izquierdo y el derecho operando derecho| var %= 5|\n"
      ]
    },
    {
      "cell_type": "code",
      "metadata": {
        "id": "5ATKxrRGpu8D",
        "outputId": "90ffe0c8-27b7-4a38-9b0d-18ae983a0376",
        "colab": {
          "base_uri": "https://localhost:8080/",
          "height": 158
        }
      },
      "source": [
        "var = 5 + 4\n",
        "print(\"El valor inicial de var es \",var)\n",
        "var +=5\n",
        "print(\"El valor aumentado de var es \",var)\n",
        "var -=5\n",
        "print(\"El valor aumentado de var es \",var)\n",
        "var *=5\n",
        "print(\"El valor aumentado de var es \",var)\n",
        "var /=5\n",
        "print(\"El valor aumentado de var es \",var)\n",
        "var **=5\n",
        "print(\"El valor aumentado de var es \",var)\n",
        "var //=5\n",
        "print(\"El valor aumentado de var es \",var)\n",
        "var %=5\n",
        "print(\"El valor aumentado de var es \",var)"
      ],
      "execution_count": null,
      "outputs": [
        {
          "output_type": "stream",
          "text": [
            "El valor inicial de var es  9\n",
            "El valor aumentado de var es  14\n",
            "El valor aumentado de var es  9\n",
            "El valor aumentado de var es  45\n",
            "El valor aumentado de var es  9.0\n",
            "El valor aumentado de var es  59049.0\n",
            "El valor aumentado de var es  11809.0\n",
            "El valor aumentado de var es  4.0\n"
          ],
          "name": "stdout"
        }
      ]
    },
    {
      "cell_type": "markdown",
      "metadata": {
        "id": "p9NQxwcpywIS"
      },
      "source": [
        "## Operadores relacionales\n",
        "\n",
        "Este tipo de operadores permite comparar entre operandos y su resultado siempre es una variable booleana.\n",
        "\n",
        "<font face=\"Verdana\">\n",
        "\n",
        "|Operador|Descripción|Ejemplo|\n",
        "|-|-|-|\n",
        "|==|Evalua si los valores de los operandos sean iguales| var1 == var2|\n",
        "|!=|Evalua si los valores de los operandos sean diferentes| var1 != var2|\n",
        "|>|Evalua si el valor de operando de la izquierda es mayor que el de la derecha| var1 > var2|\n",
        "|<|Evalua si el valor de operando de la izquierda es menor que el de la derecha| var1 > var2|\n",
        "|>=|Evalua si el valor de operando de la izquierda es mayor o igual que el de la derecha| var1 >= var2|\n",
        "|<=|Evalua si el valor de operando de la izquierda es menor o igual que el de la derecha| var1 <= var2|\n"
      ]
    },
    {
      "cell_type": "code",
      "metadata": {
        "id": "nEJ3n7QHz4WV",
        "outputId": "14a87ed5-de53-4ef4-c6aa-7161680949cf",
        "colab": {
          "base_uri": "https://localhost:8080/",
          "height": 158
        }
      },
      "source": [
        "var1 = 6.7\n",
        "var2 = -2.6\n",
        "print(\"El valor de var1 es \",var1)\n",
        "print(\"El valor de var2 es \",var2)\n",
        "print(\"var1 == var2? \",var1 == var2)\n",
        "print(\"var1 != var2?\",var1 != var2)\n",
        "print(\"var1 > var2?\",var1 > var2)\n",
        "print(\"var1 < var2?\",var1 < var2)\n",
        "print(\"var1 >= var2?\",var1 >= var2)\n",
        "print(\"var1 <= var2?\",var1 <= var2)"
      ],
      "execution_count": null,
      "outputs": [
        {
          "output_type": "stream",
          "text": [
            "El valor de var1 es  6.7\n",
            "El valor de var2 es  -2.6\n",
            "var1 == var2?  False\n",
            "var1 != var2? True\n",
            "var1 > var2? True\n",
            "var1 < var2? False\n",
            "var1 >= var2? True\n",
            "var1 <= var2? False\n"
          ],
          "name": "stdout"
        }
      ]
    },
    {
      "cell_type": "markdown",
      "metadata": {
        "id": "roB6AJgQGn5I"
      },
      "source": [
        "## Operadores lógicos\n",
        "\n",
        "Este tipo de operadores permite comparar sentencias entre operandos y su resultado siempre es una variable booleana.\n",
        "\n",
        "<font face=\"Verdana\">\n",
        "\n",
        "|Operador|Descripción|Ejemplo|\n",
        "|-|-|-|\n",
        "|and|Evalua los operandos y sólo es verdadero cuando ambos son verdaderos| var1 and var2|\n",
        "|or|Evalua los operandos y sólo es falso cuando ambos son falsos| var1 or var2|\n",
        "|not|Negación del operando| not var1|\n"
      ]
    },
    {
      "cell_type": "code",
      "metadata": {
        "id": "xmovJnOvI4kW",
        "outputId": "f38d32a7-6f7f-4519-909f-4389fcf0c1db",
        "colab": {
          "base_uri": "https://localhost:8080/",
          "height": 105
        }
      },
      "source": [
        "value = 5.0\n",
        "var1 = value%1 == 0\n",
        "var2 = 0 <= value < 10\n",
        "var3 = value%2 != 0\n",
        "print('¿Es un entero?', var1)\n",
        "print('¿Está entre [0,10)?',var2)\n",
        "print('¿No es divisible por 2?',var3)\n",
        "print('¿Es un digito?', var1 and var2)\n",
        "print('¿No es par?', not var1 or not var2)"
      ],
      "execution_count": null,
      "outputs": [
        {
          "output_type": "stream",
          "text": [
            "¿Es un entero? True\n",
            "¿Está entre [0,10)? True\n",
            "¿No es divisible por 2? True\n",
            "¿Es un digito? True\n",
            "¿No es par? False\n"
          ],
          "name": "stdout"
        }
      ]
    },
    {
      "cell_type": "markdown",
      "metadata": {
        "id": "reLJGvlLz341"
      },
      "source": [
        "## Operadores de identidad y pertenencia\n",
        "\n",
        "Este tipo de operadores permite comparar entre direcciones de operandos y su contenido, su resultado siempre es una variable booleana.\n",
        "\n",
        "<font face=\"Verdana\">\n",
        "\n",
        "|Operador|Descripción|Ejemplo|\n",
        "|-|-|-|\n",
        "|is|Evalua si las direcciones de los operandos son iguales| var1 is var2|\n",
        "|is not|Evalua si las direcciones de los operandos son iguales| var1 is not var2|\n",
        "|in|Evalua si un valor está contenido (o pertenece) en otro| var1 in var2|\n",
        "|not in|Evalua si un valor no está contenido (o pertenece) en otro| var1 not in var2|\n"
      ]
    },
    {
      "cell_type": "code",
      "metadata": {
        "id": "Eh9sUWiwFc9P",
        "outputId": "d946a691-ff6c-4792-d835-ee7bf2f0e381",
        "colab": {
          "base_uri": "https://localhost:8080/",
          "height": 87
        }
      },
      "source": [
        "var1 = [1,2]\n",
        "var2 = [1,2]\n",
        "var3 = 1\n",
        "print('var1 is var2?',var1 is var2)\n",
        "print('var1 is not var2?',var1 is not var2)\n",
        "print('var3 in var2?',var3 in var2)\n",
        "print('var3 not in var1?',var3 not in var1)"
      ],
      "execution_count": null,
      "outputs": [
        {
          "output_type": "stream",
          "text": [
            "var1 is var2? False\n",
            "var1 is not var2? True\n",
            "var3 in var2? True\n",
            "var3 not in var1? False\n"
          ],
          "name": "stdout"
        }
      ]
    },
    {
      "cell_type": "markdown",
      "metadata": {
        "id": "DRBN5sbDMaf_"
      },
      "source": [
        "## Operadores bitáticos (bitwise)\n",
        "\n",
        "Los operadores realizan operaciones bit a bit. Los operandos se consideran como dígitos binarios sobre los que se realizan operaciones bit a bit.\n",
        "\n",
        "<font face=\"Verdana\">\n",
        "\n",
        "|Operador|Descripción|Ejemplo|\n",
        "|-|-|-|\n",
        "|&|Evalua bit a bit de los operandos y es 1 cuando ambos bits son 1| var1 & var2|\n",
        "| \\| |Evalua bit a bit de los operandos y es 0 cuando ambos bits son 0| var1 \\| var2|\n",
        "|^|Evalua bit a bit de los operandos y es 0 cuando ambos bits son 1 o  0| var1 ^ var2|\n",
        "|~|Regresa el complemento de a uno de un número. También funciona como una negación| ~var1|\n",
        "\n"
      ]
    },
    {
      "cell_type": "code",
      "metadata": {
        "id": "Z6mlZUT1HR2m",
        "outputId": "5a171227-b71a-4307-810e-3056ec9b365e",
        "colab": {
          "base_uri": "https://localhost:8080/",
          "height": 492
        }
      },
      "source": [
        "def bin_fancy(val):\n",
        "\n",
        "  bin_val = bin(val)[2:] if val>=0 else '-' + bin(val)[3:]\n",
        "  space = '  '\n",
        "  return space.join(bin_val)\n",
        "\n",
        "print('AND \\n')\n",
        "var1 = 8\n",
        "print(bin_fancy(var1))\n",
        "var2 = 13\n",
        "print(bin_fancy(var2))\n",
        "print('-'*len(bin_fancy(var2)))\n",
        "print(bin_fancy(var1 & var2))\n",
        "\n",
        "print('\\nOR \\n')\n",
        "\n",
        "print(bin_fancy(var1))\n",
        "print(bin_fancy(var2))\n",
        "print('-'*len(bin_fancy(var2)))\n",
        "print(bin_fancy(var1 | var2))\n",
        "\n",
        "print('\\nXOR \\n')\n",
        "\n",
        "print(bin_fancy(var1))\n",
        "print(bin_fancy(var2))\n",
        "print('-'*len(bin_fancy(var2)))\n",
        "print(bin_fancy(var1 ^ var2))\n",
        "\n",
        "print('\\nNOT \\n')\n",
        "\n",
        "print('~ ' + bin_fancy(var1))\n",
        "print(\"- (\" + bin_fancy(var1) + ') - (1) ')\n",
        "print('--'*len(bin_fancy(var2)))\n",
        "print(bin_fancy(~var1))\n"
      ],
      "execution_count": null,
      "outputs": [
        {
          "output_type": "stream",
          "text": [
            "AND \n",
            "\n",
            "1  0  0  0\n",
            "1  1  0  1\n",
            "----------\n",
            "1  0  0  0\n",
            "\n",
            "OR \n",
            "\n",
            "1  0  0  0\n",
            "1  1  0  1\n",
            "----------\n",
            "1  1  0  1\n",
            "\n",
            "XOR \n",
            "\n",
            "1  0  0  0\n",
            "1  1  0  1\n",
            "----------\n",
            "1  0  1\n",
            "\n",
            "NOT \n",
            "\n",
            "~ 1  0  0  0\n",
            "- (1  0  0  0) - (1) \n",
            "--------------------\n",
            "-  1  0  0  1\n"
          ],
          "name": "stdout"
        }
      ]
    },
    {
      "cell_type": "code",
      "metadata": {
        "id": "eK7SOBgcM69V",
        "outputId": "8fe0cb00-c698-4294-a2c9-9b4cda4552f2",
        "colab": {
          "base_uri": "https://localhost:8080/",
          "height": 87
        }
      },
      "source": [
        "import numpy as np\n",
        "\n",
        "lista = np.array([2,8,4,5,9,7,1,0,7,4,2,3])\n",
        "print(\"Lista completa: \",lista)\n",
        "print(\"Lista mayores de 3: \",lista[lista > 3])\n",
        "#Un error\n",
        "#print(lista[8 > lista > 3])\n",
        "#print(lista[ (8 > lista) and  (lista > 3)])\n",
        "print(\"Lista valores en (3,8): \",lista[ (8 > lista) & (lista > 3)])\n",
        "print(\"Lista menores o iguales de 3: \",lista[~(lista > 3)])"
      ],
      "execution_count": null,
      "outputs": [
        {
          "output_type": "stream",
          "text": [
            "Lista completa:  [2 8 4 5 9 7 1 0 7 4 2 3]\n",
            "Lista mayores de 3:  [8 4 5 9 7 7 4]\n",
            "Lista valores en (3,8):  [4 5 7 7 4]\n",
            "Lista menores o iguales de 3:  [2 1 0 2 3]\n"
          ],
          "name": "stdout"
        }
      ]
    },
    {
      "cell_type": "markdown",
      "metadata": {
        "id": "KpL9PdlPXbAR"
      },
      "source": [
        "## Ejercicios con operadores\n",
        "\n",
        "### Ejercicio 1\n",
        "\n",
        "¿Qué resultados se obtendrán al evaluar las siguientes expresiones Python?\n",
        "\n",
        "* $2 + 3 + 1 + 2$\n",
        "* $(2 + 3) * 1 + 2$\n",
        "* $2 + 3 * 1 + 2$\n",
        "* $(2 + 3) * (1 + 2)$\n",
        "* $2 + (3 * (6/2))$\n",
        "* $\\dfrac{4+6}{2+3}$\n",
        "* $(4/2)^5$\n",
        "* $(4/2)^{5+1}$\n",
        "* $(-3)^2$\n",
        "* $-(3)^2$\n",
        "* $1/2/4$\n",
        "* $4**.5$\n",
        "* $4.0 ** (1.0/2) + 1/2.0$\n",
        "* $3/2 + 1$\n",
        "\n",
        "### Ejercicio 2\n",
        "Utilizando operadores determinar si un número es par o impar.\n",
        "\n",
        "### Ejercicio 3\n",
        "\n",
        "Las raíces de un polinomio de grado 2, de la forma $ax^2+bx+c$, son 2 números\n",
        "que pueden ser reales o complejos. Utilizando operadores determine si las raíces son reales o complejas para distintos valores de a, b y c.\n",
        "\n",
        "### Ejercicio 4\n",
        "\n",
        "Los articulos en español son `['el','un','los','unos','la','una','las','unas']`. En el siguiente texto elimine los artículos.\n"
      ]
    },
    {
      "cell_type": "code",
      "metadata": {
        "id": "xLAMExozefhq",
        "outputId": "555f4706-5b4e-472e-9a02-e85aaffb38a3",
        "colab": {
          "base_uri": "https://localhost:8080/",
          "height": 118
        }
      },
      "source": [
        "import numpy as np\n",
        "texto = '''La Inteligencia artificial es el campo científico de la informática que se centra en la creación de programas y mecanismos\n",
        "que pueden mostrar comportamientos considerados inteligentes.\n",
        "En otras palabras, la IA es el concepto según el cual las máquinas piensan como seres humanos'''\n",
        "clean_texto = np.array([t.lower() for t in texto.replace('\\n',' ').split(' ')])\n",
        "#cond =\n",
        "#clean_texto[cond]"
      ],
      "execution_count": null,
      "outputs": [
        {
          "output_type": "stream",
          "text": [
            "['la' 'inteligencia' 'artificial' 'es' 'el' 'campo' 'científico' 'de' 'la'\n",
            " 'informática' 'que' 'se' 'centra' 'en' 'la' 'creación' 'de' 'programas'\n",
            " 'y' 'mecanismos' '' 'que' 'pueden' 'mostrar' 'comportamientos'\n",
            " 'considerados' 'inteligentes.' 'en' 'otras' 'palabras,' 'la' 'ia' 'es'\n",
            " 'el' 'concepto' 'según' 'el' 'cual' 'las' 'máquinas' 'piensan' 'como'\n",
            " 'seres' 'humanos']\n"
          ],
          "name": "stdout"
        }
      ]
    },
    {
      "cell_type": "markdown",
      "metadata": {
        "id": "xttLzxPQW8wX"
      },
      "source": [
        "# Python: Las cadenas de caracteres\n",
        "\n",
        "Las cadenas de caracteres son secuencia de caracteres encerrada en comillas\n",
        "dobles o simples. Pueden concatenarse con el operador suma (+).\n",
        "\n",
        "Escribe en la siguiente celda de código:\n",
        "```python\n",
        "cadena1 = \"Hola\"\n",
        "cadena2 = 'Mundo'\n",
        "espacio = ' '\n",
        "print(cadena1 + espacio + cadena2)\n",
        "```"
      ]
    },
    {
      "cell_type": "code",
      "metadata": {
        "id": "AghcqfKhVdT2"
      },
      "source": [],
      "execution_count": null,
      "outputs": []
    },
    {
      "cell_type": "markdown",
      "metadata": {
        "id": "kd2IN3EgtK9b"
      },
      "source": [
        "Las cadenas también pueden estar encerradas entre triple comillas dobles o simples. En este caso las cadenas son multilineas y podemos agregar un texto largo. La combinación de estas comillas pueden producir errores sintácticos, revisemos:"
      ]
    },
    {
      "cell_type": "code",
      "metadata": {
        "id": "NnVezfZ7uTf8",
        "outputId": "8e95b6d0-9a25-449a-f1a0-767af2de179f",
        "colab": {
          "base_uri": "https://localhost:8080/",
          "height": 105
        }
      },
      "source": [
        "cadena1 = 'Un ejemplo simple: \"el escape\"'\n",
        "cadena2 = \"Otro ejemplo de escape simple f'(x)\"\n",
        "print(cadena1)\n",
        "print(cadena2)\n",
        "\n",
        "print()\n",
        "\n",
        "cadena3 = 'En este hay que escapar con un operador f\\'(x)'\n",
        "cadena4 = \"Para la gente que le gusta \\\"complicarse\\\" \"\n",
        "print(cadena3)\n",
        "print(cadena4)"
      ],
      "execution_count": null,
      "outputs": [
        {
          "output_type": "stream",
          "text": [
            "Un ejemplo simple: \"el escape\"\n",
            "Otro ejemplo de escape simple f'(x)\n",
            "\n",
            "En este hay que escapar con un operador f'(x)\n",
            "Para la gente que le gusta \"complicarse\" \n"
          ],
          "name": "stdout"
        }
      ]
    },
    {
      "cell_type": "code",
      "metadata": {
        "id": "kjOUpkD2xRS-",
        "outputId": "d4d3d8ca-e19e-463c-f736-e3e042fe8b55",
        "colab": {
          "base_uri": "https://localhost:8080/",
          "height": 122
        }
      },
      "source": [
        "cadena5 = '''En este \"caso\" nada de eso\n",
        "importa f'(x) '''\n",
        "cadena6 = \"\"\"En este \"caso\" tampoco\n",
        "importa f'(x) \"\"\"\n",
        "print(cadena5)\n",
        "print(cadena6)\n",
        "\n",
        "cadena7 = \"Podemos usar un salto \\n de línea o un \\t tabulador\"\n",
        "print(cadena7)"
      ],
      "execution_count": null,
      "outputs": [
        {
          "output_type": "stream",
          "text": [
            "En este \"caso\" nada de eso \n",
            "importa f'(x) \n",
            "En este \"caso\" tampoco \n",
            "importa f'(x) \n",
            "Podemos usar un salto \n",
            " de línea o un \t tabulador\n"
          ],
          "name": "stdout"
        }
      ]
    },
    {
      "cell_type": "markdown",
      "metadata": {
        "id": "Y8gPH8363XHv"
      },
      "source": [
        "## La cadenas de escape\n",
        "\n",
        "<table>\n",
        "<tr class=\"row-odd\"><th class=\"head\">Secuencia Escape</th>\n",
        "<th class=\"head\">Significado</th>\n",
        "</tr>\n",
        "</thead>\n",
        "<tbody valign=\"top\">\n",
        "<tr class=\"row-even\"><td><code class=\"docutils literal\"><span class=\"pre\">\\newline</span></code></td>\n",
        "<td>Ignorado</td>\n",
        "</tr>\n",
        "<tr class=\"row-odd\"><td><code class=\"docutils literal\"><span class=\"pre\">\\\\</span></code></td>\n",
        "<td>Backslash (<code class=\"docutils literal\"><span class=\"pre\">\\</span></code>)</td>\n",
        "</tr>\n",
        "<tr class=\"row-even\"><td><code class=\"docutils literal\"><span class=\"pre\">\\'</span></code></td>\n",
        "<td>Comillas simple (<code class=\"docutils literal\"><span class=\"pre\">'</span></code>)</td>\n",
        "</tr>\n",
        "<tr class=\"row-odd\"><td><code class=\"docutils literal\"><span class=\"pre\">\\&quot;</span></code></td>\n",
        "<td>Comillas doble (<code class=\"docutils literal\"><span class=\"pre\">&quot;</span></code>)</td>\n",
        "</tr>\n",
        "<tr class=\"row-even\"><td><code class=\"docutils literal\"><span class=\"pre\">\\a</span></code></td>\n",
        "<td>Bell ASCII (BEL)</td>\n",
        "</tr>\n",
        "<tr class=\"row-odd\"><td><code class=\"docutils literal\"><span class=\"pre\">\\b</span></code></td>\n",
        "<td>Backspace ASCII (BS)</td>\n",
        "</tr>\n",
        "\n",
        "<tr class=\"row-odd\"><td><code class=\"docutils literal\"><span class=\"pre\">\\n</span></code></td>\n",
        "<td>Linefeed ASCII (LF)</td>\n",
        "</tr>\n",
        "<tr class=\"row-even\"><td><code class=\"docutils literal\"><span class=\"pre\">\\N{name}</span></code></td>\n",
        "<td>Carácter llamado <em>name</em> en base\n",
        "de datos Unicode  <a href='https://unicode.org/charts/charindex.html'>(Solo Unicode)</a></td>\n",
        "</tr>\n",
        "<tr class=\"row-odd\"><td><code class=\"docutils literal\"><span class=\"pre\">\\r</span></code></td>\n",
        "<td>Carriage Return ASCII (CR)</td>\n",
        "</tr>\n",
        "<tr class=\"row-even\"><td><code class=\"docutils literal\"><span class=\"pre\">\\t</span></code></td>\n",
        "<td>Tabulación Horizontal ASCII (TAB)</td>\n",
        "</tr>\n",
        "<tr class=\"row-odd\"><td><code class=\"docutils literal\"><span class=\"pre\">\\uxxxx</span></code></td>\n",
        "<td>Carácter con valor hex 16-bit\n",
        "<em>xxxx</em> (Solamente Unicode).\n",
        "</td>\n",
        "</tr>\n",
        "<tr class=\"row-odd\"><td><code class=\"docutils literal\"><span class=\"pre\">\\xhh</span></code></td>\n",
        "<td>Carácter con valor hex <em>hh</em>.\n",
        "</td>\n",
        "</tr>\n",
        "</tbody>\n",
        "<caption>\n",
        "Tabla tomada de <a href=\"https://entrenamiento-python-basico.readthedocs.io/es/latest/leccion3/tipo_cadenas.html\"> aquí</a> </caption>\n",
        "</table>"
      ]
    },
    {
      "cell_type": "code",
      "metadata": {
        "id": "cfNgncv55BMI",
        "outputId": "e2dcbfed-38bc-44ee-ddbe-7357e04dec8c",
        "colab": {
          "base_uri": "https://localhost:8080/",
          "height": 122
        }
      },
      "source": [
        "cadena_escapes = 'Los mismos simbolos: \\a \\7 \\nBorrando Hello\\b'\n",
        "print(cadena_escapes)\n",
        "print('Todo lo que es texto \\r ha evolucionado mucho')\n",
        "print('Una \\t tabla \\t tabulada')\n",
        "print(\"\\N{SOLIDUS} \\N{BLACK SPADE SUIT} \\N{BLACK STAR}\")\n",
        "print('\\u2660 \\u00ff \\xff ')"
      ],
      "execution_count": null,
      "outputs": [
        {
          "output_type": "stream",
          "text": [
            "Los mismos simbolos: \u0007 \u0007 \n",
            "Borrando Hello\b\n",
            "Todo lo que es texto \r ha evolucionado mucho\n",
            "Una \t tabla \t tabulada\n",
            "/ ♠ ★\n",
            "♠ ÿ ÿ \n"
          ],
          "name": "stdout"
        }
      ]
    },
    {
      "cell_type": "markdown",
      "metadata": {
        "id": "24tbDORHyL7X"
      },
      "source": [
        "## Los prefijos en las cadenas\n",
        "\n",
        "Una cadena puede estar precedida por el carácter:\n",
        "\n",
        "* r/R, el cual indica que se trata de una cadena raw (del inglés, cruda). Las cadenas raw se distinguen de las normales en que los caracteres escapados no aplican.\n",
        "\n",
        "* u/U, el cual indica, que se trata de una cadena que utiliza codificación unicode."
      ]
    },
    {
      "cell_type": "code",
      "metadata": {
        "id": "39eB-9JGublx",
        "outputId": "d9f18aa4-11b7-4528-bfb3-3324f2e86df2",
        "colab": {
          "base_uri": "https://localhost:8080/",
          "height": 70
        }
      },
      "source": [
        "cadena_string = 'Una frase normal \\u0175 \u0007'\n",
        "cadena_unicode = u'Una frase que usa unicode \\u0025 \u0007'\n",
        "cadena_raw = r'Y una que no usa unicode % \\u0025 \u0007 ni \\n o \\t'\n",
        "print(cadena_string)\n",
        "print(cadena_unicode)\n",
        "print(cadena_raw)"
      ],
      "execution_count": null,
      "outputs": [
        {
          "output_type": "stream",
          "text": [
            "Una frase normal ŵ \u0007\n",
            "Una frase que usa unicode % \u0007\n",
            "Y una que no usa unicode % \\u0025 \u0007 ni \\n o \\t\n"
          ],
          "name": "stdout"
        }
      ]
    },
    {
      "cell_type": "markdown",
      "metadata": {
        "id": "0lWpm9T1hUDc"
      },
      "source": [
        "## Operaciones entre string\n",
        "\n",
        "* **Concatenar**: usando el operador suma (+) podemos unir cadenas\n",
        "* **Repetir**: usando el operador multiplicación (*) podemos repetir una cadena un número entero de veces\n",
        "* **Interpolar**: el operador módulo (%) con los string, es conocido como el operador de interpolación. Permite el formateo de una cadena, para ello se debe proveer el % seguido por el tipo que necesita ser formateado o convertido. El operador % entonces substituye la frase '%tipodato' según el caso.\n"
      ]
    },
    {
      "cell_type": "code",
      "metadata": {
        "id": "cADS6VFAyl1R",
        "outputId": "b4d5dee7-fb33-415a-b2bc-352a39223883",
        "colab": {
          "base_uri": "https://localhost:8080/",
          "height": 87
        }
      },
      "source": [
        "cadena1 = 'una palabra'\n",
        "cadena2 = ', otra palabra'\n",
        "print(cadena1 + cadena2)\n",
        "cadena3 = 'Todo bien '\n",
        "print(cadena3*5)\n",
        "\n",
        "valor_entero = 5\n",
        "valor_real = -9.8\n",
        "valor_nc = 3e-5\n",
        "cadena4 = 'Una cadena'\n",
        "\n",
        "print('Para imprimir una cadena con una variable usamos el formato %')\n",
        "cadena_a_imprimir = 'Entero: %d, flotante: %f, Notación: %e, Cadena: %s'%(valor_entero,valor_real,valor_nc,cadena4)\n",
        "print(cadena_a_imprimir)"
      ],
      "execution_count": null,
      "outputs": [
        {
          "output_type": "stream",
          "text": [
            "una palabra, otra palabra\n",
            "Todo bien Todo bien Todo bien Todo bien Todo bien \n",
            "Para imprimir una cadena con una variable usamos el formato %\n",
            "Entero: 5, flotante: -9.800000, Notación: 3.000000e-05, Cadena: Una cadena\n"
          ],
          "name": "stdout"
        }
      ]
    },
    {
      "cell_type": "markdown",
      "metadata": {
        "id": "F2bgN6ODvGOE"
      },
      "source": [
        "## Los string son inmutables pero iterables\n",
        "\n",
        "Las cadenas de caracteres son iterables inmutables, es decir podemos acceder a ellos letra por letra e incluso seleccionar ciertos pedazos pero no podemos cambiar una letra directamente.\n",
        "\n"
      ]
    },
    {
      "cell_type": "code",
      "metadata": {
        "id": "-3LGt_qxvYZh",
        "outputId": "fea1c1e2-603b-483f-f336-b29d0cf4143a",
        "colab": {
          "base_uri": "https://localhost:8080/",
          "height": 105
        }
      },
      "source": [
        "cadena1='Esto_es_una_cadena'\n",
        "print('Este es el primer carácter de la cadena: ',cadena1[0])\n",
        "print('La longitud de la cadena es: ',len(cadena1))\n",
        "print('Seleccionemos desde el carácter 5 al 11: ',cadena1[4:11])\n",
        "print('También podemos escribirla de a 2, ',cadena1[::2])\n",
        "print('O el último, ',cadena1[-1])\n",
        "#Esto es un error!\n",
        "#cadena1[0] = 'e'"
      ],
      "execution_count": null,
      "outputs": [
        {
          "output_type": "stream",
          "text": [
            "Este es el primer carácter de la cadena:  E\n",
            "La longitud de la cadena es:  18\n",
            "Seleccionemos desde el carácter 5 al 11:  _es_una\n",
            "También podemos escribirla de a 2,  Et_suacdn\n",
            "O el último,  a\n"
          ],
          "name": "stdout"
        }
      ]
    },
    {
      "cell_type": "markdown",
      "metadata": {
        "id": "R_PSIlaSmtvV"
      },
      "source": [
        "## Métodos\n",
        "\n",
        "En python todo es un objeto, los objetos tienen atributos y hacen ciertas cosas, la mayoría está asociado a un tipo o clase. Los string o el tipo **str** tienen varias propiedades o métodos, es decir que cuando creamos cualquier cadena de caracteres enseguida podemos acceder a estos. Los métodos son funciones internas que hacen muy fácil usar ciertos objetos en python. Veamos algunos\n",
        "\n",
        "Siendo str el nombre del objeto que es tipo string(str) tenemos:\n",
        "\n",
        "### Métodos con mayúsculas y minúsculas:\n",
        "* `str.capitalize()`: Primera letra en mayúscula.\n",
        "* `str.lower()`: Todas las letras en minúscula.\n",
        "* `str.upper()`: Todas las letras en mayúscula.\n",
        "* `str.swapcase()`: Invertir mayúsculas y minúsculas.\n",
        "* `str.title()`: Cada letra en mayúscula.\n",
        "\n",
        "\n"
      ]
    },
    {
      "cell_type": "code",
      "metadata": {
        "id": "kAACjU1ApnCi",
        "outputId": "f8a27e0e-d229-43af-a2b4-d0f7045f1225",
        "colab": {
          "base_uri": "https://localhost:8080/",
          "height": 34
        }
      },
      "source": [
        "cadena = 'puede modificar esta cadena'\n",
        "### Imprima la cadena aplicando los métodos anteriores\n",
        "print(cadena.capitalize())"
      ],
      "execution_count": null,
      "outputs": [
        {
          "output_type": "stream",
          "text": [
            "Puede modificar esta cadena\n"
          ],
          "name": "stdout"
        }
      ]
    },
    {
      "cell_type": "markdown",
      "metadata": {
        "id": "Zp762mctpgtl"
      },
      "source": [
        "### Metodos de búsqueda\n",
        "\n",
        "* `str.count(caráter)`: Permite contar cuantos veces está el carácter\n",
        "en la cadena.\n",
        "* `str.find(cadena)`: Permite buscar una subcadena en una cadena, regresa el primer match.\n",
        "* `str.index(subcadena[, posicion_inicio, posicion_fin])`: Permite buscar una subcadena en una cadena y regresar la posición del primer match.\n",
        "* `str.rfind, str.rindex`: los mismo que las anteriores pero regresando el último match\n",
        "* `str.startswith(subcadena[, posicion_inicio, posicion_fin])`: Permite\n",
        "saber si la cadena comienza con cierta subcadena\n",
        "* `str.endswith(subcadena[, posicion_inicio, posicion_fin])`: Permite\n",
        "saber si la cadena termina con cierta subcadena\n",
        "\n"
      ]
    },
    {
      "cell_type": "code",
      "metadata": {
        "id": "wWBCGiIFqYwU",
        "outputId": "77a87d8f-4b9f-4617-eb9a-3dc80bfd9b56",
        "colab": {
          "base_uri": "https://localhost:8080/",
          "height": 34
        }
      },
      "source": [
        "cadena = 'puede modificar esta cadena'\n",
        "### Imprima la cadena aplicando los métodos anteriores\n",
        "print(cadena.count('a'))"
      ],
      "execution_count": null,
      "outputs": [
        {
          "output_type": "stream",
          "text": [
            "4\n"
          ],
          "name": "stdout"
        }
      ]
    },
    {
      "cell_type": "markdown",
      "metadata": {
        "id": "s-7LxZ-jqNnA"
      },
      "source": [
        "### Métodos de exploración\n",
        "* `str.isalnum()`: Saber si es alfanumérica.\n",
        "* `str.isalpha()`: Saber si es alfabética.\n",
        "* `str.isdigits()`: Saber si es numérica.\n",
        "* `str.islower()`: Saber si sólo tiene minúsculas.\n",
        "* `str.isupper()`: Saber si sólo tiene mayúsculas.\n",
        "* `str.isspace()`:  Saber si sólo tiene espacios.\n",
        "\n"
      ]
    },
    {
      "cell_type": "code",
      "metadata": {
        "id": "YP34iD_rquKU",
        "outputId": "88c4ca22-e61c-4ea8-e00e-e11dec8d1a07",
        "colab": {
          "base_uri": "https://localhost:8080/",
          "height": 34
        }
      },
      "source": [
        "cadena = 'puede modificar esta cadena'\n",
        "### Imprima la cadena usando los métodos anteriores\n",
        "print(cadena.islower())"
      ],
      "execution_count": null,
      "outputs": [
        {
          "output_type": "stream",
          "text": [
            "True\n"
          ],
          "name": "stdout"
        }
      ]
    },
    {
      "cell_type": "markdown",
      "metadata": {
        "id": "aNa_9Pu2qSha"
      },
      "source": [
        "### Métodos de modificación\n",
        "\n",
        "* `str.replace(cadena buscar,cadena a remplazar)`: Remplaza una\n",
        "cadena por otra (no in situ).\n",
        "* `str.strip()`: Eliminar caracteres a la derecha e izquierda de una\n",
        "cadena.\n",
        "* `str.join(str2)`: Retorna la cadena unida con el iterable (la cadena\n",
        "es separada por cada uno de los elementos del iterable).\n",
        "\n"
      ]
    },
    {
      "cell_type": "code",
      "metadata": {
        "id": "JyJ-pwUQrBE2",
        "outputId": "00c71ec3-1ebe-4eb6-c1c7-4c315b0a98c7",
        "colab": {
          "base_uri": "https://localhost:8080/",
          "height": 34
        }
      },
      "source": [
        "cadena = 'puede modificar esta cadena'\n",
        "### Imprima la cadena usando los métodos anteriores\n",
        "print(cadena.replace(' ','*'))"
      ],
      "execution_count": null,
      "outputs": [
        {
          "output_type": "stream",
          "text": [
            "puede*modificar*esta*cadena\n"
          ],
          "name": "stdout"
        }
      ]
    },
    {
      "cell_type": "markdown",
      "metadata": {
        "id": "DdEmPYMUq31I"
      },
      "source": [
        "### Metódos de visualización\n",
        "* `str.split([separador])`: Separa una cadena en varias partes según\n",
        "separador.\n",
        "\n",
        "* `str.center(50[, symbol])`: Centrar cadena sola o con un símbolo.\n",
        "\n",
        "* `str.format(*args, **kwargs)`: Poder sustituir en una cadena según\n",
        "formato (tipo bash).\n"
      ]
    },
    {
      "cell_type": "code",
      "metadata": {
        "id": "LQP5wrOzpggG",
        "outputId": "3dc892d2-7e5a-4b47-b0d7-d47dd5813127",
        "colab": {
          "base_uri": "https://localhost:8080/",
          "height": 70
        }
      },
      "source": [
        "cadena = 'puede modificar esta cadena'\n",
        "print(cadena.split(' '))\n",
        "print('Python'.center(50,'*'))\n",
        "\n",
        "########## USO DE FORMAT ###########\n",
        "print('Entero {0} y Real {1:.3f}'.format(valor_entero,valor_real))"
      ],
      "execution_count": null,
      "outputs": [
        {
          "output_type": "stream",
          "text": [
            "['puede', 'modificar', 'esta', 'cadena']\n",
            "**********************Python**********************\n",
            "Entero 5 y Real -9.800\n"
          ],
          "name": "stdout"
        }
      ]
    },
    {
      "cell_type": "markdown",
      "metadata": {
        "id": "l-WreggOshhb"
      },
      "source": [
        "## Ejercicios\n",
        "\n",
        "### Ejercicio 1\n",
        "\n",
        "Usando la función `input('Ingrese un caráter: ')`, ingrese un carácter cualquier dede su teclado. Siempre que sea sólo un caráter y determine si es una letra, mayúscula, minúscula, digito, espacio u otro.\n",
        "\n",
        "### Ejercicio 2\n",
        "\n",
        "Se ha obtenido la siguiente cadena corrupta `cadena = \"zeréP nauJ,01\"` y deseamos transformala a `(Nombre) (Apellido) ha sacado un (Nota) de nota`\n",
        "\n",
        "### Ejercicio 3\n",
        "\n",
        "El nickname de un usuario debe contener mínimo 6 caracteres y un máximo de 12, el nombre debe tener sólo letras y ninguna mayúscula. En una celda de código, verifique (asumiendo varios casos) si un nickname es válido o no.\n",
        "\n",
        "### Ejercicio 4\n",
        "\n",
        "La contraseña no puede ser menor a 8, debe tener letras, digitos y carácteres sin espacios. En una celda de código, verifique (asumiendo varios casos) si una contraseña es válida o no.\n",
        "\n",
        "\n",
        "\n",
        "\n",
        "\n",
        "\n"
      ]
    },
    {
      "cell_type": "markdown",
      "metadata": {
        "id": "HDNOU-IcbyQB"
      },
      "source": [
        "# Python: Listas"
      ]
    },
    {
      "cell_type": "markdown",
      "metadata": {
        "id": "fE6-kF3ZeUCG"
      },
      "source": [
        "## **Introducción:**\n",
        "\n",
        "En esta sección se presenta uno de los tipos integrados más útiles de Python, las **listas**.\n",
        "\n",
        "Al igual que un **string**, una lista es una secuencia de valores. En un string los valores son caracteres; en una **lista**, se puede tener **cualquier tipo**. Los **valores de una lista** se denominan **elementos**.\n",
        "\n",
        "Hay varias formas de crear una nueva lista; la forma más simple es encerrar los elementos entre corchetes `([a,b,c])`:"
      ]
    },
    {
      "cell_type": "code",
      "metadata": {
        "id": "uJPry6-xfc4R",
        "outputId": "0897c7f8-9e43-46cb-f695-2b9428a8c6e7",
        "colab": {
          "base_uri": "https://localhost:8080/",
          "height": 34
        }
      },
      "source": [
        "glist = ['Hola', 4, [1,2,3,4], 'Chao']\n",
        "glist"
      ],
      "execution_count": null,
      "outputs": [
        {
          "output_type": "execute_result",
          "data": {
            "text/plain": [
              "['Hola', 4, [1, 2, 3, 4], 'Chao']"
            ]
          },
          "metadata": {
            "tags": []
          },
          "execution_count": 85
        }
      ]
    },
    {
      "cell_type": "markdown",
      "metadata": {
        "id": "JEm40WE-gEmQ"
      },
      "source": [
        "Para acceder a los elementos de la lista lo hacemos mediante siguiendo la indexación\n",
        "\n",
        "`glist[0]`$\\rightarrow$ elemento 1 de la lista.\n",
        "\n",
        "`glist[1]`$\\rightarrow$ elemento 2 de la lista.\n",
        "\n",
        "`glist[2]`$\\rightarrow$ elemento 3 de la lista.\n",
        "\n",
        "`glist[3]`$\\rightarrow$ elemento 4 de la lista.\n",
        "\n",
        "Imprimamos a continuación, cada uno de los elementos que definimos en nuesta primera lista `glist`:\n"
      ]
    },
    {
      "cell_type": "code",
      "metadata": {
        "id": "_imlyYSuf4bP",
        "outputId": "e8405f96-a1d7-4346-fce5-6cbf15e76f36",
        "colab": {
          "base_uri": "https://localhost:8080/",
          "height": 84
        }
      },
      "source": [
        "print(glist[0])\n",
        "print(glist[1])\n",
        "print(glist[2])\n",
        "print(glist[3])"
      ],
      "execution_count": null,
      "outputs": [
        {
          "output_type": "stream",
          "text": [
            "Hola\n",
            "4\n",
            "[1, 2, 3, 4]\n",
            "Chao\n"
          ],
          "name": "stdout"
        }
      ]
    },
    {
      "cell_type": "markdown",
      "metadata": {
        "id": "b1Bz1-h2g-b3"
      },
      "source": [
        "Nótese que el elemento 3 (`g[2]`) es un lista. Decimos entonces, que la lista `glist` es una **lista anidad**, pues puede contener otra lista.\n",
        "\n",
        "Veamos que tipo representa la variable glist:"
      ]
    },
    {
      "cell_type": "code",
      "metadata": {
        "id": "UMB9Q_Tzvr9M",
        "outputId": "65521127-a955-4fc5-d0fd-8325e657ea0b",
        "colab": {
          "base_uri": "https://localhost:8080/",
          "height": 34
        }
      },
      "source": [
        "print(type(glist))"
      ],
      "execution_count": null,
      "outputs": [
        {
          "output_type": "stream",
          "text": [
            "<class 'list'>\n"
          ],
          "name": "stdout"
        }
      ]
    },
    {
      "cell_type": "markdown",
      "metadata": {
        "id": "CzZ8AO4Kv_2Z"
      },
      "source": [
        "Es importanta resaltar en este punto que **glist es un objeto de la clase list** y como tal, hereda unos metodos con los cuales podemos operar, los cuales veremos más adelante.\n",
        "\n",
        "Para saber el número de elementos de una lista, podemos invocar la función predefinida en `python` `len()`. En el caso de la lista `glist`, el número o longitud de la lista es:"
      ]
    },
    {
      "cell_type": "code",
      "metadata": {
        "id": "Xu_81373IVnZ",
        "outputId": "5adb5aa8-2556-4690-bf25-4bcc1afd83d6",
        "colab": {
          "base_uri": "https://localhost:8080/",
          "height": 34
        }
      },
      "source": [
        "len(glist)"
      ],
      "execution_count": null,
      "outputs": [
        {
          "output_type": "execute_result",
          "data": {
            "text/plain": [
              "4"
            ]
          },
          "metadata": {
            "tags": []
          },
          "execution_count": 88
        }
      ]
    },
    {
      "cell_type": "markdown",
      "metadata": {
        "id": "bwXZ9_YavmU0"
      },
      "source": [
        "Una lista vacia puede ser definida de la forma:"
      ]
    },
    {
      "cell_type": "code",
      "metadata": {
        "id": "fd1J2T9ghyq9",
        "outputId": "059c2caa-f0a3-457b-8884-f8286ea5294b",
        "colab": {
          "base_uri": "https://localhost:8080/",
          "height": 34
        }
      },
      "source": [
        "empty_list = []\n",
        "\n",
        "len(empty_list)"
      ],
      "execution_count": null,
      "outputs": [
        {
          "output_type": "execute_result",
          "data": {
            "text/plain": [
              "0"
            ]
          },
          "metadata": {
            "tags": []
          },
          "execution_count": 89
        }
      ]
    },
    {
      "cell_type": "markdown",
      "metadata": {
        "id": "H7fKC8B_itj9"
      },
      "source": [
        "##**Reasignación en elementos de una lista:**\n",
        "\n",
        "La sintaxis para acceder a los elementos de una lista es la misma que para acceder a los caracteres de una cadena: el **operador corchetes** `[]`. La expresión dentro de los corchetes especifica el índice. En python **los índices empiezan en 0**.\n",
        "\n",
        "A diferencia de las cadenas, **las listas permiten la reasignación**. Cuando el operador corchetes aparece en el lado izquierdo de un `=`, identifica el elemento de la lista que reasignará.\n",
        "\n",
        "Supongamos que tenemos la siguiente lista de números:"
      ]
    },
    {
      "cell_type": "code",
      "metadata": {
        "id": "x-pqYIU1vIsp",
        "outputId": "99531d3a-babf-4a42-ec3c-9effd2a0951e",
        "colab": {
          "base_uri": "https://localhost:8080/",
          "height": 50
        }
      },
      "source": [
        "numbers = [1,55,133,200]\n",
        "print(\"Lista numbers: \", numbers)\n",
        "print(\"El tipo es: \", type(numbers))"
      ],
      "execution_count": null,
      "outputs": [
        {
          "output_type": "stream",
          "text": [
            "Lista numbers:  [1, 55, 133, 200]\n",
            "El tipo es:  <class 'list'>\n"
          ],
          "name": "stdout"
        }
      ]
    },
    {
      "cell_type": "markdown",
      "metadata": {
        "id": "BDSqgWJmwWOV"
      },
      "source": [
        "Consultemos el elemento de la lista `numbers` almacenado en la posición 3:"
      ]
    },
    {
      "cell_type": "code",
      "metadata": {
        "id": "1TyCELl2wVd-",
        "outputId": "c5bc5fda-fd59-43b9-9578-1ee7e849181e",
        "colab": {
          "base_uri": "https://localhost:8080/",
          "height": 34
        }
      },
      "source": [
        "print('El elemento de numbers almacenado en la posición 3 es: ',numbers[2])"
      ],
      "execution_count": null,
      "outputs": [
        {
          "output_type": "stream",
          "text": [
            "El elemento de numbers almacenado en la posición 3 es:  133\n"
          ],
          "name": "stdout"
        }
      ]
    },
    {
      "cell_type": "markdown",
      "metadata": {
        "id": "vdVLboT4wth6"
      },
      "source": [
        "Si queremos cambiar este número por 33, por ejemplo, le reasignamos dicho valor con el operardor `=`:"
      ]
    },
    {
      "cell_type": "code",
      "metadata": {
        "id": "SF0AvrKfw5x3",
        "outputId": "1e43f497-f728-4d4f-d86c-e071dec79226",
        "colab": {
          "base_uri": "https://localhost:8080/",
          "height": 34
        }
      },
      "source": [
        "numbers[2]=33\n",
        "\n",
        "print(\"La nueva lista es:\", numbers)"
      ],
      "execution_count": null,
      "outputs": [
        {
          "output_type": "stream",
          "text": [
            "La nueva lista es: [1, 55, 33, 200]\n"
          ],
          "name": "stdout"
        }
      ]
    },
    {
      "cell_type": "markdown",
      "metadata": {
        "id": "zgIvOkIuxGD9"
      },
      "source": [
        "Nótese que el elemento de la lista de la tercera posición ahora tiene un valor de 33.\n",
        "\n",
        "Los índices de lista funcionan de la misma manera que los índices en un `string`:\n",
        "\n",
        "- Cualquier número entero se puede usar como índice.\n",
        "- Si intenta leer o escribir un elemento que no existe, obtendrá un `IndexError`.\n",
        "- Si un índice tiene un valor negativo, cuenta hacia atrás desde el final de la lista.\n",
        "\n",
        "El operador `in` también opera sobre listas:"
      ]
    },
    {
      "cell_type": "code",
      "metadata": {
        "id": "Iz7uX3L05cec",
        "outputId": "ac51f1b9-1a3b-464b-811c-426e92db64ab",
        "colab": {
          "base_uri": "https://localhost:8080/",
          "height": 34
        }
      },
      "source": [
        "quesos = ['cheddar','brie','manchego','cuajada','quesillo','quesito']\n",
        "\n",
        "'quesito' in quesos"
      ],
      "execution_count": null,
      "outputs": [
        {
          "output_type": "execute_result",
          "data": {
            "text/plain": [
              "True"
            ]
          },
          "metadata": {
            "tags": []
          },
          "execution_count": 93
        }
      ]
    },
    {
      "cell_type": "markdown",
      "metadata": {
        "id": "fFLTaRfe6Mya"
      },
      "source": [
        "## **Operaciones entre listas:**\n",
        "\n",
        "Existen, básicamente, dos operaciónes entre listas.\n",
        "\n",
        "- Operador de concatenación `+` $\\rightarrow$ `a+b` concatena las listas `a` y `b`.\n",
        "- Operador de repetición `*`$\\rightarrow$ ['a']*4 repite cuatro veces el caracter 'a'."
      ]
    },
    {
      "cell_type": "code",
      "metadata": {
        "id": "5cf5H10xJ2aB",
        "outputId": "da673c22-070d-4284-b603-b08909069cb9",
        "colab": {
          "base_uri": "https://localhost:8080/",
          "height": 34
        }
      },
      "source": [
        "# Concatenación.\n",
        "\n",
        "a = [1,2,3,4]\n",
        "b = [5,6,7,8]\n",
        "\n",
        "c = a+b\n",
        "\n",
        "print(\"Resultado de la concatenación de las listas a+b=c: \",c)"
      ],
      "execution_count": null,
      "outputs": [
        {
          "output_type": "stream",
          "text": [
            "Resultado de la concatenación de las listas a+b=c:  [1, 2, 3, 4, 5, 6, 7, 8]\n"
          ],
          "name": "stdout"
        }
      ]
    },
    {
      "cell_type": "code",
      "metadata": {
        "id": "kpBqNr5wKs7D",
        "outputId": "681a370e-e856-4ef9-dc97-a868020ed5c1",
        "colab": {
          "base_uri": "https://localhost:8080/",
          "height": 34
        }
      },
      "source": [
        "# Repetición.\n",
        "\n",
        "r = [\"a\"]*4\n",
        "\n",
        "print(\"El resultado de [\\\"a\\\"]*4 es: \", r)"
      ],
      "execution_count": null,
      "outputs": [
        {
          "output_type": "stream",
          "text": [
            "El resultado de [\"a\"]*4 es:  ['a', 'a', 'a', 'a']\n"
          ],
          "name": "stdout"
        }
      ]
    },
    {
      "cell_type": "markdown",
      "metadata": {
        "id": "WvwPhzWGKUN_"
      },
      "source": [
        "## **Seccionado de listas (List slices):**\n",
        "\n",
        "El operador de secionado `:` tambien puede ser usado en las listas. En general funciona de la forma:\n",
        "\n",
        "\n",
        "\n",
        "```\n",
        "lalista[inicio:final]\n",
        "```\n",
        "\n",
        "Seccionando `lalista` entre los ídices `inicio` y `final`. Veamos esto:\n"
      ]
    },
    {
      "cell_type": "code",
      "metadata": {
        "id": "arrGbufjMj-h"
      },
      "source": [
        "numbers = [1,2,3,4,5,6,7,8,9]"
      ],
      "execution_count": null,
      "outputs": []
    },
    {
      "cell_type": "code",
      "metadata": {
        "id": "QPoI0QH-NSNj",
        "outputId": "294bcce8-6e3b-4cef-dfcb-f1536bf3b588",
        "colab": {
          "base_uri": "https://localhost:8080/",
          "height": 67
        }
      },
      "source": [
        "print('Parte 1: ', numbers[0:3])\n",
        "print('Parte 2: ', numbers[3:6])\n",
        "print('Parte 3: ', numbers[6:9])"
      ],
      "execution_count": null,
      "outputs": [
        {
          "output_type": "stream",
          "text": [
            "Parte 1:  [1, 2, 3]\n",
            "Parte 2:  [4, 5, 6]\n",
            "Parte 3:  [7, 8, 9]\n"
          ],
          "name": "stdout"
        }
      ]
    },
    {
      "cell_type": "markdown",
      "metadata": {
        "id": "eAUBrzvsO2dx"
      },
      "source": [
        "Si no especificamos en el seccionado de la lista el `inicio` y el `final`, `python` entenderá por defecto el inicio de la lista y el final de la misma (es decir, la lista entera):"
      ]
    },
    {
      "cell_type": "code",
      "metadata": {
        "id": "D4Vm9rAtO1CX",
        "outputId": "1cc4b06a-c474-436f-cabd-7ea6c6dbb895",
        "colab": {
          "base_uri": "https://localhost:8080/",
          "height": 34
        }
      },
      "source": [
        "numbers[:]"
      ],
      "execution_count": null,
      "outputs": [
        {
          "output_type": "execute_result",
          "data": {
            "text/plain": [
              "[1, 2, 3, 4, 5, 6, 7, 8, 9]"
            ]
          },
          "metadata": {
            "tags": []
          },
          "execution_count": 98
        }
      ]
    },
    {
      "cell_type": "markdown",
      "metadata": {
        "id": "Hh1UavrIRcUG"
      },
      "source": [
        "De manera análoga, si especificamos el `final` pero no el `inicio`, `python` asignará al `inicio` el principio del la lista; si especificamos el `inicio` pero no el `final`, tomará el `final` como la el último índice de la lista. Veamos esto:"
      ]
    },
    {
      "cell_type": "code",
      "metadata": {
        "id": "P3OgwFfURbjk",
        "outputId": "0621951e-606b-4caf-9874-7987f2aa35d9",
        "colab": {
          "base_uri": "https://localhost:8080/",
          "height": 50
        }
      },
      "source": [
        "print(numbers[:5])\n",
        "print(numbers[5:])"
      ],
      "execution_count": null,
      "outputs": [
        {
          "output_type": "stream",
          "text": [
            "[1, 2, 3, 4, 5]\n",
            "[6, 7, 8, 9]\n"
          ],
          "name": "stdout"
        }
      ]
    },
    {
      "cell_type": "markdown",
      "metadata": {
        "id": "TEkYeCXGSbzL"
      },
      "source": [
        "## **Métodos de la clase lista:**\n",
        "\n",
        "Cómo mencionamos anteriormente, las listas corresponden a una clase de `python`. Cuando definimos una \"variable\" de una clase, hablamos de la creación de un **objeto** de esa clase. Todos los objetos heran **métodos** y **atributos** de la clase a la que pertenecen.\n",
        "\n",
        "Cuando declaramos una lista compuesta por números de la forma:\n",
        "\n",
        "\n",
        "\n",
        "```\n",
        "numbers = [0,1,2,3,4,5,6,7,8,9]\n",
        "```\n",
        "\n",
        "Una vez creada, en google colab podemos acceder a los métodos mediante el operador `.`, escribiendo `numbers.` y esperamos a que nos salgan los métodos disponibles para nuestro objeto de la clase `list`. Al realizar este procedimiento, nos aparecerán los siguiente métodos:\n",
        "\n",
        "\n",
        "<center><p class=\"aligncenter\">\n",
        "    <img src=\"https://github.com/diplomado-bigdata-machinelearning-udea/curso0/blob/master/S03/img/metoods_lista.png?raw=true\" alt=\"centered image\" />\n",
        "</p></center>\n",
        "\n",
        "Nótese, además, que cuando nos posicionamos en uno de los métodos desplegados, colab nos indica el que es una función o metodo predefinido: `built_function_or_method`.\n",
        "\n",
        "\n",
        "Vemos alguno métodos útiles de la clase lista.\n",
        "\n",
        "\n"
      ]
    },
    {
      "cell_type": "markdown",
      "metadata": {
        "id": "es4lxllHbrHN"
      },
      "source": [
        "## **append**:\n",
        "\n",
        "Mediante el método `append()` se pude agregar un elemento al final de la lista, recibiendo como argumento, el elemento que se pretende agregar."
      ]
    },
    {
      "cell_type": "code",
      "metadata": {
        "id": "BXe0_ROsTZYn",
        "outputId": "ff398f74-2a86-4734-aafb-01955c9b3b0b",
        "colab": {
          "base_uri": "https://localhost:8080/",
          "height": 34
        }
      },
      "source": [
        "numbers"
      ],
      "execution_count": null,
      "outputs": [
        {
          "output_type": "execute_result",
          "data": {
            "text/plain": [
              "[1, 2, 3, 4, 5, 6, 7, 8, 9]"
            ]
          },
          "metadata": {
            "tags": []
          },
          "execution_count": 100
        }
      ]
    },
    {
      "cell_type": "code",
      "metadata": {
        "id": "DGo1JENvb-MJ",
        "outputId": "2126b4f3-fd06-4082-e66d-1221b5811ffe",
        "colab": {
          "base_uri": "https://localhost:8080/",
          "height": 34
        }
      },
      "source": [
        "numbers.append(10)\n",
        "numbers"
      ],
      "execution_count": null,
      "outputs": [
        {
          "output_type": "execute_result",
          "data": {
            "text/plain": [
              "[1, 2, 3, 4, 5, 6, 7, 8, 9, 10]"
            ]
          },
          "metadata": {
            "tags": []
          },
          "execution_count": 101
        }
      ]
    },
    {
      "cell_type": "markdown",
      "metadata": {
        "id": "wO_f9FflcYtM"
      },
      "source": [
        "## **copy:**\n",
        "\n",
        "El método `.copy()` realiza una de una lista que puede asignársele a una lista nueva. Este método no recibe ningún argumento."
      ]
    },
    {
      "cell_type": "code",
      "metadata": {
        "id": "m_zzcJb3cZg7",
        "outputId": "17f31427-998f-437d-9832-44c84a1aeae0",
        "colab": {
          "base_uri": "https://localhost:8080/",
          "height": 34
        }
      },
      "source": [
        "new_numbers = numbers.copy()\n",
        "new_numbers"
      ],
      "execution_count": null,
      "outputs": [
        {
          "output_type": "execute_result",
          "data": {
            "text/plain": [
              "[1, 2, 3, 4, 5, 6, 7, 8, 9, 10]"
            ]
          },
          "metadata": {
            "tags": []
          },
          "execution_count": 102
        }
      ]
    },
    {
      "cell_type": "markdown",
      "metadata": {
        "id": "Xim1FReOeJX_"
      },
      "source": [
        "También podemos realizar una copia en `new_numbers` mediante una simple asignación:"
      ]
    },
    {
      "cell_type": "code",
      "metadata": {
        "id": "g99VBsNmeImt",
        "outputId": "b35c63ce-be26-479d-e9e0-7a6ce0910e22",
        "colab": {
          "base_uri": "https://localhost:8080/",
          "height": 34
        }
      },
      "source": [
        "new_numbers = numbers\n",
        "new_numbers"
      ],
      "execution_count": null,
      "outputs": [
        {
          "output_type": "execute_result",
          "data": {
            "text/plain": [
              "[1, 2, 3, 4, 5, 6, 7, 8, 9, 10]"
            ]
          },
          "metadata": {
            "tags": []
          },
          "execution_count": 103
        }
      ]
    },
    {
      "cell_type": "markdown",
      "metadata": {
        "id": "Ae2ePJL2eu-6"
      },
      "source": [
        "Además, es posible realizar una copia utilizando el método de seccionado. Por ejemplo, si queremos cuardar los tres primero números de la lista `number` lo podemos realizar de la siguiente forma:"
      ]
    },
    {
      "cell_type": "code",
      "metadata": {
        "id": "-3hjoiPVfvgD",
        "outputId": "af2df338-9701-4ca7-ceef-d1bab580d82f",
        "colab": {
          "base_uri": "https://localhost:8080/",
          "height": 34
        }
      },
      "source": [
        "new_numbers = numbers[0:3]\n",
        "new_numbers"
      ],
      "execution_count": null,
      "outputs": [
        {
          "output_type": "execute_result",
          "data": {
            "text/plain": [
              "[1, 2, 3]"
            ]
          },
          "metadata": {
            "tags": []
          },
          "execution_count": 104
        }
      ]
    },
    {
      "cell_type": "markdown",
      "metadata": {
        "id": "nYO_Uxselgtl"
      },
      "source": [
        "## **extend:**\n",
        "\n",
        "Mediante el método `.extend()`, podemos extender una lista pasando como argumento un iterable (otra lista por ejemplo). De esta forma, podemos agregar tantos elementos como hayan en el itereable:"
      ]
    },
    {
      "cell_type": "code",
      "metadata": {
        "id": "br-UQPstmMKJ",
        "outputId": "85dc0a43-fe2b-4438-d6cb-883c99168b9c",
        "colab": {
          "base_uri": "https://localhost:8080/",
          "height": 34
        }
      },
      "source": [
        "new_numbers.extend([22,33,44])\n",
        "\n",
        "print(new_numbers)"
      ],
      "execution_count": null,
      "outputs": [
        {
          "output_type": "stream",
          "text": [
            "[1, 2, 3, 22, 33, 44]\n"
          ],
          "name": "stdout"
        }
      ]
    },
    {
      "cell_type": "markdown",
      "metadata": {
        "id": "f2Frg-LBorWQ"
      },
      "source": [
        "## **index**:\n",
        "\n",
        "La función `.index(valor,inicio,final)` nos devuelve el índice de un valor dado entre las posiciones `inicio` y `final`, siempre y cuando esté en la lista:"
      ]
    },
    {
      "cell_type": "code",
      "metadata": {
        "id": "cuGRiKKzm5MS",
        "outputId": "37a3b53c-51b4-4a04-f34d-c88257dd3a00",
        "colab": {
          "base_uri": "https://localhost:8080/",
          "height": 34
        }
      },
      "source": [
        "new_numbers.index(33,2,5)"
      ],
      "execution_count": null,
      "outputs": [
        {
          "output_type": "execute_result",
          "data": {
            "text/plain": [
              "4"
            ]
          },
          "metadata": {
            "tags": []
          },
          "execution_count": 106
        }
      ]
    },
    {
      "cell_type": "markdown",
      "metadata": {
        "id": "ZYZOpn_apfsJ"
      },
      "source": [
        "En caso de no especificar el inicio y el final, asumirá el inicio y final de la lista:"
      ]
    },
    {
      "cell_type": "code",
      "metadata": {
        "id": "qOTi3toapes1",
        "outputId": "22d40b65-439d-4716-8938-ae15c1ad8b03",
        "colab": {
          "base_uri": "https://localhost:8080/",
          "height": 34
        }
      },
      "source": [
        "new_numbers.index(3)"
      ],
      "execution_count": null,
      "outputs": [
        {
          "output_type": "execute_result",
          "data": {
            "text/plain": [
              "2"
            ]
          },
          "metadata": {
            "tags": []
          },
          "execution_count": 107
        }
      ]
    },
    {
      "cell_type": "markdown",
      "metadata": {
        "id": "DlPemQ6SqGko"
      },
      "source": [
        "## **insert**\n",
        "\n",
        "Al contrario de `L.append()`, que adiciona un elemento al final de la lista, `L.insert(índice,objeto)` lo agrega un `objeto` en la posición indicada por `indice`.\n",
        "\n",
        "Almacenemos, por ejemplo, las tres últimas vocales en una lista."
      ]
    },
    {
      "cell_type": "code",
      "metadata": {
        "id": "3gQ0_LkUq_vB",
        "outputId": "4639531d-223b-4c0c-9e29-902dd98522c0",
        "colab": {
          "base_uri": "https://localhost:8080/",
          "height": 34
        }
      },
      "source": [
        "vocales = ['i','o','u']\n",
        "vocales"
      ],
      "execution_count": null,
      "outputs": [
        {
          "output_type": "execute_result",
          "data": {
            "text/plain": [
              "['i', 'o', 'u']"
            ]
          },
          "metadata": {
            "tags": []
          },
          "execution_count": 108
        }
      ]
    },
    {
      "cell_type": "markdown",
      "metadata": {
        "id": "ZsG5TmnCr-fv"
      },
      "source": [
        "Para agregar las vocales faltantes al inicio de la lista `vocales` lo hacemos de la siguiente forma:"
      ]
    },
    {
      "cell_type": "code",
      "metadata": {
        "id": "jQF8xKSKrK11",
        "outputId": "0d713b40-8496-48bc-e813-ae2b79286353",
        "colab": {
          "base_uri": "https://localhost:8080/",
          "height": 34
        }
      },
      "source": [
        "vocales.insert(0,'e')\n",
        "vocales.insert(0,'a')\n",
        "vocales"
      ],
      "execution_count": null,
      "outputs": [
        {
          "output_type": "execute_result",
          "data": {
            "text/plain": [
              "['a', 'e', 'i', 'o', 'u']"
            ]
          },
          "metadata": {
            "tags": []
          },
          "execution_count": 109
        }
      ]
    },
    {
      "cell_type": "markdown",
      "metadata": {
        "id": "v96IHyHesxC9"
      },
      "source": [
        "##**pop y revomove:**\n",
        "\n",
        "Si pretendemos eliminar algún elemento de una lista, existe en `python` dos métodos que cumplen este fin.\n",
        "\n",
        "Por una parte, el método `L.pop(índice)` elimina el valor contenido la posición `índice`. Por otra parte, si queremos eliminar un valor contenido en la lista, usamos el método `L.remove(valor)`.\n",
        "\n",
        "Veamos esto mediante dos ejemplos  aplicados en una misma lista:"
      ]
    },
    {
      "cell_type": "code",
      "metadata": {
        "id": "hOqX8XyasU3X",
        "outputId": "cb7fbd8e-4d7a-43db-970f-5ff9b41c159c",
        "colab": {
          "base_uri": "https://localhost:8080/",
          "height": 34
        }
      },
      "source": [
        "\n",
        "# Remoción en lista mediante el índice.\n",
        "vocales.pop(0)\n",
        "vocales"
      ],
      "execution_count": null,
      "outputs": [
        {
          "output_type": "execute_result",
          "data": {
            "text/plain": [
              "['e', 'i', 'o', 'u']"
            ]
          },
          "metadata": {
            "tags": []
          },
          "execution_count": 110
        }
      ]
    },
    {
      "cell_type": "code",
      "metadata": {
        "id": "W_RBlTuZumAY",
        "outputId": "66f2fbe4-aac7-4bf3-c193-62643b8c2106",
        "colab": {
          "base_uri": "https://localhost:8080/",
          "height": 34
        }
      },
      "source": [
        "# Remoción en lista de un valor:\n",
        "vocales.remove('e')\n",
        "vocales"
      ],
      "execution_count": null,
      "outputs": [
        {
          "output_type": "execute_result",
          "data": {
            "text/plain": [
              "['i', 'o', 'u']"
            ]
          },
          "metadata": {
            "tags": []
          },
          "execution_count": 111
        }
      ]
    },
    {
      "cell_type": "markdown",
      "metadata": {
        "id": "cawcwgYfxCEg"
      },
      "source": [
        "##**sort:**\n",
        "\n",
        "Si dentro de una lista contenemos diferentes nombres o apellidos, sería excelente contar con un método que nos permitiese organizar la lista en orden alfabético.\n",
        "\n",
        "El método `L.sort(key=None, reverse=False)` nos permite llevar a cabo esta tarea, teniendo en cuenta que la ordenación la se realizará teniendo en cuenta la siguiente gerarquía por defecto (es decir, si llamamos el método sin argumentos):\n",
        "\n",
        "- Caracteres especiales.\n",
        "- Números\n",
        "- Letras en máyusculas.\n",
        "- Letras en minúsculas."
      ]
    },
    {
      "cell_type": "code",
      "metadata": {
        "id": "BFK7eURaw2fM",
        "outputId": "7a678ad3-af1e-4fca-a824-9af086c943ba",
        "colab": {
          "base_uri": "https://localhost:8080/",
          "height": 34
        }
      },
      "source": [
        "aList = ['@','#','!','1','2','3','a','b','c','A','B','C']\n",
        "aList"
      ],
      "execution_count": null,
      "outputs": [
        {
          "output_type": "execute_result",
          "data": {
            "text/plain": [
              "['@', '#', '!', '1', '2', '3', 'a', 'b', 'c', 'A', 'B', 'C']"
            ]
          },
          "metadata": {
            "tags": []
          },
          "execution_count": 112
        }
      ]
    },
    {
      "cell_type": "code",
      "metadata": {
        "id": "OjpWitsv3gzV",
        "outputId": "85718386-16c8-49ba-f8b6-85a42867f4c3",
        "colab": {
          "base_uri": "https://localhost:8080/",
          "height": 34
        }
      },
      "source": [
        "aList.sort()\n",
        "aList"
      ],
      "execution_count": null,
      "outputs": [
        {
          "output_type": "execute_result",
          "data": {
            "text/plain": [
              "['!', '#', '1', '2', '3', '@', 'A', 'B', 'C', 'a', 'b', 'c']"
            ]
          },
          "metadata": {
            "tags": []
          },
          "execution_count": 113
        }
      ]
    },
    {
      "cell_type": "markdown",
      "metadata": {
        "id": "5DK9Er1R4f8S"
      },
      "source": [
        "Si especificamos en el argumento `reverse=True`, obtendremos la organización de forma invertida:"
      ]
    },
    {
      "cell_type": "code",
      "metadata": {
        "id": "KLICPMgT4zBP",
        "outputId": "f07360af-7c8c-49b2-8531-71d3f42a642e",
        "colab": {
          "base_uri": "https://localhost:8080/",
          "height": 34
        }
      },
      "source": [
        "aList.sort(reverse=True)\n",
        "aList\n"
      ],
      "execution_count": null,
      "outputs": [
        {
          "output_type": "execute_result",
          "data": {
            "text/plain": [
              "['c', 'b', 'a', 'C', 'B', 'A', '@', '3', '2', '1', '#', '!']"
            ]
          },
          "metadata": {
            "tags": []
          },
          "execution_count": 114
        }
      ]
    },
    {
      "cell_type": "markdown",
      "metadata": {
        "id": "gSY91KRu250m"
      },
      "source": [
        "Si por el contrario, queremos ordenar la lista priorizando a las letras en minúscula, hacemos en el argumento `key=str.lower`:"
      ]
    },
    {
      "cell_type": "code",
      "metadata": {
        "id": "eb_80WO63pbL",
        "outputId": "34f2bf09-af21-4df1-a326-628b727e0254",
        "colab": {
          "base_uri": "https://localhost:8080/",
          "height": 34
        }
      },
      "source": [
        "aList = ['@','#','!','1','2','3','a','b','c','A','B','C']\n",
        "aList.sort(key=str.lower)\n",
        "aList"
      ],
      "execution_count": null,
      "outputs": [
        {
          "output_type": "execute_result",
          "data": {
            "text/plain": [
              "['!', '#', '1', '2', '3', '@', 'a', 'A', 'b', 'B', 'c', 'C']"
            ]
          },
          "metadata": {
            "tags": []
          },
          "execution_count": 115
        }
      ]
    },
    {
      "cell_type": "markdown",
      "metadata": {
        "id": "LJlHgZqE5cn8"
      },
      "source": [
        "## **Listas y strings:**\n",
        "\n",
        "En la sección anterior se estudió la declaración y manipulación de strings en `python`. Teniendo en cuenta que un `string` es una secuencia de caracteres, podemos convertirlos en una lista de la siguiente manera usando la función de `python` `list()`.\n",
        "\n",
        "Supongamos que declaramos la cadena de caracteres:"
      ]
    },
    {
      "cell_type": "code",
      "metadata": {
        "id": "ZZoQrEwK6GXz",
        "outputId": "e43bcb7f-4f9d-444c-f3bc-62c5026e4fe1",
        "colab": {
          "base_uri": "https://localhost:8080/",
          "height": 34
        }
      },
      "source": [
        "s = \"Hola Mundo\"\n",
        "print(\"El tipo de la variable s es: \", type(s))"
      ],
      "execution_count": null,
      "outputs": [
        {
          "output_type": "stream",
          "text": [
            "El tipo de la variable s es:  <class 'str'>\n"
          ],
          "name": "stdout"
        }
      ]
    },
    {
      "cell_type": "markdown",
      "metadata": {
        "id": "FtEqMRnMLUgo"
      },
      "source": [
        "Para convertir este `string` en una lista hacemos:"
      ]
    },
    {
      "cell_type": "code",
      "metadata": {
        "id": "EH2lDSNiMBFM",
        "outputId": "6a3a099d-160a-47ac-bafa-60a08500e31e",
        "colab": {
          "base_uri": "https://localhost:8080/",
          "height": 50
        }
      },
      "source": [
        "s = list(s)\n",
        "\n",
        "print(\"Ahora, el tipo de la variable s ha sido convertido a: \", type(s))\n",
        "print(s)"
      ],
      "execution_count": null,
      "outputs": [
        {
          "output_type": "stream",
          "text": [
            "Ahora, el tipo de la variable s ha sido convertido a:  <class 'list'>\n",
            "['H', 'o', 'l', 'a', ' ', 'M', 'u', 'n', 'd', 'o']\n"
          ],
          "name": "stdout"
        }
      ]
    },
    {
      "cell_type": "markdown",
      "metadata": {
        "id": "EHzW9_NhNHIX"
      },
      "source": [
        "Tenga en cuenta que `list()` es una función predefinida en `python`, por lo tanto, debe evitar llamar a una lista con esta palabra.\n",
        "\n",
        "El almacenamiento de strings como listas resulta útil a la hora de hacer divisiones estableciendo un delimintador. Suponga, por ejemplo, que tiene un string que contiene diferentes palabras con espacios entre ellas, y que desea guardar las palabras por separado en una lista. Pordemos usar el método `.split()` de la clase `string` y almacenar el resultado en una variable; dicha variable será un objeto de la clase `list`."
      ]
    },
    {
      "cell_type": "code",
      "metadata": {
        "id": "psJFC0YuNGaA",
        "outputId": "f5507de5-885d-4988-b5dc-d198f8cbd834",
        "colab": {
          "base_uri": "https://localhost:8080/",
          "height": 34
        }
      },
      "source": [
        "s = \"Palabras a separar\"\n",
        "palabras_separadas = s.split()\n",
        "\n",
        "palabras_separadas"
      ],
      "execution_count": null,
      "outputs": [
        {
          "output_type": "execute_result",
          "data": {
            "text/plain": [
              "['Palabras', 'a', 'separar']"
            ]
          },
          "metadata": {
            "tags": []
          },
          "execution_count": 118
        }
      ]
    },
    {
      "cell_type": "markdown",
      "metadata": {
        "id": "MVD89spQRNnb"
      },
      "source": [
        "En este ejemplo, cuando llamamos el método `split` sin argumento, usa como delimitador para separar las palabras el espacio en blanco. Si tenemos un guión para separar las palabras y queremos almacenarlas uno a uno en una lista, debe especificar en el argumento este delimitador:"
      ]
    },
    {
      "cell_type": "code",
      "metadata": {
        "id": "RiHtqF4QR8Bl",
        "outputId": "bd2665e9-eb37-4fd2-d298-69bcd98ed6d7",
        "colab": {
          "base_uri": "https://localhost:8080/",
          "height": 34
        }
      },
      "source": [
        "s = \"Palabras-separadas-por-guiones\"\n",
        "\n",
        "palabras_separadas = s.split('-')\n",
        "\n",
        "palabras_separadas"
      ],
      "execution_count": null,
      "outputs": [
        {
          "output_type": "execute_result",
          "data": {
            "text/plain": [
              "['Palabras', 'separadas', 'por', 'guiones']"
            ]
          },
          "metadata": {
            "tags": []
          },
          "execution_count": 119
        }
      ]
    },
    {
      "cell_type": "markdown",
      "metadata": {
        "id": "peuVmRm2V6jO"
      },
      "source": [
        "En general, el argumento del método `split()` acepta cualquier delimitador representado por cualquier caracter."
      ]
    },
    {
      "cell_type": "markdown",
      "metadata": {
        "id": "_JFJhylsJlRZ"
      },
      "source": [
        "## **Concatenación de elementos de una lista con un string.**\n",
        "\n",
        "En algunos casos podria concatenarse los elementos de una lista con un string. Debido a que las listas pueden contener elementos de varios tipos, es mejor realizar un cambio de tipo (o casteo) a un string para evitar errores. Para realizar esta tarea existe la función predefinida en `python` `str()`, la cual podemos emplear de la siguiente forma en una lista de carateres y número `gen_list`:"
      ]
    },
    {
      "cell_type": "code",
      "metadata": {
        "id": "JlmAkX1ZKdov",
        "outputId": "7aecc785-a9ff-4fbc-80d3-747a0fc8ea55",
        "colab": {
          "base_uri": "https://localhost:8080/",
          "height": 84
        }
      },
      "source": [
        "gen_list = ['a', 4, 'hola', 10.9]\n",
        "\n",
        "print(\"Primer elemento del gen_List: \"+str(gen_list[0]))\n",
        "print(\"Primer elemento del gen_List: \"+str(gen_list[1]))\n",
        "print(\"Primer elemento del gen_List: \"+str(gen_list[2]))\n",
        "print(\"Primer elemento del gen_List: \"+str(gen_list[3]))"
      ],
      "execution_count": null,
      "outputs": [
        {
          "output_type": "stream",
          "text": [
            "Primer elemento del gen_List: a\n",
            "Primer elemento del gen_List: 4\n",
            "Primer elemento del gen_List: hola\n",
            "Primer elemento del gen_List: 10.9\n"
          ],
          "name": "stdout"
        }
      ]
    },
    {
      "cell_type": "markdown",
      "metadata": {
        "id": "p0BPDPlxMRAG"
      },
      "source": [
        "## **Ejercicios de listas:**"
      ]
    },
    {
      "cell_type": "markdown",
      "metadata": {
        "id": "3wlDohUHNLfF"
      },
      "source": [
        "**Ejercicio 1**:\n",
        "\n",
        "En la siguiente celda se crean varias listas con diferentes de diferentes longitudes. Si la lista es de longitud impar, imprima el elemento almacenado en la mitad de la lista, en caso contrario, imprima los dos elementos que se hallan en la mitad."
      ]
    },
    {
      "cell_type": "code",
      "metadata": {
        "id": "xtjaX8KG4X7Z"
      },
      "source": [
        "lista1 =list('paranguacutirimicuaro')\n",
        "lista2 =list('1234567890')\n",
        "lista3 =list('abcdefghijklmnopqrstvxyz')\n",
        "lista4 =[i for i in range(0,999,2)]"
      ],
      "execution_count": null,
      "outputs": []
    },
    {
      "cell_type": "markdown",
      "metadata": {
        "id": "TYJ-0Dkx5R1W"
      },
      "source": [
        "Para ver la solución al ejercicio haga doble click **aquí**\n",
        "\n",
        "<!----\n",
        "\n",
        "# si se hace len(lista)/2 se puede determinar la mitad de la lista. Si da un número entero, la lista es par y a ese entero se le resta 1 y se le suma 1, y esos dos valores se usan para imprimir los elementos en la mitad; si la división es decimal, se redondea hacia arriba y se imprime el elemento accediendo mediante el valor que se obtenga.\n",
        "----->"
      ]
    },
    {
      "cell_type": "markdown",
      "metadata": {
        "id": "Dd0ZRaJpqQ2R"
      },
      "source": [
        "**Ejercicio 2:**\n",
        "\n",
        "En un colegio personalizado del país, se tienen salones constituidos por 5 estudiantes. La lista de estudiantes de uno de ellos es:\n",
        "\n",
        "```\n",
        "kinderA_lista = ['Gómez, Sebastián', 'Arango, Natalia', 'Zambrano, Javier', 'Domingo, Carolina']\n",
        "````\n",
        "\n",
        "Organice dicha lista en orden alfabético, guardándola en la misma variable e imprímala en pantalla."
      ]
    },
    {
      "cell_type": "markdown",
      "metadata": {
        "id": "5mhF-zLv-Nqj"
      },
      "source": [
        "Para ver la solución del problema haga doble click **aquí**.\n",
        "\n",
        "<!----\n",
        "kinderA_lista = ['Gómez, Sebastián', 'Arango, Natalia', 'Zambrano, Javier', 'Domingo, Carolina']\n",
        "\n",
        "kinderA_lista.sort()\n",
        "\n",
        "kinderA_lista\n",
        "---->"
      ]
    },
    {
      "cell_type": "markdown",
      "metadata": {
        "id": "QmL4WrR4iGNk"
      },
      "source": [
        "**Ejercicio 3:** La siguiente lista representa una pequeña base de datos constituida por pacientes de una clinica en la ciudad de Medellín. Cada paciente se identifica como:\n",
        "\n",
        "```\n",
        "ID_numero-Medellin\n",
        "```\n",
        "\n",
        "Por motivos de optimización, una programador en `python`requier extraer solamente el número de identificación de cada elemento de la lista. Realice la extracción del número elemento por elemento, de la siguiente lista:\n",
        "\n",
        "\n",
        "```\n",
        "pacientes = [\"ID_0001-Medellin\",\"ID_0002-Medellin\",\"ID_0003-Medellin\",\"ID_0004-Medellin\"]\n",
        "```"
      ]
    },
    {
      "cell_type": "markdown",
      "metadata": {
        "id": "d-CfIB54-u69"
      },
      "source": [
        "Para ver la solución del problema haga doble click **aquí**.\n",
        "\n",
        "<!----\n",
        "pacientes = [\"ID_0001-Medellin\",\"ID_0002-Medellin\",\"ID_0003-Medellin\",\"ID_0004-Medellin\"]\n",
        "\n",
        "pacientes[0]=pacientes[0].split('-')[0].split('_')[1]\n",
        "pacientes[1]=pacientes[1].split('-')[0].split('_')[1]  \n",
        "pacientes[2]=pacientes[2].split('-')[0].split('_')[1]\n",
        "pacientes[3]=pacientes[3].split('-')[0].split('_')[1]\n",
        "pacientes\n",
        "---->"
      ]
    },
    {
      "cell_type": "markdown",
      "metadata": {
        "id": "IX1CLHaUcR90"
      },
      "source": [
        "#**Diccionarios**"
      ]
    },
    {
      "cell_type": "markdown",
      "metadata": {
        "id": "5VnTnXrfjPBJ"
      },
      "source": [
        "\n",
        "\n",
        "Los diccionarios son también parecidos a las listas, excepto que cada elemento es una pareja clave y valor. La sintaxis en los diccionarios es de la forma\n",
        "\n",
        "\n",
        "\n",
        "```\n",
        "mi_diccionario = {clave1 : valor1, clave2 : valor2,...,claveN : valorN}:\n",
        "```\n",
        "\n",
        "Definamos nuestros primer diccionario:\n"
      ]
    },
    {
      "cell_type": "code",
      "metadata": {
        "id": "Rdi35F11idbZ",
        "outputId": "76ee7d17-9d16-4155-c638-11b8d4502e4c",
        "colab": {
          "base_uri": "https://localhost:8080/",
          "height": 50
        }
      },
      "source": [
        "params = {\"parameter1\" : 1.0,\n",
        "          \"parameter2\" : 2.0,\n",
        "          \"parameter3\" : 3.0,}\n",
        "\n",
        "print(type(params))\n",
        "print(params)"
      ],
      "execution_count": null,
      "outputs": [
        {
          "output_type": "stream",
          "text": [
            "<class 'dict'>\n",
            "{'parameter1': 1.0, 'parameter2': 2.0, 'parameter3': 3.0}\n"
          ],
          "name": "stdout"
        }
      ]
    },
    {
      "cell_type": "markdown",
      "metadata": {
        "id": "2PZL5oYdktwF"
      },
      "source": [
        "A las entradas de los diccionarios solo puede accerderse mediante el nombre de la clave.\n"
      ]
    },
    {
      "cell_type": "code",
      "metadata": {
        "id": "93n0akRtj8nX",
        "outputId": "a0c5c60b-f464-4bbf-d408-c23bfdd34ce6",
        "colab": {
          "base_uri": "https://localhost:8080/",
          "height": 34
        }
      },
      "source": [
        "params[\"parameter2\"]"
      ],
      "execution_count": null,
      "outputs": [
        {
          "output_type": "execute_result",
          "data": {
            "text/plain": [
              "2.0"
            ]
          },
          "metadata": {
            "tags": []
          },
          "execution_count": 2
        }
      ]
    },
    {
      "cell_type": "markdown",
      "metadata": {
        "id": "Qe6b0_xNsU-m"
      },
      "source": [
        "En este sentido, los sentido, los índices de un diccionario pueden casi que de cualquier tipo.\n",
        "\n",
        "A la hora de imprimir los elementos de un diccionario por medio de la concatenación de `strings`, debemos ser precabidos y castear los valors del diccionario mediante la función `str()`:"
      ]
    },
    {
      "cell_type": "code",
      "metadata": {
        "id": "OFMQ9a7SlAMO",
        "outputId": "f8b8f2dd-d77c-4003-ad9b-ffd4f360be10",
        "colab": {
          "base_uri": "https://localhost:8080/",
          "height": 67
        }
      },
      "source": [
        "print(\"parameter1 = \" + str(params[\"parameter1\"]))\n",
        "print(\"parameter2 = \" + str(params[\"parameter2\"]))\n",
        "print(\"parameter3 = \" + str(params[\"parameter3\"]))"
      ],
      "execution_count": null,
      "outputs": [
        {
          "output_type": "stream",
          "text": [
            "parameter1 = 1.0\n",
            "parameter2 = 2.0\n",
            "parameter3 = 3.0\n"
          ],
          "name": "stdout"
        }
      ]
    },
    {
      "cell_type": "markdown",
      "metadata": {
        "id": "yFMpZhRBtBzi"
      },
      "source": [
        "Los valores de los diccionarios pueden ser reasignados, accediendo mendiante la palabra clave y usando el operar `=`, de la siguiente forma:"
      ]
    },
    {
      "cell_type": "code",
      "metadata": {
        "id": "VKmRpnJLlKQE",
        "outputId": "3608c265-e193-4a9c-cc65-57e4251dcc1f",
        "colab": {
          "base_uri": "https://localhost:8080/",
          "height": 34
        }
      },
      "source": [
        "params[\"parameter1\"] = \"A\"\n",
        "params[\"parameter2\"] = \"B\"\n",
        "\n",
        "params"
      ],
      "execution_count": null,
      "outputs": [
        {
          "output_type": "execute_result",
          "data": {
            "text/plain": [
              "{'parameter1': 'A', 'parameter2': 'B', 'parameter3': 3.0}"
            ]
          },
          "metadata": {
            "tags": []
          },
          "execution_count": 4
        }
      ]
    },
    {
      "cell_type": "markdown",
      "metadata": {
        "id": "Bub26ZP2tmw_"
      },
      "source": [
        "Para adicionar una nueva entrada en el diccionario, lo realizamos de la siguiente forma:\n",
        "\n",
        "\n",
        "\n",
        "```\n",
        "mi_diccionario[clave_nueva] = valor\n",
        "```\n",
        "\n",
        "Agregemos una entrada nueva al diccionario `params`:\n",
        "\n"
      ]
    },
    {
      "cell_type": "code",
      "metadata": {
        "id": "563W64Wztnm7",
        "outputId": "a7e4b6af-4cb6-4804-f13a-077e2356a5c4",
        "colab": {
          "base_uri": "https://localhost:8080/",
          "height": 34
        }
      },
      "source": [
        "# Entrada nueva\n",
        "params[\"parameter4\"] = \"D\"\n",
        "params"
      ],
      "execution_count": null,
      "outputs": [
        {
          "output_type": "execute_result",
          "data": {
            "text/plain": [
              "{'parameter1': 'A', 'parameter2': 'B', 'parameter3': 3.0, 'parameter4': 'D'}"
            ]
          },
          "metadata": {
            "tags": []
          },
          "execution_count": 5
        }
      ]
    },
    {
      "cell_type": "code",
      "metadata": {
        "id": "jeL7iIy_vJdG",
        "outputId": "26be9388-49e1-4c22-ec64-28532828730b",
        "colab": {
          "base_uri": "https://localhost:8080/",
          "height": 34
        }
      },
      "source": [
        "params.get('parameter44',1)"
      ],
      "execution_count": null,
      "outputs": [
        {
          "output_type": "execute_result",
          "data": {
            "text/plain": [
              "1"
            ]
          },
          "metadata": {
            "tags": []
          },
          "execution_count": 6
        }
      ]
    },
    {
      "cell_type": "markdown",
      "metadata": {
        "id": "zZFCzyoTVLrY"
      },
      "source": [
        "### **Métodos de la clase diccionario:**\n",
        "\n",
        "Los métodos más naturales que podriamos advertir en un diccionario correspondería dos métodos que impriman las claves y valores de los diccionarios; estos métodos estan constituidos, respectivamente, por `.keys()` y `.values`:"
      ]
    },
    {
      "cell_type": "code",
      "metadata": {
        "id": "UELfjtdEzeEG",
        "outputId": "a455db08-02cb-4574-8075-dff4094825dd",
        "colab": {
          "base_uri": "https://localhost:8080/",
          "height": 50
        }
      },
      "source": [
        "print(\"Claves del diccionario params\", params.keys())\n",
        "print(\"Valores del diccionario params\", params.values())"
      ],
      "execution_count": null,
      "outputs": [
        {
          "output_type": "stream",
          "text": [
            "Claves del diccionario params dict_keys(['parameter1', 'parameter2', 'parameter3', 'parameter4'])\n",
            "Valores del diccionario params dict_values(['A', 'B', 3.0, 'D'])\n"
          ],
          "name": "stdout"
        }
      ]
    },
    {
      "cell_type": "markdown",
      "metadata": {
        "id": "cqx347Tw0Y6q"
      },
      "source": [
        "Por otra parte, mediante el método `item()` podemos obtener todas las parejas de clave-valor de un diccionario:"
      ]
    },
    {
      "cell_type": "code",
      "metadata": {
        "id": "-q-W2bCT3VkU",
        "outputId": "3d23fe84-c5b5-4e7b-de0b-4109b593720b",
        "colab": {
          "base_uri": "https://localhost:8080/",
          "height": 54
        }
      },
      "source": [
        "params.items()"
      ],
      "execution_count": null,
      "outputs": [
        {
          "output_type": "execute_result",
          "data": {
            "text/plain": [
              "dict_items([('parameter1', 1.0), ('parameter2', 2.0), ('parameter3', 3.0)])"
            ]
          },
          "metadata": {
            "tags": []
          },
          "execution_count": 22
        }
      ]
    },
    {
      "cell_type": "markdown",
      "metadata": {
        "id": "E1k-k1ttwa3B"
      },
      "source": [
        "## **Ejercicios**"
      ]
    },
    {
      "cell_type": "markdown",
      "metadata": {
        "id": "rf_9faQuwi3o"
      },
      "source": [
        "###**Ejercicio:**"
      ]
    },
    {
      "cell_type": "markdown",
      "metadata": {
        "id": "ImjKf1DUv-io"
      },
      "source": [
        "Las siguientes líneas de código construyen un histograma de una variable `s` a partir de la creacción de un histograma:\n",
        "\n",
        "\n",
        "\n",
        "```\n",
        "def histograma(s):\n",
        "  d = dict()\n",
        "  for c in s:\n",
        "    if c not in d:\n",
        "      d[c] = 1\n",
        "    else:\n",
        "      d[c] += 1\n",
        "  return d\n",
        "```\n",
        "\n",
        "Supongamos que usamos la función anterior para crear un histograma de los caracteres de alguna palabra u oración:\n",
        "\n",
        "\n",
        "```\n",
        "palabra = 'electroencefalografista'\n",
        "h=histograma(palabra)\n",
        "```\n",
        "\n",
        "Por otra parte, el método  `get()` de un diccionario recibe dos argumentos: `clave1` y `valor1`. Si la clave está dentro del diccionario, devuelve el valor asociado a clave dentro del dicciorio, sino, devuelve `valor1`. Use éste método para eliminar el condicional de la función `histograma`.\n",
        "\n",
        "\n"
      ]
    },
    {
      "cell_type": "markdown",
      "metadata": {
        "id": "-1VNlELf3xgN"
      },
      "source": [
        "Para ver la solución al ejercicio haga doble click **aquí**\n",
        "\n",
        "<!----\n",
        "def histograma(s):\n",
        "  d = dict()\n",
        "  for c in s:\n",
        "    d[c] = 1+d.get(c,0)\n",
        "  return d\n",
        "\n",
        "palabra = 'electroencefalografista'\n",
        "h = histograma(palabra)\n",
        "h\n",
        "----->"
      ]
    },
    {
      "cell_type": "markdown",
      "metadata": {
        "id": "k3LCIGm2yJ7c"
      },
      "source": [
        "### **Ejercicio:**\n",
        "\n",
        "Suponga que tiene los siguients dos diccionarios:\n",
        "\n",
        "\n",
        "\n",
        "```\n",
        "a = {'x' : 1, 'y' : 2, 'z' : 3}\n",
        "b = {'w' : 10, 'x' : 11,'y' : 2}\n",
        "```\n",
        "\n",
        "Encuentre las claves e ítems comunes de ambos diccionarios.\n"
      ]
    },
    {
      "cell_type": "markdown",
      "metadata": {
        "id": "BZ76WLIU3gqM"
      },
      "source": [
        "Para ver la solución al ejercicio haga doble click **aquí**\n",
        "<!----\n",
        "a = {'x' : 1, 'y' : 2, 'z' : 3}\n",
        "b = {'w' : 10, 'x' : 11,'y' : 2}\n",
        "print(\"Claves en común\", a.keys()&b.keys())\n",
        "print(\"Claves en común\", a.items()&b.items())\n",
        "---->\n"
      ]
    },
    {
      "cell_type": "markdown",
      "metadata": {
        "id": "pqi4Yoe04J66"
      },
      "source": [
        "#**Tuplas**\n",
        "\n",
        "En esta sección estudiantemo un tipo predefinido en `python`conocido como `tuplas`."
      ]
    },
    {
      "cell_type": "markdown",
      "metadata": {
        "id": "nLpPyNNqs8Jh"
      },
      "source": [
        "## **Declaración de una tupla:**\n",
        "\n",
        "Las **tuplas** representa una secuentacia de valores, cuya característica principal es que, una vez definido sus valores, estos **no son reasignables o inmutables**. Al declarar una tupla, cada valor debe ser separado por una coma. Para declarar una tupla, usamos la misma sintaxis que al declarar una lista pero en lugar de usar corchetes `[]`, se hace uso de parentesis `()`:\n",
        "\n",
        "\n"
      ]
    },
    {
      "cell_type": "code",
      "metadata": {
        "id": "CJeioXYJbwvW",
        "outputId": "17901465-618b-4c06-8845-cd0e0eb708a6",
        "colab": {
          "base_uri": "https://localhost:8080/",
          "height": 34
        }
      },
      "source": [
        "mi_tupla = ('a',1,'b',2)\n",
        "print(type(mi_tupla))"
      ],
      "execution_count": null,
      "outputs": [
        {
          "output_type": "stream",
          "text": [
            "<class 'tuple'>\n"
          ],
          "name": "stdout"
        }
      ]
    },
    {
      "cell_type": "markdown",
      "metadata": {
        "id": "aKPUrRjat5OM"
      },
      "source": [
        "En el código anterior hemos instanciado un objeto de la clase tupla y lo hemos almacenado en `mi_tupla`. Podemos observar, que al igual que las listas, las tuplas pueden almacenar elementos de diferentes tipos.\n",
        "\n",
        "Para acceder a un elemento de una tupla, usamos indices enteros mediante el operador corchetes:\n"
      ]
    },
    {
      "cell_type": "code",
      "metadata": {
        "id": "_bGa9eU1u86C",
        "outputId": "4dc6a926-adfb-40dd-f8dc-e87b4e58e849",
        "colab": {
          "base_uri": "https://localhost:8080/",
          "height": 50
        }
      },
      "source": [
        "print(\"El valor del primer elemento de 'mi_tupla' es '%(n)s' y su clase es %(s)s\" % {'n': mi_tupla[0], 's': type(mi_tupla[0])})\n",
        "print(\"El valor del segundo elemento de 'mi_tupla' es '%(n)s' y su clase es %(s)s\" % {'n': mi_tupla[1], 's': type(mi_tupla[1])})\n"
      ],
      "execution_count": null,
      "outputs": [
        {
          "output_type": "stream",
          "text": [
            "El valor del primer elemento de 'mi_tupla' es 'a' y su clase es <class 'str'>\n",
            "El valor del segundo elemento de 'mi_tupla' es '1' y su clase es <class 'int'>\n"
          ],
          "name": "stdout"
        }
      ]
    },
    {
      "cell_type": "markdown",
      "metadata": {
        "id": "Ro7yluWg1FKU"
      },
      "source": [
        "Si pretendemos reasignar un valor a un elemento de una tupla existente, obtendremos una error\n",
        "\n",
        "```\n",
        "TypeError: 'tuple' object does not support item assignment\n",
        "```\n"
      ]
    },
    {
      "cell_type": "code",
      "metadata": {
        "id": "x-Og_17L1XM4",
        "outputId": "e71f24c2-bda3-45b8-a1cb-121df8779fb1",
        "colab": {
          "base_uri": "https://localhost:8080/",
          "height": 34
        }
      },
      "source": [
        "try:\n",
        "  mi_tupla[0]=4 # intentamos reasignar un valor de un elemento de una tupla predefinida.\n",
        "except TypeError as tp:\n",
        "  print(tp)"
      ],
      "execution_count": null,
      "outputs": [
        {
          "output_type": "stream",
          "text": [
            "'tuple' object does not support item assignment\n"
          ],
          "name": "stdout"
        }
      ]
    },
    {
      "cell_type": "markdown",
      "metadata": {
        "id": "g47Z93XGx6BJ"
      },
      "source": [
        "Otra forma para crear un objeto de la clase tupla es mediante la función predefinida en `python` `tuple()`. En el caso en que invoquemos la función  `tuple()` sin argumento, esta creará una tupla vacia:"
      ]
    },
    {
      "cell_type": "code",
      "metadata": {
        "id": "TYWO2f_RvP5p",
        "outputId": "2191a9a0-f577-48f4-b6b9-11a63c3712d7",
        "colab": {
          "base_uri": "https://localhost:8080/",
          "height": 34
        }
      },
      "source": [
        "tupla_vacia = tuple()\n",
        "tupla_vacia"
      ],
      "execution_count": null,
      "outputs": [
        {
          "output_type": "execute_result",
          "data": {
            "text/plain": [
              "()"
            ]
          },
          "metadata": {
            "tags": []
          },
          "execution_count": 19
        }
      ]
    },
    {
      "cell_type": "markdown",
      "metadata": {
        "id": "Ond3gl2nyn33"
      },
      "source": [
        "Si introducimos en el argumento de la función `tuple()` un string, obtendremos una tupla, donde cada elemento almacena un caracter de la cadena:"
      ]
    },
    {
      "cell_type": "code",
      "metadata": {
        "id": "g0tHfSllx3on",
        "outputId": "1c5e80a9-1dee-4ba1-e9bc-bec19195384e",
        "colab": {
          "base_uri": "https://localhost:8080/",
          "height": 34
        }
      },
      "source": [
        "cadena_tupla = tuple('tupla cadena')\n",
        "cadena_tupla"
      ],
      "execution_count": null,
      "outputs": [
        {
          "output_type": "execute_result",
          "data": {
            "text/plain": [
              "('t', 'u', 'p', 'l', 'a', ' ', 'c', 'a', 'd', 'e', 'n', 'a')"
            ]
          },
          "metadata": {
            "tags": []
          },
          "execution_count": 20
        }
      ]
    },
    {
      "cell_type": "markdown",
      "metadata": {
        "id": "I-_huGYMzW20"
      },
      "source": [
        "Si en lugar de un `string`, le pasamos una lista como argumento a la función `tuple()`, separando cada elemento de la lista por una coma, la función retornará una tupla cuyos elementos son los elementos de la lista:"
      ]
    },
    {
      "cell_type": "code",
      "metadata": {
        "id": "PxKMBzVCzAUQ",
        "outputId": "6b942be5-cd43-4a4d-f4b5-6ecfba008155",
        "colab": {
          "base_uri": "https://localhost:8080/",
          "height": 34
        }
      },
      "source": [
        "tupla2 = tuple(['a',1,2,'aeiou'])\n",
        "tupla2"
      ],
      "execution_count": null,
      "outputs": [
        {
          "output_type": "execute_result",
          "data": {
            "text/plain": [
              "('a', 1, 2, 'aeiou')"
            ]
          },
          "metadata": {
            "tags": []
          },
          "execution_count": 21
        }
      ]
    },
    {
      "cell_type": "markdown",
      "metadata": {
        "id": "rbRdeUhu0DvM"
      },
      "source": [
        "## **Seccionado de tuplas en python:**\n",
        "\n",
        "El seccionado o *slicing* de tuplas en `python`, se realiza de forma análoga al seccionado llevado a cabo en las listas. Por lo tanto, las mismas reglas de *slicing* explicadas en las listas se cumple en las tuplas:"
      ]
    },
    {
      "cell_type": "code",
      "metadata": {
        "id": "Ubd3hCDbzR9z",
        "outputId": "840d4850-0644-43ec-ca81-7d57fe83db43",
        "colab": {
          "base_uri": "https://localhost:8080/",
          "height": 84
        }
      },
      "source": [
        "print(\"Selección de todos los elementos:\", cadena_tupla[:])\n",
        "print(\"Selección de los primeros cuatro elementos: \", cadena_tupla[:4])\n",
        "print(\"Selección de los elementos entre los índices 3 y 5: \", cadena_tupla[3:5])\n",
        "print(\"Selección de los últimos 3 elementos de la tupla:\", cadena_tupla[-3:])"
      ],
      "execution_count": null,
      "outputs": [
        {
          "output_type": "stream",
          "text": [
            "Selección de todos los elementos: ('t', 'u', 'p', 'l', 'a', ' ', 'c', 'a', 'd', 'e', 'n', 'a')\n",
            "Selección de los primeros cuatro elementos:  ('t', 'u', 'p', 'l')\n",
            "Selección de los elementos entre los índices 3 y 5:  ('l', 'a')\n",
            "Selección de los últimos 3 elementos de la tupla: ('e', 'n', 'a')\n"
          ],
          "name": "stdout"
        }
      ]
    },
    {
      "cell_type": "markdown",
      "metadata": {
        "id": "1NrUn1IM4gCG"
      },
      "source": [
        "##  **Asignación mediante tuplas**:\n",
        "\n",
        "El uso de tuplas en python para asignar/reasignar valores en `python`, permite la simplificación del código en programación.\n",
        "\n",
        "Imaginemos que quereremos intercambiar los valores almacenados en dos variables. Sea `v1` y `v2` dos variables predefinidas en nuestras líneas de código. Podemos definir una variable temporal `tmp` que almacene el valor de una de las variables, por ejemplo `v1`, hacer `v1=v2` y `v2=tmp`:"
      ]
    },
    {
      "cell_type": "code",
      "metadata": {
        "id": "VfB0GKJA1nzN",
        "outputId": "ac34eb04-b2d0-4585-d048-ce59331a71c9",
        "colab": {
          "base_uri": "https://localhost:8080/",
          "height": 84
        }
      },
      "source": [
        "v1 = 1\n",
        "v2 = 2\n",
        "\n",
        "print(\"La variable v1 inicial es: \", v1)\n",
        "print(\"La variable v2 inicial es: \", v2)\n",
        "\n",
        "tmp = v1\n",
        "v1 = v2\n",
        "v2 = tmp\n",
        "\n",
        "print(\"La variable v1 final es: \", v1)\n",
        "print(\"La variable v2 final es: \", v2)"
      ],
      "execution_count": null,
      "outputs": [
        {
          "output_type": "stream",
          "text": [
            "La variable v1 inicial es:  1\n",
            "La variable v2 inicial es:  2\n",
            "La variable v1 final es:  2\n",
            "La variable v2 final es:  1\n"
          ],
          "name": "stdout"
        }
      ]
    },
    {
      "cell_type": "markdown",
      "metadata": {
        "id": "7vEsWgfL6GaN"
      },
      "source": [
        "Este procedimiento lo podemos reducir, y presentarlo de forma más elegante mediante el uso de tuplas:"
      ]
    },
    {
      "cell_type": "code",
      "metadata": {
        "id": "8BP3L_x96DAA",
        "outputId": "c72c5e4e-240e-4e47-83dc-b2728e4194c2",
        "colab": {
          "base_uri": "https://localhost:8080/",
          "height": 84
        }
      },
      "source": [
        "v1 = 1\n",
        "v2 = 2\n",
        "\n",
        "print(\"La variable v1 inicial es: \", v1)\n",
        "print(\"La variable v2 inicial es: \", v2)\n",
        "\n",
        "v1, v2 = v2, v1\n",
        "\n",
        "print(\"La variable v1 final es: \", v1)\n",
        "print(\"La variable v2 final es: \", v2)"
      ],
      "execution_count": null,
      "outputs": [
        {
          "output_type": "stream",
          "text": [
            "La variable v1 inicial es:  1\n",
            "La variable v2 inicial es:  2\n",
            "La variable v1 final es:  2\n",
            "La variable v2 final es:  1\n"
          ],
          "name": "stdout"
        }
      ]
    },
    {
      "cell_type": "markdown",
      "metadata": {
        "id": "whwo9JoC6c43"
      },
      "source": [
        "Podemos observar que, hemos utilizado la sintaxis mediante tuplas para reasignar valores a las variables `v1` y `v2`; en ningún momento estas variables representan tuplas ya que, como mencionamos anteriormente, **las tuplas son inmutables**.\n",
        "\n",
        "Por otra parte, el número de variables al lado derecho de la asignación debe ser igual al número de variables al lado derecho de la asignación, en caso contrario, obtendremos una error de tipo `ValueError`:"
      ]
    },
    {
      "cell_type": "code",
      "metadata": {
        "id": "4YMCUqYZ6bn5"
      },
      "source": [
        "try:\n",
        "  v1,v2 = 1,3,4\n",
        "except ValueError as ve:\n",
        "  print(ve)"
      ],
      "execution_count": null,
      "outputs": []
    },
    {
      "cell_type": "markdown",
      "metadata": {
        "id": "NeZv0Q6m8Go0"
      },
      "source": [
        "**Ejemplo:**\n",
        "\n",
        "Almacene en dos variables el usuario y dominio del correo electronico `andresCastro19@udea.edu.co`:"
      ]
    },
    {
      "cell_type": "code",
      "metadata": {
        "id": "a9fEqIKF74Sx",
        "outputId": "49632e17-598a-4bed-ff18-ea874783efc9",
        "colab": {
          "base_uri": "https://localhost:8080/",
          "height": 34
        }
      },
      "source": [
        "email = 'andresCastro19@udea.edu.co'\n",
        "\n",
        "usuario,dominio = email.split('@')\n",
        "\n",
        "print(\"En el e-mail, dominio es %s y el usuario %s\"%(usuario,dominio))"
      ],
      "execution_count": null,
      "outputs": [
        {
          "output_type": "stream",
          "text": [
            "En el e-mail, dominio es andresCastro19 y el usuario udea.edu.co\n"
          ],
          "name": "stdout"
        }
      ]
    },
    {
      "cell_type": "markdown",
      "metadata": {
        "id": "arIAylbU-tMT"
      },
      "source": [
        "## **Tuplas y valores retornado**\n",
        "\n",
        "En `python`, podemos obtener de funciones predefinidas o programadas, devoluciones en forma de tupla. Por ejemplo, la función predefinida en `python` `divmod` toma dos argumentos numéricos y devuelve el cociente y residuo entre ellos. Estos valores pueden ser almacenados en una variable que se convertirá en una tupla, o en dos variables independientes que constituirán números. Veamos esto:"
      ]
    },
    {
      "cell_type": "code",
      "metadata": {
        "id": "qJHQgQ1U9d6M",
        "outputId": "85aca05d-41f3-481c-95ee-1556bb740c10",
        "colab": {
          "base_uri": "https://localhost:8080/",
          "height": 50
        }
      },
      "source": [
        "# Cociente y residuo almacenados como una tupla\n",
        "cos_res = divmod(13,6)\n",
        "print(\"La tupla cociente/residuo de dividir 13 entre 6 es: \", cos_res)\n",
        "\n",
        "# Cociente y residuo almacenados en variables independientes:\n",
        "cos,res = divmod(13,6)\n",
        "print(\"El cociente y residuo de dividir 13 entre 6 son: \", cos, \"y\",res)"
      ],
      "execution_count": null,
      "outputs": [
        {
          "output_type": "stream",
          "text": [
            "La tupla cociente/residuo de dividir 13 entre 6 es:  (2, 1)\n",
            "El cociente y residuo de dividir 13 entre 6 son:  2 y 1\n"
          ],
          "name": "stdout"
        }
      ]
    },
    {
      "cell_type": "markdown",
      "metadata": {
        "id": "qtGCM3EjDeFy"
      },
      "source": [
        "## **Argumentos de longitud variables como tuplas**\n",
        "\n",
        "Las funciones en `python` pueden tomar un número variable de argumentos. Por ejemplo, si se tiene un parametro que empieza por `*`, este juntará todos los argumentos. Definamos una función que inplima todos los argumentos que se pasen dentro de `()`:"
      ]
    },
    {
      "cell_type": "code",
      "metadata": {
        "id": "8O9DrJZTChMP",
        "outputId": "287a8d2a-0579-4519-c740-81b5a3efcf9a",
        "colab": {
          "base_uri": "https://localhost:8080/",
          "height": 34
        }
      },
      "source": [
        "def print_arguments(*args):\n",
        "  print(args)\n",
        "\n",
        "print_arguments(1,2,3,'a','b')"
      ],
      "execution_count": null,
      "outputs": [
        {
          "output_type": "stream",
          "text": [
            "(1, 2, 3, 'a', 'b')\n"
          ],
          "name": "stdout"
        }
      ]
    },
    {
      "cell_type": "markdown",
      "metadata": {
        "id": "8m2JBCAzXHcD"
      },
      "source": [
        "Por el contario, si se tiene una tupla que define varios parámetros, una función de python que reciba exactamente dos argumentos no podrá recibir dicha tupla, sino sus elementos por separado. Vemos esto con la función `divmod()`"
      ]
    },
    {
      "cell_type": "markdown",
      "metadata": {
        "id": "oDRqEzlaXVII"
      },
      "source": []
    },
    {
      "cell_type": "code",
      "metadata": {
        "id": "Gr0a3vU5XG1N",
        "outputId": "4a114bec-be9c-48ea-b89a-1725fbbf0bbe",
        "colab": {
          "base_uri": "https://localhost:8080/",
          "height": 34
        }
      },
      "source": [
        "numbers = (7,3)\n",
        "\n",
        "try:\n",
        "  divmod(numbers)\n",
        "except TypeError as TE:\n",
        "  print(TE)"
      ],
      "execution_count": null,
      "outputs": [
        {
          "output_type": "stream",
          "text": [
            "divmod expected 2 arguments, got 1\n"
          ],
          "name": "stdout"
        }
      ]
    },
    {
      "cell_type": "markdown",
      "metadata": {
        "id": "TyUnMg8YZVz9"
      },
      "source": [
        "Para solucionar este problema, podemos usar el operador `*` aplicado en la tupla para **separ** sus elementos:"
      ]
    },
    {
      "cell_type": "code",
      "metadata": {
        "id": "stzBi_3PD7u9",
        "outputId": "5109b8b7-b40a-43e2-e28b-018080bf505f",
        "colab": {
          "base_uri": "https://localhost:8080/",
          "height": 34
        }
      },
      "source": [
        "divmod(*numbers)"
      ],
      "execution_count": null,
      "outputs": [
        {
          "output_type": "execute_result",
          "data": {
            "text/plain": [
              "(2, 1)"
            ]
          },
          "metadata": {
            "tags": []
          },
          "execution_count": 29
        }
      ]
    },
    {
      "cell_type": "markdown",
      "metadata": {
        "id": "Q2JUtm8SZ6WZ"
      },
      "source": [
        "No obstante, existen funciones predefinidas en `python` que si aceptan un número variable de argumentos. Por ejemplo, las funciones `min` y `max` determinan los números máximos y mínimos entre un número variable de arguméntos. En este caso, dichas podemos usar tuplas como argumento de las funciones:"
      ]
    },
    {
      "cell_type": "code",
      "metadata": {
        "id": "z8aVW7oRZvAw",
        "outputId": "d08493c2-05de-4695-ae22-392c994ec0e0",
        "colab": {
          "base_uri": "https://localhost:8080/",
          "height": 50
        }
      },
      "source": [
        "numbers = (92,24,2,333,1)\n",
        "\n",
        "print(\"El valor máximo de la tupla numbers es:\",max(numbers))\n",
        "print(\"El valor mínimo de la tupla numbers es:\",min(numbers))"
      ],
      "execution_count": null,
      "outputs": [
        {
          "output_type": "stream",
          "text": [
            "El valor máximo de la tupla numbers es: 333\n",
            "El valor mínimo de la tupla numbers es: 1\n"
          ],
          "name": "stdout"
        }
      ]
    },
    {
      "cell_type": "markdown",
      "metadata": {
        "id": "z7fhy2jvdCRj"
      },
      "source": [
        "## **Iteradores como listas y tuplas:**\n",
        "\n",
        "Existe una función predefinida en `python`, conocida como `zip`, la cual recibe como argumento dos conjuntos de secuencias y las intercala, formando una especie de \"cierre\".\n",
        "\n",
        "\n",
        "A efectos prácticos, imaginemos por ejemplo que tenemos dos tuplas; la primera de ellas contiene una lista de nombres `a=('Juan','Pedro','Maria')`; la segunda de ellas sus edades `b=(6,10,2)`. La función `zip(a,b)` intercala los elementos como se muestra en la siguiente gráfica.\n",
        "\n",
        "\n",
        "<center><p class=\"aligncenter\">\n",
        "    <img src=\"https://github.com/diplomado-bigdata-machinelearning-udea/curso0/blob/master/S03/img/zip_1.png?raw=true\" />\n",
        "</p></center>\n",
        "\n",
        "En forma de código, lo anterior podemos escribirlo como:\n"
      ]
    },
    {
      "cell_type": "code",
      "metadata": {
        "id": "6yAKd84AkzYC"
      },
      "source": [
        "nombres = ('Juan','Pedro','Maria')\n",
        "edades = (6,10,12)\n",
        "\n",
        "list(zip(nombres,edades))"
      ],
      "execution_count": null,
      "outputs": []
    },
    {
      "cell_type": "markdown",
      "metadata": {
        "id": "fLwixKVvlOPu"
      },
      "source": [
        "La función `zip()`, resulta sumamente útil a la hora de realizar clicos `for`, donde mezclemos gráficos y títulos, o datos y etiquétas almacenadas en diferentes variables."
      ]
    },
    {
      "cell_type": "markdown",
      "metadata": {
        "id": "nL1kug2rau_5"
      },
      "source": [
        "## **Ejercicios:**"
      ]
    },
    {
      "cell_type": "markdown",
      "metadata": {
        "id": "jH8OieKfa3tE"
      },
      "source": [
        "###**Ejercicio:**\n",
        "\n",
        "Determine si la función predefinida en python `sum()` puede ser llamada de la forma\n",
        "\n",
        "```\n",
        "sum(23,14,55,2)\n",
        "```\n",
        "\n",
        "En caso de no ser posible, consulte la ayuda de la función y plantee una forma de resolver el problema.\n",
        "\n"
      ]
    },
    {
      "cell_type": "markdown",
      "metadata": {
        "id": "S5az8-fVcWq2"
      },
      "source": [
        "Para ver la solución al ejercicio haga doble click **aquí**\n",
        "\n",
        "<!----\n",
        "\n",
        "# Celda 1\n",
        "sum(23,14,55,2)\n",
        "\n",
        "# Celda 2\n",
        "# Luego de consultar la ayuda de la función sum(), vemos que el argumento que recibe debe ser un iterable: una tupla lo es!\n",
        "\n",
        "numbers = (23,14,55,2)\n",
        "sum(numbers)\n",
        "\n",
        "----->"
      ]
    },
    {
      "cell_type": "markdown",
      "metadata": {
        "id": "f9zK68bLnKAu"
      },
      "source": [
        "###**Ejercicio:**\n",
        "\n",
        "Imagine que tiene dos barajas separadas de cartas idénticas e incompletas definidas por el siguiente conjunto de cartas, organizadas una tras otra:\n",
        "\n",
        "'A picas', '2 picas', '3 picas', '4 picas', '5 picas', '6 picas', '7 picas', '8 picas', '9 picas'.\n",
        "\n",
        "Si se quiere barajar dichas cartas, de tal forma que queden por ordenadas por parejas las cartas iguales ¿cómo podria realizaarlo en `python`?"
      ]
    },
    {
      "cell_type": "markdown",
      "metadata": {
        "id": "D-lSndUJp7BD"
      },
      "source": [
        "Para ver la solución al ejercicio haga doble click **aquí**\n",
        "\n",
        "<!----\n",
        "\n",
        "baraja = ['A picas', '2 picas', '3 picas', '4 picas', '5 picas', '6 picas', '7 picas', '8 picas', '9 picas']\n",
        "list(zip(baraja,baraja))\n",
        "\n",
        "----->"
      ]
    },
    {
      "cell_type": "code",
      "metadata": {
        "id": "wL2F1N5b5PU0"
      },
      "source": [],
      "execution_count": null,
      "outputs": []
    }
  ]
}