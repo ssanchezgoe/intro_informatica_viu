{
  "nbformat": 4,
  "nbformat_minor": 0,
  "metadata": {
    "colab": {
      "provenance": [],
      "authorship_tag": "ABX9TyNU4/C5ukQYZQwez6Qs2okr",
      "include_colab_link": true
    },
    "kernelspec": {
      "name": "python3",
      "display_name": "Python 3"
    },
    "language_info": {
      "name": "python"
    }
  },
  "cells": [
    {
      "cell_type": "markdown",
      "metadata": {
        "id": "view-in-github",
        "colab_type": "text"
      },
      "source": [
        "<a href=\"https://colab.research.google.com/github/ssanchezgoe/intro_informatica_viu/blob/main/notebooks/numpy_matplotlib_clases.ipynb\" target=\"_parent\"><img src=\"https://colab.research.google.com/assets/colab-badge.svg\" alt=\"Open In Colab\"/></a>"
      ]
    },
    {
      "cell_type": "markdown",
      "metadata": {
        "id": "hn__DFsalOfa"
      },
      "source": [
        "<p><a name=\"numpy\"></a></p>\n",
        "\n",
        "# 1. Numpy\n",
        "\n",
        "[[Contenidos]](#contents)\n",
        "\n",
        "\n",
        "Numpy es la librería central para el computo científico en Python. Esta librería proporciona objetos matriciales multidimensionales de alto desempeño, además de herramientas para trabajar con estos arreglos. Para quienes estén familiarizados con el algebra lineal encontrarán este tutorial útil para empezar a trabajar con Numpy."
      ]
    },
    {
      "cell_type": "code",
      "metadata": {
        "id": "Q2JaOEXgoV5b"
      },
      "source": [
        "#importación de numpy\n",
        "\n",
        "import numpy as np"
      ],
      "execution_count": null,
      "outputs": []
    },
    {
      "cell_type": "markdown",
      "metadata": {
        "id": "HB-jNF1wzG3a"
      },
      "source": [
        "<p><a name=\"arrays\"></a></p>\n",
        "\n",
        "## 1.1. Arrays\n",
        "\n",
        "[[Contenidos]](#contents)\n",
        "\n",
        "\n",
        "Un array en numpy es un grid de valores, del mismo tipo, los cuales son indexados por una tupla de enteros no negativos. El número de dimensiones es el rango de la matriz; la forma de la matríz es una tupla de enteros dados por el tamaño del array a lo largo de cada dimensión.\n",
        "\n",
        "\n",
        "\n",
        "Podemos inicializar los arrays de numpy mediante listas de Python y acceder a los elementos mediante corchetes `[]`\n"
      ]
    },
    {
      "cell_type": "code",
      "metadata": {
        "id": "ApzNyesGoQBf",
        "colab": {
          "base_uri": "https://localhost:8080/",
          "height": 68
        },
        "outputId": "f1a28652-8fd7-4c7b-bf23-faaf135cb524"
      },
      "source": [
        "a=np.array([0,1,2,3]) # Creación de un array de rango 1\n",
        "print(type(a))      # Impresión del tipo\n",
        "print(a.shape)      # impresión de la dimensión \"(4,)\"\n",
        "list(a)"
      ],
      "execution_count": null,
      "outputs": [
        {
          "output_type": "stream",
          "text": [
            "<class 'numpy.ndarray'>\n",
            "(4,)\n"
          ],
          "name": "stdout"
        },
        {
          "output_type": "execute_result",
          "data": {
            "text/plain": [
              "[0, 1, 2, 3]"
            ]
          },
          "metadata": {
            "tags": []
          },
          "execution_count": 3
        }
      ]
    },
    {
      "cell_type": "markdown",
      "metadata": {
        "id": "FoS8S0qAOu0-"
      },
      "source": [
        "También se puede crear en numpy un array de dos dimensiones, como una lista de listas:"
      ]
    },
    {
      "cell_type": "code",
      "metadata": {
        "id": "zoG2Ng9hOHfp",
        "colab": {
          "base_uri": "https://localhost:8080/",
          "height": 51
        },
        "outputId": "95757cc6-808d-4c9f-f241-5862088e493c"
      },
      "source": [
        "b = np.array([[0,1,2,3],[4,5,6,7]])    # Creación de un array de rango 2\n",
        "print(b.shape)                     # Impresión de las dimensiones \"(2, 4)\"\n",
        "print(b[0, 0], b[0, 1], b[1, 0])   # Impresión de los elementos 0, 1 y 4"
      ],
      "execution_count": null,
      "outputs": [
        {
          "output_type": "stream",
          "text": [
            "(2, 4)\n",
            "0 1 4\n"
          ],
          "name": "stdout"
        }
      ]
    },
    {
      "cell_type": "markdown",
      "metadata": {
        "id": "wLi3SWmkO3cn"
      },
      "source": [
        "Numpy proporciona varias funciones para la creación de arrays:\n"
      ]
    },
    {
      "cell_type": "code",
      "metadata": {
        "id": "REDIJWb_QdfC",
        "colab": {
          "base_uri": "https://localhost:8080/",
          "height": 326
        },
        "outputId": "d61f8b12-45bd-4074-97dd-dad4c91351f9"
      },
      "source": [
        "a = np.zeros((2,2))                        # Creación de un array de zeros\n",
        "print(\"Array de ceros\", a)                 # Imprime \"[[ 0.  0.]\n",
        "                                           #          [ 0.  0.]]\"\n",
        "\n",
        "b = np.ones((1,2))                         # Creación de un array de unos\n",
        "print(\"Arrays de unos\", b)                 # Imprime \"[[ 1.  1.]]\"\n",
        "\n",
        "c = np.full((2,2), 8)                      # Creación de un array de una costante\n",
        "print(\"Array constante\", c)                # Imprime \"[[ 8.  8.]\n",
        "                                           #          [ 8.  8.]]\"\n",
        "\n",
        "d = np.eye(2)                              # Creación de la matriz indentidad de 2x2.\n",
        "print(\"Matriz identidad 2x2\", d)           # Imprime \"[[ 1.  0.]\n",
        "                                           #          [ 0.  1.]]\"\n",
        "\n",
        "e = np.arange(0, 20, 2)                    # Creación de un vector lleno de una secuencia lineal\n",
        "print(\"Array de una secuencia lineal\" ,e)  # que comience en 0, finalice en 18, con paso 2.\n",
        "\n",
        "\n",
        "f = np.linspace(0, 1, 5)                   # Crea un vector de cinco valores espaciados\n",
        "print(\"Array de una secuencia lineal2\",f)  # uniformemente entre 0 y 1.\n",
        "\n",
        "\n",
        "g = np.random.random((2,2))                # Creación de una matriz de 2x2 de valores aleatorios.\n",
        "print(\"Array de números aleatorios(u)\", g) # distribuidos uniformemente.\n",
        "\n",
        "\n",
        "h = np.random.normal(0, 1, (3, 3))         # Creación una matriz 3x3 de valores aleatorios normalmente\n",
        "print(\"Array de números aleatorios(n)\", h) # distribuidos con media 0 y desviación estándar 1.\n",
        "\n",
        "\n",
        "i = np.random.randint(0, 10, (3, 3))       # Creación de una matriz 3x3 de números enteros aleatorios\n",
        "print(\"Array de números aleatorios(i)\",i)  # en el intervalo [0,10)\n"
      ],
      "execution_count": null,
      "outputs": [
        {
          "output_type": "stream",
          "text": [
            "Array de ceros [[0. 0.]\n",
            " [0. 0.]]\n",
            "Arrays de unos [[1. 1.]]\n",
            "Array constante [[8 8]\n",
            " [8 8]]\n",
            "Matriz identidad 2x2 [[1. 0.]\n",
            " [0. 1.]]\n",
            "Array de una secuencia lineal [ 0  2  4  6  8 10 12 14 16 18]\n",
            "Array de una secuencia lineal2 [0.   0.25 0.5  0.75 1.  ]\n",
            "Array de números aleatorios(u) [[0.84942439 0.81799447]\n",
            " [0.38854751 0.61306171]]\n",
            "Array de números aleatorios(n) [[-0.74683977 -1.11351601  0.99002345]\n",
            " [ 0.85693574 -0.3054266   0.93234696]\n",
            " [-0.20668885  0.10677889  0.75009156]]\n",
            "Array de números aleatorios(i) [[4 9 0]\n",
            " [7 7 7]\n",
            " [3 3 5]]\n"
          ],
          "name": "stdout"
        }
      ]
    },
    {
      "cell_type": "markdown",
      "metadata": {
        "id": "aDUkFkiNzqAt"
      },
      "source": [
        "<p><a name=\"dataType\"></a></p>\n",
        "\n",
        "## 1.2. Tipos de datos."
      ]
    },
    {
      "cell_type": "markdown",
      "metadata": {
        "id": "XWTfZKIhWQdO"
      },
      "source": [
        "[[Contenidos]](#contents)\n",
        "\n",
        "Los arrays en NumPy contienen valores de un solo tipo, por lo que es importante tener conocimiento de esos tipos y sus limitaciones. En numpy, los elementos de un array  por defecto son floats de 64 bits, es decir, que cada float ocupa 8 bytes en memoria. Vemos esto en el siguiente ejemplo"
      ]
    },
    {
      "cell_type": "code",
      "metadata": {
        "id": "j7ZxXurxTTxd",
        "colab": {
          "base_uri": "https://localhost:8080/",
          "height": 51
        },
        "outputId": "6eac1791-c45c-4b8f-cde6-03b1592099df"
      },
      "source": [
        "n = np.zeros((1))\n",
        "print(\"Tipo de dato almacenado en un elemento del array:\", type(n[0]))\n",
        "print(\"Bytes almacenados en el array: %d bytes\" % (n.size * n.itemsize))"
      ],
      "execution_count": null,
      "outputs": [
        {
          "output_type": "stream",
          "text": [
            "Tipo de dato almacenado en un elemento del array: <class 'numpy.float64'>\n",
            "Bytes almacenados en el array: 8 bytes\n"
          ],
          "name": "stdout"
        }
      ]
    },
    {
      "cell_type": "markdown",
      "metadata": {
        "id": "EdedVnLvtDgA"
      },
      "source": [
        "El tipo por defecto de cada elemento del array es `float64`, que ocupan 8 bytes de memoria. Si se quiere cambiar el tipo por defecto, se debe acceder mediante `dtype=np.` y el nombre del tipo deseado, por ejemplo:"
      ]
    },
    {
      "cell_type": "code",
      "metadata": {
        "id": "G5y3njGotmui",
        "colab": {
          "base_uri": "https://localhost:8080/",
          "height": 51
        },
        "outputId": "c367f247-9d08-48aa-a6d7-956331c607f8"
      },
      "source": [
        "# Definición de un array de enteros de 8 bits\n",
        "n = np.zeros((1), dtype = np.int8)\n",
        "print(\"Tipo de dato almacenado en un elemento del array:\", type(n[0]))\n",
        "print(\"Bytes almacenados en el array: %d bytes\" % (n.size * n.itemsize))"
      ],
      "execution_count": null,
      "outputs": [
        {
          "output_type": "stream",
          "text": [
            "Tipo de dato almacenado en un elemento del array: <class 'numpy.int8'>\n",
            "Bytes almacenados en el array: 1 bytes\n"
          ],
          "name": "stdout"
        }
      ]
    },
    {
      "cell_type": "markdown",
      "metadata": {
        "id": "Bm6umNJTAqnU"
      },
      "source": [
        "ver tipos de datos: https://numpy.org/devdocs/user/basics.types.html"
      ]
    },
    {
      "cell_type": "markdown",
      "metadata": {
        "id": "KRZdYM8EBIfv"
      },
      "source": [
        "<p><a name=\"arraysBAS\"></a></p>\n",
        "\n",
        "## 1.3. Manipulación de los arrays"
      ]
    },
    {
      "cell_type": "markdown",
      "metadata": {
        "id": "hMrRBFpuCOYE"
      },
      "source": [
        "[[Contenidos]](#contents)\n",
        "\n"
      ]
    },
    {
      "cell_type": "markdown",
      "metadata": {
        "id": "aUAVSSFjA8JF"
      },
      "source": [
        "<p><a name=\"arraysATT\"></a></p>\n",
        "\n",
        "###1.3.1. Atributos\n",
        "\n",
        "Cada array tiene como atributos: <code>ndim</code>  (el número de dimensiones), <code>shape</code> (el tamaño de cada dimensión) y <code>size</code> (el tamaño total de la matriz o número de elementos):\n"
      ]
    },
    {
      "cell_type": "code",
      "metadata": {
        "id": "1zx4b91dC5iX",
        "colab": {
          "base_uri": "https://localhost:8080/",
          "height": 217
        },
        "outputId": "1ade33af-856e-4dc8-e76b-5f8895027c0e"
      },
      "source": [
        "x1 = np.random.randint(10, size=6)          # array unidimensional\n",
        "x2 = np.random.randint(10, size=(3, 4))     # array bidimensional\n",
        "x3 = np.random.randint(10, size=(3, 4, 5))  # array tridimensional\n",
        "\n",
        "print(\"x1 ndim: \", x1.ndim)\n",
        "print(\"x1 shape:\", x1.shape)\n",
        "print(\"x1 size: \", x1.size,\"\\n\")\n",
        "\n",
        "print(\"x2 ndim: \", x2.ndim)\n",
        "print(\"x2 shape:\", x2.shape)\n",
        "print(\"x2 size: \", x2.size, \"\\n\")\n",
        "\n",
        "print(\"x3 ndim: \", x3.ndim)\n",
        "print(\"x3 shape:\", x3.shape)\n",
        "print(\"x3 size: \", x3.size)"
      ],
      "execution_count": null,
      "outputs": [
        {
          "output_type": "stream",
          "text": [
            "x1 ndim:  1\n",
            "x1 shape: (6,)\n",
            "x1 size:  6 \n",
            "\n",
            "x2 ndim:  2\n",
            "x2 shape: (3, 4)\n",
            "x2 size:  12 \n",
            "\n",
            "x3 ndim:  3\n",
            "x3 shape: (3, 4, 5)\n",
            "x3 size:  60\n"
          ],
          "name": "stdout"
        }
      ]
    },
    {
      "cell_type": "markdown",
      "metadata": {
        "id": "lNlJw0HeGIIC"
      },
      "source": [
        "Otro atributo útil es el <code>dtype</code>, el tipo de dato del array (discutido previamente en la sección 2.2.)"
      ]
    },
    {
      "cell_type": "code",
      "metadata": {
        "id": "DewYiYJqGQ34",
        "colab": {
          "base_uri": "https://localhost:8080/",
          "height": 35
        },
        "outputId": "c72b572b-9720-4a26-c638-b49dacf959e5"
      },
      "source": [
        "print(\"dtype: \", x3.dtype)"
      ],
      "execution_count": null,
      "outputs": [
        {
          "output_type": "stream",
          "text": [
            "dtype:  int64\n"
          ],
          "name": "stdout"
        }
      ]
    },
    {
      "cell_type": "markdown",
      "metadata": {
        "id": "T8-an6XDGizu"
      },
      "source": [
        "Otros atributos incluyen <code>itemsize</code>, que enumera el tamaño (en bytes) de cada elemento del array,\n",
        "y <code>nbytes</code>, que enumera el tamaño total (en bytes) del array"
      ]
    },
    {
      "cell_type": "code",
      "metadata": {
        "id": "84xkkKF6G_YU",
        "colab": {
          "base_uri": "https://localhost:8080/",
          "height": 54
        },
        "outputId": "9befa772-efaa-49d6-bf89-555e47b290e8"
      },
      "source": [
        "print(\"itemsize:\", x3.itemsize, \"bytes\")\n",
        "print(\"nbytes:\", x3.nbytes, \"bytes\")"
      ],
      "execution_count": null,
      "outputs": [
        {
          "output_type": "stream",
          "text": [
            "itemsize: 8 bytes\n",
            "nbytes: 480 bytes\n"
          ],
          "name": "stdout"
        }
      ]
    },
    {
      "cell_type": "markdown",
      "metadata": {
        "id": "EjugYaD5HfQl"
      },
      "source": [
        "En general, esperamos que  <code>nbytes </code> sea igual a  <code>itemsize </code>  por  <code>size </code>."
      ]
    },
    {
      "cell_type": "code",
      "metadata": {
        "id": "60cMP_eHJ1Xs",
        "colab": {
          "base_uri": "https://localhost:8080/",
          "height": 35
        },
        "outputId": "54be77dc-fbd1-438b-c555-bd161c8b6438"
      },
      "source": [
        "print(\"El número de bytes que ocupa x3 es:\", x3.itemsize*x3.size, \"bytes\")"
      ],
      "execution_count": null,
      "outputs": [
        {
          "output_type": "stream",
          "text": [
            "El número de bytes que ocupa x3 es: 480 bytes\n"
          ],
          "name": "stdout"
        }
      ]
    },
    {
      "cell_type": "markdown",
      "metadata": {
        "id": "BEe6fe-PzXBf"
      },
      "source": [
        "<p><a name=\"arraysIDX\"></a></p>\n",
        "\n",
        "### 1.3.2. Indexado\n",
        "\n",
        "[[Contenidos]](#contents)\n",
        "\n",
        "Al igual que en las librerias estándar de Python, se puede acceder a la i-ésima componente de un array especificando el índice deseado entre []"
      ]
    },
    {
      "cell_type": "code",
      "metadata": {
        "id": "X7-kPWAbI_Sq",
        "colab": {
          "base_uri": "https://localhost:8080/",
          "height": 54
        },
        "outputId": "50aacc52-1901-4c7a-be2d-27456192c35b"
      },
      "source": [
        "print(x1)\n",
        "\n",
        "print(x1[0])"
      ],
      "execution_count": null,
      "outputs": [
        {
          "output_type": "stream",
          "text": [
            "[7 0 6 9 5 0]\n",
            "7\n"
          ],
          "name": "stdout"
        }
      ]
    },
    {
      "cell_type": "markdown",
      "metadata": {
        "id": "rCjdMfYHKBxm"
      },
      "source": [
        "En un array multidimensional, se accede a los elementos utilizando una tupla de índices separados por comas"
      ]
    },
    {
      "cell_type": "code",
      "metadata": {
        "id": "5JDno9bhKRCS",
        "colab": {
          "base_uri": "https://localhost:8080/",
          "height": 90
        },
        "outputId": "e06e0967-b75d-49d0-b09a-d96403693fd3"
      },
      "source": [
        "print(x2)\n",
        "\n",
        "print(x2[0,1])"
      ],
      "execution_count": null,
      "outputs": [
        {
          "output_type": "stream",
          "text": [
            "[[6 6 7 1]\n",
            " [7 7 4 7]\n",
            " [9 9 2 7]]\n",
            "6\n"
          ],
          "name": "stdout"
        }
      ]
    },
    {
      "cell_type": "markdown",
      "metadata": {
        "id": "H03qUs3PLdRP"
      },
      "source": [
        "Recordemos que los arrays en NumPy tiene un tipo fijo. Si intentamos insertar un número de tipo flotante en un array de tipo entero, el valor se truncará"
      ]
    },
    {
      "cell_type": "code",
      "metadata": {
        "id": "Nchf3cKTLpJE",
        "colab": {
          "base_uri": "https://localhost:8080/",
          "height": 35
        },
        "outputId": "747c9d28-c2e8-46ba-957c-f34c572d01ef"
      },
      "source": [
        "x1[0] = 3.1415\n",
        "print(x1)"
      ],
      "execution_count": null,
      "outputs": [
        {
          "output_type": "stream",
          "text": [
            "[3 0 6 9 5 0]\n"
          ],
          "name": "stdout"
        }
      ]
    },
    {
      "cell_type": "markdown",
      "metadata": {
        "id": "tpxd_MBXXebw"
      },
      "source": [
        "En el caso tridimensional"
      ]
    },
    {
      "cell_type": "code",
      "metadata": {
        "id": "ng-oz5ObXd_s",
        "colab": {
          "base_uri": "https://localhost:8080/",
          "height": 363
        },
        "outputId": "3ee1bd42-c8d3-477f-9a4a-0ba0c285179a"
      },
      "source": [
        "print(x3,\"\\n\")\n",
        "\n",
        "print(\"Dos formas de acceder al mismo elemento: \\n\")\n",
        "print(\"x3[1][1][0] =\", x3[1][1][0])\n",
        "print(\"x3[1,1,0] =\", x3[1,1,0])"
      ],
      "execution_count": null,
      "outputs": [
        {
          "output_type": "stream",
          "text": [
            "[[[3 2 1 5 4]\n",
            "  [0 6 9 1 6]\n",
            "  [6 0 6 8 5]\n",
            "  [3 0 8 0 2]]\n",
            "\n",
            " [[2 9 6 3 9]\n",
            "  [7 8 2 9 2]\n",
            "  [9 7 4 3 1]\n",
            "  [6 4 5 8 4]]\n",
            "\n",
            " [[6 9 8 4 7]\n",
            "  [2 5 0 8 4]\n",
            "  [1 8 6 5 2]\n",
            "  [0 3 6 3 7]]] \n",
            "\n",
            "Dos formas de acceder al mismo elemento: \n",
            "\n",
            "x3[1][1][0] = 7\n",
            "x3[1,1,0] = 7\n"
          ],
          "name": "stdout"
        }
      ]
    },
    {
      "cell_type": "markdown",
      "metadata": {
        "id": "ef1KZw0JBfCK"
      },
      "source": [
        "<p><a name=\"arraysSLI\"></a></p>\n",
        "\n",
        "### 1.3.3. Segmentación\n",
        "\n",
        "[[Contenidos]](#contents)\n",
        "\n",
        "La sintaxis de segmentación NumPy sigue la de la lista estándar de Python: <code>x[inicio:final:paso]</code>"
      ]
    },
    {
      "cell_type": "code",
      "metadata": {
        "id": "F1UB_I8MNtvx",
        "colab": {
          "base_uri": "https://localhost:8080/",
          "height": 145
        },
        "outputId": "f8b63417-dee4-4b8c-c109-77758fdb1fe2"
      },
      "source": [
        "x = np.arange(10)\n",
        "\n",
        "print(x)\n",
        "\n",
        "print('Primeros cinco elementos ',x[:5])\n",
        "\n",
        "print('Elementos luego del índice 5 ',x[5:])\n",
        "\n",
        "print('Subarray medio ',x[4:7])\n",
        "\n",
        "print('Subarray medio2', x[4:-3])\n",
        "\n",
        "print('Elementos separados por dos índices ',x[::2])\n",
        "\n",
        "print('Elementos separados por dos índices comenzando en el índice 1 ',x[1::2])"
      ],
      "execution_count": null,
      "outputs": [
        {
          "output_type": "stream",
          "text": [
            "[0 1 2 3 4 5 6 7 8 9]\n",
            "Primeros cinco elementos  [0 1 2 3 4]\n",
            "Elementos luego del índice 5  [5 6 7 8 9]\n",
            "Subarray medio  [4 5 6]\n",
            "Subarray medio2 [4 5 6]\n",
            "Elementos separados por dos índices  [0 2 4 6 8]\n",
            "Elementos separados por dos índices comenzando en el índice 1  [1 3 5 7 9]\n"
          ],
          "name": "stdout"
        }
      ]
    },
    {
      "cell_type": "markdown",
      "metadata": {
        "id": "3IxyCwGgP1BE"
      },
      "source": [
        "Un caso potencialmente confuso es cuando el valor del paso es negativo. En este caso, los valores predeterminados para <code>inicio</code> y\n",
        "<code>final</code> se intercambian."
      ]
    },
    {
      "cell_type": "code",
      "metadata": {
        "id": "F_kJNMyNP8bs",
        "colab": {
          "base_uri": "https://localhost:8080/",
          "height": 54
        },
        "outputId": "9796fe64-45d2-41c3-abb0-0c01d4593f8f"
      },
      "source": [
        "print(x[::-1])      # Se reversan todos los elementos\n",
        "\n",
        "print(x[5::-2])     # Se reversan los elementos desde el índice 5 con paso 2"
      ],
      "execution_count": null,
      "outputs": [
        {
          "output_type": "stream",
          "text": [
            "[9 8 7 6 5 4 3 2 1 0]\n",
            "[5 3 1]\n"
          ],
          "name": "stdout"
        }
      ]
    },
    {
      "cell_type": "markdown",
      "metadata": {
        "id": "fuenNeduPVP2"
      },
      "source": [
        "Para los arrays multidimensionales la segmentación se hace de una manera similar, por ejemplo:"
      ]
    },
    {
      "cell_type": "code",
      "metadata": {
        "id": "YAVT_c6PPJG-",
        "colab": {
          "base_uri": "https://localhost:8080/",
          "height": 290
        },
        "outputId": "33b12f0e-77a5-461e-dcef-822bd870badf"
      },
      "source": [
        "print(x2)\n",
        "\n",
        "print('Dos filas, tres columnas')\n",
        "print(x2[:2, :3])\n",
        "\n",
        "print('Todas las filas, dos columnas')\n",
        "print(x2[:, :2])\n",
        "\n",
        "print('Dos filas, el resto de columnas con paso 2')\n",
        "print(x2[:2, ::2])\n",
        "\n",
        "print('Primera fila')\n",
        "print(x2[0])"
      ],
      "execution_count": null,
      "outputs": [
        {
          "output_type": "stream",
          "text": [
            "[[6 6 7 1]\n",
            " [7 7 4 7]\n",
            " [9 9 2 7]]\n",
            "Dos filas, tres columnas\n",
            "[[6 6 7]\n",
            " [7 7 4]]\n",
            "Todas las filas, dos columnas\n",
            "[[6 6]\n",
            " [7 7]\n",
            " [9 9]]\n",
            "Dos filas, el resto de columnas con paso 2\n",
            "[[6 7]\n",
            " [7 4]]\n",
            "Primera fila\n",
            "[6 6 7 1]\n"
          ],
          "name": "stdout"
        }
      ]
    },
    {
      "cell_type": "code",
      "metadata": {
        "id": "gm-aZkm6VBQE",
        "colab": {
          "base_uri": "https://localhost:8080/",
          "height": 435
        },
        "outputId": "485bc1c1-abf8-4919-e33c-f008996c2e19"
      },
      "source": [
        "print(x3)\n",
        "\n",
        "print('Tercer array, dos filas y tres columnas')\n",
        "print(x3[2,:2,:3])\n",
        "\n",
        "print('Hasta el 2do array, dos filas y dos columnas')\n",
        "print(x3[:2,:2,:2])"
      ],
      "execution_count": null,
      "outputs": [
        {
          "output_type": "stream",
          "text": [
            "[[[3 2 1 5 4]\n",
            "  [0 6 9 1 6]\n",
            "  [6 0 6 8 5]\n",
            "  [3 0 8 0 2]]\n",
            "\n",
            " [[2 9 6 3 9]\n",
            "  [7 8 2 9 2]\n",
            "  [9 7 4 3 1]\n",
            "  [6 4 5 8 4]]\n",
            "\n",
            " [[6 9 8 4 7]\n",
            "  [2 5 0 8 4]\n",
            "  [1 8 6 5 2]\n",
            "  [0 3 6 3 7]]]\n",
            "Tercer array, dos filas y tres columnas\n",
            "[[6 9 8]\n",
            " [2 5 0]]\n",
            "Hasta el 2do array, dos filas y dos columnas\n",
            "[[[3 2]\n",
            "  [0 6]]\n",
            "\n",
            " [[2 9]\n",
            "  [7 8]]]\n"
          ],
          "name": "stdout"
        }
      ]
    },
    {
      "cell_type": "markdown",
      "metadata": {
        "id": "CM0OAc5wa4-t"
      },
      "source": [
        "Es importante tener en cuenta que la segmentación de arrays en NumPy devuelve *vistas*  en lugar de *copias* de los datos del array. Esto significa que cuando trabajamos con grandes conjuntos de datos, podemos acceder y procesar partes de estos conjuntos de datos sin la necesidad de copiar el búfer de datos subyacente."
      ]
    },
    {
      "cell_type": "code",
      "metadata": {
        "id": "3Y89Onz1bO1h",
        "colab": {
          "base_uri": "https://localhost:8080/",
          "height": 163
        },
        "outputId": "6263752b-d914-4d66-cd91-354f18f84842"
      },
      "source": [
        "print('Array original \\n',x2)\n",
        "\n",
        "sub_array = x2[:2,:2]\n",
        "\n",
        "sub_array[0,0] = 1\n",
        "\n",
        "print('Array luego de modificar el subarray \\n',x2)"
      ],
      "execution_count": null,
      "outputs": [
        {
          "output_type": "stream",
          "text": [
            "Array original \n",
            " [[6 6 7 1]\n",
            " [7 7 4 7]\n",
            " [9 9 2 7]]\n",
            "Array luego de modificar el subarray \n",
            " [[1 6 7 1]\n",
            " [7 7 4 7]\n",
            " [9 9 2 7]]\n"
          ],
          "name": "stdout"
        }
      ]
    },
    {
      "cell_type": "markdown",
      "metadata": {
        "id": "ztGzf48tb4U5"
      },
      "source": [
        "A veces es útil copiar explícitamente los datos dentro de un array o un  subarray. Esto se puede hacer más fácilmente con el\n",
        "método <code>copy()</code>"
      ]
    },
    {
      "cell_type": "code",
      "metadata": {
        "id": "DkFK83b5denr",
        "colab": {
          "base_uri": "https://localhost:8080/",
          "height": 126
        },
        "outputId": "a7d693d0-14d7-4550-c212-2ce3039f2e00"
      },
      "source": [
        "sub_array_copia = x2[:2,:2].copy()\n",
        "sub_array_copia[0,0] = 20\n",
        "\n",
        "print(sub_array_copia)\n",
        "print(5*'-')\n",
        "print(x2)"
      ],
      "execution_count": null,
      "outputs": [
        {
          "output_type": "stream",
          "text": [
            "[[20  6]\n",
            " [ 7  7]]\n",
            "-----\n",
            "[[1 6 7 1]\n",
            " [7 7 4 7]\n",
            " [9 9 2 7]]\n"
          ],
          "name": "stdout"
        }
      ]
    },
    {
      "cell_type": "markdown",
      "metadata": {
        "id": "9Ez4uourB6CM"
      },
      "source": [
        "<p><a name=\"arraysRES\"></a></p>\n",
        "\n",
        "### 1.3.4. Reshape\n",
        "\n",
        "[[Contenidos]](#contents)\n",
        "\n",
        "Otro tipo útil de operación es el \"reshape\" de arrays. La forma más flexible de hacerlo es con el método <code>reshape()</code>.\n",
        "\n"
      ]
    },
    {
      "cell_type": "code",
      "metadata": {
        "id": "gwJ2emt68ObB",
        "colab": {
          "base_uri": "https://localhost:8080/",
          "height": 90
        },
        "outputId": "7f1af8da-3cae-4b74-8c81-2a20a03f4b16"
      },
      "source": [
        "grilla = np.arange(1, 10).reshape((3, 3))\n",
        "print(grilla)\n",
        "\n",
        "a = np.array([[1,2,3], [4,5,6]]).reshape(1,6)\n",
        "print(a)"
      ],
      "execution_count": null,
      "outputs": [
        {
          "output_type": "stream",
          "text": [
            "[[1 2 3]\n",
            " [4 5 6]\n",
            " [7 8 9]]\n",
            "[[1 2 3 4 5 6]]\n"
          ],
          "name": "stdout"
        }
      ]
    },
    {
      "cell_type": "markdown",
      "metadata": {
        "id": "tLcXP-5n9KQ3"
      },
      "source": [
        "Podemos convertir un array unidimensional en un vector fila o columna bidimensional\n",
        "\n"
      ]
    },
    {
      "cell_type": "code",
      "metadata": {
        "id": "6Livw21U9TBQ",
        "colab": {
          "base_uri": "https://localhost:8080/",
          "height": 90
        },
        "outputId": "86f7c8a8-a07b-4686-ef4a-0d0f2644c04b"
      },
      "source": [
        "x = np.array([1,2,3])\n",
        "\n",
        "fil_x = x.reshape((1,3))    # vector fila\n",
        "col_x = x.reshape((3,1))    # vector columna\n",
        "\n",
        "print(fil_x)\n",
        "print(col_x)"
      ],
      "execution_count": null,
      "outputs": [
        {
          "output_type": "stream",
          "text": [
            "[[1 2 3]]\n",
            "[[1]\n",
            " [2]\n",
            " [3]]\n"
          ],
          "name": "stdout"
        }
      ]
    },
    {
      "cell_type": "markdown",
      "metadata": {
        "id": "HpobXl09HLRj"
      },
      "source": [
        "<p><a name=\"arraysCON\"></a></p>\n",
        "\n",
        "### 1.2.5. Concatenación y división de arrays\n",
        "\n",
        "[[Contenidos]](#contents)\n",
        "\n",
        "Todas las rutinas anteriores funcionaron en arrays individuales. También es posible combinar varios arrays en uno solo o, por el contrario, dividir un array en varios. La concatenación, o unión de dos arrays en NumPy, se realiza principalmente a través de la rutina <code>np.concatenate</code>\n"
      ]
    },
    {
      "cell_type": "code",
      "metadata": {
        "id": "nRpkEwBSIU7e",
        "colab": {
          "base_uri": "https://localhost:8080/",
          "height": 35
        },
        "outputId": "9baf8d6f-6e7b-43b8-ea05-71169b185cf1"
      },
      "source": [
        "x = np.array([1, 2, 3])\n",
        "y = np.array([3, 2, 1])\n",
        "z = np.concatenate([x, y])\n",
        "print(z)"
      ],
      "execution_count": null,
      "outputs": [
        {
          "output_type": "stream",
          "text": [
            "[1 2 3 3 2 1]\n"
          ],
          "name": "stdout"
        }
      ]
    },
    {
      "cell_type": "markdown",
      "metadata": {
        "id": "BhwiTVYzItHY"
      },
      "source": [
        "\n",
        "También se puede utilizar para arrays bidimensionales"
      ]
    },
    {
      "cell_type": "code",
      "metadata": {
        "id": "ImZZ9zIVIz-z",
        "colab": {
          "base_uri": "https://localhost:8080/",
          "height": 145
        },
        "outputId": "f731caa4-a1b0-4a5d-d16d-02a358253844"
      },
      "source": [
        "grilla = np.array([[1, 2, 3], [4, 5, 6]])\n",
        "\n",
        "z1 = np.concatenate([grilla,grilla])            # concatenar a lo largo del primer eje\n",
        "print(z1)\n",
        "print(5*'-')\n",
        "z2 = np.concatenate([grilla,grilla], axis=1)    # concatenar a lo largo del segundo eje\n",
        "print(z2)"
      ],
      "execution_count": null,
      "outputs": [
        {
          "output_type": "stream",
          "text": [
            "[[1 2 3]\n",
            " [4 5 6]\n",
            " [1 2 3]\n",
            " [4 5 6]]\n",
            "-----\n",
            "[[1 2 3 1 2 3]\n",
            " [4 5 6 4 5 6]]\n"
          ],
          "name": "stdout"
        }
      ]
    },
    {
      "cell_type": "markdown",
      "metadata": {
        "id": "6gC3eowqKuKY"
      },
      "source": [
        "Para trabajar con arrays de dimensiones mixtas, puede ser más claro usar las funciones  <code>np.vstack</code> y <code>np.hstack</code>.\n"
      ]
    },
    {
      "cell_type": "code",
      "metadata": {
        "id": "Tu-Dla5nK-zh",
        "colab": {
          "base_uri": "https://localhost:8080/",
          "height": 126
        },
        "outputId": "3d53ac0d-d4b1-4c23-b56a-97b4955d9381"
      },
      "source": [
        "# Apilar verticalmente los arrays\n",
        "x = np.array([11, 22, 33])\n",
        "z1 = np.vstack([x,grilla])\n",
        "print(z1)\n",
        "\n",
        "print(5*'-')\n",
        "# Apilar horizontalmente los arrays\n",
        "y = np.array([[99], [99]])\n",
        "z2 = np.hstack([grilla, y])\n",
        "print(z2)"
      ],
      "execution_count": null,
      "outputs": [
        {
          "output_type": "stream",
          "text": [
            "[[11 22 33]\n",
            " [ 1  2  3]\n",
            " [ 4  5  6]]\n",
            "-----\n",
            "[[ 1  2  3 99]\n",
            " [ 4  5  6 99]]\n"
          ],
          "name": "stdout"
        }
      ]
    },
    {
      "cell_type": "markdown",
      "metadata": {
        "id": "463MK3SkNX3D"
      },
      "source": [
        "Lo opuesto a la concatenación es la división, que se implementa mediante las funciones <code>np.split</code>, <code>np.hsplit</code> y <code>np.vsplit</code>\n"
      ]
    },
    {
      "cell_type": "code",
      "metadata": {
        "id": "yysGRkhaNlc7",
        "colab": {
          "base_uri": "https://localhost:8080/",
          "height": 35
        },
        "outputId": "06d40d96-e8ce-4772-88ee-7e4aa7066986"
      },
      "source": [
        "x = [1, 2, 3, 99, 99, 3, 2, 1]\n",
        "x1, x2, x3 = np.split(x, [3, 5])\n",
        "print(x1, x2, x3)"
      ],
      "execution_count": null,
      "outputs": [
        {
          "output_type": "stream",
          "text": [
            "[1 2 3] [99 99] [3 2 1]\n"
          ],
          "name": "stdout"
        }
      ]
    },
    {
      "cell_type": "markdown",
      "metadata": {
        "id": "jDAhKsOXd9VI"
      },
      "source": [
        "Note que las funciones `np.hsplit` y `np.vsplit` son similares"
      ]
    },
    {
      "cell_type": "code",
      "metadata": {
        "id": "iN0f1cVvN4Zj",
        "colab": {
          "base_uri": "https://localhost:8080/",
          "height": 108
        },
        "outputId": "e8f3ef31-55d5-4351-a250-3b6b5822e3f6"
      },
      "source": [
        "grilla = np.arange(16).reshape((4, 4))\n",
        "\n",
        "sup, inf = np.vsplit(grilla, [2])\n",
        "print(sup)\n",
        "print(5*'-')\n",
        "print(inf)"
      ],
      "execution_count": null,
      "outputs": [
        {
          "output_type": "stream",
          "text": [
            "[[0 1 2 3]\n",
            " [4 5 6 7]]\n",
            "-----\n",
            "[[ 8  9 10 11]\n",
            " [12 13 14 15]]\n"
          ],
          "name": "stdout"
        }
      ]
    },
    {
      "cell_type": "code",
      "metadata": {
        "id": "GTbRCocjOS_R",
        "colab": {
          "base_uri": "https://localhost:8080/",
          "height": 181
        },
        "outputId": "b12e201f-6f34-49c8-a924-3f159a63e497"
      },
      "source": [
        "izq, der = np.hsplit(grilla, [2])\n",
        "print(izq)\n",
        "print(5*'-')\n",
        "print(der)"
      ],
      "execution_count": null,
      "outputs": [
        {
          "output_type": "stream",
          "text": [
            "[[ 0  1]\n",
            " [ 4  5]\n",
            " [ 8  9]\n",
            " [12 13]]\n",
            "-----\n",
            "[[ 2  3]\n",
            " [ 6  7]\n",
            " [10 11]\n",
            " [14 15]]\n"
          ],
          "name": "stdout"
        }
      ]
    },
    {
      "cell_type": "markdown",
      "metadata": {
        "id": "4CFfCTUfg-EH"
      },
      "source": [
        "<p><a name=\"arrayMath\"></a></p>\n",
        "\n",
        "## 1.4. Operaciones entre arrays\n",
        "\n",
        "[[Contenidos]](#contents)\n",
        "\n",
        "### 1.4.1. Operaciones vectorizadas\n",
        "\n",
        "El cálculo con arrays en NumPy puede ser muy rápido o muy lento. La clave para hacerlo rápido es usar operaciones *vectorizadas*, generalmente implementadas a través de las funciones universales de NumPy (ufuncs)"
      ]
    },
    {
      "cell_type": "code",
      "metadata": {
        "id": "XJNXfC8J8A_O",
        "colab": {
          "base_uri": "https://localhost:8080/",
          "height": 54
        },
        "outputId": "a171afea-61d5-4c71-f866-f0aa823bc9dc"
      },
      "source": [
        "def compute_reciprocals(values):\n",
        "  output = np.empty(len(values))\n",
        "  for i in range(len(values)):\n",
        "    output[i] = 1.0 / values[i]\n",
        "  return output\n",
        "\n",
        "big_array = np.random.randint(1, 100, size=1000000)\n",
        "\n",
        "\n",
        "%timeit compute_reciprocals(big_array)          # calculo en loop\n",
        "\n",
        "%timeit (1.0 / big_array)                       # calculo vectorizado"
      ],
      "execution_count": null,
      "outputs": [
        {
          "output_type": "stream",
          "text": [
            "1 loop, best of 3: 1.84 s per loop\n",
            "100 loops, best of 3: 2.66 ms per loop\n"
          ],
          "name": "stdout"
        }
      ]
    },
    {
      "cell_type": "markdown",
      "metadata": {
        "id": "FM8EdbgL-4QG"
      },
      "source": [
        "Las operaciones vectorizadas en NumPy se implementan a través de las ufuncs, cuyo objetivo principal es ejecutar rápidamente operaciones de forma repetida sobre valores de arrays. Las operaciones con ufuncs no se limitan a arrays unidimensionales, sino que también pueden actuar sobre arrays multidimensionales"
      ]
    },
    {
      "cell_type": "code",
      "metadata": {
        "id": "xyfbKnVC_mW0",
        "colab": {
          "base_uri": "https://localhost:8080/",
          "height": 108
        },
        "outputId": "e01b7223-f040-439a-d158-fc92e2c1e9cf"
      },
      "source": [
        "print(np.arange(5) / np.arange(1, 6))         # Operación sobre array unidimensional\n",
        "\n",
        "print(5*'-')\n",
        "x = np.arange(9).reshape((3, 3))              # Operación sobre array multidimensional\n",
        "print(2**x)"
      ],
      "execution_count": null,
      "outputs": [
        {
          "output_type": "stream",
          "text": [
            "[0.         0.5        0.66666667 0.75       0.8       ]\n",
            "-----\n",
            "[[  1   2   4]\n",
            " [  8  16  32]\n",
            " [ 64 128 256]]\n"
          ],
          "name": "stdout"
        }
      ]
    },
    {
      "cell_type": "markdown",
      "metadata": {
        "id": "d-jGhCb5Aayf"
      },
      "source": [
        "Los cálculos que usan vectorización a través de ufuncs son casi siempre más eficientes que su contraparte implementada a través de ciclos, especialmente a medida que los arrays crecen en tamaño. Cada vez que se vea un ciclo de este tipo en un script de Python, debe considerarse si este puede reemplazarse con una expresión vectorizada."
      ]
    },
    {
      "cell_type": "markdown",
      "metadata": {
        "id": "Nbkpq8HPU_Jl"
      },
      "source": [
        "**Definición:** En el contexto de lenguajes de alto nivel como Python, MATLAB o R, el término **vectorización** representa el uso de código optimizado y precompilado escritos en lenguajes de bajo nivel (por ejemplo C) para realizar operaciones matemáticas en una secuencia de datos. Esto se realiza en lugar de una iteración explicita escrita en código nativo."
      ]
    },
    {
      "cell_type": "markdown",
      "metadata": {
        "id": "59bWwCsfAzGH"
      },
      "source": [
        "### 1.4.2. Ufuncs\n",
        "\n",
        "https://docs.scipy.org/doc/numpy/reference/ufuncs.html"
      ]
    },
    {
      "cell_type": "code",
      "metadata": {
        "id": "sdFATPpfCEk6",
        "colab": {
          "base_uri": "https://localhost:8080/",
          "height": 272
        },
        "outputId": "652301d4-144e-4b38-991c-2f47b8320b90"
      },
      "source": [
        "x = np.arange(1,5)\n",
        "print(x)\n",
        "\n",
        "# Operadores aritméticos\n",
        "print('x+2 ',np.add(x,2))\n",
        "print('x-2 ',np.subtract(x,2))\n",
        "print('-x ',np.negative(x))\n",
        "print('x*2 ',np.multiply(x,2))\n",
        "print('x/2 ',np.divide(x,2))\n",
        "print('x^2 ',np.power(x,2))\n",
        "\n",
        "# Funciones trigonométricas\n",
        "theta = np.linspace(0,np.pi,3)\n",
        "\n",
        "print('sin(theta)',np.sin(theta))\n",
        "print('cos(theta)',np.cos(theta))\n",
        "\n",
        "# Exponenciales y logaritmos\n",
        "print(\"e^x =\", np.exp(x))\n",
        "print(\"2^x =\", np.exp2(x))\n",
        "print(\"3^x =\", np.power(3, x))\n",
        "\n",
        "print(\"ln(x) =\", np.log(x))\n",
        "print(\"log2(x) =\", np.log2(x))\n",
        "print(\"log10(x) =\", np.log10(x))"
      ],
      "execution_count": null,
      "outputs": [
        {
          "output_type": "stream",
          "text": [
            "[1 2 3 4]\n",
            "x+2  [3 4 5 6]\n",
            "x-2  [-1  0  1  2]\n",
            "-x  [-1 -2 -3 -4]\n",
            "x*2  [2 4 6 8]\n",
            "x/2  [0.5 1.  1.5 2. ]\n",
            "x^2  [ 1  4  9 16]\n",
            "sin(theta) [0.0000000e+00 1.0000000e+00 1.2246468e-16]\n",
            "cos(theta) [ 1.000000e+00  6.123234e-17 -1.000000e+00]\n",
            "e^x = [ 2.71828183  7.3890561  20.08553692 54.59815003]\n",
            "2^x = [ 2.  4.  8. 16.]\n",
            "3^x = [ 3  9 27 81]\n",
            "ln(x) = [0.         0.69314718 1.09861229 1.38629436]\n",
            "log2(x) = [0.        1.        1.5849625 2.       ]\n",
            "log10(x) = [0.         0.30103    0.47712125 0.60205999]\n"
          ],
          "name": "stdout"
        }
      ]
    },
    {
      "cell_type": "markdown",
      "metadata": {
        "id": "y9M0gTBl61gy"
      },
      "source": [
        "### 1.4.3. Operaciones Básicas.\n",
        "\n",
        "Las operaciones matematicas basicas entre arrays, son operaciones elemento a elemento, y estan disponibles, tanto como sobrecarga de operadores como en funciones de la librería de numpy:"
      ]
    },
    {
      "cell_type": "code",
      "metadata": {
        "id": "3WDg1X327shT",
        "colab": {
          "base_uri": "https://localhost:8080/",
          "height": 329
        },
        "outputId": "85d34735-e671-4858-c78e-eea7f7cd3e6f"
      },
      "source": [
        "x = np.array([[1,2],[3,4]], dtype=np.float64)\n",
        "y = np.array([[5,6],[7,8]], dtype=np.float64)\n",
        "\n",
        "# Suma elemento a elemento\n",
        "print(x + y)\n",
        "print(np.add(x, y))\n",
        "\n",
        "# Resta elemento a elemento.\n",
        "print(x - y)\n",
        "print(np.subtract(x, y))\n",
        "\n",
        "# Multiplicación elemento a elemento.\n",
        "print(x * y)\n",
        "print(np.multiply(x, y))\n",
        "\n",
        "# División elemento a elemento.\n",
        "print(x / y)\n",
        "print(np.divide(x, y))\n",
        "\n",
        "# Raiz cuadrada a cada elmento.\n",
        "print(np.sqrt(x))"
      ],
      "execution_count": null,
      "outputs": [
        {
          "output_type": "stream",
          "text": [
            "[[ 6.  8.]\n",
            " [10. 12.]]\n",
            "[[ 6.  8.]\n",
            " [10. 12.]]\n",
            "[[-4. -4.]\n",
            " [-4. -4.]]\n",
            "[[-4. -4.]\n",
            " [-4. -4.]]\n",
            "[[ 5. 12.]\n",
            " [21. 32.]]\n",
            "[[ 5. 12.]\n",
            " [21. 32.]]\n",
            "[[0.2        0.33333333]\n",
            " [0.42857143 0.5       ]]\n",
            "[[0.2        0.33333333]\n",
            " [0.42857143 0.5       ]]\n",
            "[[1.         1.41421356]\n",
            " [1.73205081 2.        ]]\n"
          ],
          "name": "stdout"
        }
      ]
    },
    {
      "cell_type": "markdown",
      "metadata": {
        "id": "hjEETdx_8wyF"
      },
      "source": [
        "Nótese que la multiplicación mediante el operador `*` corresponde a una multiplicación elemento a elemento entre dos arrays. En Python, la multiplicación matricial entre dos arrays se realiza mediante la función punto (`dot`)."
      ]
    },
    {
      "cell_type": "code",
      "metadata": {
        "id": "GnH9g3-cOS9V",
        "colab": {
          "base_uri": "https://localhost:8080/",
          "height": 269
        },
        "outputId": "bebd69bb-e5bb-472c-b9b8-89b33470f30c"
      },
      "source": [
        "import numpy as np\n",
        "\n",
        "x = np.array([[1,2],[3,4]])\n",
        "y = np.array([[5,6],[7,8]])\n",
        "\n",
        "v = np.array([9,10])\n",
        "w = np.array([11, 12])\n",
        "\n",
        "# Producto entre vectores\n",
        "print(\"Producto vector-vector\",v.dot(w))\n",
        "print(\"Producto vector-vector\", np.dot(v, w),\"\\n\")\n",
        "\n",
        "# Producto matriz/vector;\n",
        "print(\"Producto matriz/vector \\n\",x.dot(v))\n",
        "print(\"Producto matriz/vector \\n\", np.dot(x, v),\"\\n\")\n",
        "\n",
        "# Producto matrix/matrix ;\n",
        "print(\"Producto matriz/matriz \\n\",x.dot(y),\"\\n\")\n",
        "print(\"Producto matriz/matriz \\n\",np.dot(x, y))"
      ],
      "execution_count": null,
      "outputs": [
        {
          "output_type": "stream",
          "text": [
            "Producto vector-vector 219\n",
            "Producto vector-vector 219 \n",
            "\n",
            "Producto matriz/vector \n",
            " [29 67]\n",
            "Producto matriz/vector \n",
            " [29 67] \n",
            "\n",
            "Producto matriz/matriz \n",
            " [[19 22]\n",
            " [43 50]] \n",
            "\n",
            "Producto matriz/matriz \n",
            " [[19 22]\n",
            " [43 50]]\n"
          ],
          "name": "stdout"
        }
      ]
    },
    {
      "cell_type": "markdown",
      "metadata": {
        "id": "363CkXHPNcXL"
      },
      "source": [
        "Python proporciona algunas funciones para realizar operaciones sobre los arrays.\n",
        "Por ejemplo, la función `sum` realiza una suma sobre todos los elementos del array:"
      ]
    },
    {
      "cell_type": "code",
      "metadata": {
        "id": "wDmks3LyNtAI",
        "colab": {
          "base_uri": "https://localhost:8080/",
          "height": 67
        },
        "outputId": "d9af7baf-2b67-4870-8f22-2be39e400205"
      },
      "source": [
        "import numpy as np\n",
        "\n",
        "x = np.array([[1,2],[3,4]])\n",
        "\n",
        "print(\"Suma total de los elementos del array\", np.sum(x))  # Calculo de la suma de todos los elementos.\n",
        "print(\"Suma de cada columna\",np.sum(x, axis=0))  # Suma de cada columna\n",
        "print(\"Suma de cada fila\",np.sum(x, axis=1))  # Suma de cada fila"
      ],
      "execution_count": null,
      "outputs": [
        {
          "output_type": "stream",
          "text": [
            "Suma total de los elementos del array 10\n",
            "Suma de cada columna [4 6]\n",
            "Suma de cada fila [3 7]\n"
          ],
          "name": "stdout"
        }
      ]
    },
    {
      "cell_type": "markdown",
      "metadata": {
        "id": "9KxDpyp1PAMS"
      },
      "source": [
        "Para más funciones puede consultar [este enlace](https://docs.scipy.org/doc/numpy/reference/routines.math.html)."
      ]
    },
    {
      "cell_type": "markdown",
      "metadata": {
        "id": "GrBf6Ya90lbM"
      },
      "source": [
        "<p><a name=\"bcasting\"></a></p>\n",
        "\n",
        "## 1.5. Broadcasting.\n",
        "\n",
        "[[Contenidos]](#contents)\n",
        "\n",
        "El Broadcasting es una potente herramienta que nos permite trabajar en numpy con arrays de diferentes tamaños para realizar operaciones aritméticas. A menudo tenemos un array mas pequeño y otro de tamaño mayor, de tal forma que queremos usar el array más pequeño varias veces para realizar algunas operaciones en el array mas grande.\n",
        "\n",
        "Supongamos, por ejemplo, que se quiere adicionar un vector constante a cada fila de una matriz. Podemos realizar esto de la siguiente forma:"
      ]
    },
    {
      "cell_type": "code",
      "metadata": {
        "id": "i2dGNyrbdHau",
        "colab": {
          "base_uri": "https://localhost:8080/",
          "height": 163
        },
        "outputId": "83c1da46-e627-4d44-d53f-92ec8822bee7"
      },
      "source": [
        "import numpy as np\n",
        "\n",
        "x = np.arange(start = 1, stop = 13, step = 1).reshape((4,3)); # Array de 4x3\n",
        "y = np.array([1,0,1]) # Vector fila\n",
        "v = np.empty_like(x) #Array vacio de la mismas dimensiones que x\n",
        "\n",
        "# Modificación del array x, sumando en cada fila el vector fila y.\n",
        "\n",
        "for i in range(len(x)):\n",
        "  v[i,:] = x[i,:]+y\n",
        "\n",
        "print(x)\n",
        "print(v)"
      ],
      "execution_count": null,
      "outputs": [
        {
          "output_type": "stream",
          "text": [
            "[[ 1  2  3]\n",
            " [ 4  5  6]\n",
            " [ 7  8  9]\n",
            " [10 11 12]]\n",
            "[[ 2  2  4]\n",
            " [ 5  5  7]\n",
            " [ 8  8 10]\n",
            " [11 11 13]]\n"
          ],
          "name": "stdout"
        }
      ]
    },
    {
      "cell_type": "markdown",
      "metadata": {
        "id": "tnRyZCIMgl2g"
      },
      "source": [
        "No obstante, cuando la matriz es muy grande, un loop for puede resultar muy lento. El problema anterior también puede ser resuelto de la siguiente forma:"
      ]
    },
    {
      "cell_type": "code",
      "metadata": {
        "id": "Y8PpTsRDhRJU",
        "colab": {
          "base_uri": "https://localhost:8080/",
          "height": 34
        },
        "outputId": "dd75ffc7-079b-467b-8f2b-012e2f983f73"
      },
      "source": [
        "np.tile?"
      ],
      "execution_count": null,
      "outputs": [
        {
          "output_type": "stream",
          "text": [
            "Object `np.tile` not found.\n"
          ],
          "name": "stdout"
        }
      ]
    },
    {
      "cell_type": "code",
      "metadata": {
        "id": "8S4cRFs8iciC",
        "colab": {
          "base_uri": "https://localhost:8080/",
          "height": 156
        },
        "outputId": "12c3645e-3368-45b1-84f1-cac1b0ba32bb"
      },
      "source": [
        "x = np.arange(start = 1, stop = 13, step = 1).reshape((4,3)); # Array de 4x3\n",
        "y = np.array([1,0,1]) # Vector fila\n",
        "yy = np.tile(y,(4,1)) # Creación de matriz de (4,3) con cada fila dada por y.\n",
        "print(yy)\n",
        "\n",
        "v = x+yy\n",
        "print(v)"
      ],
      "execution_count": null,
      "outputs": [
        {
          "output_type": "stream",
          "text": [
            "[[1 0 1]\n",
            " [1 0 1]\n",
            " [1 0 1]\n",
            " [1 0 1]]\n",
            "[[ 2  2  4]\n",
            " [ 5  5  7]\n",
            " [ 8  8 10]\n",
            " [11 11 13]]\n"
          ],
          "name": "stdout"
        }
      ]
    },
    {
      "cell_type": "markdown",
      "metadata": {
        "id": "4NgtnTSQjxJe"
      },
      "source": [
        "El broadcasting en numpy nos permite realizar esto calculos sin la necesidad de crear multiples copias de y. A continuación se muestra la solución al anaterior ploblema usando broadcasting:"
      ]
    },
    {
      "cell_type": "code",
      "metadata": {
        "id": "8RKjPJa2kEzP",
        "colab": {
          "base_uri": "https://localhost:8080/",
          "height": 87
        },
        "outputId": "700e5573-02d9-4d41-e820-c1faebb591ee"
      },
      "source": [
        "x = np.arange(start = 1, stop = 13, step = 1).reshape((4,3)); # Array de 4x3\n",
        "y = np.array([1,0,1]) # Vector fila\n",
        "\n",
        "v = x+y\n",
        "print(v)"
      ],
      "execution_count": null,
      "outputs": [
        {
          "output_type": "stream",
          "text": [
            "[[ 2  2  4]\n",
            " [ 5  5  7]\n",
            " [ 8  8 10]\n",
            " [11 11 13]]\n"
          ],
          "name": "stdout"
        }
      ]
    },
    {
      "cell_type": "markdown",
      "metadata": {
        "id": "NQnxhbtOqZLc"
      },
      "source": [
        "<p><a name=\"tnumpy\"></a></p>\n",
        "\n",
        "## 1.6. Taller Numpy\n",
        "\n",
        "[[Contenidos]](#contents)"
      ]
    },
    {
      "cell_type": "markdown",
      "metadata": {
        "id": "SQURPZFUqjo9"
      },
      "source": [
        "<div class=\"alert alert-danger alertdanger\" style=\"margin-top: 20px\">\n",
        "<h1> Pregunta #1: </h1>\n",
        "<b>Defina un array de 6x6x6 de floats de 64 bits. Determine cual será la reserva de memoria en bytes necesaria para definir el array y corrobórelo mediante funciones de numpy</b>.\n",
        "</div>"
      ]
    },
    {
      "cell_type": "code",
      "metadata": {
        "id": "YuV9jC_quRsk"
      },
      "source": [
        "#escriba acá su código"
      ],
      "execution_count": null,
      "outputs": []
    },
    {
      "cell_type": "markdown",
      "metadata": {
        "id": "bvkn3nrYqvAF"
      },
      "source": [
        "<div class=\"alert alert-danger alertdanger\" style=\"margin-top: 20px\">\n",
        "<h1> Respuesta Pregunta #1: </h1>\n",
        "<b>Corra el código a continuación:</b>\n",
        "</div>"
      ]
    },
    {
      "cell_type": "markdown",
      "metadata": {
        "id": "N_49wnbZ8sq6"
      },
      "source": [
        "Para ver la solución haga double-click <b>aquí</b>.\n",
        "\n",
        "<!-- La respuesta se encuentra a continuación:\n",
        "\n",
        "import numpy as np\n",
        "a=np.zeros((6,6,6)) #también podría usar np.random.random((6,6,6)) u otros\n",
        "\n",
        "# La cantidad de memoria de memoria necesaria para definir el array sería\n",
        "print(\"Cantidad de memoria necesaría para definir el array\", 8*6*6*6, \"Bytes\")\n",
        "\n",
        "# Corroboración del tamaño requerido mediante funciones de numpy\n",
        "\n",
        "print(\"Bytes almacenados en el array: %d bytes\" % (a.size * a.itemsize))\n",
        "\n",
        "-->"
      ]
    },
    {
      "cell_type": "markdown",
      "metadata": {
        "id": "RxwB3NJD8g9l"
      },
      "source": [
        "<div class=\"alert alert-danger alertdanger\" style=\"margin-top: 20px\">\n",
        "<h1> Pregunta #2: </h1>\n",
        "<b>Realice una comparación entre el tiempo de computo requerido para la sumar todos los elementos de un array mediante el método la función vectorizada de numpy sum en comparación con una suma realizada iterando sobre los elementos del array</b>.\n",
        "</div>"
      ]
    },
    {
      "cell_type": "code",
      "metadata": {
        "id": "b_d0aukwuVTn"
      },
      "source": [
        "#escriba acá su código"
      ],
      "execution_count": null,
      "outputs": []
    },
    {
      "cell_type": "markdown",
      "metadata": {
        "id": "eEJG3rtE8Sbu"
      },
      "source": [
        "<div class=\"alert alert-danger alertdanger\" style=\"margin-top: 20px\">\n",
        "<h1> Respuesta Pregunta #2: </h1>\n",
        "<b>Corra el código a continuación:</b>\n",
        "</div>"
      ]
    },
    {
      "cell_type": "markdown",
      "metadata": {
        "id": "wYQg_rTJ75y-"
      },
      "source": [
        "Para ver la solución haga double-click <b>aquí</b>.\n",
        "\n",
        "<!-- La respuesta se encuentra a continuación:\n",
        "\n",
        "import numpy as np\n",
        "\n",
        "def sumArrayElements(arrayInput):\n",
        "    total = 0\n",
        "    for i in arrayInput:\n",
        "        total += i\n",
        "  \n",
        "    return total\n",
        "  \n",
        "\n",
        "nElements = 100000\n",
        "\n",
        "totalA = sumArrayElements(np.arange(nElements))\n",
        "print(\"Información de la suma mediante función for:\")\n",
        "%timeit sumArrayElements(np.arange(nElements))\n",
        "print(\"La suma de los elementos es \", str(totalA)+\".\\n\")\n",
        "\n",
        "totalB=np.sum(np.arange(nElements))\n",
        "print(\"Información de la suma mediante función vectorizada sum:\")\n",
        "%timeit np.sum(np.arange(nElements))\n",
        "print(\"La suma de los elementos es \", str(totalB)+\".\\n\")\n",
        "\n",
        "-->"
      ]
    },
    {
      "cell_type": "markdown",
      "metadata": {
        "id": "sRWedwBcq0nG"
      },
      "source": [
        "<div class=\"alert alert-danger alertdanger\" style=\"margin-top: 20px\">\n",
        "<h1> Pregunta #3: </h1>\n",
        "<b>Demuestre que la multiplicación de una matriz $A$ de $6\\times6$ por la matriz ideantidad $I$ es igual a la matriz $A$</b>.\n",
        "</div>\n",
        "\n"
      ]
    },
    {
      "cell_type": "code",
      "metadata": {
        "id": "WSKbyRpguYMt"
      },
      "source": [
        "#escriba acá su código"
      ],
      "execution_count": null,
      "outputs": []
    },
    {
      "cell_type": "markdown",
      "metadata": {
        "id": "3KrZo30Fr3RH"
      },
      "source": [
        "<div class=\"alert alert-danger alertdanger\" style=\"margin-top: 20px\">\n",
        "<h1> Respuesta Pregunta #3: </h1>\n",
        "<b>Corra el código a continuación:</b>\n",
        "</div>\n"
      ]
    },
    {
      "cell_type": "markdown",
      "metadata": {
        "id": "seJp2cPN5sId"
      },
      "source": [
        "Para ver la solución haga double-click <b>aquí</b>.\n",
        "\n",
        "<!-- La respuesta se encuentra a continuación:\n",
        "import numpy as np\n",
        "\n",
        "identity = np.eye(6,6)\n",
        "A1 = np.random.rand(6,6)\n",
        "A2 = A1.dot(identity)\n",
        "if A2==A1:\n",
        "    print('se cumple')\n",
        "else:\n",
        "    print('no se cumple')\n",
        "\n",
        "print(\"La matriz A1 es \", A1)\n",
        "print(\"La matriz A2 es \", A2)\n",
        "\n",
        "-->"
      ]
    },
    {
      "cell_type": "markdown",
      "metadata": {
        "id": "iLkJH4010yGI"
      },
      "source": [
        "<p><a name=\"matplotlib\"></a></p>\n",
        "\n",
        "# 2. Matplotlib.\n",
        "\n",
        "[[Contenidos]](#contents)\n",
        "\n",
        "\n",
        "matplotlib es la librería principal para la realización de gráficas científicas en Python. Esta librería proporciona funciones para la realizacion de gráficas como mapas, histogramas, gráficas de dispersión, entre otras. La visualización de sus datos y de diferentes aspectos de su analisis puede brindarle una mejor comprensión del problema a tratar. Para mayor información sobre la librería `matplotlib` puede consultar en [este enlace](https://matplotlib.org/index.html).\n",
        "\n"
      ]
    },
    {
      "cell_type": "markdown",
      "metadata": {
        "id": "rE8AzSuaaCde"
      },
      "source": [
        "<p><a name=\"mpylab\"></a></p>\n",
        "\n",
        "## 2.1 matplotlib, pyplot y pylab.\n",
        "\n",
        "[[Contenidos]](#contents)\n",
        "\n",
        "\n",
        "\n",
        "1.   `matplotlib`: Cuando se habla de paquete, se habla de todo el paquete de visualización de Python.\n",
        "2.   `pyplot` : corresponde a un módulo de `matplotlib`, el cual permite crear  gráficas de forma rápida y sin necesidad de instanciar figuras o ejes.\n",
        "3.   `pylab` es una módulo poco recomendado para el tratamiento de arrays y gráficas inteacticas, cuyo uso es desaconsejado [en este enlace](https://matthiasbussonnier.com/posts/10-No-PyLab-Thanks.html).\n",
        "\n"
      ]
    },
    {
      "cell_type": "markdown",
      "metadata": {
        "id": "ThjV-GxbYn_r"
      },
      "source": [
        "<p><a name=\"plotfunc\"></a></p>\n",
        "\n",
        "## 2.2 Función `plot`.\n",
        "\n",
        "[[Contenidos]](#contents)"
      ]
    },
    {
      "cell_type": "code",
      "metadata": {
        "id": "oAkS2PnSDZh6",
        "colab": {
          "base_uri": "https://localhost:8080/",
          "height": 287
        },
        "outputId": "6a3762ab-a9c4-4698-abe9-738dd4edbf7c"
      },
      "source": [
        "import matplotlib.pyplot as plt\n",
        "\n",
        "# Generar una secuencia de 100 numeros entre -10 y 10\n",
        "x = np.linspace(-10, 10, 100)\n",
        "# Creamos un arreglo con el seno de éstos números\n",
        "y = np.sin(x)\n",
        "# Generamos una gráfica con x vs y\n",
        "plt.plot(x, y, marker=\"x\")"
      ],
      "execution_count": null,
      "outputs": [
        {
          "output_type": "execute_result",
          "data": {
            "text/plain": [
              "[<matplotlib.lines.Line2D at 0x7fce70722b70>]"
            ]
          },
          "metadata": {
            "tags": []
          },
          "execution_count": 37
        },
        {
          "output_type": "display_data",
          "data": {
            "image/png": "[encoded data removed]",
            "text/plain": [
              "<Figure size 432x288 with 1 Axes>"
            ]
          },
          "metadata": {
            "tags": []
          }
        }
      ]
    },
    {
      "cell_type": "markdown",
      "metadata": {
        "id": "QGhkpdwnYBG9"
      },
      "source": [
        "Antes de realizar gráficas en usando matplolib, es necesario conocer cada una de las partes de una gráfica, con el fin de acceder facilmente a las funciones que las modifica:"
      ]
    },
    {
      "cell_type": "markdown",
      "metadata": {
        "id": "gYEvMIv2TFSK"
      },
      "source": [
        "<a href=\"https://ibb.co/nBCK0rX\"><img src=\"https://i.ibb.co/ScrZxNk/partes-grafica.png\" alt=\"partes-grafica\" border=\"0\"></a>"
      ]
    },
    {
      "cell_type": "markdown",
      "metadata": {
        "id": "yKci4KKLeg8u"
      },
      "source": [
        "Podemos representar en una figura, varias gráficas, adicionarle un título y etiquetar las curvas y los ejes"
      ]
    },
    {
      "cell_type": "code",
      "metadata": {
        "id": "-VabNHNiehqd",
        "colab": {
          "base_uri": "https://localhost:8080/",
          "height": 295
        },
        "outputId": "e67fb4fd-59ca-44bb-b791-a6d6c6df2cae"
      },
      "source": [
        "import numpy as np\n",
        "import matplotlib.pyplot as plt\n",
        "\n",
        "# Coordenadas x y de las gráficas para las funciones seno y coseno\n",
        "x = np.arange(0, 3 * np.pi, 0.1)\n",
        "y_sin = np.sin(x)\n",
        "y_cos = np.cos(x)\n",
        "\n",
        "# Gráfica de los puntos usando matplolib.\n",
        "plt.plot(x, y_sin)\n",
        "plt.plot(x, y_cos)\n",
        "plt.xlabel('label del eje x')\n",
        "plt.ylabel('label del eje y')\n",
        "plt.title('Funciones seno y coseno')\n",
        "plt.legend(['Seno', 'Coseno'])\n",
        "plt.show()"
      ],
      "execution_count": null,
      "outputs": [
        {
          "output_type": "display_data",
          "data": {
            "image/png": "[encoded data removed]",
            "text/plain": [
              "<Figure size 432x288 with 1 Axes>"
            ]
          },
          "metadata": {
            "tags": []
          }
        }
      ]
    },
    {
      "cell_type": "markdown",
      "metadata": {
        "id": "A9eYoSjpncUH"
      },
      "source": [
        "Existen casos en los que los datos se presentan en un formato que le permite acceder a variables particulares con mediante una palabra clave. Por ejemplo, con numpy.recarray o pandas.DataFrame:"
      ]
    },
    {
      "cell_type": "code",
      "metadata": {
        "id": "xjBMkaa3nddG",
        "colab": {
          "base_uri": "https://localhost:8080/",
          "height": 284
        },
        "outputId": "1ed6a86a-2116-472a-f6d3-584d04d40496"
      },
      "source": [
        "import matplotlib.pyplot as plt\n",
        "\n",
        "dicc = {'a': np.arange(50),\n",
        "        'c': np.random.randint(0, 50, 50),\n",
        "        'd': np.random.randn(50)}\n",
        "dicc['b'] = dicc['a'] + 10 * np.random.randn(50)\n",
        "dicc['d'] = np.abs(dicc['d']) * 100\n",
        "\n",
        "plt.scatter('a', 'b', c='c', s='d', data=dicc)\n",
        "plt.xlabel('Entrada a')\n",
        "plt.ylabel('Entrada b')\n",
        "plt.show()"
      ],
      "execution_count": null,
      "outputs": [
        {
          "output_type": "display_data",
          "data": {
            "image/png": "[encoded data removed]",
            "text/plain": [
              "<Figure size 432x288 with 1 Axes>"
            ]
          },
          "metadata": {
            "tags": []
          }
        }
      ]
    },
    {
      "cell_type": "code",
      "metadata": {
        "id": "pP6eeohspx74"
      },
      "source": [
        "plt.scatter?"
      ],
      "execution_count": null,
      "outputs": []
    },
    {
      "cell_type": "markdown",
      "metadata": {
        "id": "Cqdo4gxOfxxt"
      },
      "source": [
        "<p><a name=\"catVars\"></a></p>\n",
        "\n",
        "## 2.3 Gráficas de variables categóricas.\n",
        "\n",
        "[[Contenidos]](#contents)"
      ]
    },
    {
      "cell_type": "code",
      "metadata": {
        "id": "Eb9JiZLRsf-u",
        "colab": {
          "base_uri": "https://localhost:8080/",
          "height": 233
        },
        "outputId": "62915937-a707-4ade-b6b7-971bfddc5741"
      },
      "source": [
        "import matplotlib.pyplot as plt\n",
        "\n",
        "names = ['groupo_a', 'groupo_b', 'groupo_c']\n",
        "values = [5, 25, 100]\n",
        "\n",
        "plt.figure(figsize=(9, 3))\n",
        "\n",
        "plt.subplot(131)\n",
        "plt.bar(names, values)\n",
        "plt.subplot(132)\n",
        "plt.scatter(names, values)\n",
        "plt.subplot(133)\n",
        "plt.plot(names, values)\n",
        "plt.suptitle('Gráficas categóricas')\n",
        "plt.show()"
      ],
      "execution_count": null,
      "outputs": [
        {
          "output_type": "display_data",
          "data": {
            "image/png": "[encoded data removed]",
            "text/plain": [
              "<Figure size 648x216 with 3 Axes>"
            ]
          },
          "metadata": {
            "tags": []
          }
        }
      ]
    },
    {
      "cell_type": "code",
      "metadata": {
        "id": "cw-jX0yB5gYu"
      },
      "source": [
        "plt.subplot?"
      ],
      "execution_count": null,
      "outputs": []
    },
    {
      "cell_type": "markdown",
      "metadata": {
        "id": "3BCp_ZEyg5f7"
      },
      "source": [
        "<p><a name=\"scatterPlots\"></a></p>\n",
        "\n",
        "## 2.4 Gráficos de dispersión.\n",
        "\n",
        "[[Contenidos]](#contents)\n",
        "\n",
        "A continuación se muestran varios ejemplos de gráficos de dispersión, los cuales pueden realizarse mediante la función `scatter`:"
      ]
    },
    {
      "cell_type": "code",
      "metadata": {
        "id": "5APQ2ZhHhIEz",
        "colab": {
          "base_uri": "https://localhost:8080/",
          "height": 295
        },
        "outputId": "ad417e60-075c-4dc7-8961-2a17836b4b5d"
      },
      "source": [
        "import matplotlib.pyplot as plt\n",
        "import numpy as np\n",
        "\n",
        "# Generación de los puntos (x,y) para la realización de los gráficos de\n",
        "# dispersión.\n",
        "x=range(10)\n",
        "y=np.random.rand(10)\n",
        "\n",
        "plt.scatter(x,y)\n",
        "plt.xlabel('label del eje x')\n",
        "plt.ylabel('label del eje y')\n",
        "plt.title('Gráfico de dispersión')\n",
        "plt.show()"
      ],
      "execution_count": null,
      "outputs": [
        {
          "output_type": "display_data",
          "data": {
            "image/png": "[encoded data removed]",
            "text/plain": [
              "<Figure size 432x288 with 1 Axes>"
            ]
          },
          "metadata": {
            "tags": []
          }
        }
      ]
    },
    {
      "cell_type": "code",
      "metadata": {
        "id": "tQx5gaepjN-k",
        "colab": {
          "base_uri": "https://localhost:8080/",
          "height": 295
        },
        "outputId": "7d2f2355-cd51-43a9-d217-58a8532e600b"
      },
      "source": [
        "xx=np.array([0,3,5,1,9,7,6,2,4,8])\n",
        "\n",
        "plt.scatter(xx,y)\n",
        "plt.xlabel('label del eje x')\n",
        "plt.ylabel('label del eje y')\n",
        "plt.title('Gráfico de dispersión')\n",
        "plt.show()"
      ],
      "execution_count": null,
      "outputs": [
        {
          "output_type": "display_data",
          "data": {
            "image/png": "[encoded data removed]",
            "text/plain": [
              "<Figure size 432x288 with 1 Axes>"
            ]
          },
          "metadata": {
            "tags": []
          }
        }
      ]
    },
    {
      "cell_type": "code",
      "metadata": {
        "id": "QQD9aPp_jvI1",
        "colab": {
          "base_uri": "https://localhost:8080/",
          "height": 295
        },
        "outputId": "b150145d-f4eb-496f-a6cc-8645beee114a"
      },
      "source": [
        "plt.plot(x,y)\n",
        "plt.xlabel('label del eje x')\n",
        "plt.ylabel('label del eje y')\n",
        "plt.title('Gráfico de dispersión, puntos conectados')\n",
        "plt.show()"
      ],
      "execution_count": null,
      "outputs": [
        {
          "output_type": "display_data",
          "data": {
            "image/png": "[encoded data removed]",
            "text/plain": [
              "<Figure size 432x288 with 1 Axes>"
            ]
          },
          "metadata": {
            "tags": []
          }
        }
      ]
    },
    {
      "cell_type": "code",
      "metadata": {
        "id": "bptSqSz4j-vB",
        "colab": {
          "base_uri": "https://localhost:8080/",
          "height": 295
        },
        "outputId": "9c04ccdb-adf2-4e21-e2f6-d93c4f357fa7"
      },
      "source": [
        "plt.plot(xx,y)\n",
        "plt.xlabel('label del eje x')\n",
        "plt.ylabel('label del eje y')\n",
        "plt.title('Gráfico de dispersión, puntos conectados')\n",
        "plt.show()"
      ],
      "execution_count": null,
      "outputs": [
        {
          "output_type": "display_data",
          "data": {
            "image/png": "[encoded data removed]",
            "text/plain": [
              "<Figure size 432x288 with 1 Axes>"
            ]
          },
          "metadata": {
            "tags": []
          }
        }
      ]
    },
    {
      "cell_type": "markdown",
      "metadata": {
        "id": "5Hmbe8lCkne5"
      },
      "source": [
        "<p><a name=\"tmatplotlib\"></a></p>\n",
        "\n",
        "## 2.5 Taller `matplotlib`\n",
        "\n",
        "[[Contenidos]](#contents)"
      ]
    },
    {
      "cell_type": "markdown",
      "metadata": {
        "id": "YkWTnd6FlYZr"
      },
      "source": [
        "<div class=\"alert alert-danger alertdanger\" style=\"margin-top: 20px\">\n",
        "<h1> Pregunta #1: </h1>\n",
        "\n",
        "**Grafíque los cuatro gráficos de ejemplo de la sección [gráficos de dispersión](#scatterPlots) en una figura compuesta por 4 subplots de 2x2 cajones**.\n"
      ]
    },
    {
      "cell_type": "markdown",
      "metadata": {
        "id": "7y1G7Ynloyhs"
      },
      "source": [
        "<div class=\"alert alert-danger alertdanger\" style=\"margin-top: 20px\">\n",
        "<h1> Respuesta Pregunta #1: </h1>\n",
        "<b>Corra el código a continuación:</b>\n",
        "</div>"
      ]
    },
    {
      "cell_type": "markdown",
      "metadata": {
        "id": "vKt34ygUo6-N"
      },
      "source": [
        "Para ver la solución haga double-click <b>aquí</b>.\n",
        "\n",
        "<!-- La respuesta se encuentra a continuación:\n",
        "import matplotlib.pyplot as plt\n",
        "import numpy as np\n",
        "\n",
        "# Generación de los puntos (x,y) para la realización de los gráficos de\n",
        "# dispersión.\n",
        "\n",
        "# Datos 1.\n",
        "x=range(10)\n",
        "y=np.random.rand(10)\n",
        "\n",
        "# Datos 2 (mismos valores de y de Datos1).\n",
        "xx=np.array([0,3,5,1,9,7,6,2,4,8])\n",
        "\n",
        "#Ajuste del tamaño de cada subplot\n",
        "plt.subplots(2,2, figsize=(8,8))\n",
        "\n",
        "plt.subplot(221)\n",
        "plt.scatter(x, y)\n",
        "plt.xlabel('label del eje x')\n",
        "plt.ylabel('label del eje y')\n",
        "plt.subplot(222)\n",
        "plt.scatter(xx,y)\n",
        "plt.xlabel('label del eje x')\n",
        "plt.ylabel('label del eje y')\n",
        "plt.subplot(223)\n",
        "plt.plot(x,y)\n",
        "plt.xlabel('label del eje x')\n",
        "plt.ylabel('label del eje y')\n",
        "plt.subplot(224)\n",
        "plt.plot(xx,y)\n",
        "plt.xlabel('label del eje x')\n",
        "plt.ylabel('label del eje y')\n",
        "plt.suptitle('Gráficos de dispersión')\n",
        "plt.show()\n",
        "-->"
      ]
    },
    {
      "cell_type": "markdown",
      "source": [],
      "metadata": {
        "id": "Mhx_GQ-TRSbi"
      }
    },
    {
      "cell_type": "markdown",
      "metadata": {
        "id": "qA5jEatkIJUU"
      },
      "source": [
        "<p><a name=\"class\"></a></p>\n",
        "\n",
        "# 3 Clases\n",
        "\n",
        "Las clases proporcionan un medio de agrupar datos y \"funcionalidad\". La creación de una nueva clase crea un nuevo tipo de objeto, lo que permite crear nuevas *instancias* de ese tipo. Cada instancia de la clase puede tener sus propios atributos. Las instancias de una clase también pueden tener *métodos* (definidos por su clase) para modificar su estado.\n",
        "\n",
        ">class Name():\n",
        ">>sentencias"
      ]
    },
    {
      "cell_type": "markdown",
      "metadata": {
        "id": "-loYl6I1JaGB"
      },
      "source": [
        "Los atributos son como propiedades que queremos añadir a la clase"
      ]
    },
    {
      "cell_type": "code",
      "metadata": {
        "id": "IJEykQm3JtnC"
      },
      "source": [
        "class Auto():\n",
        "  marca = ''\n",
        "  color = ''"
      ],
      "execution_count": null,
      "outputs": []
    },
    {
      "cell_type": "markdown",
      "metadata": {
        "id": "jxuP0t7xJ940"
      },
      "source": [
        "Creemos un objeto de la clase Auto con algunos atributos"
      ]
    },
    {
      "cell_type": "code",
      "metadata": {
        "id": "6pPE3CZ5KBqU",
        "colab": {
          "base_uri": "https://localhost:8080/",
          "height": 51
        },
        "outputId": "5c1d7e7b-d354-4675-9b0e-289255bce0e6"
      },
      "source": [
        "mi_auto = Auto()\n",
        "mi_auto.marca = 'ferrari'\n",
        "mi_auto.color = 'rojo'\n",
        "\n",
        "print(mi_auto.marca)\n",
        "print(mi_auto.color)"
      ],
      "execution_count": null,
      "outputs": [
        {
          "output_type": "stream",
          "text": [
            "ferrari\n",
            "rojo\n"
          ],
          "name": "stdout"
        }
      ]
    },
    {
      "cell_type": "markdown",
      "metadata": {
        "id": "YS5NKSJ4LXPb"
      },
      "source": [
        "Dentro de las clases podemos definir funciones, conocidas como *métodos*"
      ]
    },
    {
      "cell_type": "code",
      "metadata": {
        "id": "bXc_GQGHKgV8",
        "colab": {
          "base_uri": "https://localhost:8080/",
          "height": 51
        },
        "outputId": "b175bd8a-a26a-4b3a-f80b-d2e77d70b942"
      },
      "source": [
        "class Persona():\n",
        "  nombre = ''\n",
        "  edad = ''\n",
        "\n",
        "  def print_nombre(self):\n",
        "    print('nombre:',self.nombre)\n",
        "\n",
        "  def print_edad(self):\n",
        "    print('edad:',self.edad)\n",
        "\n",
        "carolina = Persona()\n",
        "carolina.nombre = 'carolina'\n",
        "carolina.edad = 20\n",
        "\n",
        "carolina.print_nombre()\n",
        "carolina.print_edad()"
      ],
      "execution_count": null,
      "outputs": [
        {
          "output_type": "stream",
          "text": [
            "nombre: carolina\n",
            "edad: 20\n"
          ],
          "name": "stdout"
        }
      ]
    },
    {
      "cell_type": "markdown",
      "metadata": {
        "id": "MZJkf1TLNb2l"
      },
      "source": [
        "Los métodos necesitan tener un argumento convenientemente llamado self, que se refiere al objeto del método que está siendo llamado. Podemos pasar más de un argumento si así lo deseamos"
      ]
    },
    {
      "cell_type": "code",
      "metadata": {
        "id": "zj_xJIzwMwS4",
        "colab": {
          "base_uri": "https://localhost:8080/",
          "height": 51
        },
        "outputId": "ffd8a0af-90ba-4376-e4af-ad0da25da881"
      },
      "source": [
        "class Persona:\n",
        "    nombre = ''\n",
        "    edad = ''\n",
        "\n",
        "    def print_informacion(self, nombre, edad):\n",
        "        print('nombre:',self.nombre)\n",
        "        print('edad:',self.edad)\n",
        "\n",
        "carlos = Persona()\n",
        "carlos.nombre = 'carlos'\n",
        "carlos.edad = '30'\n",
        "carlos.print_informacion(carlos.nombre, carlos.edad)"
      ],
      "execution_count": null,
      "outputs": [
        {
          "output_type": "stream",
          "text": [
            "nombre: carlos\n",
            "edad: 30\n"
          ],
          "name": "stdout"
        }
      ]
    },
    {
      "cell_type": "markdown",
      "metadata": {
        "id": "KOtePNB7P_5U"
      },
      "source": [
        "La operación de creación de instancias crea un objeto vacío. A muchas clases les gusta crear objetos con instancias personalizadas a un estado inicial específico. Por lo tanto, una clase puede definir un método especial llamado __init __ (), como este:"
      ]
    },
    {
      "cell_type": "code",
      "metadata": {
        "id": "K7DpEV9hN-JK",
        "colab": {
          "base_uri": "https://localhost:8080/",
          "height": 51
        },
        "outputId": "075d4c8c-84a9-4511-a0bf-63775b4bde59"
      },
      "source": [
        "class Person:\n",
        "  def __init__(self,n,e):\n",
        "    self.nombre = n\n",
        "    self.edad = e\n",
        "\n",
        "mario = Person('mario','55')\n",
        "print('nombre:',mario.nombre)\n",
        "print('edad:',mario.edad)"
      ],
      "execution_count": null,
      "outputs": [
        {
          "output_type": "stream",
          "text": [
            "nombre: mario\n",
            "edad: 55\n"
          ],
          "name": "stdout"
        }
      ]
    }
  ]
}