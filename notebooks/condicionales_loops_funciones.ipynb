{
  "nbformat": 4,
  "nbformat_minor": 0,
  "metadata": {
    "colab": {
      "provenance": [],
      "machine_shape": "hm",
      "include_colab_link": true
    },
    "kernelspec": {
      "name": "python3",
      "display_name": "Python 3"
    }
  },
  "cells": [
    {
      "cell_type": "markdown",
      "metadata": {
        "id": "view-in-github",
        "colab_type": "text"
      },
      "source": [
        "<a href=\"https://colab.research.google.com/github/ssanchezgoe/intro_informatica_viu/blob/main/notebooks/condicionales_loops_funciones.ipynb\" target=\"_parent\"><img src=\"https://colab.research.google.com/assets/colab-badge.svg\" alt=\"Open In Colab\"/></a>"
      ]
    },
    {
      "cell_type": "markdown",
      "metadata": {
        "id": "UzT-q4QW06Uz"
      },
      "source": [
        "#Condicionales\n",
        "Los condicionales representan una disyuntividad ante la ejecución de bloques de código según el cumplimiento de una o varias condiciones.\n",
        "\n"
      ]
    },
    {
      "cell_type": "markdown",
      "metadata": {
        "id": "RcUnlDFC2hdq"
      },
      "source": [
        "##If\n",
        "If para python es un condicional. Algunos autores lo llamarán una estructura de control, con lo cual solo quieren ilustrar lo que se ha querido decir en la definición de condicional. Esta estructura permite que un programa ejecute unas instrucciones cuando se cumplan una condición. Es importante notar la palabra \"if\" en inglés traduce \"si\" como condición, no \"sí\" como afirmación.\n",
        "\n",
        "La sintaxis del condicional if es\n",
        "\n",
        "\n",
        "\n",
        "```\n",
        "if condición :\n",
        "  bloque_a_ejecutar_de_ser_condición_True\n",
        "```\n",
        "\n",
        "Veámoslo en un ejemplo."
      ]
    },
    {
      "cell_type": "code",
      "metadata": {
        "id": "WEHEYTuq2joK",
        "outputId": "810827c4-aa22-45a2-a61d-78346c715e14",
        "colab": {
          "base_uri": "https://localhost:8080/",
          "height": 34
        }
      },
      "source": [
        "x = int()\n",
        "if type(x)==int:\n",
        "  print(\"x es entero\")"
      ],
      "execution_count": null,
      "outputs": [
        {
          "output_type": "stream",
          "text": [
            "x es entero\n"
          ],
          "name": "stdout"
        }
      ]
    },
    {
      "cell_type": "markdown",
      "metadata": {
        "id": "ns8HS7xr6tPe"
      },
      "source": [
        "Siempre podemos anidar un if en otro if"
      ]
    },
    {
      "cell_type": "code",
      "metadata": {
        "id": "QJom3Qfr2k3L",
        "outputId": "fa870a76-625e-44d1-a138-c498952a404c",
        "colab": {
          "base_uri": "https://localhost:8080/",
          "height": 34
        }
      },
      "source": [
        "x = int()\n",
        "if type(x)==int:\n",
        "  if x >= 0:\n",
        "    print(\"x es un natural\")\n",
        "  if x < 0:\n",
        "    print(\"x es un entero negativo\")"
      ],
      "execution_count": null,
      "outputs": [
        {
          "output_type": "stream",
          "text": [
            "x es un natural\n"
          ],
          "name": "stdout"
        }
      ]
    },
    {
      "cell_type": "markdown",
      "metadata": {
        "id": "jXifiR9k-k_g"
      },
      "source": [
        "##Else\n",
        "Suponga ahora que se desea ejecutar un bloque de código dado que la condición inicial sea falsa, para esto se usa el comando `else`.\n",
        "El funcionamiento de el comando `else` depende directamente de la condición del primer condicional, pues se recurre a él dada la negación de la condición de `if` y no necesita de una condición propia. La sintaxis completa sería\n",
        "\n",
        "```\n",
        "if cond :\n",
        "  bloque_a_ejecutar_de_ser_condición_True\n",
        "else :\n",
        "  bloque_a_ejecutar_de_ser_condición_False\n",
        "```\n",
        "\n",
        "Veamos un breve ejemplo comparativo al ejemplo anterior."
      ]
    },
    {
      "cell_type": "code",
      "metadata": {
        "id": "xWYQntLT9ZK2",
        "outputId": "c7ea5a11-a0ca-4703-ddbb-aaeb3026dc7c",
        "colab": {
          "base_uri": "https://localhost:8080/",
          "height": 34
        }
      },
      "source": [
        "x = \"¿Qué tengo que escribir acá?\"\n",
        "if type(x)==int:\n",
        "  if x >= 0:\n",
        "    print(\"x es un natural\")\n",
        "  if x < 0:\n",
        "    print(\"x es un entero negativo\")\n",
        "else:\n",
        "  print(\"x no es un entero\")"
      ],
      "execution_count": null,
      "outputs": [
        {
          "output_type": "stream",
          "text": [
            "x no es un entero\n"
          ],
          "name": "stdout"
        }
      ]
    },
    {
      "cell_type": "markdown",
      "metadata": {
        "id": "4jshm1eLAozg"
      },
      "source": [
        "##Elif\n",
        "Existe un último condicional. Suponga que desea ahora imponer una condición ante la negación de la primera afirmación. Es decir, si la primera primera condición resultó falsa necesito formular otra condición. En este caso usamos el condicional `elif`. Este nace de la conjunción de `else` y `if`. Veamos su sintaxis.\n",
        "\n",
        "```\n",
        "if cond1 :\n",
        "  bloque_a_ejecutar_de_ser_condición_True\n",
        "elif cond2:\n",
        "  bloque_a_ejecutar_de_ser_cond1_False_pero_cond2_True\n",
        "```\n",
        "\n",
        "Veámoslo con nuestro ejemplo."
      ]
    },
    {
      "cell_type": "code",
      "metadata": {
        "id": "1R2o0JZqCAuG",
        "outputId": "3e14ec66-09f6-4f3c-cf57-364a14952dc7",
        "colab": {
          "base_uri": "https://localhost:8080/",
          "height": 34
        }
      },
      "source": [
        "x = -9\n",
        "if type(x)==int:\n",
        "  if x >= 0:\n",
        "    print(\"x es un natural\")\n",
        "  elif x > -10:\n",
        "    print(\"x es un entero negativo pequeño\")\n",
        "  else :\n",
        "    print(\"x es un entero negativo grande\")\n",
        "else:\n",
        "  print(\"x no es un entero\")"
      ],
      "execution_count": null,
      "outputs": [
        {
          "output_type": "stream",
          "text": [
            "x es un entero negativo pequeño\n"
          ],
          "name": "stdout"
        }
      ]
    },
    {
      "cell_type": "markdown",
      "metadata": {
        "id": "rl6K6cRECuQT"
      },
      "source": [
        "##Condiciones y Resticciones:\n",
        "Usted puede hacer tantos if como condiciones necesite. Bien sea anidados o no anidados\n"
      ]
    },
    {
      "cell_type": "code",
      "metadata": {
        "id": "Xi-vXgpCJFpj",
        "outputId": "dbac1856-90e6-4948-b751-f75d8c2cbb4e",
        "colab": {
          "base_uri": "https://localhost:8080/",
          "height": 52
        }
      },
      "source": [
        "x = 1000\n",
        "if type(x)==int:\n",
        "  if x == 1000:\n",
        "    print(\"x es 1000\")\n",
        "  if x > 0:\n",
        "    print(\"x es un natural\")\n",
        "  elif x > -10:\n",
        "    print(\"x es un entero negativo pequeño\")\n",
        "  else :\n",
        "    print(\"x es un entero negativo grande\")\n",
        "else:\n",
        "  print(\"x no es un entero\")"
      ],
      "execution_count": null,
      "outputs": [
        {
          "output_type": "stream",
          "text": [
            "x es 1000\n",
            "x es un natural\n"
          ],
          "name": "stdout"
        }
      ]
    },
    {
      "cell_type": "markdown",
      "metadata": {
        "id": "FYF5C3nyoGnK"
      },
      "source": [
        "#Loops\n",
        "Hemos visto que un condicional es una desición sobre una sentencia. Ahora nos ocuparemos de los ciclos. Podríamos pensar que un loop o ciclo es un bloque que corre mientras se cumpla una condición. Veámoslo uno a uno con los tipos de ciclos."
      ]
    },
    {
      "cell_type": "markdown",
      "metadata": {
        "id": "-BpR-L9Rs9-7"
      },
      "source": [
        "##For\n",
        "El ciclo for es el más usual de todos. Su uso es fácil, se llama una variable y se itera en un bloque de código hasta que se cumpla dicha condición sumándole cada vez un valor llamado `step`. Es válido notar que el bloque no debe depender de dicha variable o contador.\n",
        "La sintaxis en Python es la siguiente\n",
        "\n",
        "```\n",
        "for contador in range (inicio, fin, step):\n",
        "  bloque_a_correr_en_el_Loop\n",
        "```\n"
      ]
    },
    {
      "cell_type": "code",
      "metadata": {
        "id": "gHiCqRUJnRV4",
        "outputId": "4437429e-9bf6-4ce7-df8c-93197794e4b8",
        "colab": {
          "base_uri": "https://localhost:8080/",
          "height": 34
        }
      },
      "source": [
        "suma= 0\n",
        "for i in range (0,10,2):\n",
        "  suma = suma+i\n",
        "print(suma-(0+2+4+6+8))"
      ],
      "execution_count": null,
      "outputs": [
        {
          "output_type": "stream",
          "text": [
            "0\n"
          ],
          "name": "stdout"
        }
      ]
    },
    {
      "cell_type": "code",
      "metadata": {
        "id": "dkJ8jLAN1sz0",
        "outputId": "a3c3cb54-21ad-4ec7-ffae-8b8fdd98b009",
        "colab": {
          "base_uri": "https://localhost:8080/",
          "height": 193
        }
      },
      "source": [
        "for n in range(0,10):\n",
        "  print(\"hola\"+str(n))"
      ],
      "execution_count": null,
      "outputs": [
        {
          "output_type": "stream",
          "text": [
            "hola0\n",
            "hola1\n",
            "hola2\n",
            "hola3\n",
            "hola4\n",
            "hola5\n",
            "hola6\n",
            "hola7\n",
            "hola8\n",
            "hola9\n"
          ],
          "name": "stdout"
        }
      ]
    },
    {
      "cell_type": "markdown",
      "metadata": {
        "id": "hM9kAHwu35Bu"
      },
      "source": [
        "##Break\n",
        "El comando `break` sirve para cortar un ciclo y se ponde dentro de un condicional, que a su vez va en un ciclo. Veamos:"
      ]
    },
    {
      "cell_type": "code",
      "metadata": {
        "id": "9Xu7P7Sk7uuC",
        "outputId": "20e9ff02-ed4e-4910-e67a-37f4768b4d1f",
        "colab": {
          "base_uri": "https://localhost:8080/",
          "height": 122
        }
      },
      "source": [
        "for i in range (0,1000):\n",
        "  print( i**2)\n",
        "  if i == 5:\n",
        "    break"
      ],
      "execution_count": null,
      "outputs": [
        {
          "output_type": "stream",
          "text": [
            "0\n",
            "1\n",
            "4\n",
            "9\n",
            "16\n",
            "25\n"
          ],
          "name": "stdout"
        }
      ]
    },
    {
      "cell_type": "markdown",
      "metadata": {
        "id": "6l51oqWJ8o9F"
      },
      "source": [
        "##Continue\n",
        "El comando `continue` tiene un funcionamiento similar a el comando `break`. Funciona dentro de un condicional dentro de un ciclo. Dado que se cumpla la condición, entonces evitará el bloque dentro de ese loop. Veamos un ejemplo."
      ]
    },
    {
      "cell_type": "code",
      "metadata": {
        "id": "vF8RQwlV-Rlk",
        "outputId": "47b33491-2c7d-4864-a344-46d1228eb8ae",
        "colab": {
          "base_uri": "https://localhost:8080/",
          "height": 175
        }
      },
      "source": [
        "for i in range (0,10):\n",
        "  if i == 5:\n",
        "    continue\n",
        "  print( i**2)\n",
        ""
      ],
      "execution_count": null,
      "outputs": [
        {
          "output_type": "stream",
          "text": [
            "0\n",
            "1\n",
            "4\n",
            "9\n",
            "16\n",
            "36\n",
            "49\n",
            "64\n",
            "81\n"
          ],
          "name": "stdout"
        }
      ]
    },
    {
      "cell_type": "markdown",
      "metadata": {
        "id": "odfPouX1-4Sm"
      },
      "source": [
        "##While\n",
        "El ciclo while funciona con una condición, este ejecuta un bloque de código siempre y cuando la condición dada sea verdadera. En cuanto dicha condición se hace falsa, entonces el ciclo cesa.\n",
        "\n",
        "Veamos un ejemplo:"
      ]
    },
    {
      "cell_type": "code",
      "metadata": {
        "id": "PPdoaN8deDUA",
        "outputId": "dce4115f-e04d-47c2-f42b-b6c230034515",
        "colab": {
          "base_uri": "https://localhost:8080/",
          "height": 105
        }
      },
      "source": [
        "x = 0\n",
        "while x < 100:\n",
        "  x =x**2+1\n",
        "  print(x)"
      ],
      "execution_count": null,
      "outputs": [
        {
          "output_type": "stream",
          "text": [
            "1\n",
            "2\n",
            "5\n",
            "26\n",
            "677\n"
          ],
          "name": "stdout"
        }
      ]
    },
    {
      "cell_type": "markdown",
      "metadata": {
        "id": "oVEKRcDzirnX"
      },
      "source": [
        "## \"Truco\" para obtener más memoria ram en el `colab`"
      ]
    },
    {
      "cell_type": "code",
      "metadata": {
        "id": "vxHIng6ShQsc"
      },
      "source": [
        "aList =[]\n",
        "a = 1\n",
        "while a<3:\n",
        "  aList.append(a)"
      ],
      "execution_count": null,
      "outputs": []
    },
    {
      "cell_type": "markdown",
      "metadata": {
        "id": "hU_WhSbTi02H"
      },
      "source": [
        "¿Quién me explica lo que pasa?"
      ]
    },
    {
      "cell_type": "markdown",
      "metadata": {
        "id": "W_XPpzV2j-t9"
      },
      "source": [
        "##Pass\n",
        "El comando `pass` puede parecer inútil, en sí lo que indica es una operación nula, o sea que no pasa nada cuando se ejecuta, pero en realidad se utiliza cuando se requiere por sintaxis una declaración pero no se quiere ejecutar ningún comando o código. También se utiliza en lugares donde donde el código irá finalmente, pero no ha sido escrita todavía (utilizándolo como un relleno temporal, hasta que se escriba el código final)."
      ]
    },
    {
      "cell_type": "code",
      "metadata": {
        "id": "CdbBxNWKhkyy",
        "outputId": "d1ca842c-504e-4192-8695-7fb7a1109c31",
        "colab": {
          "base_uri": "https://localhost:8080/",
          "height": 210
        }
      },
      "source": [
        "for i in range (0,10):\n",
        "  if i == 5:\n",
        "    pass\n",
        "    print('This is pass block')\n",
        "  print( i**2)"
      ],
      "execution_count": null,
      "outputs": [
        {
          "output_type": "stream",
          "text": [
            "0\n",
            "1\n",
            "4\n",
            "9\n",
            "16\n",
            "This is pass block\n",
            "25\n",
            "36\n",
            "49\n",
            "64\n",
            "81\n"
          ],
          "name": "stdout"
        }
      ]
    },
    {
      "cell_type": "markdown",
      "metadata": {
        "id": "S56hjU5Dwa3A"
      },
      "source": [
        "# Comprimir ciclos y condicionales\n",
        "\n",
        "En Python las cosas se pueden resumir o comprimir, especialmente para los Iterables, que son los objetos que pueden iterarse bajo un index como las cadenas, listas, tuplas y diccionarios"
      ]
    },
    {
      "cell_type": "markdown",
      "metadata": {
        "id": "KUoNM28zGEUY"
      },
      "source": [
        "## Comprimir un condicional\n",
        "\n",
        "Una estructura condicional tipo **if/else** puede usarse para determinar el valor de una varible en función de algún tipo de condición, sin embargo podemos usar estos comando dentro de una asignación para ahorrarnos unas líneas:"
      ]
    },
    {
      "cell_type": "code",
      "metadata": {
        "id": "FoEcMrFzF4J-",
        "outputId": "816e427b-6f2b-458b-e397-8814a691e6bf",
        "colab": {
          "base_uri": "https://localhost:8080/",
          "height": 52
        }
      },
      "source": [
        "select = 0\n",
        "\n",
        "if select == 0:\n",
        "  var = 1.0\n",
        "else:\n",
        "  var = 2.0\n",
        "print(\"Con toda la estructura:\",var)\n",
        "\n",
        "var = 1.0 if select==0 else 2.0\n",
        "\n",
        "print(\"Con una sola línea:\",var)"
      ],
      "execution_count": null,
      "outputs": [
        {
          "output_type": "stream",
          "text": [
            "Con toda la estructura: 1.0\n",
            "Con una sola línea: 1.0\n"
          ],
          "name": "stdout"
        }
      ]
    },
    {
      "cell_type": "markdown",
      "metadata": {
        "id": "I-68HcFbHTUM"
      },
      "source": [
        "## Comprimir un ciclo\n",
        "\n",
        "Los ciclos **for** suelen usarse mucho para definir una lista u otro objeto iterable, por ejemplo crear una lista con los cuadrados de los números pares de 0 a 10. Esto también es posible hacer en una sola línea:"
      ]
    },
    {
      "cell_type": "code",
      "metadata": {
        "id": "Bcu2iUcLHy9s",
        "outputId": "0dc54049-0375-4b13-de3d-ac424dd77581",
        "colab": {
          "base_uri": "https://localhost:8080/",
          "height": 87
        }
      },
      "source": [
        "lista = []\n",
        "for i in range(0,11,2):\n",
        "  lista.append(i**2)\n",
        "print(\"Con toda la estructura:\",lista)\n",
        "\n",
        "lista = [i**2 for i in range(0,11,2)]\n",
        "print(\"Con una sóla línea:\",lista)\n",
        "\n",
        "print(\"Creando un diccionario en una sola línea\")\n",
        "dicc = {str(2*i)+'^2':lista[i] for i in range(0,len(lista))}\n",
        "print(dicc)"
      ],
      "execution_count": null,
      "outputs": [
        {
          "output_type": "stream",
          "text": [
            "Con toda la estructura: [0, 4, 16, 36, 64, 100]\n",
            "Con una sóla línea: [0, 4, 16, 36, 64, 100]\n",
            "Creando un diccionario en una sola línea\n",
            "{'0^2': 0, '2^2': 4, '4^2': 16, '6^2': 36, '8^2': 64, '10^2': 100}\n"
          ],
          "name": "stdout"
        }
      ]
    },
    {
      "cell_type": "markdown",
      "metadata": {
        "id": "CEX8vDdMKZ-m"
      },
      "source": [
        "## Comprimir ciclos y condicionales al mismo tiempo\n",
        "\n",
        "En muchos casos un **for** se usa junto con condicionales **if/else** para crear iterables que responden a dos condiciones o para filtrar y crear una nueva lista:"
      ]
    },
    {
      "cell_type": "code",
      "metadata": {
        "id": "3zbIhV9OMGft",
        "outputId": "72dd7dee-5dc6-4b52-f589-8b4595129438",
        "colab": {
          "base_uri": "https://localhost:8080/",
          "height": 52
        }
      },
      "source": [
        "lista = []\n",
        "for i in range(0,10):\n",
        "  if i%2==0:\n",
        "    lista.append(2*i)\n",
        "  else:\n",
        "    lista.append(3*i)\n",
        "print(\"Con toda la estructura:\",lista)\n",
        "lista = [2*i if i%2==0 else 3*i for i in range(0,10)]\n",
        "print(\"Con una sóla línea:\",lista)"
      ],
      "execution_count": null,
      "outputs": [
        {
          "output_type": "stream",
          "text": [
            "Con toda la estructura: [0, 3, 4, 9, 8, 15, 12, 21, 16, 27]\n",
            "Con una sóla línea: [0, 3, 4, 9, 8, 15, 12, 21, 16, 27]\n"
          ],
          "name": "stdout"
        }
      ]
    },
    {
      "cell_type": "code",
      "metadata": {
        "id": "r-dsM_gINXYe",
        "outputId": "6224e7cd-a6b4-4282-934c-42d8bf1df8d7",
        "colab": {
          "base_uri": "https://localhost:8080/",
          "height": 34
        }
      },
      "source": [
        "nombres = ['Juan','Sergio','Luis','Mauricio','Claudia','Diana','José','Dana']\n",
        "nombres_4letras = [nombre for nombre in nombres if len(nombre)==4]\n",
        "nombres_4letras"
      ],
      "execution_count": null,
      "outputs": [
        {
          "output_type": "execute_result",
          "data": {
            "text/plain": [
              "['Juan', 'Luis', 'José', 'Dana']"
            ]
          },
          "metadata": {
            "tags": []
          },
          "execution_count": 37
        }
      ]
    },
    {
      "cell_type": "markdown",
      "metadata": {
        "id": "0omfcyHAhZD6"
      },
      "source": [
        "# Manejo de archivos por python\n",
        "\n",
        "Recordemos que estamos trabajando en remoto, por lo tanto los resultados están asociados a la CPU en la que estamos trabajando. **Es posible que ciertas cosas que guardemos en el entorno de google se borren con el tiempo**.\n",
        "\n",
        "Más info:\n",
        "\n",
        "* [Mod os](https://docs.python.org/3.6/library/os.html)\n",
        "\n",
        "* [Mod shutil](https://docs.python.org/3.6/library/shutil.html?highlight=shutil#module-shutil)\n",
        "\n",
        "La librería por defecto para el manejo de los archivos es **os** (Operative System) y la librería de ultilidades **shutil**. Por ejemplo para recorrer un directorio y su contenido podemos usar:\n",
        "\n",
        "```\n",
        "os.walk(top, topdown=True, onerror=None, followlinks=False)¶\n",
        "```\n",
        "\n",
        "generándose los nombres de archivo en un árbol de directorios, recorriendo el árbol de arriba hacia abajo o de abajo hacia arriba. Para cada directorio en el árbol en la parte superior del directorio (incluida la parte superior), produce una tupla de 3\n",
        "\n",
        "`(dirpath, dirnames, nombres de archivo)`\n",
        "\n",
        "Vemos dicho ejemplo en la práctica:\n"
      ]
    },
    {
      "cell_type": "code",
      "metadata": {
        "id": "8yRk6z3ar8Fs",
        "outputId": "58cfa65b-a0b3-4577-99a5-164cf7f39ee5",
        "colab": {
          "base_uri": "https://localhost:8080/",
          "height": 440
        }
      },
      "source": [
        "import os\n",
        "import shutil\n",
        "for root, dirs, files in os.walk(\"./\"):\n",
        "  print(\"Ruta actual:\", root)\n",
        "  print(\"Carpetas:\", \", \".join(dirs))\n",
        "  print(\"Archivos:\", \", \".join(files),end='\\n\\n')"
      ],
      "execution_count": null,
      "outputs": [
        {
          "output_type": "stream",
          "text": [
            "Ruta actual: ./\n",
            "Carpetas: .config, sample_data\n",
            "Archivos: \n",
            "\n",
            "Ruta actual: ./.config\n",
            "Carpetas: logs, configurations\n",
            "Archivos: .last_survey_prompt.yaml, gce, .last_opt_in_prompt.yaml, .last_update_check.json, config_sentinel, active_config, .metricsUUID\n",
            "\n",
            "Ruta actual: ./.config/logs\n",
            "Carpetas: 2020.04.03\n",
            "Archivos: \n",
            "\n",
            "Ruta actual: ./.config/logs/2020.04.03\n",
            "Carpetas: \n",
            "Archivos: 16.24.26.990500.log, 16.23.40.043713.log, 16.24.13.655529.log, 16.24.09.722063.log, 16.24.26.483358.log, 16.23.57.403439.log\n",
            "\n",
            "Ruta actual: ./.config/configurations\n",
            "Carpetas: \n",
            "Archivos: config_default\n",
            "\n",
            "Ruta actual: ./sample_data\n",
            "Carpetas: \n",
            "Archivos: README.md, anscombe.json, mnist_train_small.csv, california_housing_train.csv, mnist_test.csv, california_housing_test.csv\n",
            "\n"
          ],
          "name": "stdout"
        }
      ]
    },
    {
      "cell_type": "markdown",
      "metadata": {
        "id": "hExG8GnWj5z5"
      },
      "source": [
        "## Borrar, copiar y mover archivos  \n",
        "\n",
        "* Para directorios\n",
        "\n",
        "```python\n",
        "os.rmdir('dir') # eliminación de directorio vacío\n",
        "shutil.rmtree('dir') #directorio lleno\n",
        "shutil.copytree('dir','dir_cp')\n",
        "```\n",
        "* Para archivos\n",
        "\n",
        "```python\n",
        "os.remove('name')\n",
        "shutil.copy('name','name_cp')\n",
        "```\n",
        "\n",
        "* Para Cualquiera\n",
        "\n",
        "```python\n",
        "shutil.move('old_file','new_file' )\n",
        "os.rename('old_name','new_name')\n",
        "```"
      ]
    },
    {
      "cell_type": "code",
      "metadata": {
        "id": "sCPUZnuFx3KE",
        "colab": {
          "base_uri": "https://localhost:8080/",
          "height": 34
        },
        "outputId": "6bb834c4-b173-40f9-dd02-3f5d487e9df6"
      },
      "source": [
        "ls"
      ],
      "execution_count": null,
      "outputs": [
        {
          "output_type": "stream",
          "text": [
            "\u001b[0m\u001b[01;34msample_data\u001b[0m/\n"
          ],
          "name": "stdout"
        }
      ]
    },
    {
      "cell_type": "code",
      "metadata": {
        "id": "11C6h7IVx5l9"
      },
      "source": [
        "mkdir toDel"
      ],
      "execution_count": null,
      "outputs": []
    },
    {
      "cell_type": "code",
      "metadata": {
        "id": "hKVg8C2fz9jj",
        "colab": {
          "base_uri": "https://localhost:8080/",
          "height": 34
        },
        "outputId": "eca0b6ca-04d8-4c67-8de5-3c0e408b1df8"
      },
      "source": [
        "ls"
      ],
      "execution_count": null,
      "outputs": [
        {
          "output_type": "stream",
          "text": [
            "\u001b[0m\u001b[01;34msample_data\u001b[0m/  \u001b[01;34mtoDel\u001b[0m/\n"
          ],
          "name": "stdout"
        }
      ]
    },
    {
      "cell_type": "code",
      "metadata": {
        "id": "AOeIE60tx_eF"
      },
      "source": [
        "os.rmdir('toDel')"
      ],
      "execution_count": null,
      "outputs": []
    },
    {
      "cell_type": "code",
      "metadata": {
        "id": "HVVbWyU30BZc",
        "colab": {
          "base_uri": "https://localhost:8080/",
          "height": 34
        },
        "outputId": "1b5eca51-73b7-42cd-8d7f-b268e5022412"
      },
      "source": [
        "ls"
      ],
      "execution_count": null,
      "outputs": [
        {
          "output_type": "stream",
          "text": [
            "\u001b[0m\u001b[01;34msample_data\u001b[0m/\n"
          ],
          "name": "stdout"
        }
      ]
    },
    {
      "cell_type": "markdown",
      "metadata": {
        "id": "0YmJXc5Xei3o"
      },
      "source": [
        "## Archivos de entrada y salida\n",
        "\n",
        "Existen dos formas básicas de acceder a un archivo de datos según\n",
        "su formato, una es el archivo de texto, que procesaremos línea por\n",
        "línea; la otra es un archivo binario, que procesaremos byte por byte.\n",
        "\n",
        "Para abrir un archivo usamos **open**"
      ]
    },
    {
      "cell_type": "code",
      "metadata": {
        "id": "iVjrt58gERZv"
      },
      "source": [
        "archivo = open('sample_data/README.md') # Es por defecto de solo lectura"
      ],
      "execution_count": null,
      "outputs": []
    },
    {
      "cell_type": "markdown",
      "metadata": {
        "id": "MiSyPksAr0BB"
      },
      "source": [
        "Esta función intentará abrir el archivo con el nombre indicado. Si tiene éxito, devolverá una variable que nos permitirá manipular el archivo de diversas maneras."
      ]
    },
    {
      "cell_type": "code",
      "metadata": {
        "id": "dXd3E0NorpcS",
        "outputId": "d89f895a-ed47-46bf-a88e-f4719798df38",
        "colab": {
          "base_uri": "https://localhost:8080/",
          "height": 658
        }
      },
      "source": [
        "linea = archivo.readline()\n",
        "\n",
        "#for linea in archivo:\n",
        "while linea != '':\n",
        "  # procesar línea\n",
        "  linea = archivo.readline()\n",
        "  print(linea)\n",
        "\n",
        "#Esta no es la mejor opción puesto que carga en memoria todo el documento\n",
        "#lineas = archivo.readlines()\n",
        "archivo.close()"
      ],
      "execution_count": null,
      "outputs": [
        {
          "output_type": "stream",
          "text": [
            "\n",
            "\n",
            "*   `california_housing_data*.csv` is California housing data from the 1990 US\n",
            "\n",
            "    Census; more information is available at:\n",
            "\n",
            "    https://developers.google.com/machine-learning/crash-course/california-housing-data-description\n",
            "\n",
            "\n",
            "\n",
            "*   `mnist_*.csv` is a small sample of the\n",
            "\n",
            "    [MNIST database](https://en.wikipedia.org/wiki/MNIST_database), which is\n",
            "\n",
            "    described at: http://yann.lecun.com/exdb/mnist/\n",
            "\n",
            "\n",
            "\n",
            "*   `anscombe.json` contains a copy of\n",
            "\n",
            "    [Anscombe's quartet](https://en.wikipedia.org/wiki/Anscombe%27s_quartet); it\n",
            "\n",
            "    was originally described in\n",
            "\n",
            "\n",
            "\n",
            "    Anscombe, F. J. (1973). 'Graphs in Statistical Analysis'. American\n",
            "\n",
            "    Statistician. 27 (1): 17-21. JSTOR 2682899.\n",
            "\n",
            "\n",
            "\n",
            "    and our copy was prepared by the\n",
            "\n",
            "    [vega_datasets library](https://github.com/altair-viz/vega_datasets/blob/4f67bdaad10f45e3549984e17e1b3088c731503d/vega_datasets/_data/anscombe.json).\n",
            "\n",
            "\n"
          ],
          "name": "stdout"
        }
      ]
    },
    {
      "cell_type": "code",
      "metadata": {
        "id": "ujRGTlDI1sVH",
        "colab": {
          "base_uri": "https://localhost:8080/",
          "height": 34
        },
        "outputId": "81250d40-5a3c-4682-ce73-4e27f351c2d4"
      },
      "source": [
        "linea"
      ],
      "execution_count": null,
      "outputs": [
        {
          "output_type": "execute_result",
          "data": {
            "text/plain": [
              "''"
            ]
          },
          "metadata": {
            "tags": []
          },
          "execution_count": 24
        }
      ]
    },
    {
      "cell_type": "markdown",
      "metadata": {
        "id": "XJX0Dg37svtD"
      },
      "source": [
        "**Modos de apertura de un archivo**\n",
        "\n",
        "* Modo de sólo lectura (r). En este caso no es posible realizar\n",
        "modificaciones sobre el archivo, solamente leer su contenido.\n",
        "\n",
        "* Modo de sólo escritura (w). En este caso el archivo es truncado\n",
        "(vaciado) si existe, y se lo crea si no existe.\n",
        "\n",
        "* Modo sólo escritura posicionándose al final del archivo (a). En\n",
        "este caso se crea el archivo, si no existe, pero en caso de que\n",
        "exista se posiciona al final, manteniendo el contenido original.\n",
        "\n",
        "* Por otro lado, en cualquiera de estos modos se puede agregar un + para pasar a un modo lectura-escritura. El comportamiento de\n",
        "r+ y de w+ no es el mismo, ya que en el primer caso se tiene el\n",
        "archivo completo, y en el segundo caso se trunca el archivo,\n",
        "perdiendo así los datos."
      ]
    },
    {
      "cell_type": "code",
      "metadata": {
        "id": "hf5BPS3Lr7SB"
      },
      "source": [
        "saludo = open(\"saludo.txt\", \"w\")\n",
        "\n",
        "saludo.write(\"\"\"Hola ------------------->\n",
        "Mundo\\n\"\"\")\n",
        "\n",
        "cadena1=\"Hola\"\n",
        "cadena2=\"Mundo\"\n",
        "\n",
        "saludo.writelines((cadena1,cadena2))\n",
        "saludo.close()\n"
      ],
      "execution_count": null,
      "outputs": []
    },
    {
      "cell_type": "code",
      "metadata": {
        "id": "cm_3Zc_ysGqF",
        "outputId": "cea389fd-98d0-462d-9088-daeceb022e0e",
        "colab": {
          "base_uri": "https://localhost:8080/",
          "height": 34
        }
      },
      "source": [
        "#Vamos a revisar los archivos\n",
        "os.listdir()"
      ],
      "execution_count": null,
      "outputs": [
        {
          "output_type": "execute_result",
          "data": {
            "text/plain": [
              "['.config', 'saludo.txt', 'sample_data']"
            ]
          },
          "metadata": {
            "tags": []
          },
          "execution_count": 26
        }
      ]
    },
    {
      "cell_type": "code",
      "metadata": {
        "id": "aPyMv0SZK5W4",
        "outputId": "b0190b1e-cecb-467b-fda1-e1a823a2c226",
        "colab": {
          "base_uri": "https://localhost:8080/",
          "height": 34
        }
      },
      "source": [
        "revisar = open('saludo.txt')\n",
        "print(revisar.readlines())\n",
        "revisar.close()"
      ],
      "execution_count": null,
      "outputs": [
        {
          "output_type": "stream",
          "text": [
            "['Hola ------------------->\\n', 'Mundo\\n', 'HolaMundo']\n"
          ],
          "name": "stdout"
        }
      ]
    },
    {
      "cell_type": "markdown",
      "metadata": {
        "id": "yEGz_kGOLDkE"
      },
      "source": [
        "* No todos los archivos son archivos de texto, y por lo tanto no todos los archivos pueden ser procesados por líneas. Existen archivos en los que cada byte tiene un significado particular, y es necesario manipularlos conociendo el formato en que están los\n",
        "datos para poder procesar esa información.\n",
        "\n",
        "* Para abrir un archivo y manejarlo de forma binaria es necesario agregarle una b al parámetro de modo de apertura ```archivo = open('bin','rb') ```\n",
        "\n",
        "* Para procesar el archivo\n",
        "de a bytes en lugar de líneas, se utiliza la función ```contenido = archivo.read(n) ```\n",
        "\n",
        "*  Tal que la función permite leer n bytes y para escribir contenido en la posición actual del archivo ```archivo.write(contenido)```\n",
        "\n",
        "\n",
        "\n"
      ]
    },
    {
      "cell_type": "markdown",
      "metadata": {
        "id": "Wtcib_9Ot5AO"
      },
      "source": [
        "## Archivos en google colab\n",
        "\n",
        "Para subir y descargar archivos desde nuestro espacio virtual/local podemos usar:\n",
        "```python\n",
        "from google.colab import files\n",
        "#Upload\n",
        "my_file = files.upload()\n",
        "#Download\n",
        "files.download('name')\n",
        "```\n",
        "**Importante**\n",
        "\n",
        "Recomiendo el camino anterior para el manejo de nuestros archivos que guardar archivos en google drive, dado a que hay que facilitar permisos entre la cuenta y google cloud, aunque es relativamente seguro, el nivel de acceso a su cuenta por parte de la aplicación es alto.\n",
        "\n",
        "**<--** También es posible hacer esto de forma manual usando la pestaña de archivos, donde incluso podemos activar el acceso a nuestra carpeta Drive."
      ]
    },
    {
      "cell_type": "markdown",
      "metadata": {
        "id": "2iD7GfLhExVN"
      },
      "source": [
        "#Funciones\n",
        "\n",
        "Usualmente en el desarrollo de un código debemos usar varias veces el mismo algoritmo, no necesariamente de forma periódica. Es fácil pensar que si quiero calcular un valor estadístico que no esté predefinido por algo el lenguaje de programación, tendremos que ir haciendo `Ctrl+C` y luego `Ctrl+V` como locos por todo nuestro código. Para evitar esto existen las funciones. Con ellas es posible desarrollar de forma ordenada el código y por consiguiente más entendible.\n",
        "\n",
        "La sintaxis de una función es la siguiente:\n",
        "\n",
        "```\n",
        "def Function(arg1,arg2,...argn):\n",
        "  bloque_de_texto\n",
        "  return el_valor_que_retorna_la_función\n",
        "```\n",
        "En general es necesario el uso de `return` al final de cada función. De esa forma la función sabe exactamente qué debe devolver.\n",
        "\n",
        "Veamosun ejemplo.\n",
        "\n"
      ]
    },
    {
      "cell_type": "code",
      "metadata": {
        "id": "YLaTRLakOm9I",
        "outputId": "9b0db8af-95ae-44f2-f733-3aed452002a8",
        "colab": {
          "base_uri": "https://localhost:8080/",
          "height": 34
        }
      },
      "source": [
        "def PrimeraFunc():\n",
        "  return print(\"Hola Mundo\")\n",
        "\n",
        "PrimeraFunc()"
      ],
      "execution_count": null,
      "outputs": [
        {
          "output_type": "stream",
          "text": [
            "Hola Mundo\n"
          ],
          "name": "stdout"
        }
      ]
    },
    {
      "cell_type": "markdown",
      "metadata": {
        "id": "JIdYMTFcOoXy"
      },
      "source": [
        "Es importante anotar que todas las variables que estén dentro de una función quedan instanciadas allí, por lo que no podremos verlas a menos que dicha variable sea, veamos un ejemplo.\n"
      ]
    },
    {
      "cell_type": "code",
      "metadata": {
        "id": "VRBd-1ESPJ_n"
      },
      "source": [
        "def SolCuadrática(a,b,c):\n",
        "  disc = b**2-4*a*c\n",
        "  x1 = (-b+disc**0.5)/2*a\n",
        "  x2 = (-b-disc**0.5)/2*a\n",
        "  return (x1,x2)"
      ],
      "execution_count": null,
      "outputs": []
    },
    {
      "cell_type": "code",
      "metadata": {
        "id": "Mc2grjbKP1tP",
        "outputId": "3fa5593c-c182-4c4e-d2f9-5a915068e5bb",
        "colab": {
          "base_uri": "https://localhost:8080/",
          "height": 34
        }
      },
      "source": [
        "SolCuadrática(-5,2,3)"
      ],
      "execution_count": null,
      "outputs": [
        {
          "output_type": "execute_result",
          "data": {
            "text/plain": [
              "(-15.0, 25.0)"
            ]
          },
          "metadata": {
            "tags": []
          },
          "execution_count": 16
        }
      ]
    },
    {
      "cell_type": "markdown",
      "metadata": {
        "id": "sNnhxl3uS7tC"
      },
      "source": [
        "Cree una función que acepte un parámetro de entrada y me devuelva el tercer elemento de ese parámetro si este es una lista, sino, me devuelva un string que diga \"Su Parámetro no es válido\""
      ]
    },
    {
      "cell_type": "code",
      "metadata": {
        "id": "r5guFmRIP-jv"
      },
      "source": [
        "def TercerElemento(l):\n",
        "  if (type(l) == list and len(l)>=3):\n",
        "    return(l[2])\n",
        "  else:\n",
        "    return(\"Su parámetro no es una lista\")"
      ],
      "execution_count": null,
      "outputs": []
    },
    {
      "cell_type": "code",
      "metadata": {
        "id": "NwscCVTvUpVF",
        "outputId": "5f4c4882-901d-4b8f-d5bb-056c3da555cf",
        "colab": {
          "base_uri": "https://localhost:8080/",
          "height": 34
        }
      },
      "source": [
        "li= [i for i in range(5)]\n",
        "TercerElemento(li)"
      ],
      "execution_count": null,
      "outputs": [
        {
          "output_type": "execute_result",
          "data": {
            "text/plain": [
              "2"
            ]
          },
          "metadata": {
            "tags": []
          },
          "execution_count": 18
        }
      ]
    },
    {
      "cell_type": "markdown",
      "metadata": {
        "id": "cbErhx1IutGf"
      },
      "source": [
        "## **Funciones en python de argumentos y argumentos basados en palabras claves variables:**\n",
        "\n",
        "En varias ocaciones resulta útil definir una función en `python` que reciba un número variable de argumentos. Por ejemplo, podríamos querer definir una función que reciba dos números y nos devuelva la suma de ellos, o tres, o más. También se podría definir una función que se ejecute según un número de parámetros, pasados como palabras claves y valor, varialbles."
      ]
    },
    {
      "cell_type": "markdown",
      "metadata": {
        "id": "0XD0VZie2vf_"
      },
      "source": [
        "### **Funciones de argumentos variables**:\n",
        "\n",
        "En `python` existe la sintaxis especiañ `*args` en el argumento de un función que es definida y se usa para pasarle un número variable de argumentos.\n",
        "\n",
        "Veamos un ejemplo muy sencillo de una vencón que recibe un número variable de argumentos y los imprime en pantalla:"
      ]
    },
    {
      "cell_type": "code",
      "metadata": {
        "id": "wnFYW7UP2rNO"
      },
      "source": [
        "def print_args(*args):\n",
        "  for arg in args:\n",
        "    print (arg)"
      ],
      "execution_count": null,
      "outputs": []
    },
    {
      "cell_type": "markdown",
      "metadata": {
        "id": "zrGvNNMf3wUN"
      },
      "source": [
        "Probemos la función variando el número de argumentos de entrada:"
      ]
    },
    {
      "cell_type": "code",
      "metadata": {
        "id": "s4X8MIGc3u70",
        "outputId": "8e01a280-258b-4ebd-d776-31e7a3c938e9",
        "colab": {
          "base_uri": "https://localhost:8080/",
          "height": 51
        }
      },
      "source": [
        "print_args('arg1','arg2')\n"
      ],
      "execution_count": null,
      "outputs": [
        {
          "output_type": "stream",
          "text": [
            "arg1\n",
            "arg2\n"
          ],
          "name": "stdout"
        }
      ]
    },
    {
      "cell_type": "code",
      "metadata": {
        "id": "d2XFZWZV3_DX",
        "outputId": "58e1291a-b10f-4fbf-f37b-4eae975bdaa3",
        "colab": {
          "base_uri": "https://localhost:8080/",
          "height": 68
        }
      },
      "source": [
        "print_args('arg1','arg2', 'arg3')"
      ],
      "execution_count": null,
      "outputs": [
        {
          "output_type": "stream",
          "text": [
            "arg1\n",
            "arg2\n",
            "arg3\n"
          ],
          "name": "stdout"
        }
      ]
    },
    {
      "cell_type": "markdown",
      "metadata": {
        "id": "BYUgn49x4TKA"
      },
      "source": [
        "Al usar el símbolo `*`  junto a una variable (`args` en e caso de la función `print_args`), convierta a esta última aen un iterables, lo que significa que podemos iterar sobre ella.\n",
        "\n",
        "Veamos una última función que suma los un número variable de argumentos:"
      ]
    },
    {
      "cell_type": "code",
      "metadata": {
        "id": "sGP9blJ54Rpf"
      },
      "source": [
        "def my_sum(*args):\n",
        "  suma = 0\n",
        "  for arg in args:\n",
        "    suma += arg\n",
        "\n",
        "  return suma"
      ],
      "execution_count": null,
      "outputs": []
    },
    {
      "cell_type": "code",
      "metadata": {
        "id": "ttKYWOlM4HN_",
        "outputId": "fc1d3b5e-20bc-4bd9-a94e-950cec6eeddc",
        "colab": {
          "base_uri": "https://localhost:8080/",
          "height": 34
        }
      },
      "source": [
        "my_sum(1,2,3)"
      ],
      "execution_count": null,
      "outputs": [
        {
          "output_type": "execute_result",
          "data": {
            "text/plain": [
              "6"
            ]
          },
          "metadata": {
            "tags": []
          },
          "execution_count": 11
        }
      ]
    },
    {
      "cell_type": "code",
      "metadata": {
        "id": "oXJHY5x25zFL",
        "outputId": "74c69513-411d-4b33-a4cb-90bfaf0c91c1",
        "colab": {
          "base_uri": "https://localhost:8080/",
          "height": 34
        }
      },
      "source": [
        "my_sum(1,2,3,4,5,6)"
      ],
      "execution_count": null,
      "outputs": [
        {
          "output_type": "execute_result",
          "data": {
            "text/plain": [
              "21"
            ]
          },
          "metadata": {
            "tags": []
          },
          "execution_count": 12
        }
      ]
    },
    {
      "cell_type": "markdown",
      "metadata": {
        "id": "gz1ff8mu7iFD"
      },
      "source": [
        "### **Funciones en python con argumentos basados en palabras claves de longitud variable:**\n",
        "\n",
        "Existe en `python` una sintaxis especial que nos permimite definir una función con una lista de argumentos basados en palabras clave de longitud variable. Para tal fin, dentro de la función a ser definida usamos la sintaxis `**kwargs` dentro del argumento de la función; la doble estrella indica el tipo de argumentos definido con palabras claves.\n",
        "\n",
        "Un argumento basado en una palabra clave consite en asignarle a un nombre a una variable que es pasada a una función.\n",
        "\n",
        "Se puede pensar en los `kwargs` como un diccionario que asigna cada palabra clave al valor que pasamos junto a ella.\n",
        "\n",
        "Veamos un ejemplo sencillo en donde se usa esta estrategia para acceder a las claves y sus valores:"
      ]
    },
    {
      "cell_type": "code",
      "metadata": {
        "id": "9EZlrTA0ApgU"
      },
      "source": [
        "def kwargs_access(**kwargs):\n",
        "  for key, value in kwargs.items():\n",
        "    print(\"%s == %s\" %(key, value))"
      ],
      "execution_count": null,
      "outputs": []
    },
    {
      "cell_type": "code",
      "metadata": {
        "id": "vc_6fGWECN6d",
        "outputId": "4e281df4-eaa1-41ef-b607-539ca9332610",
        "colab": {
          "base_uri": "https://localhost:8080/",
          "height": 51
        }
      },
      "source": [
        "kwargs_access(a='uno',b='dos')"
      ],
      "execution_count": null,
      "outputs": [
        {
          "output_type": "stream",
          "text": [
            "a == uno\n",
            "b == dos\n"
          ],
          "name": "stdout"
        }
      ]
    },
    {
      "cell_type": "code",
      "metadata": {
        "id": "0K62CJTjCaku",
        "outputId": "0f3979e7-68b5-4f5a-d7f9-4857ebd9f509",
        "colab": {
          "base_uri": "https://localhost:8080/",
          "height": 68
        }
      },
      "source": [
        "kwargs_access(a='uno', b='dos', c='tres')"
      ],
      "execution_count": null,
      "outputs": [
        {
          "output_type": "stream",
          "text": [
            "a == uno\n",
            "b == dos\n",
            "c == tres\n"
          ],
          "name": "stdout"
        }
      ]
    },
    {
      "cell_type": "markdown",
      "metadata": {
        "id": "s3poWbfIroLg"
      },
      "source": [
        "## **Función Lambda**\n",
        "\n",
        "En los diferentes lenguajes de programación existe el concepto de **expresión lambda** o función `lambda`, la cual consiste en una subrutina que no es asociada, normalemente, a una variable o identificador de la forma\n",
        "\n",
        "```\n",
        "funcion(*arg,**kwargs)\n",
        "```\n",
        "\n",
        "Al no estar asociadas a un identificador, son conocidas también como funciones anónimas y son usadas como parte de funciones generales o superiores, es decir, pueden ser asociadas a subrutinas (un programa dentro de otro).\n",
        "\n",
        "Las funciones lambda resultan útiles en los casos en los que necesitamos usar una función *pocas veces* dentro de otra. En este caso, puede resultar más sencillo usar una función `lambda` que la definición de una función, asignándole un nombre.\n",
        "\n",
        "\n",
        "El uso de las funciones lambda es una cuestión de estilo de código; en realidad, pueden ser sustituidas por  una función con un identificador. No obstante, si vamos a crear una función de orden superior que dependa de muchas funciones o subrutinas que son usadas pocas veces, estéticamente resulta poco legible definir varias funciones con nombre propio, en su lugar, resulta más practico acudir a las funciones lambda.\n",
        "\n",
        "\n",
        "Sin entrar en detalles, las funciones lambda provienen del **cálculo lambda** desarrollado por Alonzo Church en alrededor de 1930, el cual está basado en una notación abstracción, \"encriptando\" las funciones definidas en él.\n",
        "\n",
        "\n",
        "Dentro de los modelos de computación encontramos dos grandes vertientes:\n",
        "\n",
        "- Los lenguajes de programación **funcionales** los cuales tienen su origen en la lógica matemática y el cálculo lambda. Algunos ejemplos de lenguajes funcionales son `Haskell`, `Lisp` o `Earlang`.\n",
        "\n",
        "- Los lenguajes de programación **imperativos**, los cuales se basan en estados de las variables definidas e inventado por Alan Turing, y son conocidos como **Máquinas de Turing**. Algunos ejemplos de lenguajes imperativos son `Fortran`, `Python` o `C++`.\n",
        "\n",
        "De la división de estas dos formas o modelos de computación nacen implementaciones de una vertiente en otra. En el caso de `python`, la sintaxis de una función `lambda` es la siguiente:\n",
        "\n",
        "\n",
        "\n",
        "```\n",
        "lambda argumentos : expresión\n",
        "```\n",
        "\n",
        "\n"
      ]
    },
    {
      "cell_type": "markdown",
      "metadata": {
        "id": "dY1XlWey36gC"
      },
      "source": [
        "Veamos algunos pequeños ejemplos par aclarar su aplicación. Inicialmente, emplearemos la función `lambda` como una función independiente, aplicada en un argumento o cunjunto de ellos.\n",
        "\n",
        "Por ejemplo, las siguiente función `lambda` corresponde a la función identidad, que retorna el argumento que es pasado a la función:"
      ]
    },
    {
      "cell_type": "code",
      "metadata": {
        "id": "TcUa55-n35jl",
        "outputId": "2f68d870-7b86-47b9-883f-99737f6685f5",
        "colab": {
          "base_uri": "https://localhost:8080/",
          "height": 34
        }
      },
      "source": [
        "(lambda x: x)(2)"
      ],
      "execution_count": null,
      "outputs": [
        {
          "output_type": "execute_result",
          "data": {
            "text/plain": [
              "2"
            ]
          },
          "metadata": {
            "tags": []
          },
          "execution_count": 1
        }
      ]
    },
    {
      "cell_type": "markdown",
      "metadata": {
        "id": "ngQlVNkl8Yzu"
      },
      "source": [
        "En el ejemplo anterior, la expresión está compuesta por:\n",
        "\n",
        "- Una palabra clave `lambda`.\n",
        "- Una variable asociada `x`, que corresponde al argumento de la función `lambda`.\n",
        "- Un cuerpo `x`.\n",
        "\n",
        "\n",
        "Veamos una función `lambda` más compleja la cual toma dos argumento y devuelve"
      ]
    },
    {
      "cell_type": "code",
      "metadata": {
        "id": "plWulblGvJH3",
        "outputId": "3c0f679f-51c2-4960-ea6e-4be13a5c9595",
        "colab": {
          "base_uri": "https://localhost:8080/",
          "height": 34
        }
      },
      "source": [
        "(lambda a,b: a*b)(5,2)"
      ],
      "execution_count": null,
      "outputs": [
        {
          "output_type": "execute_result",
          "data": {
            "text/plain": [
              "10"
            ]
          },
          "metadata": {
            "tags": []
          },
          "execution_count": 4
        }
      ]
    },
    {
      "cell_type": "markdown",
      "metadata": {
        "id": "DJAc8VMkOYoH"
      },
      "source": [
        "En general, podemos pensar  la estructura de la función `lambda` de la siguiente forma\n",
        "\n"
      ]
    },
    {
      "cell_type": "markdown",
      "metadata": {
        "id": "it6ISRGZa9-P"
      },
      "source": [
        "![alt text](https://github.com/diplomado-bigdata-machinelearning-udea/curso0/blob/master/S04/imagenes/lambda.png?raw=true)\n"
      ]
    },
    {
      "cell_type": "markdown",
      "metadata": {
        "id": "nPbCS2Oybd0S"
      },
      "source": [
        "Podemos aprovecharnos de la notación de lista o tuplas para devolver más de un valor:"
      ]
    },
    {
      "cell_type": "code",
      "metadata": {
        "id": "G6nzWS94bc-H",
        "outputId": "96f9bcec-8469-4213-c353-79bb231ab6e0",
        "colab": {
          "base_uri": "https://localhost:8080/",
          "height": 34
        }
      },
      "source": [
        "(lambda a,b: [a+b, a-b, a*b, a/b])(5,2)"
      ],
      "execution_count": null,
      "outputs": [
        {
          "output_type": "execute_result",
          "data": {
            "text/plain": [
              "[7, 3, 10, 2.5]"
            ]
          },
          "metadata": {
            "tags": []
          },
          "execution_count": 15
        }
      ]
    },
    {
      "cell_type": "markdown",
      "metadata": {
        "id": "VQeL7xluctz9"
      },
      "source": [
        "Inclusive, podemos usar un número variable de arguméntos para usar dentro de la función lambda:"
      ]
    },
    {
      "cell_type": "code",
      "metadata": {
        "id": "5ab7DphEPcqZ",
        "outputId": "6e236c3a-a90b-4372-88c4-60bf71ae0bd6",
        "colab": {
          "base_uri": "https://localhost:8080/",
          "height": 67
        }
      },
      "source": [
        "(lambda *x: print(x))(1,2)\n",
        "(lambda *x: print(x))(1,2,3)\n",
        "(lambda *x: print(x))(1,2,3,4)"
      ],
      "execution_count": null,
      "outputs": [
        {
          "output_type": "stream",
          "text": [
            "(1, 2)\n",
            "(1, 2, 3)\n",
            "(1, 2, 3, 4)\n"
          ],
          "name": "stdout"
        }
      ]
    },
    {
      "cell_type": "markdown",
      "metadata": {
        "id": "o5UamgLEeQYb"
      },
      "source": [
        "A su vez, es posible asignarle a una variable una función `lambda`, para operar con ella:"
      ]
    },
    {
      "cell_type": "code",
      "metadata": {
        "id": "27MNX5ujd8GB",
        "outputId": "fcade5c5-fa96-4163-8b0a-e1dc32f4cc05",
        "colab": {
          "base_uri": "https://localhost:8080/",
          "height": 34
        }
      },
      "source": [
        "import numpy as np\n",
        "\n",
        "my_sqrt = lambda x: np.sqrt(x)\n",
        "\n",
        "my_sqrt(81)"
      ],
      "execution_count": null,
      "outputs": [
        {
          "output_type": "execute_result",
          "data": {
            "text/plain": [
              "9.0"
            ]
          },
          "metadata": {
            "tags": []
          },
          "execution_count": 19
        }
      ]
    },
    {
      "cell_type": "markdown",
      "metadata": {
        "id": "9TtNNWnSe_35"
      },
      "source": [
        "aunque esto sería equivalente a usar una función definida como:\n",
        "\n",
        "```\n",
        "def my_sqrt(x):\n",
        "  return np.sqrt(x)\n",
        "```\n",
        "\n",
        "en donde otorgamos un identificativo a la función 'my_sqrt', yendo en contravía del precepto establecido en la introducción de la función `lambda`, en donde se señalo que es útil como subrutina,  dentro de una función principal, sin necesidad de definir o asignarle un nombre.\n",
        "\n"
      ]
    },
    {
      "cell_type": "markdown",
      "metadata": {
        "id": "Xt3MJbOjh7R7"
      },
      "source": [
        "## **Función Lambda dentro de funciones regulares**\n",
        "\n",
        "Adelantándonos un poco a la temática impartida en el curso, una función `lambda` resultará útil cuando hace parte de otra función general o método.\n",
        "\n",
        "La librería `pandas` las estudiaremos más adelante, no obstante, puede ser usada para crear \"tablas\" o `dataframes`.\n",
        "\n",
        "Supongamos la siguiente tabla de altura de personas en pies"
      ]
    },
    {
      "cell_type": "code",
      "metadata": {
        "id": "Hg9b11eTiF59",
        "outputId": "d481cb9e-0190-4d26-9f14-df8a9f290654",
        "colab": {
          "base_uri": "https://localhost:8080/",
          "height": 343
        }
      },
      "source": [
        "import pandas as pd\n",
        "\n",
        "altura = {'nombre_persona':['Andres','Sofia','Mariana','Sebastian','Maria','Ester','Orlando','Karen','Nicole','Alberto'],\n",
        "          'altura':[6.1007, 6.2336, 6.1200, 6.3004, 6.3003, 5.9910, 5.8123, 6.0102, 5.7090, 5.8910]}\n",
        "\n",
        "df = pd.DataFrame(altura)\n",
        "\n",
        "df"
      ],
      "execution_count": null,
      "outputs": [
        {
          "output_type": "execute_result",
          "data": {
            "text/html": [
              "<div>\n",
              "<style scoped>\n",
              "    .dataframe tbody tr th:only-of-type {\n",
              "        vertical-align: middle;\n",
              "    }\n",
              "\n",
              "    .dataframe tbody tr th {\n",
              "        vertical-align: top;\n",
              "    }\n",
              "\n",
              "    .dataframe thead th {\n",
              "        text-align: right;\n",
              "    }\n",
              "</style>\n",
              "<table border=\"1\" class=\"dataframe\">\n",
              "  <thead>\n",
              "    <tr style=\"text-align: right;\">\n",
              "      <th></th>\n",
              "      <th>nombre_persona</th>\n",
              "      <th>altura</th>\n",
              "    </tr>\n",
              "  </thead>\n",
              "  <tbody>\n",
              "    <tr>\n",
              "      <th>0</th>\n",
              "      <td>Andres</td>\n",
              "      <td>6.1007</td>\n",
              "    </tr>\n",
              "    <tr>\n",
              "      <th>1</th>\n",
              "      <td>Sofia</td>\n",
              "      <td>6.2336</td>\n",
              "    </tr>\n",
              "    <tr>\n",
              "      <th>2</th>\n",
              "      <td>Mariana</td>\n",
              "      <td>6.1200</td>\n",
              "    </tr>\n",
              "    <tr>\n",
              "      <th>3</th>\n",
              "      <td>Sebastian</td>\n",
              "      <td>6.3004</td>\n",
              "    </tr>\n",
              "    <tr>\n",
              "      <th>4</th>\n",
              "      <td>Maria</td>\n",
              "      <td>6.3003</td>\n",
              "    </tr>\n",
              "    <tr>\n",
              "      <th>5</th>\n",
              "      <td>Ester</td>\n",
              "      <td>5.9910</td>\n",
              "    </tr>\n",
              "    <tr>\n",
              "      <th>6</th>\n",
              "      <td>Orlando</td>\n",
              "      <td>5.8123</td>\n",
              "    </tr>\n",
              "    <tr>\n",
              "      <th>7</th>\n",
              "      <td>Karen</td>\n",
              "      <td>6.0102</td>\n",
              "    </tr>\n",
              "    <tr>\n",
              "      <th>8</th>\n",
              "      <td>Nicole</td>\n",
              "      <td>5.7090</td>\n",
              "    </tr>\n",
              "    <tr>\n",
              "      <th>9</th>\n",
              "      <td>Alberto</td>\n",
              "      <td>5.8910</td>\n",
              "    </tr>\n",
              "  </tbody>\n",
              "</table>\n",
              "</div>"
            ],
            "text/plain": [
              "  nombre_persona  altura\n",
              "0         Andres  6.1007\n",
              "1          Sofia  6.2336\n",
              "2        Mariana  6.1200\n",
              "3      Sebastian  6.3004\n",
              "4          Maria  6.3003\n",
              "5          Ester  5.9910\n",
              "6        Orlando  5.8123\n",
              "7          Karen  6.0102\n",
              "8         Nicole  5.7090\n",
              "9        Alberto  5.8910"
            ]
          },
          "metadata": {
            "tags": []
          },
          "execution_count": 38
        }
      ]
    },
    {
      "cell_type": "markdown",
      "metadata": {
        "id": "_hvCnQmtrBYx"
      },
      "source": [
        "Aunque veremos esto con más detalle en el diplomado más adelante, podemos usar el método general `apply` de `pandas` para cambiar la altura de pies a metros.  El argumento de esta puede ser una función definida mediante `def` o una función `lambda` para minimizar la escritura.\n",
        "\n",
        "Para convertir de pies a metros debemos multiplicar por el factor de conversión $0.3048$:\n"
      ]
    },
    {
      "cell_type": "code",
      "metadata": {
        "id": "PMkKoNr6qR8m",
        "outputId": "21f7e141-824a-4063-fd3a-12293b1301a0",
        "colab": {
          "base_uri": "https://localhost:8080/",
          "height": 343
        }
      },
      "source": [
        "df['altura'] = df['altura'].apply(lambda x: 0.3048*x)\n",
        "df"
      ],
      "execution_count": null,
      "outputs": [
        {
          "output_type": "execute_result",
          "data": {
            "text/html": [
              "<div>\n",
              "<style scoped>\n",
              "    .dataframe tbody tr th:only-of-type {\n",
              "        vertical-align: middle;\n",
              "    }\n",
              "\n",
              "    .dataframe tbody tr th {\n",
              "        vertical-align: top;\n",
              "    }\n",
              "\n",
              "    .dataframe thead th {\n",
              "        text-align: right;\n",
              "    }\n",
              "</style>\n",
              "<table border=\"1\" class=\"dataframe\">\n",
              "  <thead>\n",
              "    <tr style=\"text-align: right;\">\n",
              "      <th></th>\n",
              "      <th>nombre_persona</th>\n",
              "      <th>altura</th>\n",
              "    </tr>\n",
              "  </thead>\n",
              "  <tbody>\n",
              "    <tr>\n",
              "      <th>0</th>\n",
              "      <td>Andres</td>\n",
              "      <td>1.859493</td>\n",
              "    </tr>\n",
              "    <tr>\n",
              "      <th>1</th>\n",
              "      <td>Sofia</td>\n",
              "      <td>1.900001</td>\n",
              "    </tr>\n",
              "    <tr>\n",
              "      <th>2</th>\n",
              "      <td>Mariana</td>\n",
              "      <td>1.865376</td>\n",
              "    </tr>\n",
              "    <tr>\n",
              "      <th>3</th>\n",
              "      <td>Sebastian</td>\n",
              "      <td>1.920362</td>\n",
              "    </tr>\n",
              "    <tr>\n",
              "      <th>4</th>\n",
              "      <td>Maria</td>\n",
              "      <td>1.920331</td>\n",
              "    </tr>\n",
              "    <tr>\n",
              "      <th>5</th>\n",
              "      <td>Ester</td>\n",
              "      <td>1.826057</td>\n",
              "    </tr>\n",
              "    <tr>\n",
              "      <th>6</th>\n",
              "      <td>Orlando</td>\n",
              "      <td>1.771589</td>\n",
              "    </tr>\n",
              "    <tr>\n",
              "      <th>7</th>\n",
              "      <td>Karen</td>\n",
              "      <td>1.831909</td>\n",
              "    </tr>\n",
              "    <tr>\n",
              "      <th>8</th>\n",
              "      <td>Nicole</td>\n",
              "      <td>1.740103</td>\n",
              "    </tr>\n",
              "    <tr>\n",
              "      <th>9</th>\n",
              "      <td>Alberto</td>\n",
              "      <td>1.795577</td>\n",
              "    </tr>\n",
              "  </tbody>\n",
              "</table>\n",
              "</div>"
            ],
            "text/plain": [
              "  nombre_persona    altura\n",
              "0         Andres  1.859493\n",
              "1          Sofia  1.900001\n",
              "2        Mariana  1.865376\n",
              "3      Sebastian  1.920362\n",
              "4          Maria  1.920331\n",
              "5          Ester  1.826057\n",
              "6        Orlando  1.771589\n",
              "7          Karen  1.831909\n",
              "8         Nicole  1.740103\n",
              "9        Alberto  1.795577"
            ]
          },
          "metadata": {
            "tags": []
          },
          "execution_count": 39
        }
      ]
    },
    {
      "cell_type": "markdown",
      "metadata": {
        "id": "ikI5-q8iti-a"
      },
      "source": [
        "La función `apply` es una función vectorizada y reduce el tiempo de computo frente a un for programado en `python`. Por tal motivo, es preferible usar esta función que itarear sobre cada uno de los elementos de la columna."
      ]
    },
    {
      "cell_type": "markdown",
      "metadata": {
        "id": "Z8sJfrHkxrVV"
      },
      "source": [
        "#Ejercicios condicionales"
      ]
    },
    {
      "cell_type": "markdown",
      "metadata": {
        "id": "sng1kaiNx7RS"
      },
      "source": [
        "##Divisores\n",
        "Escriba un código que me permita conocer todos los divisores menores que 10 de un número entero mayor que 10.\n",
        "\n",
        "\n",
        "Para ver la solución al ejercicio haga doble click **aquí**\n",
        "<!----\n",
        "n = 12\n",
        "l = []\n",
        "divisor = 2\n",
        "if n <= 10 or type(n) != int:\n",
        "  print (str(n) +\" no es válido\")\n",
        "else:\n",
        "  if type(n)== int:\n",
        "    if n%divisor == 0:\n",
        "      l.append(divisor)\n",
        "    divisor += 1\n",
        "    if n%divisor == 0 :\n",
        "      l.append(divisor)\n",
        "    divisor += 1\n",
        "    if n%divisor == 0 :\n",
        "      l.append(divisor)\n",
        "    divisor += 1\n",
        "    if n%divisor == 0 :\n",
        "      l.append(divisor)\n",
        "    divisor += 1\n",
        "    if n%divisor == 0 :\n",
        "      l.append(divisor)\n",
        "    divisor += 1\n",
        "    if n%divisor == 0:\n",
        "      l.append(divisor)\n",
        "    divisor += 1\n",
        "    if n%divisor == 0:\n",
        "      l.append(divisor)\n",
        "    divisor += 1\n",
        "    if n%divisor == 0:\n",
        "      l.append(divisor)\n",
        "    divisor += 1\n",
        "    if n%divisor == 0:\n",
        "      l.append(divisor)\n",
        "    print(l, \"son los divisores de \"+str(n))\n",
        "  else:\n",
        "    print(n, \" no es natural\")\n",
        "---->\n"
      ]
    },
    {
      "cell_type": "code",
      "metadata": {
        "id": "E1uSdOBOyMzr"
      },
      "source": [],
      "execution_count": null,
      "outputs": []
    },
    {
      "cell_type": "markdown",
      "metadata": {
        "id": "6hcFoEhdybds"
      },
      "source": [
        "##Reconocimientos\n",
        "Jugaremos adivina quién. A continuación se le dará una serie de personas con una lista de características físicas para cada una. Dichas características serán:\n",
        "```\n",
        "Características = [altura,Color de piel,Color de ojos]\n",
        "```\n",
        "Intente crear un código que permita a partir de las características de x saber a qué persona corresponden dichas características.\n",
        "\n",
        "Para ver la solución al ejercicio haga doble click **aquí**\n",
        "\n",
        "<!---\n",
        "if x[0] == \"baja\":\n",
        "  print(\"su personaje es José\")\n",
        "elif x[1] == \"trigueña\":\n",
        "  print(\"su personaje es María\")\n",
        "elif x[2] == \"verdes\":\n",
        "  print(\"su personaje es Jesus\")\n",
        "--->\n",
        "\n"
      ]
    },
    {
      "cell_type": "code",
      "metadata": {
        "id": "p5qRBT79ytq7"
      },
      "source": [
        "Jesus = [\"alta\", \"caucásica\",\"verdes\"]\n",
        "María = [\"alta\", \"trigueña\",\"marrones\"]\n",
        "José = [\"baja\", \"caucásica\",\"marrones\"]\n",
        "\n",
        "\n",
        "\n",
        "Personas = [Jesus,María,José]\n",
        "\n",
        "\n",
        "\n",
        "x= [\"alta\",\"caucásica\",\"verdes\"]"
      ],
      "execution_count": null,
      "outputs": []
    },
    {
      "cell_type": "markdown",
      "metadata": {
        "id": "EYSVmu7izT45"
      },
      "source": [
        "#Ejercicios Loops\n",
        "\n"
      ]
    },
    {
      "cell_type": "markdown",
      "metadata": {
        "id": "BW-oEKXvzi9w"
      },
      "source": [
        "##Multiplos de 3 y 5\n",
        "Si enumeramos todos los números naturales por debajo de 10 que son múltiplos de 3 o 5, obtenemos 3, 5, 6 y 9. La suma de estos múltiplos es 23.\n",
        "\n",
        "Encuentra la suma de todos los múltiplos de 3 o 5 por debajo de 1000.\n",
        "\n",
        "Para ver la solución al ejercicio haga doble click **aquí**\n",
        "<!---\n",
        "listaDivs=[]\n",
        "test3= 0\n",
        "test5= 0\n",
        "suma = 0\n",
        "for i in range(3, 1000):\n",
        "  test3 = i % 3\n",
        "  test5 = i % 5\n",
        "  if (test3 == 0 or test5 == 0):\n",
        "    listaDivs.append(i)\n",
        "    suma = suma+i\n",
        "suma\n",
        "--->"
      ]
    },
    {
      "cell_type": "code",
      "metadata": {
        "id": "WR6RuK_Xzq31"
      },
      "source": [],
      "execution_count": null,
      "outputs": []
    },
    {
      "cell_type": "markdown",
      "metadata": {
        "id": "-knLOen80MbZ"
      },
      "source": [
        "##Suma de los primeros 100 números\n",
        "\n",
        "Uno de los primeros problemas resueltos por Carl F. Gauss fue la suma de los 100 primeros números naturales, gracias a él tenemos una expresión matemática que nos permite conocer el valor de esta suma para los $n$ primeros números naturales, esto hace que no sea necesario calcular la suma a fuerza bruta, sin embargo el computador no tiene la necesidad de computar de esta forma para calcular la suma para los 100 primeros números.\n",
        "Escriba un programa que permita calcular la suma de los 100 primeros números.\n",
        "\n",
        "Puede ver la solución al ejercicio **aquí**\n",
        "<!---\n",
        "sum = 0\n",
        "for i in range(101):\n",
        "  sum = sum + i\n",
        "print(sum)\n",
        "--->"
      ]
    },
    {
      "cell_type": "markdown",
      "metadata": {
        "id": "AnHL6qVN4tYj"
      },
      "source": [
        "##Calcular Pi mediante Montecarlo\n",
        "Existe un algoritmo llamado montecarlo. Es uno de los algoritmos de integración numérica más famosos existentes. El ejemplo clásico para la implementación de este algoritmo y consiste en el cálculo de el número pi. Expliquemos el algoritmo en torno a este ejemplo.\n",
        "\n",
        "Si uno imagina jugar a los dardos con una diana circular de radio 1 que está inscrita (inmersa) en un cuadrado de lado 2 al cabo de mucho intentos uno podría calcular el cociente entre los dardos que aciertan en la diana con los que no (suponiendo que lo que no aciertan caen a lo sumo en el cuadrado). Este cociente al cabo reitero de muchos intentos (como se puede intuir de la figura) tiene que ver con el cociente de las áreas.\n",
        "\n",
        "Palabras más palabras menos: calcular el área del círculo sobre el área del cuadro es lo mismo que calcular el número de veces que el dardo dió en la diana sobre el número de intentos totales luego de MUCHÍSIMOS intentos.\n",
        "\n",
        "(hint importe el módulo random y haga uso del método random.uniform(-1,1) para generar números float aleatorios entre -1 y 1)\n",
        "\n",
        "Puede ver la solución **acá**\n",
        "<!---\n",
        "import random\n",
        "N=1000000\n",
        "n_aciertos=0\n",
        "for i in range(N):\n",
        "     x = random.uniform(-1,1)\n",
        "     y = random.uniform(-1,1)\n",
        "     if x**2+y**2 < 1:\n",
        "       n_aciertos= n_aciertos + 1\n",
        "numero_pi= (4*n_aciertos)/N\n",
        "print(\"El valor de pí fue \" , numero_pi, \" luego de \", N,  \"intentos\")\n",
        "--->"
      ]
    },
    {
      "cell_type": "code",
      "metadata": {
        "id": "H7IHuSRU5qpE",
        "outputId": "56049bdd-5d9f-4acb-d0e1-47bb40981712",
        "colab": {
          "base_uri": "https://localhost:8080/",
          "height": 34
        }
      },
      "source": [],
      "execution_count": null,
      "outputs": [
        {
          "output_type": "stream",
          "text": [
            "El valor de pí fue  3.141128  luego de  1000000 intentos\n"
          ],
          "name": "stdout"
        }
      ]
    },
    {
      "cell_type": "markdown",
      "metadata": {
        "id": "Mfa6qIc-PMrL"
      },
      "source": [
        "# Ejercicios listas comprimidas\n"
      ]
    },
    {
      "cell_type": "markdown",
      "metadata": {
        "id": "PmQ_wwc7U6do"
      },
      "source": [
        "## Filtrar texto\n",
        "\n",
        "Filtrar un texto eliminando los espacios con una sola línea. Pista: primero hacer una lista y luego juntarla usando `''.join()`"
      ]
    },
    {
      "cell_type": "code",
      "metadata": {
        "id": "bLCnuznFPMYn"
      },
      "source": [],
      "execution_count": null,
      "outputs": []
    },
    {
      "cell_type": "markdown",
      "metadata": {
        "id": "1MrGP5z6P_tq"
      },
      "source": [
        "Para ver la solución al ejercicio haga doble click **aquí**\n",
        "<!---\n",
        "texto = \"Hola Mundo\"\n",
        "texto_sin_espacios = ''.join([texto[i] for i in range(0,len(texto)) if not texto[i].isspace()])\n",
        "print(texto_sin_espacios)\n",
        "--->"
      ]
    },
    {
      "cell_type": "markdown",
      "metadata": {
        "id": "Cg_IWVgSQ5s7"
      },
      "source": [
        "## Reconocer números\n",
        "Siendo la serie de Fibonacci hallada hasta cierto termino hallada en el código siguiente. Crear una lista que contenga un 1 cuando el valor de la serie es un par y 0 cuando es impar."
      ]
    },
    {
      "cell_type": "code",
      "metadata": {
        "id": "0x7GuZKBRkQV"
      },
      "source": [
        "lista = [0]*2\n",
        "lista[0] = 0\n",
        "lista[1] = 1\n",
        "for i in range(2,50):\n",
        "  lista.append(lista[i-1] + lista[i-2])"
      ],
      "execution_count": null,
      "outputs": []
    },
    {
      "cell_type": "markdown",
      "metadata": {
        "id": "m4_DN-KGTkJ_"
      },
      "source": [
        "Para ver la solución al ejercicio haga doble click **aquí**\n",
        "<!---\n",
        "lista_class = [1 if l%2==0 else 0 for l in lista]\n",
        "!--->"
      ]
    },
    {
      "cell_type": "code",
      "metadata": {
        "id": "olVvzW9osqZe"
      },
      "source": [
        "#Verificar existencia de rutas\n",
        "print(os.path.exists(\"sample_data\"))\n",
        "\n",
        "#Verificar si es un archivo o un directorio\n",
        "print(os.path.isfile(\"sample_data\"))\n",
        "print(os.path.isdir(\"sample_data\"))"
      ],
      "execution_count": null,
      "outputs": []
    },
    {
      "cell_type": "code",
      "metadata": {
        "id": "jo8d5uz01O74"
      },
      "source": [],
      "execution_count": null,
      "outputs": []
    },
    {
      "cell_type": "markdown",
      "metadata": {
        "id": "kq1mX1D-Vhhe"
      },
      "source": [
        "# Ejercicios de manejo de archivos"
      ]
    },
    {
      "cell_type": "markdown",
      "metadata": {
        "id": "FxdE9UWULtB-"
      },
      "source": [
        "\n",
        "\n",
        "## Pares e Impares\n",
        "\n",
        "Hacer un archivo de texto con los números de 1 hasta n y leer el archivo línea por línea y determinar cuantos pares e impares hay en el fichero."
      ]
    },
    {
      "cell_type": "code",
      "metadata": {
        "id": "goqLc-K3tf4U"
      },
      "source": [],
      "execution_count": null,
      "outputs": []
    },
    {
      "cell_type": "markdown",
      "metadata": {
        "id": "7Mb81jfutFnP"
      },
      "source": [
        "Para ver la solución al ejercicio haga doble click **aquí**\n",
        "<!---\n",
        "N = 100\n",
        "archivo = open('contar','w')\n",
        "for i in range(1,N+1):\n",
        "  archivo.write(str(i)+'\\n')\n",
        "archivo.close()\n",
        "\n",
        "archivo = open('contar')\n",
        "num = [int(line.strip('\\n')) for line in archivo]\n",
        "num_par = [num_i for num_i in num if num_i%2==0]\n",
        "num_impar = [num_i for num_i in num if num_i%2!=0]\n",
        "\n",
        "print('Hay %d pares y %d impares'%(len(num_par),len(num_impar)))\n",
        "!--->"
      ]
    },
    {
      "cell_type": "markdown",
      "metadata": {
        "id": "SjTq9zvPJ2MV"
      },
      "source": [
        "## Dobles\n",
        "Hacer un archivo de texto con los pares entre $[1,100]$ y leer el archivo anterior y hallar los dobles de eso números.  "
      ]
    },
    {
      "cell_type": "code",
      "metadata": {
        "id": "IMOoYc_3tmv1"
      },
      "source": [],
      "execution_count": null,
      "outputs": []
    },
    {
      "cell_type": "markdown",
      "metadata": {
        "id": "NubLLxPHtnYg"
      },
      "source": [
        "Para ver la solución al ejercicio haga doble click **aquí**\n",
        "<!---\n",
        "archivo = open('pares.dat','w')\n",
        "pares = [str(i)+'-' for i in range(1,101) if i%2==0]\n",
        "archivo.writelines(pares)\n",
        "archivo.close()\n",
        "archivo = open('pares.dat')\n",
        "\n",
        "def doble(x):\n",
        "  return 2*int(x)\n",
        "\n",
        "#list_info = archivo.readlines()[0].split('-')[:-1]\n",
        "#info = [doble(l) for l in lista]\n",
        "info = list(map(doble,archivo.readlines()[0].split('-')[:-1]))\n",
        "print(info)\n",
        "!---->"
      ]
    },
    {
      "cell_type": "markdown",
      "metadata": {
        "id": "GW48h-JY4ZXu"
      },
      "source": [
        "#Ejercicios Funciones\n"
      ]
    },
    {
      "cell_type": "markdown",
      "metadata": {
        "id": "bY1w9SLaGo4L"
      },
      "source": [
        "##Definición de suma por recursión\n",
        "Es posible pensar en una función que permita sumar 2 números naturales de forma recursiva a partir de la suma de un número con el número uno tal que\n",
        "\n",
        "\\begin{gather}\n",
        "suma(a,b) =\\left\\{ \\begin{array}{lcc}\n",
        "             a &   si  & b = 0 \\\\\n",
        "             \\\\ a+1 &  si & b = 1 \\\\\n",
        "             \\\\ suma(a,b-1)+1 &  si  & b>1\n",
        "             \\end{array}\n",
        "   \\right.\n",
        "\\end{gather}\n",
        "Construya esta función y pruébela\n",
        "\n",
        "vea la solución **acá**\n",
        "\n",
        "<!---\n",
        "def suma (a,b):\n",
        "  if b == 0:\n",
        "    return a\n",
        "  if b == 1:\n",
        "    return a+1\n",
        "  else:\n",
        "    return suma(a,b-1)+1\n",
        "--->"
      ]
    },
    {
      "cell_type": "code",
      "metadata": {
        "id": "JTiFvtXhGhDf"
      },
      "source": [],
      "execution_count": null,
      "outputs": []
    },
    {
      "cell_type": "markdown",
      "metadata": {
        "id": "qIB7NfyIGhaK"
      },
      "source": [
        "##Definición de producto por recursión\n",
        "Intente hacer lo mismo pero ahora para la múltiplicación en terminos de la suma de un número con sigo mismo (piense que si $a,b \\in $ Naturales $a\\times b$ equivale a sumar $a$ tantas veces como $b$)\n",
        "\n",
        "Puede ver la solución **acá**\n",
        "\n",
        "<!---\n",
        "def producto(a,b):\n",
        "  if b == 0:\n",
        "    return 0\n",
        "  if b == 1:\n",
        "    return a\n",
        "  else:\n",
        "    return producto(a,b-1)+a\n",
        "--->"
      ]
    },
    {
      "cell_type": "code",
      "metadata": {
        "id": "L2NrF5-6HCFB"
      },
      "source": [],
      "execution_count": null,
      "outputs": []
    },
    {
      "cell_type": "markdown",
      "metadata": {
        "id": "EDDWiPhgHCdH"
      },
      "source": [
        "##Definición de producto por recursión:\n",
        "Ahora repita nuevamente el proceso, esta vez con una función que permita conocer el resultado de un número elevado a la otro número. (piense que si $a,b \\in $ Naturales $a^ b$ equivale a multiplicar $a$ tantas veces como $b$)\n",
        "\n",
        "Puede revisar una solución **acá**\n",
        "<!---\n",
        "def expo(a,b):\n",
        "  if b == 0:\n",
        "    return 1\n",
        "  if b == 1:\n",
        "    return a\n",
        "  else :\n",
        "    return expo(a,b-1)*a\n",
        "--->"
      ]
    },
    {
      "cell_type": "code",
      "metadata": {
        "id": "eaSQEHO1H293"
      },
      "source": [],
      "execution_count": null,
      "outputs": []
    },
    {
      "cell_type": "markdown",
      "metadata": {
        "id": "HOHUR4l6H3kk"
      },
      "source": [
        "##Suma de los pares de fibonacci\n",
        "Cada nuevo término en la secuencia de Fibonacci se genera agregando los dos términos anteriores. Al comenzar con 1 y 2, los primeros 10 términos serán:\n",
        "\n",
        "1, 2, 3, 5, 8, 13, 21, 34, 55, 89, ...\n",
        "\n",
        "Al considerar los términos en la secuencia de Fibonacci cuyos valores no exceden los cuatro millones, encuentre la suma de los términos de valor par.\n",
        "\n",
        "(Hint: Intente crear una función que sea recursiva para los números de Fibonacci)\n",
        "\n",
        "Para ver la solución al ejercicio haga doble click **aquí**\n",
        "<!---\n",
        "def Fibonacci(n):\n",
        "    if n<0 or type(n) != int:\n",
        "        print(\"Entrada Inválida\")  \n",
        "    elif n==1:\n",
        "        return 0\n",
        "    # Second Fibonacci number is 1\n",
        "    elif n==2:\n",
        "        return 1\n",
        "    else:\n",
        "        return Fibonacci(n-1)+Fibonacci(n-2)\n",
        "\n",
        "l = []\n",
        "n = 1\n",
        "fibo = 0\n",
        "top = 4000000\n",
        "suma = 0\n",
        "while fibo <top:\n",
        "  fibo = Fibonacci(n)\n",
        "  if fibo < top:\n",
        "    l.append(fibo)\n",
        "    n = n+1\n",
        "\n",
        "for i in l:\n",
        "  if i%2 ==0:\n",
        "    suma = suma+i\n",
        "print(suma)\n",
        "--->"
      ]
    },
    {
      "cell_type": "markdown",
      "metadata": {
        "id": "Y2SdPLkGGO9d"
      },
      "source": [
        "## Ejercicio **kwargs\n",
        "\n",
        "Construya una función `concatenar` que concatene todas los valores (que deben ser cadenas de caracteres) identificados con una clave. Al ejecutarse la función de la forma:\n",
        "\n",
        "```\n",
        "concatenar(a=\"Python \", b=\"es \", c=\"lo \", d=\"mejor!\")\n",
        "```\n",
        "\n",
        "debe imprimirse\n",
        "\n",
        "\n",
        "\n",
        "```\n",
        "Python es lo mejor!\n",
        "```\n",
        "\n",
        "\n"
      ]
    },
    {
      "cell_type": "markdown",
      "metadata": {
        "id": "-3pptmN6Hn6D"
      },
      "source": [
        "Para ver la solución haga doble click **aquí**.\n",
        "\n",
        "<!-----\n",
        "def concatenar(**kwargs):\n",
        "    concatenacion = \"\"\n",
        "    # Iterating over the Python kwargs dictionary\n",
        "    for k_values in kwargs.values():\n",
        "        concatenacion += k_values\n",
        "    return concatenacion\n",
        "------>"
      ]
    }
  ]
}