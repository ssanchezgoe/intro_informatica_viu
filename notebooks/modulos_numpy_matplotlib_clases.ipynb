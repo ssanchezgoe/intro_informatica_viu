{
  "nbformat": 4,
  "nbformat_minor": 0,
  "metadata": {
    "colab": {
      "provenance": [],
      "include_colab_link": true
    },
    "kernelspec": {
      "name": "python3",
      "display_name": "Python 3"
    }
  },
  "cells": [
    {
      "cell_type": "markdown",
      "metadata": {
        "id": "view-in-github",
        "colab_type": "text"
      },
      "source": [
        "<a href=\"https://colab.research.google.com/github/ssanchezgoe/intro_informatica_viu/blob/main/notebooks/modulos_numpy_matplotlib_clases.ipynb\" target=\"_parent\"><img src=\"https://colab.research.google.com/assets/colab-badge.svg\" alt=\"Open In Colab\"/></a>"
      ]
    },
    {
      "cell_type": "markdown",
      "metadata": {
        "id": "1fBu9V9Pe7MO"
      },
      "source": [
        "\n",
        "\n",
        "#Módulos\n",
        "Comezaremos esta clase mirando algo que hemos estado usando repetidamente en sesiones anteriores y son los módulos. Los módulos son objetos en python con atributos y métodos propios, es posible crear módulos que no son más que funciones o clases guardadas en un script, y podemos invocarlas con el comando `import`. Veremos a continuación algunos de los módulos usados con más frecuencia, y algunos de sus métodos. Cabe resaltar que existe un sin fin de módulos ni mencionar métodos en general.\n",
        "\n",
        "Sin embargo primero veamos la sintaxis en general para importar un módulo es\n",
        "\n",
        "```\n",
        "import modulo\n",
        "```\n",
        "\n",
        "Hecho esto si queremos usar un método propio del módulo la sintaxis es\n",
        "\n",
        "```\n",
        "modulo.metodo()\n",
        "```\n",
        "Además podemos invocar un solo método, función, o atributos si quisiéramos llamar las 3 sería algo como\n",
        "\n",
        "```\n",
        "from modulo import metodo, funcion y atributo\n",
        "```\n",
        "No solo esto es una buena práctica debido a que no estoy llamando todas las funciones y abusando de la memoria de la máquina, sino que acaba simplificando la escritura del código, esto debido a que a la hora de usar estos métodos funciones o atributos, en este caso es innecesario llamar primero el módulo.\n",
        "\n",
        "Lo que es una mala práctica es hacer lo siguiente\n",
        "\n",
        "```\n",
        "from modulo import *\n",
        "```\n",
        "\n",
        "Lo anterior termina por importar todo lo que contenga dicho módulo, sin embargo, termina ocupando todo el espacio de memoria que ocupen todos los métodos funciones atributos e incluso submódulos en el módulo.\n",
        "\n",
        "Finalmente una forma de hacer lo anterior es ponerle un \"alias\" al módulo, esto es una muy buena práctica porque me permite tener preparadas todas las funciones del módulo sin ser ejecutadas, es decir, sin ocupar todo el espacio de memoria como en el caso anterior, se suele asociar el modulo con un nombre fácil de recordar\n",
        "\n",
        "```\n",
        "import modulo as md\n",
        "```\n",
        "De este modo si quisiera llamar un método de este tendría que copiar\n",
        "\n",
        "```\n",
        "md.metodo()\n",
        "```"
      ]
    },
    {
      "cell_type": "markdown",
      "metadata": {
        "id": "XfYdRP32hFAD"
      },
      "source": [
        "##Math\n",
        "\n",
        "El módulo [`math`](https://docs.python.org/3/library/math.html) se suele utilizar a la hora de enunciar operaciones matemáticas algebráicas (aplicadas a valores reales, si desea trabajar con complejos use `cmath`). No es convencional usar un alias para este módulo aunque puede encontrarse a veces `import math as m`."
      ]
    },
    {
      "cell_type": "markdown",
      "metadata": {
        "id": "ayO-oaZzpBCi"
      },
      "source": [
        "###Trigonométricas\n",
        "Estas funciones aceptan un argumento de tipo `float` y devuelven otro `float`. su argumento lo lee en radianes y corresponden a las funciones trigonométricas básicas. También existen las funciones trigonométicas inversas, las trigonométricas hiperbólicas y sus inversas\n",
        "\n",
        "```\n",
        "math.cos(num)\n",
        "math.sin(num)\n",
        "math.tan(num)\n",
        "math.acos(num)\n",
        "math.acos(num)\n",
        "math.asin(num)\n",
        "math.atan(num)\n",
        "math.cosh(num)\n",
        "math.cosh(num)\n",
        "math.sinh(num)\n",
        "math.tanh(num)\n",
        "```\n"
      ]
    },
    {
      "cell_type": "code",
      "metadata": {
        "id": "3uY9d3YqpIbk",
        "outputId": "91cf79cf-82fc-458c-e158-aa9188f319c2",
        "colab": {
          "base_uri": "https://localhost:8080/",
          "height": 34
        }
      },
      "source": [
        "import math\n",
        "num = 3.1415/3\n",
        "num2 = 0.5\n",
        "a=math.cos(num)\n",
        "b=math.sin(num)\n",
        "c=math.tan(num)\n",
        "d=math.acos(num2)\n",
        "f=math.cosh(num2)\n",
        "print(a,b,c,d,f)"
      ],
      "execution_count": null,
      "outputs": [
        {
          "output_type": "stream",
          "text": [
            "0.5000267465490363 0.8660099611064447 1.7319272760572564 1.0471975511965979 1.1276259652063807\n"
          ],
          "name": "stdout"
        }
      ]
    },
    {
      "cell_type": "markdown",
      "metadata": {
        "id": "aCagrBs3t9e5"
      },
      "source": [
        "###Exponenciales y Logaritmicas\n",
        "Funcionan de forma muy similar a las trigonométricas, en cuanto a entrada y salida. Corresponden a las funciones algebráicas de $e^{x}$ y $\\ln(x)$ Sin embargo para la función logaritmo podemos usar $2$ parámetros de entrada, donde el segundo sería la base del logaritmo que deseamos usar."
      ]
    },
    {
      "cell_type": "code",
      "metadata": {
        "id": "c9CyrYZgwBkb",
        "outputId": "6faab407-7ac9-46f0-8677-1ee92e8edf87",
        "colab": {
          "base_uri": "https://localhost:8080/",
          "height": 34
        }
      },
      "source": [
        "print(math.exp(2),math.log(2.71),math.log(2,2))"
      ],
      "execution_count": null,
      "outputs": [
        {
          "output_type": "stream",
          "text": [
            "7.38905609893065 0.9969486348916096 1.0\n"
          ],
          "name": "stdout"
        }
      ]
    },
    {
      "cell_type": "markdown",
      "metadata": {
        "id": "cOYK58NkxGwf"
      },
      "source": [
        "###Constantes\n",
        "Estos son atributos. No son funciones por lo que no hace falta llamarlas con los paréntesis. Algunos de ellos son"
      ]
    },
    {
      "cell_type": "code",
      "metadata": {
        "id": "AUrOrxtXxOUE",
        "outputId": "a6b67447-d640-45fc-b56d-0e775ad8aa60",
        "colab": {
          "base_uri": "https://localhost:8080/",
          "height": 34
        }
      },
      "source": [
        "e = math.e\n",
        "pi = math.pi\n",
        "infty = math.inf\n",
        "print(e,pi,infty)"
      ],
      "execution_count": null,
      "outputs": [
        {
          "output_type": "stream",
          "text": [
            "2.718281828459045 3.141592653589793 inf\n"
          ],
          "name": "stdout"
        }
      ]
    },
    {
      "cell_type": "markdown",
      "metadata": {
        "id": "lSa_oxKSfAFK"
      },
      "source": [
        "##Random\n",
        "[Random](https://docs.python.org/3/library/random.html), como su nombre lo indica nos permite trabajar con números aleatorios de forma fácil y eficiente. Ofrece métodos tanto para enteros como para floats. No suele tener alias para su implementación.\n",
        "\n"
      ]
    },
    {
      "cell_type": "code",
      "metadata": {
        "id": "Fkt4WvN_iURY"
      },
      "source": [
        "import random"
      ],
      "execution_count": null,
      "outputs": []
    },
    {
      "cell_type": "markdown",
      "metadata": {
        "id": "LDyOjXgpmyQt"
      },
      "source": [
        "###random.random()\n",
        "Genera números float aleatorios con distribucion uniforme en el intervalo [0,1). No tiene ningún argumento.\n",
        "\n"
      ]
    },
    {
      "cell_type": "code",
      "metadata": {
        "id": "ywHp97LMrLKz",
        "outputId": "1f23e504-bc3b-4996-8efb-e0b41f05108c",
        "colab": {
          "base_uri": "https://localhost:8080/",
          "height": 193
        }
      },
      "source": [
        "for i in range(10):\n",
        "  x = random.random()\n",
        "  print(x)"
      ],
      "execution_count": null,
      "outputs": [
        {
          "output_type": "stream",
          "text": [
            "0.1283302815173779\n",
            "0.027174578625966506\n",
            "0.1319926209244412\n",
            "0.3214730935272795\n",
            "0.39219383865680013\n",
            "0.62157498169119\n",
            "0.5562078958565198\n",
            "0.1475973460928911\n",
            "0.995676904197981\n",
            "0.5008129234596047\n"
          ],
          "name": "stdout"
        }
      ]
    },
    {
      "cell_type": "markdown",
      "metadata": {
        "id": "nuyWjSmPiZuY"
      },
      "source": [
        "###random.uniform($a,b$)\n",
        "Genera números aleatorios float con una distribución uniforme entre $a$ y $b$, donde $a,b$ son float numbers."
      ]
    },
    {
      "cell_type": "code",
      "metadata": {
        "id": "Psv6OcdGlDbL",
        "outputId": "3c320bb6-086e-43c5-d352-c83341495c6b",
        "colab": {
          "base_uri": "https://localhost:8080/",
          "height": 193
        }
      },
      "source": [
        "for i in range(10):\n",
        "  x = random.uniform(-1,4)\n",
        "  print(x)"
      ],
      "execution_count": null,
      "outputs": [
        {
          "output_type": "stream",
          "text": [
            "2.5369981826349277\n",
            "-0.011449697462018404\n",
            "3.5585708019411824\n",
            "-0.6323018683411904\n",
            "0.01727594394522125\n",
            "3.8622938665288746\n",
            "0.7698749416219783\n",
            "3.3726047753355353\n",
            "-0.10666685034245194\n",
            "0.6503068291321328\n"
          ],
          "name": "stdout"
        }
      ]
    },
    {
      "cell_type": "markdown",
      "metadata": {
        "id": "PmDlid8clKql"
      },
      "source": [
        "###random.randint($a,b$)\n",
        "Genera números aleatorios enteros con una distribución uniforme entre $a$ y $b$ incluyendo ambos valores, donde $a,b$ son enteros."
      ]
    },
    {
      "cell_type": "code",
      "metadata": {
        "id": "cipN14trmOge",
        "outputId": "e9fc754b-e6b1-41ea-ae1c-1140d98b6d77",
        "colab": {
          "base_uri": "https://localhost:8080/",
          "height": 193
        }
      },
      "source": [
        "for i in range(10):\n",
        "  y = random.randint(-4,7) #genera enteros entre -1 y 1\n",
        "  print(y)"
      ],
      "execution_count": null,
      "outputs": [
        {
          "output_type": "stream",
          "text": [
            "-3\n",
            "1\n",
            "7\n",
            "-4\n",
            "-4\n",
            "6\n",
            "4\n",
            "3\n",
            "-4\n",
            "1\n"
          ],
          "name": "stdout"
        }
      ]
    },
    {
      "cell_type": "markdown",
      "metadata": {
        "id": "AhmewCJgsIv6"
      },
      "source": [
        "###random.gauss($mu, sigma$)\n",
        "Genera números aleatorios en una distribución gaussiana con valor medio $mu$ y desviación estandar $sigma$.\n",
        "\n"
      ]
    },
    {
      "cell_type": "code",
      "metadata": {
        "id": "HDFURG-ksG2S",
        "outputId": "14c0472c-c881-419e-9fba-65966a76b68b",
        "colab": {
          "base_uri": "https://localhost:8080/",
          "height": 545
        }
      },
      "source": [
        "for i in range(30):\n",
        "  print(random.gauss(5,1))"
      ],
      "execution_count": null,
      "outputs": [
        {
          "output_type": "stream",
          "text": [
            "5.122174506831081\n",
            "4.391941470204436\n",
            "3.6557846928079543\n",
            "4.717462463664241\n",
            "4.155354137680936\n",
            "5.494327650661493\n",
            "7.133682618909658\n",
            "4.69826879350478\n",
            "7.136921250275021\n",
            "5.655605379365762\n",
            "4.84473142025553\n",
            "4.356200328373868\n",
            "5.808192158630733\n",
            "4.388968146029907\n",
            "5.543134382312911\n",
            "6.603248359738269\n",
            "5.248378143293254\n",
            "3.303839029962808\n",
            "6.081119264540521\n",
            "4.825001839021439\n",
            "5.32356591306991\n",
            "6.044129514604843\n",
            "6.738054210947864\n",
            "4.927676601906345\n",
            "4.7586596096862355\n",
            "6.126287326196595\n",
            "4.365496874793633\n",
            "4.759731881296546\n",
            "3.336624534566506\n",
            "5.805322294098874\n"
          ],
          "name": "stdout"
        }
      ]
    },
    {
      "cell_type": "markdown",
      "metadata": {
        "id": "NYfwbYol8dJP"
      },
      "source": [
        "##NumPy\n",
        "[NumPy](https://numpy.org/) es el paquete fundamental para la computación científica con Python. Contiene entre otras cosas:\n",
        "\n",
        "* Un poderoso objeto de matriz N-dimensional llamado `array`\n",
        "\n",
        "* Funciones sofisticadas (de transmisión)\n",
        "\n",
        "* Herramientas para integrar código C / C ++ y Fortran\n",
        "\n",
        "* Álgebra lineal útil, transformada de Fourier y capacidades de números aleatorios\n",
        "\n",
        "Además de sus usos científicos obvios, NumPy también se puede utilizar como un contenedor eficiente multidimensional de datos genéricos. Se pueden definir tipos de datos arbitrarios. Esto permite que NumPy se integre sin problemas y rápidamente con una amplia variedad de bases de datos.\n",
        "\n",
        "Suele encontrarse importada como np. Tiene varios elementos de los módulos anteriormente mensionados, uno de sus más grandes beneficios es el tratamiento de objetos multidimensionales que él entiende como `array` o arreglos.\n",
        "\n",
        "Veamos algunos ejemplos"
      ]
    },
    {
      "cell_type": "code",
      "metadata": {
        "id": "IIYIUJ8AArav",
        "outputId": "666b5eea-c546-461b-db61-da5d6c8b3b86",
        "colab": {
          "base_uri": "https://localhost:8080/",
          "height": 52
        }
      },
      "source": [
        "import numpy as np\n",
        "import random\n",
        "##Matrix declaration\n",
        "\n",
        "m = np.array([random.randint(0,10) for i in range(6)])\n",
        "m = np.reshape(m,(2,3))\n",
        "print(m[[1,0]])"
      ],
      "execution_count": null,
      "outputs": [
        {
          "output_type": "stream",
          "text": [
            "[[7 5 0]\n",
            " [6 4 3]]\n"
          ],
          "name": "stdout"
        }
      ]
    },
    {
      "cell_type": "markdown",
      "metadata": {
        "id": "dt0mUh0QCBxE"
      },
      "source": [
        "En el ejemplo anterior vemos que podemos crear un areglo que es muy similar a una lista de python, sin embargo el método `numpy.reshape` me permite reordenar el arreglo en forma matricial.\n",
        "\n",
        "Podemos obtener también la transpuesta de esta matriz y su inversa"
      ]
    },
    {
      "cell_type": "code",
      "metadata": {
        "id": "kdgefWzlD3xH",
        "outputId": "3dcbdb52-9f47-45ae-c903-0f9b21126ff8",
        "colab": {
          "base_uri": "https://localhost:8080/",
          "height": 70
        }
      },
      "source": [
        "mat =np.array([random.randint(0,10) for i in range(9)])\n",
        "mat =np.reshape(mat,(3,3))\n",
        "mat_inv = np.linalg.inv(mat)\n",
        "print(mat_inv)"
      ],
      "execution_count": null,
      "outputs": [
        {
          "output_type": "stream",
          "text": [
            "[[ 0.1   -0.725  0.075]\n",
            " [ 0.1    0.525 -0.175]\n",
            " [-0.1   -0.025  0.175]]\n"
          ],
          "name": "stdout"
        }
      ]
    },
    {
      "cell_type": "markdown",
      "metadata": {
        "id": "WDU-SEVyEeuU"
      },
      "source": [
        "O su transpuesta, traza o determinante\n"
      ]
    },
    {
      "cell_type": "code",
      "metadata": {
        "id": "2zmhDGliEilT",
        "outputId": "4cf2e3ca-2b93-4a60-82db-18a8e9cd0db8",
        "colab": {
          "base_uri": "https://localhost:8080/",
          "height": 70
        }
      },
      "source": [
        "mat_trans = np.transpose(mat)\n",
        "mat_trass = np.trace(mat)\n",
        "deter = np.linalg.det(mat)\n",
        "print(mat_trans,mat_trass,deter)"
      ],
      "execution_count": null,
      "outputs": [
        {
          "output_type": "stream",
          "text": [
            "[[ 7  0  4]\n",
            " [10  2  6]\n",
            " [ 7  2 10]] 19 79.99999999999997\n"
          ],
          "name": "stdout"
        }
      ]
    },
    {
      "cell_type": "markdown",
      "metadata": {
        "id": "Uhdne1bTtKVb"
      },
      "source": [
        "##Matplotlib\n",
        "\n",
        "[Matplotlib](https://matplotlib.org/) es una biblioteca para la generación de gráficos a partir de datos contenidos en listas o arrays en el lenguaje de programación Python y su extensión matemática NumPy.\n",
        "\n"
      ]
    },
    {
      "cell_type": "code",
      "metadata": {
        "id": "dIs3od9JG8EF"
      },
      "source": [
        "import matplotlib.pyplot as plt\n",
        "plt.style.use(\"classic\")\n",
        "\n",
        "xg = np.arange(-2,2,0.01)\n",
        "#print(xg)"
      ],
      "execution_count": null,
      "outputs": []
    },
    {
      "cell_type": "code",
      "metadata": {
        "id": "RBcicWq6rONE",
        "outputId": "170d9dd7-0644-4b2f-9dfe-7c1e1df5b37f",
        "colab": {
          "base_uri": "https://localhost:8080/",
          "height": 470
        }
      },
      "source": [
        "yg = np.array([x**2 for x in xg])\n",
        "\n",
        "plt.plot(xg,yg,label = \"Plot $x^2$\")\n",
        "plt.xlabel('$x$')\n",
        "plt.ylabel('$y = x^2$')\n",
        "plt.grid(True)\n",
        "plt.title('Primer ejemplo plot')\n",
        "plt.legend()\n",
        "plt.show()"
      ],
      "execution_count": null,
      "outputs": [
        {
          "output_type": "display_data",
          "data": {
            "image/png": "[encoded data removed]",
            "text/plain": [
              "<Figure size 640x480 with 1 Axes>"
            ]
          },
          "metadata": {
            "tags": []
          }
        }
      ]
    },
    {
      "cell_type": "markdown",
      "metadata": {
        "id": "w-gAyI-LRK8L"
      },
      "source": [
        "## Módulos propios  \n",
        "\n",
        " Además de los cientos de módulos que existen para python, ya sean oficiales o betas hechos por programadores por todo le mundo, usted puede crear sus propios módulos según los requerimientos de su trabajo.\n",
        "\n",
        " Sin embargo antes de entrar en detalle un rápido resumen de nuestras herramientas para interactuar con python."
      ]
    },
    {
      "cell_type": "markdown",
      "metadata": {
        "id": "s8BgQxGdRRgP"
      },
      "source": [
        "### Hablemos de Python\n",
        "\n",
        "Python es un lenguaje de programación con un **alto nivel** de abstracción, en donde se puede usar un lenguaje más cercano al humano con estructuras que hacen ver las operaciones simples y esconden las funciones más complejas y que además es **interpretado**, lo que significa que cada una de nuestras ordenes es traducida a la máquina por un interprete sin que tengamos que crear un objeto binario como sucede en lenguajes compilados.\n",
        "\n",
        "El lenguaje tiene varias versiones y aunque las versiones de **Python 2.x** todavía se encuentran disponibles el soporte para las mismas se ha detenido por completo. En este curso estaremos usando versiones de **Python 3.X**, las cuales tienen fuertes diferencias con las de **Python 2.X**.\n",
        "\n",
        "Hay varias maneras de contar con Python de forma local en distintos sistemas operativos:\n",
        "\n",
        "* [Anaconda 3](https://www.anaconda.com/distribution/) (Linux, Windows, Mac)\n",
        "* [Pydroid 3](https://play.google.com/store/apps/details?id=ru.iiec.pydroid3&hl=es) (Android)\n",
        "* [Pythonisa 3](https://apps.apple.com/es/app/pythonista-3/id1085978097) (IOS)\n",
        "\n",
        "Pero también hay innumerable opciones online como Google Colab, que estamos usando, y otras opciones como [Repl.ti](https://repl.it/~).\n",
        "\n",
        "Si accedemos a la pagina mencionada nos daremos cuenta que hay varias formas de interacción con Python:\n",
        "\n",
        "* Consola de interprete\n",
        "* Script ejecutable\n",
        "* Notebook\n",
        "\n",
        "La consola de comando es algo común en Linux y Mac, no tan común en Windows y los sistemas de los smartphones. Pero hay una gran cantidad de editores de texto como [VScode](https://code.visualstudio.com/) con los cuales se puede manejar cualquier proyecto en cualquier lenguaje.\n",
        "\n",
        "Si bien los notebooks son un archivo común en el mundo del procesamiento de datos, dado a que son prácticos a la hora de comunicar una información (podemos ver más en el proyecto [Jupyter](https://jupyter.org/)), los cuales tiene sello [colombiano](https://es.wikipedia.org/wiki/Fernando_P%C3%A9rez_(programador)), en el mundo del desarrollo es más común usar los scripts."
      ]
    },
    {
      "cell_type": "markdown",
      "metadata": {
        "id": "8VLYAvGBKhzk"
      },
      "source": [
        "\n",
        "\n",
        "### Hacer un diseño simple\n",
        "\n",
        "* main.py\n",
        "* lib/modulo1.py\n",
        "* lib/modulo2.py\n",
        "\n",
        "Para importar un módulo propio hay varios casos:\n",
        "\n",
        "1. Que el módulo sea un script en el mismo directorio donde está ubicado el script que lo importa (`main.py`).\n",
        "\n",
        "```python\n",
        "import my_modulo as md\n",
        "x = md.func(a,b)\n",
        "```\n",
        "2. Que el módulo se encuentre en un carpeta en una ubicación determinada.\n",
        "\n",
        "```python\n",
        "import sys\n",
        "import os\n",
        "sys.path.insert(0,\"carpeta/en/donde/está/mi/script/módulo\")\n",
        "#Para ubicar una carpeta unos niveles superiores podemos usar funciones de os.path o mejor la 3 opción\n",
        "#os.path.abspath(os.path.join(os.path.dirname(__file__), '../..')))\n",
        "import my_modulo as md\n",
        "x = md.func(a,b)\n",
        "```\n",
        "3. Que el módulo sea una carpeta con varios submódulos.\n",
        "```python\n",
        "import my_folder.my_modulo as md\n",
        "x = md.func(a,b)\n",
        "```\n",
        "\n",
        "Y en el folder agregar un archivo vacío `__init__.py`\n",
        "\n",
        "Aquí miremos este [ejemplo](https://repl.it/@Shers/LeastSquaresRegression)\n",
        "\n",
        "\n",
        "\n"
      ]
    },
    {
      "cell_type": "markdown",
      "metadata": {
        "id": "jxEQIwjPRhuz"
      },
      "source": [
        "#Ejercicios de módulos"
      ]
    },
    {
      "cell_type": "markdown",
      "metadata": {
        "id": "LflOOTpaIx86"
      },
      "source": [
        "## Montecarlo\n",
        "\n",
        "Existe un algoritmo llamado montecarlo. Es uno de los algoritmos de integración numérica más famosos existentes. El ejemplo clásico para la implementación de este algoritmo y consiste en el cálculo de el número pi. Expliquemos el algoritmo en torno a este ejemplo.\n",
        "\n",
        "Si uno imagina jugar a los dardos con una diana circular de radio 1 que está inscrita (inmersa) en un cuadrado de lado 1 al cabo de mucho intentos uno podría calcular el cociente entre los dardos que aciertan en la diana con los que no (suponiendo que lo que no aciertan caen a lo sumo en el cuadrado). Este cociente al cabo reitero de muchos intentos (como se puede intuir de la figura) tiene que ver con el cociente de las áreas.\n",
        "\n",
        "<center>\n",
        "\n",
        "![Imagen](https://blog.pmpeople.org/content/images/2018/04/pi4-2.png)\n",
        "\n",
        "Imagen tomada de [aquí](https://blog.pmpeople.org/montecarlo-con-excel/)\n",
        "</center>\n",
        "\n",
        "Palabras más palabras menos: calcular el área del círculo sobre el área del cuadro es lo mismo que calcular el número de veces que el dardo dió en la diana sobre el número de intentos totales luego de MUCHÍSIMOS intentos.\n",
        "\n",
        "Utilice la **función clock** del modulo **time** para calcular el tiempo en que tarda la máquina en calcular la suma de los 100 primeros números\n"
      ]
    },
    {
      "cell_type": "markdown",
      "metadata": {
        "id": "CEWupIFcrflk"
      },
      "source": [
        "Para ver una posible solución haga click **acá**\n",
        "\n",
        "<!---\n",
        "import random\n",
        "from time import clock\n",
        "N=1000000\n",
        "n_aciertos=0\n",
        "start_time = clock()\n",
        "for i in range(N):\n",
        "     x = random.uniform(-1,1)\n",
        "     y = random.uniform(-1,1)\n",
        "     if x**2+y**2 < 1:\n",
        "       n_aciertos= n_aciertos + 1\n",
        "numero_pi= (4*n_aciertos)/N\n",
        "elapsed = clock() - start_time\n",
        "print(\"El valor de pí fue \" , numero_pi, \", y fue encontrado en \", elapsed, \" segundos luego de \", N, \" intentos\")\n",
        "--->"
      ]
    },
    {
      "cell_type": "markdown",
      "metadata": {
        "id": "sF76DBPURyN1"
      },
      "source": [
        "## Montecarlo organizado\n",
        "\n",
        "El ejemplo anterior tiene varias partes importantes para desarrollarse, la principal es la forma en cómo se generan los números aleatorios. Resuelva el problema anterior creando un conjunto de funciones (como si fuera un módulo) que le permita hacer los calculos eligiendo un método de generación de valores aleatorios.  "
      ]
    },
    {
      "cell_type": "markdown",
      "metadata": {
        "id": "42qI74A8SebP"
      },
      "source": [
        "# Estructuras para el manejo de errores\n",
        "\n",
        "En python el manejo de errores es un capítulo largo que es importante a la hora del desarrollo pero que nos permite un mejor manejo de las funciones pero sobre todo las clases. Las estructuras asociadas tienen muchas utilidades para evitar condicionales excesivos cuando uno maneja funciones y datos en flujos largos de trabajo en donde pueden saltar errores inesperados.\n",
        "\n",
        "Por ejemplo la siguiente función:\n"
      ]
    },
    {
      "cell_type": "code",
      "metadata": {
        "id": "f5Vjk_r7T6Va",
        "outputId": "9287b750-673e-4e88-b175-92d28003b897",
        "colab": {
          "base_uri": "https://localhost:8080/",
          "height": 34
        }
      },
      "source": [
        "def print_len(iterable):\n",
        "  print(\"La longtitud del iterable es:\",len(iterable))\n",
        "\n",
        "print_len([1,2,3])"
      ],
      "execution_count": null,
      "outputs": [
        {
          "output_type": "stream",
          "text": [
            "La longtitud del iterable es: 3\n"
          ],
          "name": "stdout"
        }
      ]
    },
    {
      "cell_type": "markdown",
      "metadata": {
        "id": "bTBsgOPHUKWz"
      },
      "source": [
        "Esta función es simple pero tiene un problema, `len` es una función que debe estar definida en la clase del objeto, en caso que no arrojaría una error, por ejemplo si ejecutamos\n",
        "```python\n",
        "print_len(4)\n",
        "#El resultado sería\n",
        "TypeError: object of type 'int' has no len()\n",
        "```\n",
        "\n",
        "Parece evidente que la longitud debería ser 1 pero dada la definición nos encontramos con un problema mayor. Ya que en python los datos son dinámicos y muchas veces nos aprovechamos de esa característica es posible que llamemos una función que sólo es posible para ciertas clases y tengamos que comprobar a cada paso si nuestros argumentos son de la clases que queremos.\n",
        "\n",
        "Para evitar el excesivo uso de condicionales podemos usar la estructura `try`\n",
        "\n",
        "```python\n",
        "try:\n",
        "  sentencia_que_queremos_intentar\n",
        "except:\n",
        "  que_hacer_si_hay_un_error\n",
        "else:\n",
        "  si_no_hay_error_que_sigue\n",
        "finally:\n",
        "  es_opcional\n",
        "```\n"
      ]
    },
    {
      "cell_type": "code",
      "metadata": {
        "id": "LjmzniumWR_S"
      },
      "source": [
        "def print_len(iterable):\n",
        "  try:\n",
        "    N = len(iterable)\n",
        "  except:\n",
        "    print(\"Sucedió un error\")\n",
        "  else:\n",
        "    print(\"La longtitud del iterable es:\",N)"
      ],
      "execution_count": null,
      "outputs": []
    },
    {
      "cell_type": "code",
      "metadata": {
        "id": "IwfCtrPjWggp",
        "outputId": "80104cce-253e-4741-b955-b9b34527ba51",
        "colab": {
          "base_uri": "https://localhost:8080/",
          "height": 34
        }
      },
      "source": [
        "print_len([1,2,3])"
      ],
      "execution_count": null,
      "outputs": [
        {
          "output_type": "stream",
          "text": [
            "La longtitud del iterable es: 3\n"
          ],
          "name": "stdout"
        }
      ]
    },
    {
      "cell_type": "code",
      "metadata": {
        "id": "PHp9wIGaWgWL",
        "outputId": "608f37ae-82c3-4980-bd77-d22b79e485ac",
        "colab": {
          "base_uri": "https://localhost:8080/",
          "height": 34
        }
      },
      "source": [
        "print_len(3)"
      ],
      "execution_count": null,
      "outputs": [
        {
          "output_type": "stream",
          "text": [
            "Sucedió un error\n"
          ],
          "name": "stdout"
        }
      ]
    },
    {
      "cell_type": "markdown",
      "metadata": {
        "id": "n53lAnWjWtkr"
      },
      "source": [
        "Podemos capturar el error y manejarlo pero de nuevo esta parte es un capítulo entero dentro de la programación en python así que veremos unos ejemplos simples"
      ]
    },
    {
      "cell_type": "code",
      "metadata": {
        "id": "ORZi80QSWshF",
        "outputId": "700cab36-8fc9-41d1-cf78-4128aac54b94",
        "colab": {
          "base_uri": "https://localhost:8080/",
          "height": 34
        }
      },
      "source": [
        "def catch_error():\n",
        "  try:\n",
        "    1/0\n",
        "  except Exception as e:\n",
        "    print(e)\n",
        "catch_error()"
      ],
      "execution_count": null,
      "outputs": [
        {
          "output_type": "stream",
          "text": [
            "division by zero\n"
          ],
          "name": "stdout"
        }
      ]
    },
    {
      "cell_type": "code",
      "metadata": {
        "id": "bMP9Nyn5XPpl",
        "outputId": "499df618-42bb-4b0c-bad6-72f8b169dc34",
        "colab": {
          "base_uri": "https://localhost:8080/",
          "height": 51
        }
      },
      "source": [
        "def handle_error(par):\n",
        "  try:\n",
        "    len(par)\n",
        "    1/0\n",
        "  except TypeError:\n",
        "      print('Podemos hacer A')\n",
        "  except ZeroDivisionError:\n",
        "    print('Podemos hacer B')\n",
        "\n",
        "handle_error(3)\n",
        "handle_error([1,2,3])"
      ],
      "execution_count": null,
      "outputs": [
        {
          "output_type": "stream",
          "text": [
            "Podemos hacer A\n",
            "Podemos hacer B\n"
          ],
          "name": "stdout"
        }
      ]
    },
    {
      "cell_type": "markdown",
      "metadata": {
        "id": "xWNvzxOP8f9f"
      },
      "source": [
        "Otra estructura usada para manejo limpio de código es la sentencia `with`, que me permite trabajar bajo un contexto y suele usarse mucho en los entrenamientos con Tensorflow. Por ejemplo, para abrir un archivo para escritura según lo aprendido podemos usar:"
      ]
    },
    {
      "cell_type": "code",
      "metadata": {
        "id": "cboop_pV9JNL"
      },
      "source": [
        "file = open('file_path', 'w')\n",
        "file.write('hello world !')\n",
        "file.close()"
      ],
      "execution_count": null,
      "outputs": []
    },
    {
      "cell_type": "markdown",
      "metadata": {
        "id": "kACzn7H69lH1"
      },
      "source": [
        "Esas líneas se ejecutaran siempre que pueda crear y escribir un archivo en el directorio que he indicado (en este caso en mi directorio actual) pero es posible que por alguna razón (permisos de los directorios) no fuera posible crear un archivo de escritura. Por lo tanto podemos y usar un `try` para hacer todo de forma segura:"
      ]
    },
    {
      "cell_type": "code",
      "metadata": {
        "id": "0Bn3ESLZ9awn"
      },
      "source": [
        "try:\n",
        "  file = open('file_path', 'w')\n",
        "except:\n",
        "  print(\"No se ha podido abrir el archvo\")\n",
        "else:\n",
        "\tfile.write('hello world')\n",
        "finally:\n",
        "\tfile.close()"
      ],
      "execution_count": null,
      "outputs": []
    },
    {
      "cell_type": "markdown",
      "metadata": {
        "id": "t7Qi2-EL-aiu"
      },
      "source": [
        "Sin embargo hay una forma más limpia de hacer todo esto y con un mejor manejo de memoria"
      ]
    },
    {
      "cell_type": "code",
      "metadata": {
        "id": "g6Eoq1rl9ega"
      },
      "source": [
        "with open('file_path', 'w') as file:\n",
        "\tfile.write('hello world !')"
      ],
      "execution_count": null,
      "outputs": []
    },
    {
      "cell_type": "markdown",
      "metadata": {
        "id": "oOzp1QNnYCNz"
      },
      "source": [
        "# Ejercicios de manejo de errores\n"
      ]
    },
    {
      "cell_type": "markdown",
      "metadata": {
        "id": "jh7zUGbaYIea"
      },
      "source": [
        "## Promedio de un conjunto\n",
        "Hacer una función que halle el promedio de un conjunto de valores númericos. En caso de que se presente un error que imprima la excepción y regrese `None`.\n"
      ]
    },
    {
      "cell_type": "markdown",
      "metadata": {
        "id": "2aMeJKGlaR5W"
      },
      "source": [
        "Para ver la solución haga click **aquí**\n",
        "<!-- def promedio(x):\n",
        "  try:\n",
        "    prom = sum(x)/len(x)\n",
        "    return prom\n",
        "  except Exception as e:\n",
        "    print(e)\n",
        "    return None\n",
        "print(promedio(['a',1,2,3]))\n",
        "print(promedio([1,2,3]))\n",
        "print(promedio('aja'))\n",
        "print(promedio(7)) -->"
      ]
    },
    {
      "cell_type": "markdown",
      "metadata": {
        "id": "PdINoaR-ZRq1"
      },
      "source": [
        "## Imprimiendo un JSON\n",
        "\n",
        "Aprendamos a usar el módulo [**json**](https://www.w3schools.com/python/python_json.asp)  revisando el link. Ahora procedemos a:\n",
        "\n",
        "1. Crear un diccionario de python con información general de una ciudad de Colombia, nombre, fecha de fundación, población, área, etc.\n",
        "2. Abrimos un archivo con el nombre `infoCiudad.json`\n",
        "3. Luego convertimos el diccionario a formato json con indentación.\n",
        "4. Entonces guardamos la cadena en dicho archivo.\n",
        "5. Finalizamos, leyendo el archivo con `readlines()` e imprimiendo con un for.\n",
        "\n",
        "Haga todos estos pasos usando las sentencias para el manejo de errores.  \n",
        "\n",
        "Nota: Es posible que tenga problemas con tildes y demás para esto hay varias soluciones, así que no se ppreocupe por eso. Puede revisar más adelante [ref1](https://www.programiz.com/python-programming/json) o [ref2](https://stackoverflow.com/questions/18337407/saving-utf-8-texts-in-json-dumps-as-utf8-not-as-u-escape-sequence)."
      ]
    },
    {
      "cell_type": "markdown",
      "metadata": {
        "id": "_4zr-YJXFt_3"
      },
      "source": [
        "Para ver la solución click **aquí**\n",
        "<!-- import json\n",
        "\n",
        "SantaMarta = {\"Nombre\":\"Santa Marta\",\n",
        "              \"Apodos\": [\"La perla de América\",\"El balcón de América\",\"La perla de oro\"],\n",
        "              \"Fundación\":(29,\"Julio\",1525),\n",
        "              \"Superficie [Km]\":2393.35,\n",
        "              \"Altitud [m.s.n.m]\":{\"Media\":15,\"Máxima\":5775,\"Mínimia\":2},\n",
        "              \"Clima\":\"Semiárido cálido\",\n",
        "              \"Población\":{\"Total [hab]\":525556,\"Densidad [hab/Km²]\":1755.68,\"Urbana [hab]\":490078},\n",
        "              \"Gentilicio\": \"Samario,-a\",\n",
        "              \"Huso Horario\":\"UTC -5\"\n",
        "              }\n",
        "\n",
        "try:\n",
        "  jsonSantaMarta = json.dumps(SantaMarta,indent=4)\n",
        "except:\n",
        "  print(\"No se puede convertir el diccionario a json\")\n",
        "else:\n",
        "  with open('infoSantaMarta.json', 'w') as json_file:\n",
        "    json_file.write(jsonSantaMarta)\n",
        "\n",
        "with open('infoSantaMarta.json') as json_file:\n",
        "  read = json_file.readlines()\n",
        "  for line in read:\n",
        "    print(line,end=\"\")\n",
        "-->"
      ]
    },
    {
      "cell_type": "markdown",
      "metadata": {
        "id": "uvMtva_CewIE"
      },
      "source": [
        "#Clases\n",
        "Las clases representan plantillas que deben programarse para crear **objetos** y representan una una forma de agrupar datos y funcionalidades relacionadas con éste.\n",
        "\n",
        "\n",
        "Las clases proporcionan un medio de agrupar datos y \"funcionalidad\". La creación de una nueva clase crea un nuevo tipo de objeto, lo que permite crear nuevas **instancias** de ese tipo. Cada instancia de la clase puede tener sus propios atributos. Las instancias de una clase también pueden tener **métodos** (definidos por su clase) para modificar su estado.\n",
        "\n",
        "\n",
        "<p><img alt=\"A\" height=\"200px\" src=\"https://github.com/diplomado-bigdata-machinelearning-udea/curso0/blob/master/s05/imagenes/clase_definicion.png?raw=true\" hspace=\"10px\" vspace=\"0px\" ></p>\n",
        "\n",
        "Vamos a adoptar, en lo posible, un convenio: Los nombres de las clases se deben asignar con la primera letra en mayúsculas para diferenciarlas de las variables.\n",
        "\n",
        "**Instancias de una clase: Objetos y atributos:**\n",
        "\n",
        "Un instancia es una realización o materialización de la clase. En la siguiente figura se pueden observar tres instancias de un clase circulo\n",
        "\n",
        "<img src=\"https://s3-api.us-geo.objectstorage.softlayer.net/cf-courses-data/CognitiveClass/PY0101EN/Chapter%203/Images/ClassesObj.png\" width=\"500\" />\n",
        "\n",
        "Cada objeto o instancia recibe un nombre\n",
        "\n",
        "- red circle.\n",
        "- yellow circle.\n",
        "- green circle.\n",
        "\n",
        "Cada uno de elllos tiene diferentes atributos: en este caso serían el color y el radio.\n",
        "\n",
        "**Métodos:**\n",
        "\n",
        "Los métodos brindan una forma de cambiar o interactuar con el objeto; son funciones que interactúan con los objetos. Por ejemplo, supongamos que nos gustaría aumentar el radio en una cantidad específica de círculo. Podemos crear un método llamado `add_radius(r)` que aumenta el radio en `r`. Esto se muestra en la figura 3, donde después de aplicar el método al \"objeto círculo naranja\", el radio del objeto aumenta en consecuencia. La notación de `.` significa aplicar el método al objeto, que esencialmente aplica una función a la información en el objeto.\n",
        "\n",
        "<img src=\"https://s3-api.us-geo.objectstorage.softlayer.net/cf-courses-data/CognitiveClass/PY0101EN/Chapter%203/Images/ClassesMethod.png\" width=\"500\" />"
      ]
    },
    {
      "cell_type": "markdown",
      "metadata": {
        "id": "0F56njC6opb5"
      },
      "source": [
        "Veamos un breve ejemplo de una clase `Auto` con **atributos** como **marca** y **color**, que pueden ser pensados como características que estarán dentro de la clase."
      ]
    },
    {
      "cell_type": "code",
      "metadata": {
        "id": "181kE3dgkItg",
        "outputId": "b8cadb89-3102-476d-8572-fcf25e6d5895",
        "colab": {
          "base_uri": "https://localhost:8080/",
          "height": 34
        }
      },
      "source": [
        "class Auto():\n",
        "  marca = ''\n",
        "  color = ''\n",
        "\n",
        "mi_carro = Auto()\n",
        "mi_carro.marca = 'Ferrari'\n",
        "mi_carro.color = 'Rojo'\n",
        "print(mi_carro.marca,mi_carro.color)"
      ],
      "execution_count": null,
      "outputs": [
        {
          "output_type": "stream",
          "text": [
            "Ferrari Rojo\n"
          ],
          "name": "stdout"
        }
      ]
    },
    {
      "cell_type": "markdown",
      "metadata": {
        "id": "fO85Va39kl2Z"
      },
      "source": [
        "Además de atributos las clases pueden definirse con **métodos**:"
      ]
    },
    {
      "cell_type": "code",
      "metadata": {
        "id": "s5MsuIrnkfXN"
      },
      "source": [
        "class Persona():\n",
        "  nombre = ''\n",
        "  edad = ''\n",
        "\n",
        "  def print_nombre(self):\n",
        "    print('nombre:',self.nombre)\n",
        "\n",
        "  def print_edad(self):\n",
        "    print('edad:',self.edad)\n",
        "\n",
        "carolina = Persona()\n",
        "carolina.nombre = 'Carolina'\n",
        "carolina.edad = 20\n",
        "\n",
        "carolina.print_nombre()\n",
        "carolina.print_edad()"
      ],
      "execution_count": null,
      "outputs": []
    },
    {
      "cell_type": "markdown",
      "metadata": {
        "id": "vlyi2cNfoC0S"
      },
      "source": [
        "Los métodos necesitan tener un argumento convenientemente llamado self, que se refiere al objeto del método que está siendo llamado. Podemos pasar más de un argumento si así lo deseamos"
      ]
    },
    {
      "cell_type": "code",
      "metadata": {
        "id": "hannghPmk1gR",
        "outputId": "5e6162a4-129f-49da-87bb-87528e82acbb",
        "colab": {
          "base_uri": "https://localhost:8080/",
          "height": 51
        }
      },
      "source": [
        "class Persona:\n",
        "    nombre = ''\n",
        "    edad = ''\n",
        "\n",
        "    def print_informacion(self, nombre, edad):\n",
        "        print('nombre:',self.nombre)\n",
        "        print('edad:',self.edad)\n",
        "\n",
        "carlos = Persona()\n",
        "carlos.nombre = 'carlos'\n",
        "carlos.edad = '30'\n",
        "carlos.print_informacion(carlos.nombre, carlos.edad)"
      ],
      "execution_count": null,
      "outputs": [
        {
          "output_type": "stream",
          "text": [
            "nombre: carlos\n",
            "edad: 30\n"
          ],
          "name": "stdout"
        }
      ]
    },
    {
      "cell_type": "markdown",
      "metadata": {
        "id": "WE2EqXhoqCg9"
      },
      "source": [
        "\n",
        "Hasta ahora,  los objetos los hemos creado con atributos vacios. Esta forma de creación de objetos, o **instanciación**, invoca al **constructor por defecto de la clase**. El constructor por defecto, en los diferentes lenguajes de programación, crea objetos sin atributos o con unos atributos inicializados a valores arbitrarios.\n",
        "\n",
        "Podemos definir un constructor, que no cree objetos con atributos vacio. La estructura es la siguiente:\n",
        "\n",
        "\n",
        "<p><img alt=\"A\" height=\"250px\" src=\"https://github.com/diplomado-bigdata-machinelearning-udea/curso0/blob/master/s05/imagenes/clase_constructor.png?raw=true\" hspace=\"10px\" vspace=\"0px\" ></p>\n",
        "\n",
        "Veamos la creación de un objeto anterior, con un constructor en el cual se le especifíque el atributo radio"
      ]
    },
    {
      "cell_type": "code",
      "metadata": {
        "id": "-wZZRxrxpSyH"
      },
      "source": [
        "import matplotlib.pyplot as plt\n",
        "\n",
        "# Clase Círculo\n",
        "\n",
        "class Circulo(object):\n",
        "\n",
        "    # Constructor\n",
        "    def __init__(self, radio=3, color='blue'):\n",
        "        self.radio = radio\n",
        "        self.color = color\n",
        "\n",
        "    # Método\n",
        "    def sumar_radio(self, r):\n",
        "        self.radio = self.radio + r\n",
        "        return(self.radio)\n",
        "\n",
        "    # Método\n",
        "    def dibujarCirculo(self):\n",
        "        plt.gca().add_patch(plt.Circle((0, 0), radius=self.radio, fc=self.color))\n",
        "        plt.axis('scaled')\n",
        "        plt.show()"
      ],
      "execution_count": null,
      "outputs": []
    },
    {
      "cell_type": "markdown",
      "metadata": {
        "id": "eNEVZQ6FdIQ1"
      },
      "source": [
        "**Creación de una instancia de la clase círculo:**"
      ]
    },
    {
      "cell_type": "code",
      "metadata": {
        "id": "w4sogwKudZmN"
      },
      "source": [
        "CirculoRojo = Circulo(10,'red')"
      ],
      "execution_count": null,
      "outputs": []
    },
    {
      "cell_type": "markdown",
      "metadata": {
        "id": "AwgFzjy4dcd9"
      },
      "source": [
        "Podemos usar el comando `dir` para obtener una lista de los métodos asociados a un objeto. Muchos de ellos corresponden a métodos propios de `python`:"
      ]
    },
    {
      "cell_type": "code",
      "metadata": {
        "id": "JHDEScr6dw4m",
        "outputId": "4a54345e-5d9f-4217-bb3c-9d34dcd62bc7",
        "colab": {
          "base_uri": "https://localhost:8080/",
          "height": 527
        }
      },
      "source": [
        "dir(CirculoRojo)"
      ],
      "execution_count": null,
      "outputs": [
        {
          "output_type": "execute_result",
          "data": {
            "text/plain": [
              "['__class__',\n",
              " '__delattr__',\n",
              " '__dict__',\n",
              " '__dir__',\n",
              " '__doc__',\n",
              " '__eq__',\n",
              " '__format__',\n",
              " '__ge__',\n",
              " '__getattribute__',\n",
              " '__gt__',\n",
              " '__hash__',\n",
              " '__init__',\n",
              " '__init_subclass__',\n",
              " '__le__',\n",
              " '__lt__',\n",
              " '__module__',\n",
              " '__ne__',\n",
              " '__new__',\n",
              " '__reduce__',\n",
              " '__reduce_ex__',\n",
              " '__repr__',\n",
              " '__setattr__',\n",
              " '__sizeof__',\n",
              " '__str__',\n",
              " '__subclasshook__',\n",
              " '__weakref__',\n",
              " 'color',\n",
              " 'dibujarCirculo',\n",
              " 'radio',\n",
              " 'sumar_radio']"
            ]
          },
          "metadata": {
            "tags": []
          },
          "execution_count": 19
        }
      ]
    },
    {
      "cell_type": "markdown",
      "metadata": {
        "id": "Bjj5lTV7d6wn"
      },
      "source": [
        "Veamos los atributos de nuestro objeto accediendo mediante `.`:"
      ]
    },
    {
      "cell_type": "code",
      "metadata": {
        "id": "oAJt7xhJd5cG",
        "outputId": "8ef04583-63ee-4057-9e22-a794777132ef",
        "colab": {
          "base_uri": "https://localhost:8080/",
          "height": 34
        }
      },
      "source": [
        "#impresión de atributo radio\n",
        "CirculoRojo.radio"
      ],
      "execution_count": null,
      "outputs": [
        {
          "output_type": "execute_result",
          "data": {
            "text/plain": [
              "10"
            ]
          },
          "metadata": {
            "tags": []
          },
          "execution_count": 20
        }
      ]
    },
    {
      "cell_type": "code",
      "metadata": {
        "id": "b2AYqKIVeT8j",
        "outputId": "b4625f2b-021c-43fd-c613-7dd7002387ef",
        "colab": {
          "base_uri": "https://localhost:8080/",
          "height": 34
        }
      },
      "source": [
        "#impresión del atributo color\n",
        "CirculoRojo.color"
      ],
      "execution_count": null,
      "outputs": [
        {
          "output_type": "execute_result",
          "data": {
            "text/plain": [
              "'red'"
            ]
          },
          "metadata": {
            "tags": []
          },
          "execution_count": 21
        }
      ]
    },
    {
      "cell_type": "markdown",
      "metadata": {
        "id": "erVcbDYTecG4"
      },
      "source": [
        "Se puede cambiar el atributo del `radio`"
      ]
    },
    {
      "cell_type": "code",
      "metadata": {
        "id": "vEFTi5NAebBU",
        "outputId": "6999fea6-d9b3-47d9-96ae-5e91c08651c8",
        "colab": {
          "base_uri": "https://localhost:8080/",
          "height": 34
        }
      },
      "source": [
        "CirculoRojo.radio = 1\n",
        "CirculoRojo.radio"
      ],
      "execution_count": null,
      "outputs": [
        {
          "output_type": "execute_result",
          "data": {
            "text/plain": [
              "1"
            ]
          },
          "metadata": {
            "tags": []
          },
          "execution_count": 22
        }
      ]
    },
    {
      "cell_type": "markdown",
      "metadata": {
        "id": "dxfjDLHYenkw"
      },
      "source": [
        "Podemos también dibujar el círculo:"
      ]
    },
    {
      "cell_type": "code",
      "metadata": {
        "id": "3rm9g_Zeesx1",
        "outputId": "5f598244-727a-4ddc-93f2-139a09ad1b69",
        "colab": {
          "base_uri": "https://localhost:8080/",
          "height": 265
        }
      },
      "source": [
        "CirculoRojo.dibujarCirculo()"
      ],
      "execution_count": null,
      "outputs": [
        {
          "output_type": "display_data",
          "data": {
            "image/png": "[encoded data removed]",
            "text/plain": [
              "<Figure size 432x288 with 1 Axes>"
            ]
          },
          "metadata": {
            "tags": [],
            "needs_background": "light"
          }
        }
      ]
    },
    {
      "cell_type": "markdown",
      "metadata": {
        "id": "bBUotJ5arStG"
      },
      "source": [
        "#Ejecicios de Clases\n"
      ]
    },
    {
      "cell_type": "markdown",
      "metadata": {
        "id": "Pi7qqVzTrVRx"
      },
      "source": [
        "##1) Areas y formas\n",
        "Defina una clase Square y use la función init en ella para declararle un atributo length que lo llenará con una variable l, además defina una función que calcule su area en términos de length\n",
        "\n",
        "Puede ver la solución **acá**\n",
        "\n",
        "<!---\n",
        "class Square:\n",
        "  def __init__(self, l):\n",
        "      self.length = l\n",
        "\n",
        "  def area(self):\n",
        "      return self.length*self.length\n",
        "\n",
        "aSquare= Square(3)\n",
        "print(aSquare.area())\n",
        "\n",
        "--->"
      ]
    },
    {
      "cell_type": "markdown",
      "metadata": {
        "id": "IUC-dG1wguRF"
      },
      "source": [
        "##2) Formas y gráficas\n",
        "\n",
        "1. Defina una clase `Rectangulo` que define un objeto de esta clase con unos atributos `ancho`, `alto` y `color` definidos por el usuario. Incluya, además, un método `dibujarRectangulo` para graficar el objeto creado.\n",
        "\n",
        "2. Instancie un rectangulo azul (`blue` en inglés), de `ancho=10` y `alto=20` y grafíquelo.\n",
        "\n",
        "3. Cambie los valores de ancho y alto y grafíque nuevamente el rectángulo.\n",
        "\n",
        "\n",
        "Para ver la solución haga doble click **aquí**\n",
        "\n",
        "<!--------\n",
        "#Celda 1\n",
        "\n",
        "class Rectangulo(object):\n",
        "    \n",
        "    # Constructor\n",
        "    def __init__(self, ancho=2, alto=3, color='r'):\n",
        "        self.alto = alto\n",
        "        self.ancho = ancho\n",
        "        self.color = color\n",
        "    \n",
        "    # Método\n",
        "    def dibujarRectangulo(self):\n",
        "        plt.gca().add_patch(plt.Rectangle((0, 0), self.ancho, self.alto ,fc=self.color))\n",
        "        plt.axis('scaled')\n",
        "        plt.show()\n",
        "\n",
        "#Celda 2\n",
        "\n",
        "RectanguloAzul.dibujarRectangulo()\n",
        "\n",
        "#Celda 3\n",
        "\n",
        "RectanguloAzul.ancho = 5\n",
        "RectanguloAzul.alto = 10\n",
        "RectanguloAzul.dibujarRectangulo()\n",
        "\n",
        "----->"
      ]
    }
  ]
}